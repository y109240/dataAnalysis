{
  "nbformat": 4,
  "nbformat_minor": 0,
  "metadata": {
    "colab": {
      "provenance": [],
      "authorship_tag": "ABX9TyNL03LvQkNkVWAC2L7P+ZCF",
      "include_colab_link": true
    },
    "kernelspec": {
      "name": "python3",
      "display_name": "Python 3"
    },
    "language_info": {
      "name": "python"
    }
  },
  "cells": [
    {
      "cell_type": "markdown",
      "metadata": {
        "id": "view-in-github",
        "colab_type": "text"
      },
      "source": [
        "<a href=\"https://colab.research.google.com/github/y109240/dataAnalysis/blob/main/2%EC%9D%BC%EC%B0%A8_%ED%8C%8C%EC%9D%B4%EC%8D%AC%EA%B8%B0%EC%B4%88_%EB%AC%B8%EC%9E%90%EC%97%B4%EA%B3%BC_%EC%97%B0%EC%82%B0.ipynb\" target=\"_parent\"><img src=\"https://colab.research.google.com/assets/colab-badge.svg\" alt=\"Open In Colab\"/></a>"
      ]
    },
    {
      "cell_type": "code",
      "execution_count": null,
      "metadata": {
        "id": "-UbbwS0bOYE5"
      },
      "outputs": [],
      "source": [
        "# 큰 따옴표(or 작은 따옴표)로 표시\n",
        "a='apple'\n",
        "a=\"apple\"\n",
        "a=\"Yes, I can't\"\n",
        "a='\" This is apple\"'\n",
        "\n"
      ]
    },
    {
      "cell_type": "code",
      "source": [
        "#1줄 이상 문장 -->따옴표 3개\n",
        "\n",
        "menu='''  #맛있다 카페 메뉴판\n",
        "\n",
        "-아메리카노 3000원\n",
        "-카페라테   4000원\n",
        "-카페모카   50000'''\n",
        "\n",
        "print(menu)\n",
        "coffee=input(f'{menu}\\nselect menu')\n",
        "\n",
        "print(f'select menu {coffee}')\n"
      ],
      "metadata": {
        "colab": {
          "base_uri": "https://localhost:8080/"
        },
        "id": "frHEgKmVRehP",
        "outputId": "20f54592-9bc9-4d62-9f5a-83a78955bd08"
      },
      "execution_count": null,
      "outputs": [
        {
          "output_type": "stream",
          "name": "stdout",
          "text": [
            "  #맛있다 카페 메뉴판\n",
            "\n",
            "-아메리카노 3000원\n",
            "-카페라테   4000원\n",
            "-카페모카   50000\n",
            "  #맛있다 카페 메뉴판\n",
            "\n",
            "-아메리카노 3000원\n",
            "-카페라테   4000원\n",
            "-카페모카   50000\n",
            "select menu1\n",
            "select menu 1\n"
          ]
        }
      ]
    },
    {
      "cell_type": "code",
      "source": [],
      "metadata": {
        "id": "TPiw2lmsUEE_"
      },
      "execution_count": null,
      "outputs": []
    },
    {
      "cell_type": "code",
      "source": [
        "print('반짝'*2, '노'*5)\n"
      ],
      "metadata": {
        "colab": {
          "base_uri": "https://localhost:8080/"
        },
        "id": "x4batO5Ce-5b",
        "outputId": "49af73e5-f0c9-4983-d763-80ff9262b182"
      },
      "execution_count": null,
      "outputs": [
        {
          "output_type": "stream",
          "name": "stdout",
          "text": [
            "반짝반짝 노노노노노\n"
          ]
        }
      ]
    },
    {
      "cell_type": "markdown",
      "source": [
        "문자열에서 자주 사용하는 함수"
      ],
      "metadata": {
        "id": "gBJRMOdoko2K"
      }
    },
    {
      "cell_type": "code",
      "source": [
        "a=\"Life is too short!\"\n",
        "print(f\"문자(열) 개수 세기: {a.count('o')}\")\n",
        "print(f\"문자(열) 위치:{a.find('f')}\") # 없으면 -1 반환\n",
        "print(f\"문자(열) 위치:{a.index('f')}\") # 없으면 오류\n",
        "\n",
        "b='*'\n",
        "print(f\"문자열 삽입:{b.join(a)}\") # a에 b를 삽입\n",
        "print(f\"문자열 변환:{a.replace('Life','Your leg')}\") # a에 b를 변환\n",
        "print(f\"문자열 나누기:{a.split()}\") #공백으로 분리해서 리스트형으로 반환\n",
        "print(f\"문자열 나누기:{a.split('is')}\") #is기준으로 리스트형으로 반환\n",
        "\n",
        "\n",
        "\n"
      ],
      "metadata": {
        "colab": {
          "base_uri": "https://localhost:8080/"
        },
        "id": "OPDKocsYkuHC",
        "outputId": "9af0469f-dc79-4a34-f1a7-9ea4d08a4924"
      },
      "execution_count": null,
      "outputs": [
        {
          "output_type": "stream",
          "name": "stdout",
          "text": [
            "문자(열) 개수 세기: 3\n",
            "문자(열) 위치:2\n",
            "문자(열) 위치:2\n",
            "문자열 삽입:L*i*f*e* *i*s* *t*o*o* *s*h*o*r*t*!\n",
            "문자열 변환:Your leg is too short!\n",
            "문자열 나누기:['Life', 'is', 'too', 'short!']\n",
            "문자열 나누기:['Life ', ' too short!']\n"
          ]
        }
      ]
    },
    {
      "cell_type": "code",
      "source": [],
      "metadata": {
        "id": "sLiXdtYzrtoL"
      },
      "execution_count": null,
      "outputs": []
    },
    {
      "cell_type": "code",
      "source": [
        "a=input('input?')\n",
        "print(a[::-1])\n"
      ],
      "metadata": {
        "colab": {
          "base_uri": "https://localhost:8080/"
        },
        "id": "fNG7GtJbnBbb",
        "outputId": "561cf4c9-7645-4b5d-82b5-1d9fa3981e9a"
      },
      "execution_count": null,
      "outputs": [
        {
          "output_type": "stream",
          "name": "stdout",
          "text": [
            "input?asdf\n",
            "fdsa\n"
          ]
        }
      ]
    },
    {
      "cell_type": "code",
      "source": [
        "filename=input(\"flie name?\")\n",
        "a=filename.split('.')\n",
        "print(a)\n",
        "print(f\"filne name : {a[0]} 확장지 : {a[1]}\")\n",
        "\n",
        "\n"
      ],
      "metadata": {
        "colab": {
          "base_uri": "https://localhost:8080/"
        },
        "id": "IghSu57YoWza",
        "outputId": "5266eec9-10d2-4e95-bd60-32761b1127eb"
      },
      "execution_count": null,
      "outputs": [
        {
          "output_type": "stream",
          "name": "stdout",
          "text": [
            "flie name?abc.def\n",
            "['abc', 'def']\n",
            "filne name : abc 확장지 : def\n"
          ]
        }
      ]
    },
    {
      "cell_type": "code",
      "source": [],
      "metadata": {
        "id": "feMI2486rZ6D"
      },
      "execution_count": null,
      "outputs": []
    },
    {
      "cell_type": "markdown",
      "source": [
        "#"
      ],
      "metadata": {
        "id": "NQrfx1jiraai"
      }
    },
    {
      "cell_type": "markdown",
      "source": [],
      "metadata": {
        "id": "kWxUZGFenDhQ"
      }
    },
    {
      "cell_type": "code",
      "source": [],
      "metadata": {
        "id": "GBrnysx-nCVK"
      },
      "execution_count": null,
      "outputs": []
    },
    {
      "cell_type": "code",
      "source": [],
      "metadata": {
        "id": "HftGSJKcksLp"
      },
      "execution_count": null,
      "outputs": []
    },
    {
      "cell_type": "code",
      "source": [
        "print(\"Mary's comnetics\")\n",
        "print('박씨가 소리질렀다. \"도둑이야!\"')\n",
        "print(\"안녕하세요\\n오늘\\t날씨가\\t\\t 좋습니다.\")"
      ],
      "metadata": {
        "colab": {
          "base_uri": "https://localhost:8080/"
        },
        "id": "VBGfAWlCfcJz",
        "outputId": "77fa7035-4410-4ff0-c3b1-57a5e1bcf1ec"
      },
      "execution_count": null,
      "outputs": [
        {
          "output_type": "stream",
          "name": "stdout",
          "text": [
            "Mary's comnetics\n",
            "박씨가 소리질렀다. \"도둑이야!\"\n",
            "안녕하세요\n",
            "오늘\t날씨가\t\t 좋습니다.\n"
          ]
        }
      ]
    },
    {
      "cell_type": "code",
      "source": [
        "from gtts import gTTS\n",
        "from IPython.display import Audio\n",
        "\n",
        "# eng_wav = gTTS('Hello World!')\n",
        "# eng_wav.save('eng.wav')\n",
        "kor_wav = gTTS(menu, lang = 'ko')\n",
        "kor_wav.save('kor.wav')\n",
        "\n",
        "display(Audio('kor.wav', autoplay=True))"
      ],
      "metadata": {
        "colab": {
          "base_uri": "https://localhost:8080/",
          "height": 74
        },
        "id": "14PQ-jtxURoO",
        "outputId": "40621de3-9aa1-4d21-c98b-955fb8260ece"
      },
      "execution_count": null,
      "outputs": [
        {
          "output_type": "display_data",
          "data": {
            "text/plain": [
              "<IPython.lib.display.Audio object>"
            ],
            "text/html": [
              "\n",
              "                <audio  controls=\"controls\" autoplay=\"autoplay\">\n",
              "                    <source src=\"data:audio/x-wav;base64,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\" type=\"audio/x-wav\" />\n",
              "                    Your browser does not support the audio element.\n",
              "                </audio>\n",
              "              "
            ]
          },
          "metadata": {}
        }
      ]
    },
    {
      "cell_type": "markdown",
      "source": [],
      "metadata": {
        "id": "mmv-9b45e3yU"
      }
    },
    {
      "cell_type": "markdown",
      "source": [
        "## 음식값 계산하기"
      ],
      "metadata": {
        "id": "d2sR3MZcuxg8"
      }
    },
    {
      "cell_type": "code",
      "source": [
        "meal=int(input('음식 가격:'))\n",
        "tax=0.0675\n",
        "tip=0.15\n",
        "meal=meal+(meal*tax)\n",
        "total=meal+(meal*tip)\n",
        "print(f'내가 지불할 총 금액:{round(total,2):,}')\n",
        "\n",
        "\n"
      ],
      "metadata": {
        "colab": {
          "base_uri": "https://localhost:8080/"
        },
        "id": "ap28KS5ru1Xc",
        "outputId": "63865838-8dab-4266-b664-c9dfe0e9dec5"
      },
      "execution_count": 87,
      "outputs": [
        {
          "output_type": "stream",
          "name": "stdout",
          "text": [
            "음식 가격:1000\n",
            "내가 지불할 총 금액:1,227.62\n"
          ]
        }
      ]
    },
    {
      "cell_type": "markdown",
      "source": [
        "\n",
        "\n"
      ],
      "metadata": {
        "id": "Xi3xlnYZOjUe"
      }
    },
    {
      "cell_type": "markdown",
      "source": [
        "##섭씨온도를 화씨온도로 변환하기\n"
      ],
      "metadata": {
        "id": "KjOA81dRyG5D"
      }
    },
    {
      "cell_type": "code",
      "source": [
        "c=float(input('섭씨 온도 :'))\n",
        "print(f\"섭씨온도 {c} 는 화씨온도 {(9/5)*3+32}\")"
      ],
      "metadata": {
        "colab": {
          "base_uri": "https://localhost:8080/"
        },
        "id": "vrtOL3YXyNHj",
        "outputId": "e9ecd747-1557-43b0-cbd8-6f393809d5d9"
      },
      "execution_count": 91,
      "outputs": [
        {
          "output_type": "stream",
          "name": "stdout",
          "text": [
            "섭씨 온도 :100\n",
            "섭씨온도 100.0 는 화씨온도 37.4\n"
          ]
        }
      ]
    },
    {
      "cell_type": "markdown",
      "source": [
        "##산술연산자"
      ],
      "metadata": {
        "id": "GdIBkWi5z3vC"
      }
    },
    {
      "cell_type": "code",
      "source": [
        "print(33//5) #몫\n",
        "print(33%5) #나머지"
      ],
      "metadata": {
        "colab": {
          "base_uri": "https://localhost:8080/"
        },
        "id": "hL4FLM5rz7dK",
        "outputId": "1633d867-6d6f-4a1a-956f-23c6546d0b9a"
      },
      "execution_count": 96,
      "outputs": [
        {
          "output_type": "stream",
          "name": "stdout",
          "text": [
            "6\n",
            "3\n"
          ]
        }
      ]
    },
    {
      "cell_type": "markdown",
      "source": [
        "#대입 연산자\n"
      ],
      "metadata": {
        "id": "ycnNjwz-0Rnb"
      }
    },
    {
      "cell_type": "code",
      "source": [
        "\n",
        "meal=meal+(meal*tax)\n",
        "meal+=(meal*tax)"
      ],
      "metadata": {
        "id": "-ZdoKfG_0Tg7"
      },
      "execution_count": 103,
      "outputs": []
    },
    {
      "cell_type": "markdown",
      "source": [
        "a=100\n",
        "print(a>200)\n",
        "print(a==100)\n",
        "print(a != 100)"
      ],
      "metadata": {
        "id": "NCpShy2Q0q_j"
      }
    },
    {
      "cell_type": "code",
      "source": [
        "a=100\n",
        "print(a>1000 and a==10)\n",
        "print(a>1000 or a==100)\n",
        "print(not(a==100))"
      ],
      "metadata": {
        "colab": {
          "base_uri": "https://localhost:8080/"
        },
        "id": "mKdNCTTR1CZF",
        "outputId": "b68031fc-04c7-4ad4-fff3-0c8be9b16862"
      },
      "execution_count": 107,
      "outputs": [
        {
          "output_type": "stream",
          "name": "stdout",
          "text": [
            "False\n",
            "True\n",
            "False\n"
          ]
        }
      ]
    },
    {
      "cell_type": "markdown",
      "source": [
        "#1. 파이썬 자료형과 연산\n",
        "\n",
        "#문자열\n",
        "\n",
        "```\n",
        "\n",
        "\n",
        "```\n",
        "\n"
      ],
      "metadata": {
        "id": "Eh4BFOebOrHu"
      }
    },
    {
      "cell_type": "markdown",
      "source": [
        "##멤버쉬 연산자"
      ],
      "metadata": {
        "id": "NLf4JFkl1XsC"
      }
    },
    {
      "cell_type": "code",
      "source": [
        "fruits=['사과','포도','오렌지','딸기']\n",
        "print('딸기' in fruits)\n",
        "print('키위' in fruits)\n",
        "\n",
        "if '딸기' in fruits:\n",
        "  print('딸기는  friots안에 있습니다.')\n",
        "\n",
        "for fruits in fruits:\n",
        "    print(f'내가 좋아하는 과일 \"{fruits}\"')"
      ],
      "metadata": {
        "colab": {
          "base_uri": "https://localhost:8080/"
        },
        "id": "N06hnj-c1cMU",
        "outputId": "0592f49f-bde7-4414-9fa2-34283c92a788"
      },
      "execution_count": 117,
      "outputs": [
        {
          "output_type": "stream",
          "name": "stdout",
          "text": [
            "True\n",
            "False\n",
            "딸기는  friots안에 있습니다.\n",
            "내가 좋아하는 과일 \"사과\"\n",
            "내가 좋아하는 과일 \"포도\"\n",
            "내가 좋아하는 과일 \"오렌지\"\n",
            "내가 좋아하는 과일 \"딸기\"\n"
          ]
        }
      ]
    },
    {
      "cell_type": "code",
      "source": [
        "letters = 'Life is too short!'\n",
        "if 'too' in letters:\n",
        "   print(True)\n",
        "else:\n",
        "   print(False)"
      ],
      "metadata": {
        "colab": {
          "base_uri": "https://localhost:8080/"
        },
        "id": "cKZfprH22tb6",
        "outputId": "a02c2ef0-0041-4f02-ecaa-22989ef0d275"
      },
      "execution_count": 121,
      "outputs": [
        {
          "output_type": "stream",
          "name": "stdout",
          "text": [
            "True\n"
          ]
        }
      ]
    },
    {
      "cell_type": "markdown",
      "source": [
        "##동전교환 프로그램 만들기\n",
        "print('동적으로 교환할 금앨을 입력하세요')"
      ],
      "metadata": {
        "id": "vIpSBPcl3lEt"
      }
    },
    {
      "cell_type": "code",
      "source": [
        "money=int(input('입력할 금액'))\n",
        "print('-'*50)\n",
        "print(f\"500원짜리 ==> {money//500}개\")\n",
        "money %= 500\n",
        "print(f\"100원짜리 ==> {money//100}개\")\n",
        "money %= 100\n",
        "print(f\" 50원짜리 ==> {money//50}개\")\n",
        "money %= 50\n",
        "print(f\" 10원짜리 ==> {money//10}개\")\n",
        "money %= 10\n",
        "print(f\"      잔돈 ==> {money}원\")\n",
        "\n",
        "\n"
      ],
      "metadata": {
        "colab": {
          "base_uri": "https://localhost:8080/"
        },
        "id": "VyvuzB3o4V3g",
        "outputId": "78559368-413c-4a23-a703-c365c8e4dbe3"
      },
      "execution_count": 137,
      "outputs": [
        {
          "output_type": "stream",
          "name": "stdout",
          "text": [
            "입력할 금액9800\n",
            "--------------------------------------------------\n",
            "500원짜리 ==> 19개\n",
            "100원짜리 ==> 3개\n",
            " 50원짜리 ==> 0개\n",
            " 10원짜리 ==> 0개\n",
            "      잔돈 ==> 0원\n"
          ]
        }
      ]
    },
    {
      "cell_type": "code",
      "source": [],
      "metadata": {
        "id": "2W-bcxBH4k9U"
      },
      "execution_count": null,
      "outputs": []
    }
  ]
}