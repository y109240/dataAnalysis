{
 "cells": [
  {
   "cell_type": "markdown",
   "id": "23ea32cb",
   "metadata": {},
   "source": [
    "# (나의) 구글 Location History 데이터 지도에 표시하기"
   ]
  },
  {
   "cell_type": "markdown",
   "id": "f3023518",
   "metadata": {},
   "source": [
    "-------------------------------"
   ]
  },
  {
   "cell_type": "markdown",
   "id": "70d01b40",
   "metadata": {},
   "source": [
    "### 지도 라이브러리"
   ]
  },
  {
   "cell_type": "code",
   "execution_count": null,
   "id": "fd2285cb",
   "metadata": {},
   "outputs": [],
   "source": [
    "!pip install folium"
   ]
  },
  {
   "cell_type": "code",
   "execution_count": null,
   "id": "1eea0171",
   "metadata": {},
   "outputs": [],
   "source": [
    "import folium\n",
    "\n",
    "folium.__version__"
   ]
  },
  {
   "cell_type": "code",
   "execution_count": null,
   "id": "76a4d7d3",
   "metadata": {
    "scrolled": true
   },
   "outputs": [],
   "source": [
    "import folium\n",
    "\n",
    "#------------------\n",
    "# 중심위치 [위도,경도]=[Latitude, longitude] \n",
    "#------------------\n",
    "m = folium.Map(location = [37.549328, 126.8513969],\n",
    "               zoom_start=16)\n",
    "\n",
    "# 마커 표시하기\n",
    "folium.Marker(location = [37.549328, 126.8513969],\n",
    "              popup = '강서여성인력개발센터', \n",
    "              icon=folium.Icon(color='red', icon='star')\n",
    ").add_to(m)\n",
    "m"
   ]
  },
  {
   "cell_type": "markdown",
   "id": "f24b7ddd",
   "metadata": {},
   "source": [
    "## [실습] (나의) 구글 Location History 데이터 지도에 표시하기\n"
   ]
  },
  {
   "cell_type": "markdown",
   "id": "5d8b361a",
   "metadata": {},
   "source": [
    "### 1. 구글 Location History 데이터 다운로드\n",
    "- 구글 크롬 브라우저에 로그인 된 상태에서\n",
    "- https://takeout.google.com/settings/takeout 사이트로 이동하기\n",
    "- 모두 체크를 해제시키고 **[위치 기록]** 만 체크표시하고 \n",
    "- takeout~.zip 파일이 다운로드 된다."
   ]
  },
  {
   "cell_type": "markdown",
   "id": "d09758cd",
   "metadata": {},
   "source": [
    "### 2. 필요한 라이브러리 설치하기\n",
    "설치시 오류가 발생하면 윈도우 명령프롬프트창에서 timezonefinder 설치를 진행해 본다."
   ]
  },
  {
   "cell_type": "code",
   "execution_count": null,
   "id": "a69de2e3",
   "metadata": {},
   "outputs": [],
   "source": [
    "import numpy as np\n",
    "\n",
    "np.__version__"
   ]
  },
  {
   "cell_type": "code",
   "execution_count": null,
   "id": "a6868f32",
   "metadata": {},
   "outputs": [],
   "source": [
    "!pip install timezonefinder"
   ]
  },
  {
   "cell_type": "code",
   "execution_count": 4,
   "id": "f189a120",
   "metadata": {},
   "outputs": [
    {
     "data": {
      "text/plain": [
       "'Europe/Berlin'"
      ]
     },
     "execution_count": 4,
     "metadata": {},
     "output_type": "execute_result"
    }
   ],
   "source": [
    "# 경도, 위도 값으로 시간대 정보 가져오기\n",
    "from timezonefinder import TimezoneFinder\n",
    "\n",
    "tzf = TimezoneFinder()\n",
    "tz = tzf.timezone_at(lng=128, lat=38) # 'Asia/Seoul'\n",
    "# tz = tzf.timezone_at(lng=13.358, lat=52.5061) # 'Europe/Berlin'\n",
    "tz"
   ]
  },
  {
   "cell_type": "markdown",
   "id": "290641e2",
   "metadata": {},
   "source": [
    "### 3.나의 Local History데이터 정보를 딕셔너리타입으로 변환하기"
   ]
  },
  {
   "cell_type": "code",
   "execution_count": 6,
   "id": "704dcef2",
   "metadata": {},
   "outputs": [],
   "source": [
    "from zipfile import ZipFile\n",
    "import pandas as pd\n",
    "import json\n",
    "from timezonefinder import TimezoneFinder"
   ]
  },
  {
   "cell_type": "code",
   "execution_count": null,
   "id": "e3249433",
   "metadata": {},
   "outputs": [],
   "source": [
    "# Google Location History takeout file\n",
    "in_file = \"\"\n",
    "out_file = \"\"\n",
    "\n",
    "# store all place into this array\n",
    "place_visits = []\n",
    "\n",
    "with ZipFile(in_file) as myzip:\n",
    "    for file in myzip.filelist[:]:\n",
    "        filename = file.filename\n",
    "\n",
    "        if \"Sematic Location History\" in filename:\n",
    "            # process all file in \"Sematic Location History\" directory\n",
    "            history_json = json.load(myzip.open(filename))\n",
    "\n",
    "            for timeline_object in history_json[\"timelineObjects\"]:\n",
    "\n",
    "                if \"placeVisit\" in timeline_object:\n",
    "                    place_visits_json = timeline_object[\"placeVisit\"]\n",
    "\n",
    "                    # 위도와 경도 값 없으면 skip\n",
    "                    if not \"location\" in place_visits_json or not \"latitudeE7\" in place_visits_json[\"location\"]:\n",
    "                        continue\n",
    "\n",
    "                    place_visit = {\n",
    "                        \"placeId\" : place_visits_json[\"location\"][\"placeId\"],\n",
    "                        \"locationConfidence\" : place_visits_json[\"location\"][\"locationConfidence\"],\n",
    "                        \"startTimestamp\" : place_visits_json[\"duration\"][\"startTimestamp\"],\n",
    "                        \"endTimestamp\" : place_visits_json[\"duration\"][\"endTimestamp\"],\n",
    "                        \"placeVisitImportance\" : place_visits_json[\"placeVisitImportance\"],\n",
    "                        \"placeVisitType\" : place_visits_json[\"placeVisitType\"],\n",
    "                        \"latitudeE7\" : place_visits_json[\"location\"][\"latitudeE7\"],\n",
    "                        \"longitudeE7\" : place_visits_json[\"location\"][\"longitudeE7\"],\n",
    "                    }\n",
    "\n",
    "                    for optional_field in [\"centerLatE7\", \"centerLngE7\"]:\n",
    "                        if optional_field in place_visits_json:\n",
    "                            place_visit[optional_field] = place_visits_json[optional_field]\n",
    "                        else:\n",
    "                            place_visit[optional_field] = None\n",
    "                    \n",
    "                    for optional_field in [\"name\", \"address\"]:\n",
    "                        if optional_field in place_visits_json[\"location\"]:\n",
    "                            place_visit[optional_field] = place_visits_json[\"location\"][optional_field]\n",
    "                        else:\n",
    "                            place_visit[optional_field] = None\n",
    "                    \n",
    "                    place_visits.append(place_visit)\n",
    "\n",
    "print(f'레코드 총 개수: {len(place_visits)}')\n",
    "place_visits[:3]"
   ]
  },
  {
   "cell_type": "markdown",
   "id": "b7ebd0ce",
   "metadata": {},
   "source": [
    "### 4. DataFrame 형태로 변환하기"
   ]
  },
  {
   "cell_type": "code",
   "execution_count": null,
   "id": "659ad7e1",
   "metadata": {},
   "outputs": [],
   "source": [
    "# 1.DataFrame 형태로 변환하기\n",
    "place_visits_df = pd.DataFrame(place_visits)\n",
    "place_visits_df.head()\n",
    "\n",
    "# 2.데이터 전처리하기\n",
    "# convert to datetime type\n",
    "place_visits_df[\"startTimestamp\"] = pd.to_datetime(place_visits_df[\"startTimestamp\"], format=\"ISO8601\")\n",
    "place_visits_df[\"endTimestamp\"] = pd.to_datetime(place_visits_df[\"endTimestamp\"], format=\"ISO8601\")\n",
    "\n",
    "# get geo coordinates as float value\n",
    "place_visits_df[\"latitude\"] = place_visits_df.latitudeE7/10**7 #(1E7 = 1e7 = 1x10^7 = 10**7)\n",
    "place_visits_df[\"longitude\"] = place_visits_df.longitudeE7/1e7\n",
    "place_visits_df[\"centerLat\"] = place_visits_df.centerLatE7/1E7\n",
    "place_visits_df[\"centerLng\"] = place_visits_df.centerLngE7/1E7\n",
    "\n",
    "# add timezone based on geo coordinates\n",
    "tf = TimezoneFinder()\n",
    "place_visits_df[\"timezone\"] = place_visits_df.apply(lambda row: tf.timezone_at(lng=row.longitude, lat=row.latitude), axis=1)\n",
    "\n",
    "# convert UTC time to local timezone\n",
    "place_visits_df['startTimestamp_local'] = place_visits_df.apply(lambda row: row.startTimestamp.tz_convert(row.timezone), axis=1)\n",
    "place_visits_df['endTimestamp_local'] = place_visits_df.apply(lambda row: row.endTimestamp.tz_convert(row.timezone), axis=1)\n",
    "\n",
    "# remove TZ info from datetime\n",
    "place_visits_df['startTimestamp_local'] = pd.to_datetime(place_visits_df['startTimestamp_local'].apply(lambda x: x.replace(tzinfo=None)))\n",
    "place_visits_df['endTimestamp_local'] = pd.to_datetime(place_visits_df['endTimestamp_local'].apply(lambda x: x.replace(tzinfo=None)))\n",
    "\n",
    "# add datetime parts as a separate column to data frame\n",
    "for datetime_type in [(\"year\", lambda x: x.year), (\"month\", lambda x: x.month), (\"day\", lambda x: x.day), (\"hour\", lambda x: x.hour), (\"minute\", lambda x: x.minute), (\"weekday\", lambda x: x.weekday)]:\n",
    "    for tztype in [\"\", \"_local\"]:\n",
    "        place_visits_df[f\"{datetime_type[0]}{tztype}\"] = datetime_type[1](place_visits_df[f\"startTimestamp{tztype}\"].dt)\n",
    "\n",
    "place_visits_df.drop(columns=[\"latitudeE7\", \"longitudeE7\", \"centerLatE7\", \"centerLngE7\"], inplace=True)\n",
    "place_visits_df[\"duration\"] = place_visits_df.endTimestamp - place_visits_df.startTimestamp\n",
    "place_visits_df[\"duration_minutes\"] = place_visits_df.duration.dt.total_seconds()/60"
   ]
  },
  {
   "cell_type": "code",
   "execution_count": null,
   "id": "28fcded7",
   "metadata": {},
   "outputs": [],
   "source": []
  },
  {
   "cell_type": "markdown",
   "id": "b0b39008",
   "metadata": {},
   "source": [
    "### 5. (나의)Location History 지도에 표시하기"
   ]
  },
  {
   "cell_type": "code",
   "execution_count": null,
   "id": "3501a1c6",
   "metadata": {
    "scrolled": true
   },
   "outputs": [],
   "source": []
  },
  {
   "cell_type": "markdown",
   "id": "eeebf4ce",
   "metadata": {},
   "source": [
    "--------------------"
   ]
  },
  {
   "cell_type": "markdown",
   "id": "ea0cf8b5",
   "metadata": {},
   "source": [
    "THE END"
   ]
  }
 ],
 "metadata": {
  "kernelspec": {
   "display_name": "Python 3 (ipykernel)",
   "language": "python",
   "name": "python3"
  },
  "language_info": {
   "codemirror_mode": {
    "name": "ipython",
    "version": 3
   },
   "file_extension": ".py",
   "mimetype": "text/x-python",
   "name": "python",
   "nbconvert_exporter": "python",
   "pygments_lexer": "ipython3",
   "version": "3.11.8"
  }
 },
 "nbformat": 4,
 "nbformat_minor": 5
}
