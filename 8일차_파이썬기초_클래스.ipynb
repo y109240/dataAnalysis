{
  "cells": [
    {
      "cell_type": "markdown",
      "metadata": {
        "id": "view-in-github",
        "colab_type": "text"
      },
      "source": [
        "<a href=\"https://colab.research.google.com/github/y109240/dataAnalysis/blob/main/8%EC%9D%BC%EC%B0%A8_%ED%8C%8C%EC%9D%B4%EC%8D%AC%EA%B8%B0%EC%B4%88_%ED%81%B4%EB%9E%98%EC%8A%A4.ipynb\" target=\"_parent\"><img src=\"https://colab.research.google.com/assets/colab-badge.svg\" alt=\"Open In Colab\"/></a>"
      ]
    },
    {
      "cell_type": "markdown",
      "id": "366de492-a190-411b-bb6b-51c25eb1554f",
      "metadata": {
        "id": "366de492-a190-411b-bb6b-51c25eb1554f"
      },
      "source": [
        "# 파이썬 기초 다지기"
      ]
    },
    {
      "cell_type": "markdown",
      "id": "9c2c447b-660e-4408-baed-49ad01f3efe3",
      "metadata": {
        "id": "9c2c447b-660e-4408-baed-49ad01f3efe3"
      },
      "source": [
        "# 7. 클래스"
      ]
    },
    {
      "cell_type": "markdown",
      "id": "89bec8d8-feea-431b-9337-d39c6544787d",
      "metadata": {
        "id": "89bec8d8-feea-431b-9337-d39c6544787d"
      },
      "source": [
        "### 1.클래스 정의하기"
      ]
    },
    {
      "cell_type": "code",
      "execution_count": null,
      "id": "1de8827d-843d-4462-83d5-3b93fafa27a8",
      "metadata": {
        "id": "1de8827d-843d-4462-83d5-3b93fafa27a8"
      },
      "outputs": [],
      "source": [
        "class Car:\n",
        "    color = \"\"\n",
        "    speed = 0\n",
        "\n",
        "    def upSpeed(self, value):\n",
        "        self.speed += value\n",
        "    def downSpeed(self, value):\n",
        "        self.speed -= value\n",
        "    def printMessage():\n",
        "        print(\"시험 출력\")"
      ]
    },
    {
      "cell_type": "markdown",
      "id": "50b42876-cdf5-46cd-bbe6-ee73a885a0b9",
      "metadata": {
        "id": "50b42876-cdf5-46cd-bbe6-ee73a885a0b9"
      },
      "source": [
        "### 2.인스턴스 생성 및 작동 구현"
      ]
    },
    {
      "cell_type": "code",
      "execution_count": null,
      "id": "f9c7f75c-9971-4ddc-aafa-7f68a14601f0",
      "metadata": {
        "id": "f9c7f75c-9971-4ddc-aafa-7f68a14601f0"
      },
      "outputs": [],
      "source": [
        "# 클래스 선언 부분\n",
        "class Car:\n",
        "    color = \"\"\n",
        "    speed = 0\n",
        "\n",
        "    def upSpeed(self, value):\n",
        "        self.speed += value\n",
        "\n",
        "    def downSpeed(self, value):\n",
        "        self.speed -= value\n",
        "\n",
        "    def printMessage():\n",
        "        print(\"시험 출력입니다.\")\n",
        "\n",
        "# 메인 코드 부분\n",
        "myCar1 = Car()\n",
        "myCar1.color = \"빨강\"\n",
        "myCar1.speed = 0\n",
        "\n",
        "myCar2 = Car()\n",
        "myCar2.color = \"파랑\"\n",
        "myCar2.speed = 0\n",
        "\n",
        "myCar3 = Car()\n",
        "myCar3.color = \"노랑\"\n",
        "myCar3.speed = 0\n",
        "\n",
        "myCar1.upSpeed(30)\n",
        "print(f\"자동차1의 색상은 {myCar1.color}이며, 현재 속도는 {myCar1.speed}km입니다.\")\n",
        "myCar2.upSpeed(60)\n",
        "print(f\"자동차2의 색상은 {myCar2.color}이며, 현재 속도는 {myCar2.speed}km입니다.\")\n",
        "myCar3.upSpeed(0)\n",
        "print(f\"자동차3의 색상은 {myCar3.color}이며, 현재 속도는 {myCar3.speed}km입니다.\")"
      ]
    },
    {
      "cell_type": "markdown",
      "id": "6f32a0b1-ba1c-465f-9152-9de510be44a6",
      "metadata": {
        "id": "6f32a0b1-ba1c-465f-9152-9de510be44a6"
      },
      "source": [
        "### 3.클래스 생성자 정의\n",
        "- __init__"
      ]
    },
    {
      "cell_type": "code",
      "execution_count": null,
      "id": "44d12659-c74a-4f45-8840-cbb98afd560a",
      "metadata": {
        "id": "44d12659-c74a-4f45-8840-cbb98afd560a"
      },
      "outputs": [],
      "source": [
        "# 클래스 선언 부분\n",
        "class Car:\n",
        "  color = \"\"\n",
        "  name =\"\"\n",
        "  speed = 0\n",
        "\n",
        "  def __init__(self, color, name, speed):\n",
        "    self.color = color\n",
        "    self.name = name\n",
        "    self.speed = speed\n",
        "\n",
        "  def getColor(self):\n",
        "    return self.color\n",
        "  def getName(self):\n",
        "    return self.name\n",
        "  def getSpeed(self):\n",
        "    return self.speed\n",
        "\n",
        "# 변수 선언 부분\n",
        "car1, car2 = None, None\n",
        "\n",
        "# 메인 코드 부분\n",
        "car1 = Car(\"흰색\", \"아우디\", 0)\n",
        "car2 = Car(\"검정색\", \"벤츠\", 30)\n",
        "\n",
        "print(f\"{car1.getColor()} {car2.getName()}의 현재 속도는 {car1.getSpeed()}\")\n",
        "print(f\"{car2.getColor()} {car2.getName()}의 현재 속도는 {car2.getSpeed()}\")"
      ]
    },
    {
      "cell_type": "markdown",
      "id": "fb4342a8-7d8b-4515-be53-49df54e4edb7",
      "metadata": {
        "id": "fb4342a8-7d8b-4515-be53-49df54e4edb7"
      },
      "source": [
        "### [실습문제] 클래스 만들기\n",
        "다음 소스코드에서 클래스를 작성하여 게임 캐릭터의 능력치와 '파이어볼'이 출력되게 게임 캐릭터 클래스를 만들어 보세요.  단, 주어진 소스 코드를 수정해선 안됩니다."
      ]
    },
    {
      "cell_type": "code",
      "execution_count": null,
      "id": "67021211-6ada-4bfc-8aae-3200e67385dd",
      "metadata": {
        "id": "67021211-6ada-4bfc-8aae-3200e67385dd"
      },
      "outputs": [],
      "source": [
        "class Wizard():\n",
        "  def __init__(self, health, mana, armor):\n",
        "    self.health = health\n",
        "    self.mana = mana\n",
        "    self.armor = armor\n",
        "\n",
        "  def attack(self):\n",
        "    if self.health==545 and self.mana==210 and self.armor==10:\n",
        "      print(\"파이어볼\")\n",
        "\n",
        "x = Wizard(health=545, mana=210, armor=10)\n",
        "print(x.health, x.mana, x.armor)\n",
        "x.attack()"
      ]
    },
    {
      "cell_type": "markdown",
      "id": "a26c74d8-1111-4cfb-a4ed-4ec892cd919b",
      "metadata": {
        "id": "a26c74d8-1111-4cfb-a4ed-4ec892cd919b"
      },
      "source": [
        "### 클래스의 특별한 메서드"
      ]
    },
    {
      "cell_type": "code",
      "execution_count": null,
      "id": "4b347015-258a-4369-9751-5fc383cf6237",
      "metadata": {
        "id": "4b347015-258a-4369-9751-5fc383cf6237"
      },
      "outputs": [],
      "source": [
        "class Line :\n",
        "  length = 0\n",
        "  def __init__(self, length):\n",
        "    self.length = length\n",
        "    print(self.length, \"길이의 선이 생성되었습니다.\")\n",
        "  def __del__(self):\n",
        "    print(self.length, \"길이의 선이 삭제되었습니다.\")\n",
        "  def __repr__(self):\n",
        "    return \"선의 길이 : \" + str(self.length)\n",
        "  def __add__(self, other):\n",
        "    return self.length + other.length\n",
        "  def __lt__(self, other):\n",
        "    return self.length < other.length\n",
        "  def __eq__(self, other):\n",
        "    return self.length == other.length\n",
        "\n",
        "# 메인 코드 부분\n",
        "myLine1 = Line(100)\n",
        "myLine2 = Line(200)\n",
        "print(myLine1)\n",
        "print(\"두 선의 길이 합 : \", myLine1+myLine2)\n",
        "\n",
        "if myLine1 < myLine2 :\n",
        "  print(\"선분 2가 더 깁니다.\")\n",
        "elif myLine1 == myLine2 :\n",
        "  print(\"두 선분이 같습니다.\")\n",
        "else :\n",
        "  print(\"모르겠습니다.\")\n",
        "\n",
        "del(myLine1)"
      ]
    },
    {
      "cell_type": "markdown",
      "id": "3a9a0046-face-4ed3-9be2-04d2f5554ff8",
      "metadata": {
        "id": "3a9a0046-face-4ed3-9be2-04d2f5554ff8"
      },
      "source": [
        "### 4.클래스 상속 (Inheritance)\n",
        "- 메서드 오버라이딩"
      ]
    },
    {
      "cell_type": "code",
      "execution_count": null,
      "id": "68d38ea6-a342-4b57-a16d-11d443a80082",
      "metadata": {
        "id": "68d38ea6-a342-4b57-a16d-11d443a80082",
        "outputId": "f9bc5d44-6e84-4bff-ec7e-f33d9051f193"
      },
      "outputs": [
        {
          "name": "stdout",
          "output_type": "stream",
          "text": [
            "트럭 --> 현재 속도(슈퍼 클래스) : 200\n",
            "승용차 --> 현재 속도(서브 클래스) : 150\n"
          ]
        }
      ],
      "source": [
        "# 클래스 선언 부분\n",
        "class Car:\n",
        "  speed = 0\n",
        "\n",
        "  def upSpeed(self, value):\n",
        "    self.speed += value\n",
        "    print(f\"현재 속도(슈퍼 클래스) : {self.speed}\")\n",
        "\n",
        "class Sedan(Car):\n",
        "  def upSpeed(self, value):\n",
        "    self.speed += value\n",
        "\n",
        "    if self.speed > 150:\n",
        "      self.speed = 150\n",
        "    print(f\"현재 속도(서브 클래스) : {self.speed}\")\n",
        "\n",
        "class Truck(Car):\n",
        "  pass\n",
        "\n",
        "# 변수 선언 부분\n",
        "sedan1, truck1 = None, None\n",
        "\n",
        "# 메인 코드 부분\n",
        "truck1 = Truck()\n",
        "sedan1 = Sedan()\n",
        "\n",
        "print(\"트럭\", end=\" --> \")\n",
        "truck1.upSpeed(200)\n",
        "\n",
        "print(\"승용차\", end=\" --> \")\n",
        "sedan1.upSpeed(200)"
      ]
    },
    {
      "cell_type": "markdown",
      "id": "7292aef9-1e89-492b-814c-2f94af810e02",
      "metadata": {
        "id": "7292aef9-1e89-492b-814c-2f94af810e02"
      },
      "source": [
        "### [실습문제] 오버라이딩 구현하기\n",
        "앞에서 확인한  클래스 상속(메서드 오버라이딩) 예제에 Sonata 클래스를 추가해 보세요. 단, Sonata 클래스는 Car  Sedan  Sonata 순서로 상속을 받습니다. Sonata 클래스에는 특별히 추가하는 필드나 메서드가 없습니다.\n"
      ]
    },
    {
      "cell_type": "code",
      "execution_count": null,
      "id": "7e22291e-a926-4506-a0ab-720eacfd4069",
      "metadata": {
        "id": "7e22291e-a926-4506-a0ab-720eacfd4069",
        "outputId": "f085ec6c-1429-4204-e05b-d5c7b2cf8bff"
      },
      "outputs": [
        {
          "name": "stdout",
          "output_type": "stream",
          "text": [
            "트럭 --> 현재 속도 (슈퍼 클래스) : 200\n",
            "승용차 --> 현재 속도 (서브 클래스) : 150\n",
            "소나타 --> 현재 속도 (서브 클래스) : 150\n"
          ]
        }
      ],
      "source": [
        "class Car:\n",
        "  speed = 0\n",
        "  def upSpeed(self, value):\n",
        "    self.speed += value\n",
        "    print(f\"현재 속도 (슈퍼 클래스) : {self.speed}\")\n",
        "\n",
        "class Sedan(Car):\n",
        "  def upSpeed(self, value):\n",
        "    self.speed += value\n",
        "    if self.speed > 150:\n",
        "      self.speed = 150\n",
        "      print(f\"현재 속도 (서브 클래스) : {self.speed}\")\n",
        "\n",
        "class Truck(Car):\n",
        "  pass\n",
        "\n",
        "class Sonata(Sedan):\n",
        "  pass\n",
        "\n",
        "# 변수 선언 부분\n",
        "sedan1, truck1, sonata = None, None, None\n",
        "\n",
        "# 메인 코드 부분\n",
        "truck1 = Truck()\n",
        "sedan1 = Sedan()\n",
        "sonata1 = Sonata()\n",
        "\n",
        "print(\"트럭\", end=\" --> \")\n",
        "truck1.upSpeed(200)\n",
        "print(\"승용차\", end=\" --> \")\n",
        "sedan1.upSpeed(200)\n",
        "print(\"소나타\", end=\" --> \")\n",
        "sonata1.upSpeed(200)"
      ]
    },
    {
      "cell_type": "markdown",
      "id": "c7443b63-ad70-41ae-9143-fb70f7604c34",
      "metadata": {
        "id": "c7443b63-ad70-41ae-9143-fb70f7604c34"
      },
      "source": [
        "### [실습문제] : 온라인 장바구니 클래스로 구현하기"
      ]
    },
    {
      "cell_type": "code",
      "execution_count": null,
      "id": "c3a0e9af-6699-428d-809f-350d97693640",
      "metadata": {
        "id": "c3a0e9af-6699-428d-809f-350d97693640",
        "outputId": "2c642237-3fdc-4216-be1c-59745527b051"
      },
      "outputs": [
        {
          "name": "stdout",
          "output_type": "stream",
          "text": [
            "#철수의 장바구니\n",
            "----------------\n",
            "* 수박 20000 1\n",
            "* 우유 3000 1\n",
            "* 과자 2000 3\n",
            "**전체가격 = 29000 , 전체수량 = 3\n",
            "------------------------------\n",
            "#영희의 장바구니\n",
            "----------------\n",
            "* 뻥튀기 1500 1\n",
            "* 투게더 5500 1\n",
            "**전체가격 = 7000 , 전체수량 = 2\n",
            "------------------------------\n"
          ]
        }
      ],
      "source": [
        "# 온라인 장바구니 구현\n",
        "class Basket:\n",
        "  def __init__(self, id):\n",
        "    self.id = id       # 인스턴스 ID\n",
        "    self.items = []    # 장바구니 물품명\n",
        "    self.prices = []   # 장바구니 물품가격\n",
        "    self.quantity = [] # 장바구니 물품수량\n",
        "    self.total = 0     # 장바구니 전체가격\n",
        "    self.itemcnt = 0   # 장바구니 전체수량\n",
        "\n",
        "  # 장바구니에 추가\n",
        "  def add(self, item, price, qty):\n",
        "    self.items.append(item)\n",
        "    self.prices.append(price)\n",
        "    self.quantity.append(qty)\n",
        "    self.total += price * qty\n",
        "    self.itemcnt += 1\n",
        "\n",
        "  # 장바구니에서 삭제\n",
        "  def delete(self, item, qty):\n",
        "    for i in range(self.itemcnt):\n",
        "      if item == self.items[i]:\n",
        "        self.quantity[i] -= qty\n",
        "        self.total -= self.prices[i] * qty\n",
        "        if self.quantity[i] == 0:\n",
        "          self.itemcnt -= 1\n",
        "          del self.items[i]\n",
        "          del self.quantity[i]\n",
        "          del self.prices[i]\n",
        "        break\n",
        "\n",
        "  # 장바구니에서 물건 출력\n",
        "  def printitems(self):\n",
        "    print(f\"#{self.id}의 장바구니\\n----------------\")\n",
        "    for i in range(self.itemcnt):\n",
        "      print(\"*\", self.items[i], self.prices[i], self.quantity[i])\n",
        "    print(\"**전체가격 =\", self.total, \", 전체수량 =\", self.itemcnt)\n",
        "    print(\"-\" * 30)\n",
        "\n",
        "basket1 = Basket(\"철수\")\n",
        "basket2 = Basket(\"영희\")\n",
        "\n",
        "basket1.add(\"수박\", 20000, 1)\n",
        "basket1.add(\"우유\", 3000, 2)\n",
        "basket1.add(\"과자\", 2000, 3)\n",
        "basket2.add(\"뻥튀기\", 1500, 1)\n",
        "basket2.add(\"투게더\", 5500, 1)\n",
        "basket1.delete(\"우유\", 1)\n",
        "\n",
        "basket1.printitems()\n",
        "basket2.printitems()"
      ]
    },
    {
      "cell_type": "markdown",
      "id": "03aca195-4c39-4368-9480-1293d1ad576e",
      "metadata": {
        "id": "03aca195-4c39-4368-9480-1293d1ad576e"
      },
      "source": [
        "------------"
      ]
    },
    {
      "cell_type": "markdown",
      "id": "a53b6f62-5e9f-428c-9abc-9075e33df7d3",
      "metadata": {
        "id": "a53b6f62-5e9f-428c-9abc-9075e33df7d3"
      },
      "source": [
        "끝"
      ]
    }
  ],
  "metadata": {
    "kernelspec": {
      "display_name": "Python 3 (ipykernel)",
      "language": "python",
      "name": "python3"
    },
    "language_info": {
      "codemirror_mode": {
        "name": "ipython",
        "version": 3
      },
      "file_extension": ".py",
      "mimetype": "text/x-python",
      "name": "python",
      "nbconvert_exporter": "python",
      "pygments_lexer": "ipython3",
      "version": "3.12.2"
    },
    "colab": {
      "provenance": [],
      "include_colab_link": true
    }
  },
  "nbformat": 4,
  "nbformat_minor": 5
}