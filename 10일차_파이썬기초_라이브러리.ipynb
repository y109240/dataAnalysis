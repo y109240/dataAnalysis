{
  "cells": [
    {
      "cell_type": "markdown",
      "metadata": {
        "id": "view-in-github",
        "colab_type": "text"
      },
      "source": [
        "<a href=\"https://colab.research.google.com/github/y109240/dataAnalysis/blob/main/10%EC%9D%BC%EC%B0%A8_%ED%8C%8C%EC%9D%B4%EC%8D%AC%EA%B8%B0%EC%B4%88_%EB%9D%BC%EC%9D%B4%EB%B8%8C%EB%9F%AC%EB%A6%AC.ipynb\" target=\"_parent\"><img src=\"https://colab.research.google.com/assets/colab-badge.svg\" alt=\"Open In Colab\"/></a>"
      ]
    },
    {
      "cell_type": "markdown",
      "id": "d019c073",
      "metadata": {
        "id": "d019c073"
      },
      "source": [
        "# 데이터 분석\n",
        "\n",
        "## 1. 기술통계기초"
      ]
    },
    {
      "cell_type": "markdown",
      "id": "0c52a67e",
      "metadata": {
        "id": "0c52a67e"
      },
      "source": [
        "----------------------------------"
      ]
    },
    {
      "cell_type": "code",
      "source": [
        "# 코드 실행 후 재시작\n",
        "!sudo apt-get install -y fonts-nanum\n",
        "!sudo fc-cache -fv\n",
        "!rm ~/.cache/matplotlib -rf"
      ],
      "metadata": {
        "colab": {
          "base_uri": "https://localhost:8080/"
        },
        "id": "dQjXM6BewnIi",
        "outputId": "580a0c3c-509f-474a-815b-856642ec2813"
      },
      "id": "dQjXM6BewnIi",
      "execution_count": null,
      "outputs": [
        {
          "output_type": "stream",
          "name": "stdout",
          "text": [
            "Reading package lists... Done\n",
            "Building dependency tree... Done\n",
            "Reading state information... Done\n",
            "The following NEW packages will be installed:\n",
            "  fonts-nanum\n",
            "0 upgraded, 1 newly installed, 0 to remove and 45 not upgraded.\n",
            "Need to get 10.3 MB of archives.\n",
            "After this operation, 34.1 MB of additional disk space will be used.\n",
            "Get:1 http://archive.ubuntu.com/ubuntu jammy/universe amd64 fonts-nanum all 20200506-1 [10.3 MB]\n",
            "Fetched 10.3 MB in 1s (10.2 MB/s)\n",
            "debconf: unable to initialize frontend: Dialog\n",
            "debconf: (No usable dialog-like program is installed, so the dialog based frontend cannot be used. at /usr/share/perl5/Debconf/FrontEnd/Dialog.pm line 78, <> line 1.)\n",
            "debconf: falling back to frontend: Readline\n",
            "debconf: unable to initialize frontend: Readline\n",
            "debconf: (This frontend requires a controlling tty.)\n",
            "debconf: falling back to frontend: Teletype\n",
            "dpkg-preconfigure: unable to re-open stdin: \n",
            "Selecting previously unselected package fonts-nanum.\n",
            "(Reading database ... 121752 files and directories currently installed.)\n",
            "Preparing to unpack .../fonts-nanum_20200506-1_all.deb ...\n",
            "Unpacking fonts-nanum (20200506-1) ...\n",
            "Setting up fonts-nanum (20200506-1) ...\n",
            "Processing triggers for fontconfig (2.13.1-4.2ubuntu5) ...\n",
            "/usr/share/fonts: caching, new cache contents: 0 fonts, 1 dirs\n",
            "/usr/share/fonts/truetype: caching, new cache contents: 0 fonts, 3 dirs\n",
            "/usr/share/fonts/truetype/humor-sans: caching, new cache contents: 1 fonts, 0 dirs\n",
            "/usr/share/fonts/truetype/liberation: caching, new cache contents: 16 fonts, 0 dirs\n",
            "/usr/share/fonts/truetype/nanum: caching, new cache contents: 12 fonts, 0 dirs\n",
            "/usr/local/share/fonts: caching, new cache contents: 0 fonts, 0 dirs\n",
            "/root/.local/share/fonts: skipping, no such directory\n",
            "/root/.fonts: skipping, no such directory\n",
            "/usr/share/fonts/truetype: skipping, looped directory detected\n",
            "/usr/share/fonts/truetype/humor-sans: skipping, looped directory detected\n",
            "/usr/share/fonts/truetype/liberation: skipping, looped directory detected\n",
            "/usr/share/fonts/truetype/nanum: skipping, looped directory detected\n",
            "/var/cache/fontconfig: cleaning cache directory\n",
            "/root/.cache/fontconfig: not cleaning non-existent cache directory\n",
            "/root/.fontconfig: not cleaning non-existent cache directory\n",
            "fc-cache: succeeded\n"
          ]
        }
      ]
    },
    {
      "cell_type": "markdown",
      "id": "89e2259e",
      "metadata": {
        "id": "89e2259e"
      },
      "source": [
        "### 라이브러리 설치하기"
      ]
    },
    {
      "cell_type": "code",
      "execution_count": null,
      "id": "7d9a2eb3",
      "metadata": {
        "id": "7d9a2eb3"
      },
      "outputs": [],
      "source": [
        "# SciPy는 과학, 수학, 엔지니어링 등에 사용되는 고급 계산 기능을 제공 라이브러리\n",
        "!pip install scipy"
      ]
    },
    {
      "cell_type": "code",
      "execution_count": null,
      "id": "1a9009d1",
      "metadata": {
        "id": "1a9009d1"
      },
      "outputs": [],
      "source": [
        "# 수치 데이터 분석 라이브러리\n",
        "!pip install numpy"
      ]
    },
    {
      "cell_type": "code",
      "execution_count": null,
      "id": "a63d87de",
      "metadata": {
        "id": "a63d87de"
      },
      "outputs": [],
      "source": [
        "# 데이터를 표 형태로 보여주는 데이터 분석 라이브러리\n",
        "!pip install pandas"
      ]
    },
    {
      "cell_type": "code",
      "execution_count": null,
      "id": "ea109e26",
      "metadata": {
        "colab": {
          "base_uri": "https://localhost:8080/"
        },
        "id": "ea109e26",
        "outputId": "99fccb17-1d03-4f38-ed4e-d289db9aa4c6",
        "scrolled": true
      },
      "outputs": [
        {
          "output_type": "stream",
          "name": "stdout",
          "text": [
            "Requirement already satisfied: matplotlib in /usr/local/lib/python3.10/dist-packages (3.7.1)\n",
            "Requirement already satisfied: contourpy>=1.0.1 in /usr/local/lib/python3.10/dist-packages (from matplotlib) (1.2.1)\n",
            "Requirement already satisfied: cycler>=0.10 in /usr/local/lib/python3.10/dist-packages (from matplotlib) (0.12.1)\n",
            "Requirement already satisfied: fonttools>=4.22.0 in /usr/local/lib/python3.10/dist-packages (from matplotlib) (4.51.0)\n",
            "Requirement already satisfied: kiwisolver>=1.0.1 in /usr/local/lib/python3.10/dist-packages (from matplotlib) (1.4.5)\n",
            "Requirement already satisfied: numpy>=1.20 in /usr/local/lib/python3.10/dist-packages (from matplotlib) (1.25.2)\n",
            "Requirement already satisfied: packaging>=20.0 in /usr/local/lib/python3.10/dist-packages (from matplotlib) (24.0)\n",
            "Requirement already satisfied: pillow>=6.2.0 in /usr/local/lib/python3.10/dist-packages (from matplotlib) (9.4.0)\n",
            "Requirement already satisfied: pyparsing>=2.3.1 in /usr/local/lib/python3.10/dist-packages (from matplotlib) (3.1.2)\n",
            "Requirement already satisfied: python-dateutil>=2.7 in /usr/local/lib/python3.10/dist-packages (from matplotlib) (2.8.2)\n",
            "Requirement already satisfied: six>=1.5 in /usr/local/lib/python3.10/dist-packages (from python-dateutil>=2.7->matplotlib) (1.16.0)\n"
          ]
        }
      ],
      "source": [
        "# 데이터를 다양한 그래프로 보여주는 시각화 라이브러리\n",
        "!pip install matplotlib"
      ]
    },
    {
      "cell_type": "code",
      "execution_count": null,
      "id": "69b70be7",
      "metadata": {
        "id": "69b70be7"
      },
      "outputs": [],
      "source": [
        "# 통계 그래프 시각화 라이브러리\n",
        "!pip install seaborn"
      ]
    },
    {
      "cell_type": "code",
      "execution_count": null,
      "id": "844a16c7",
      "metadata": {
        "id": "844a16c7"
      },
      "outputs": [],
      "source": [
        "!pip install plotly"
      ]
    },
    {
      "cell_type": "code",
      "execution_count": null,
      "id": "c2fb69b6",
      "metadata": {
        "scrolled": true,
        "id": "c2fb69b6"
      },
      "outputs": [],
      "source": [
        "# 통계 모델 라이브러리\n",
        "!pip install statsmodels"
      ]
    },
    {
      "cell_type": "code",
      "execution_count": null,
      "id": "19ea0f8e",
      "metadata": {
        "id": "19ea0f8e"
      },
      "outputs": [],
      "source": [
        "# 머신러닝 라이브러리(사이킷런)\n",
        "!pip install sklearn"
      ]
    },
    {
      "cell_type": "code",
      "execution_count": null,
      "id": "7e86e68f",
      "metadata": {
        "id": "7e86e68f"
      },
      "outputs": [],
      "source": [
        "# 엑셀 시트 사용을 위한 라이브러리\n",
        "!pip install openpyxl"
      ]
    },
    {
      "cell_type": "markdown",
      "id": "1e01e87e",
      "metadata": {
        "id": "1e01e87e"
      },
      "source": [
        "----------"
      ]
    },
    {
      "cell_type": "markdown",
      "id": "1ab82cff",
      "metadata": {
        "id": "1ab82cff"
      },
      "source": [
        "### 라이브러리 설치 확인하기\n",
        "아래 코드를 실행한 후 오류 메시지가 없으면 성공적으로 설치된 것입니다."
      ]
    },
    {
      "cell_type": "code",
      "execution_count": null,
      "id": "06fd45bd",
      "metadata": {
        "colab": {
          "base_uri": "https://localhost:8080/",
          "height": 35
        },
        "id": "06fd45bd",
        "outputId": "de4f0eb5-8834-40af-aea6-5b5127b4fa6d"
      },
      "outputs": [
        {
          "output_type": "execute_result",
          "data": {
            "text/plain": [
              "'1.11.4'"
            ],
            "application/vnd.google.colaboratory.intrinsic+json": {
              "type": "string"
            }
          },
          "metadata": {},
          "execution_count": 1
        }
      ],
      "source": [
        "import scipy as sp\n",
        "sp.__version__"
      ]
    },
    {
      "cell_type": "code",
      "execution_count": null,
      "id": "6786b404",
      "metadata": {
        "colab": {
          "base_uri": "https://localhost:8080/",
          "height": 35
        },
        "id": "6786b404",
        "outputId": "4fa06f3f-480f-46c5-9ec9-1613f3d48dc2",
        "scrolled": true
      },
      "outputs": [
        {
          "output_type": "execute_result",
          "data": {
            "text/plain": [
              "'1.25.2'"
            ],
            "application/vnd.google.colaboratory.intrinsic+json": {
              "type": "string"
            }
          },
          "metadata": {},
          "execution_count": 2
        }
      ],
      "source": [
        "import numpy as np\n",
        "np.__version__"
      ]
    },
    {
      "cell_type": "code",
      "execution_count": null,
      "id": "59557988",
      "metadata": {
        "colab": {
          "base_uri": "https://localhost:8080/",
          "height": 35
        },
        "id": "59557988",
        "outputId": "09fcfa4c-a3ad-4d2f-c1fe-ac48132eeb1f"
      },
      "outputs": [
        {
          "output_type": "execute_result",
          "data": {
            "text/plain": [
              "'2.0.3'"
            ],
            "application/vnd.google.colaboratory.intrinsic+json": {
              "type": "string"
            }
          },
          "metadata": {},
          "execution_count": 3
        }
      ],
      "source": [
        "import pandas  as pd\n",
        "pd.__version__"
      ]
    },
    {
      "cell_type": "code",
      "execution_count": null,
      "id": "e4d9be5b",
      "metadata": {
        "colab": {
          "base_uri": "https://localhost:8080/",
          "height": 35
        },
        "id": "e4d9be5b",
        "outputId": "1177ee34-a2e4-4cac-e0bc-93eb47c18007"
      },
      "outputs": [
        {
          "output_type": "execute_result",
          "data": {
            "text/plain": [
              "'3.7.1'"
            ],
            "application/vnd.google.colaboratory.intrinsic+json": {
              "type": "string"
            }
          },
          "metadata": {},
          "execution_count": 4
        }
      ],
      "source": [
        "import matplotlib as plt\n",
        "plt.__version__"
      ]
    },
    {
      "cell_type": "code",
      "execution_count": null,
      "id": "6cd4f004",
      "metadata": {
        "colab": {
          "base_uri": "https://localhost:8080/",
          "height": 35
        },
        "id": "6cd4f004",
        "outputId": "8a6d785e-4636-42aa-e792-be36be430b4e"
      },
      "outputs": [
        {
          "output_type": "execute_result",
          "data": {
            "text/plain": [
              "'0.13.1'"
            ],
            "application/vnd.google.colaboratory.intrinsic+json": {
              "type": "string"
            }
          },
          "metadata": {},
          "execution_count": 5
        }
      ],
      "source": [
        "import seaborn as sns\n",
        "sns.__version__"
      ]
    },
    {
      "cell_type": "code",
      "execution_count": null,
      "id": "afd0a7cb",
      "metadata": {
        "colab": {
          "base_uri": "https://localhost:8080/",
          "height": 35
        },
        "id": "afd0a7cb",
        "outputId": "6212d7dc-7035-409e-e68b-a722271d4254"
      },
      "outputs": [
        {
          "output_type": "execute_result",
          "data": {
            "text/plain": [
              "'5.15.0'"
            ],
            "application/vnd.google.colaboratory.intrinsic+json": {
              "type": "string"
            }
          },
          "metadata": {},
          "execution_count": 6
        }
      ],
      "source": [
        "import plotly\n",
        "plotly.__version__"
      ]
    },
    {
      "cell_type": "markdown",
      "id": "3dae5378",
      "metadata": {
        "id": "3dae5378"
      },
      "source": [
        "---------------------------------------------"
      ]
    },
    {
      "cell_type": "markdown",
      "id": "1faaf002",
      "metadata": {
        "id": "1faaf002"
      },
      "source": [
        "### [실습] Scipy 라이브러리로 이항분포 구현하기"
      ]
    },
    {
      "cell_type": "code",
      "execution_count": null,
      "id": "2ec3a08f",
      "metadata": {
        "colab": {
          "base_uri": "https://localhost:8080/"
        },
        "id": "2ec3a08f",
        "outputId": "978c72ed-3de5-4bca-9eb3-a1f4d9d64e3b"
      },
      "outputs": [
        {
          "output_type": "stream",
          "name": "stdout",
          "text": [
            "(array([ 0,  1,  2,  3,  4,  5,  6,  7,  8,  9, 10]), <function Bin.<locals>.f at 0x7ee15cb5b1c0>)\n"
          ]
        }
      ],
      "source": [
        "#scipy패키지의 special모듈에 있는 comb함수 사용\n",
        "import numpy as np\n",
        "from scipy.special import comb\n",
        "\n",
        "def Bin(n, p):\n",
        "    x_set = np.arange(n+1)\n",
        "\n",
        "    def f(x):\n",
        "        if x in x_set:\n",
        "            return comb(n,x) * p**x * (1-p)**(n-x)\n",
        "        else:\n",
        "            return 0\n",
        "\n",
        "    return x_set, f\n",
        "\n",
        "n, p = 10, 5/4\n",
        "X = Bin(n, p)\n",
        "print(X)"
      ]
    },
    {
      "cell_type": "code",
      "execution_count": null,
      "id": "e7e3b05a",
      "metadata": {
        "scrolled": true,
        "colab": {
          "base_uri": "https://localhost:8080/",
          "height": 332
        },
        "id": "e7e3b05a",
        "outputId": "8daea10e-6ac5-448c-c44a-dbc2c7926e69"
      },
      "outputs": [
        {
          "output_type": "display_data",
          "data": {
            "text/plain": [
              "<Figure size 500x300 with 1 Axes>"
            ],
            "image/png": "[encoded data removed]"
          },
          "metadata": {}
        }
      ],
      "source": [
        "import numpy as np\n",
        "import scipy as sp\n",
        "import scipy.stats\n",
        "import matplotlib.pyplot as plt\n",
        "\n",
        "plt.rcParams['figure.figsize'] = (5,3)\n",
        "plt.rcParams['font.family'] =  'NanumBarunGothic' # 코랩에서 설치한 한글폰트\n",
        "plt.rcParams['axes.unicode_minus'] = False     # 그래프에서 (-)숫자표시\n",
        "\n",
        "n = 5\n",
        "mu = 0.25\n",
        "rv = sp.stats.binom(n, mu)\n",
        "\n",
        "xx = np.arange(n)\n",
        "plt.bar(xx, rv.pmf(xx), align='center')\n",
        "plt.xlabel('표본값')\n",
        "plt.ylabel('$P(x)$') # $수식$ 수식을 표현해주는 문법\n",
        "plt.title('이항분포의 확률질량함수')\n",
        "plt.grid()\n",
        "plt.show()"
      ]
    },
    {
      "cell_type": "markdown",
      "id": "abfe31f9",
      "metadata": {
        "id": "abfe31f9"
      },
      "source": [
        "### [실습] Scipy 라이브러리로 다항분포 구현하기"
      ]
    },
    {
      "cell_type": "code",
      "execution_count": null,
      "id": "ee66de7b",
      "metadata": {
        "scrolled": true,
        "colab": {
          "base_uri": "https://localhost:8080/",
          "height": 442
        },
        "id": "ee66de7b",
        "outputId": "c8eb3170-ee65-4a39-9420-c55788acccde"
      },
      "outputs": [
        {
          "output_type": "stream",
          "name": "stdout",
          "text": [
            "[[19  9 19 20 16 17]\n",
            " [14 14 21 14 14 23]\n",
            " [18 23  7 17 20 15]\n",
            " [18 18 14 21 16 13]\n",
            " [17 13 16 20 17 17]\n",
            " [16 18 17 18 16 15]]\n"
          ]
        },
        {
          "output_type": "display_data",
          "data": {
            "text/plain": [
              "<Figure size 500x300 with 1 Axes>"
            ],
            "image/png": "[encoded data removed]"
          },
          "metadata": {}
        }
      ],
      "source": [
        "# 주사위를 N번 던져 각 면이 나오는 횟수 집합의 분포\n",
        "N = 100\n",
        "mu = [1/6, 1/6, 1/6, 1/6, 1/6, 1/6]\n",
        "rv = sp.stats.multinomial(N, mu) # 다항분포\n",
        "\n",
        "np.random.seed(10)\n",
        "X = rv.rvs(100)\n",
        "print(X[:6])  # 6개만 보여주기\n",
        "\n",
        "plt.boxplot(X)\n",
        "plt.xlabel('클래스')\n",
        "plt.ylabel('표본값')\n",
        "plt.title('다항분포의 시뮬레이션 결과')\n",
        "plt.grid()\n",
        "plt.show()"
      ]
    },
    {
      "cell_type": "markdown",
      "id": "46ee9996",
      "metadata": {
        "id": "46ee9996"
      },
      "source": [
        "### [실습] 이항분포 N(표본)을 늘리면 정규분포화 된다."
      ]
    },
    {
      "cell_type": "code",
      "execution_count": null,
      "id": "bb88b516",
      "metadata": {
        "scrolled": true,
        "colab": {
          "base_uri": "https://localhost:8080/",
          "height": 522
        },
        "id": "bb88b516",
        "outputId": "c1154d2e-6e90-446d-9fc2-703f4bbb8ec4"
      },
      "outputs": [
        {
          "output_type": "display_data",
          "data": {
            "text/plain": [
              "<Figure size 1000x600 with 1 Axes>"
            ],
            "image/png": "[encoded data removed]"
          },
          "metadata": {}
        }
      ],
      "source": [
        "import numpy as np\n",
        "import matplotlib.pyplot as plt\n",
        "from scipy import stats, integrate\n",
        "\n",
        "# 기대값:평균\n",
        "def E(X, g=lambda x:x):\n",
        "    x_range, f = X\n",
        "\n",
        "    def integrand(x):\n",
        "        return g(x) * f(x)\n",
        "\n",
        "    return integrate.quad(integrand, -np.inf, np.inf)[0]\n",
        "\n",
        "# 확률\n",
        "def get_prob(X, a, b):\n",
        "    x_range, f = X\n",
        "\n",
        "    prob_sum = np.round(integrate.quad(f, a, b), 4)\n",
        "\n",
        "    print(f'확률: {prob_sum[0]}')\n",
        "\n",
        "\n",
        "def plot_prob_bi(X):\n",
        "    x_set, f = X\n",
        "    prob = np.array([ f(x_k) for x_k in x_set])\n",
        "\n",
        "    fig = plt.figure(figsize=(10,6))\n",
        "    ax  = fig.add_subplot(111) # (1,1,1)\n",
        "\n",
        "    ax.bar(x_set, prob, label='prob')\n",
        "    ax.set_xticks(np.append(x_set, E(X)))   #x축의 값 출력\n",
        "    ax.set_ylim(0, prob.max()*1.2)          #y축의 한계 지정\n",
        "    ax.legend()\n",
        "\n",
        "    plt.show()\n",
        "\n",
        "n = 100    # n의 개수를 크게 해보기 --> 그래프가 종모양으로 변경됨\n",
        "p = 0.25   # 0.3, 0.5, 0.7 변경해보기\n",
        "X = Bin(n,p)   # 이항분포에서  n의 개수를 늘리면?\n",
        "plot_prob_bi(X)"
      ]
    },
    {
      "cell_type": "markdown",
      "id": "22c92842",
      "metadata": {
        "id": "22c92842"
      },
      "source": [
        "### [실습] Scipy 라이브러리로 정규분포 구현하기"
      ]
    },
    {
      "cell_type": "code",
      "execution_count": null,
      "id": "0e62c132",
      "metadata": {
        "scrolled": true,
        "id": "0e62c132"
      },
      "outputs": [],
      "source": [
        "import scipy as sp\n",
        "import seaborn as sns\n",
        "import matplotlib.pyplot as plt\n",
        "\n",
        "# 워닝 메시지 안나오게 하는 방법\n",
        "import warnings\n",
        "warnings.filterwarnings('ignore')\n",
        "\n",
        "np.random.seed(0)   # 랜덤 초기\n",
        "mu, std = 0, 1      # 평균, 표준편차\n",
        "rv = sp.stats.norm(mu, std)     #  정규분포\n",
        "X = rv.rvs(1000)                #  표본 반영\n",
        "# print(x)\n",
        "\n",
        "sns.distplot(X, rug=True, kde=False, fit=sp.stats.norm)\n",
        "plt.title('랜덤 표본 생성 결과')\n",
        "plt.xlabel('표본값')\n",
        "plt.ylabel('$P(x)$')\n",
        "plt.grid()\n",
        "plt.show()"
      ]
    },
    {
      "cell_type": "markdown",
      "id": "142dba18",
      "metadata": {
        "id": "142dba18"
      },
      "source": [
        "### [실습] 정규분포를 이용한 확률 구하기\n",
        "남자 고등학생 키의 평균이 170cm이고 표준편차가 5cm라면, 우연히 만난 남자 고등학생의 키는 N(170, 5^2)를 따른 다고 할 수 있다. 이 사실을 바탕으로 우연히 만난 남자 고등학생의 키가 165cm이상 175cm 이하일 확률은?"
      ]
    },
    {
      "cell_type": "code",
      "execution_count": null,
      "id": "07687afb",
      "metadata": {
        "id": "07687afb"
      },
      "outputs": [],
      "source": [
        "import numpy as np\n",
        "import matplotlib.pyplot as plt\n",
        "from scipy import stats, integrate\n",
        "\n",
        "# 확률\n",
        "def get_prob(X, a, b):\n",
        "    x_range, f = X\n",
        "\n",
        "    prob_sum = np.round(integrate.quad(f, a, b), 4)\n",
        "\n",
        "    print(f'확률: {prob_sum[0]}')\n",
        "\n",
        "#𝑍 ~ N(0,1) 정규화를 따른 정규분포\n",
        "def N(mu, sigma):\n",
        "    x_range = [-np.inf, np.inf]\n",
        "    def f(x):\n",
        "        return 1 / np.sqrt(2 * np.pi * sigma**2) *\\\n",
        "                    np.exp(-(x-mu)**2 / (2 * sigma**2))\n",
        "    return x_range, f\n",
        "\n",
        "mu, sigma = 170, 5\n",
        "X = N(mu, sigma)\n",
        "\n",
        "a, b = 165, 175\n",
        "get_prob(X, a, b)"
      ]
    },
    {
      "cell_type": "markdown",
      "id": "48a44588",
      "metadata": {
        "id": "48a44588"
      },
      "source": [
        "-----------------"
      ]
    },
    {
      "cell_type": "markdown",
      "id": "5aac1a65",
      "metadata": {
        "id": "5aac1a65"
      },
      "source": [
        "## 2.Numpy를 이용한 기술통계"
      ]
    },
    {
      "cell_type": "markdown",
      "id": "c849e3b9",
      "metadata": {
        "id": "c849e3b9"
      },
      "source": [
        "numpy는 아래와 같은 데이터 집합에 대해 간단한 통계를 계산하는 함수(통계량)를 제공한다.\n",
        "\n",
        "- 데이터의 개수(count)\n",
        " - 최댓값(maximum) : 데이터 중에서 가장 큰 값\n",
        " - 최솟값(minimum) : 데이터 중에서 가장 작은 값\n",
        "\n",
        "\n",
        "### 대표값\n",
        "데이터 분포의 중심 위치\n",
        " - 평균(mean, average): 평균을 통계용어->표본 평균(sample average, sample mean)\n",
        " - 중앙값(median) : 데이터를 크기대로 정렬하였을 때 가장 가운데에 있는 수\n",
        " - 최빈값(mode): 데이터 내에서 가장 자주 등장하는 값\n",
        "\n",
        "### 산포도\n",
        "중심으로부터 데이터가 흩어져 있는 정도(변이도)를 수치적으로 측정\n",
        " - 분산(variance): 표본 분산, 데이터와 표본 평균간의 거리의 제곱의 평균, 표본 분산이 작으면 데이터가 모여있는 것이고 크면 흩어져 있는 것\n",
        " - 표준편차(standard deviation) : 표본 분산의 양의 제곱근 값\n",
        " - 사분위수(quartile) : 데이터를 가장 작은 수부터 가장 큰 수까지 크기가 커지는 순서대로 정렬하였을 때 1/4, 2/4, 3/4 위치에 있는 수\n",
        " - 변동계수(coefficient of variation): 두 집단 비교\n",
        " - 왜도(skewness) : 분포의 대칭이나 비대칭의 정도를 표시하는 척도\n",
        " - 첨도(kurtosis) : 뽀족함의 정도를 나타내는 척도"
      ]
    },
    {
      "cell_type": "code",
      "execution_count": null,
      "id": "5b164d18",
      "metadata": {
        "colab": {
          "base_uri": "https://localhost:8080/"
        },
        "id": "5b164d18",
        "outputId": "a73a379c-a124-4f21-e3f9-ad924491ae8e"
      },
      "outputs": [
        {
          "output_type": "stream",
          "name": "stdout",
          "text": [
            "[18, 5, 10, 23, 19, -8, 10, 0, 0, 5, 2, 15, 8, 2, 5, 4, 15, -1, 4, -7, -24, 7, 9, -6, 23, -13]\n",
            "[ 18   5  10  23  19  -8  10   0   0   5   2  15   8   2   5   4  15  -1\n",
            "   4  -7 -24   7   9  -6  23 -13]\n"
          ]
        }
      ],
      "source": [
        "datas = [18,5,10,23,19,-8,10,0,0,5,2,15,8,2,5,4,15,-1,4,-7,-24,7,9,-6,23,-13]\n",
        "print(datas)\n",
        "\n",
        "# list를 array로 변환\n",
        "import numpy as np\n",
        "x = np.array(datas)\n",
        "print(x) # 콤마사 없다"
      ]
    },
    {
      "cell_type": "markdown",
      "id": "a0497239",
      "metadata": {
        "id": "a0497239"
      },
      "source": [
        "### - 길이/개수(len)"
      ]
    },
    {
      "cell_type": "code",
      "execution_count": null,
      "id": "04c6c5c7",
      "metadata": {
        "colab": {
          "base_uri": "https://localhost:8080/"
        },
        "id": "04c6c5c7",
        "outputId": "6a404774-da27-4653-e153-d3e00f49f552"
      },
      "outputs": [
        {
          "output_type": "stream",
          "name": "stdout",
          "text": [
            "데이터의 길이: 26\n"
          ]
        }
      ],
      "source": [
        "print(f\"데이터의 길이: {len(x)}\")"
      ]
    },
    {
      "cell_type": "markdown",
      "id": "f34a4f31",
      "metadata": {
        "id": "f34a4f31"
      },
      "source": [
        "### - 최대값(maximum)"
      ]
    },
    {
      "cell_type": "code",
      "execution_count": null,
      "id": "d370743e",
      "metadata": {
        "colab": {
          "base_uri": "https://localhost:8080/"
        },
        "id": "d370743e",
        "outputId": "82abec33-fa7f-4627-f88e-ff4491907b3d"
      },
      "outputs": [
        {
          "output_type": "stream",
          "name": "stdout",
          "text": [
            "최대값: 23\n"
          ]
        }
      ],
      "source": [
        "print(f\"최대값: {np.max(x)}\")"
      ]
    },
    {
      "cell_type": "markdown",
      "id": "115b1276",
      "metadata": {
        "id": "115b1276"
      },
      "source": [
        "### - 최솟값(minimum)"
      ]
    },
    {
      "cell_type": "code",
      "execution_count": null,
      "id": "47eb2bc6",
      "metadata": {
        "colab": {
          "base_uri": "https://localhost:8080/"
        },
        "id": "47eb2bc6",
        "outputId": "41cc3599-12b9-4735-c938-4c65f815dbda"
      },
      "outputs": [
        {
          "output_type": "stream",
          "name": "stdout",
          "text": [
            "최소값: -24\n"
          ]
        }
      ],
      "source": [
        "print(f\"최소값: {np.min(x)}\")"
      ]
    },
    {
      "cell_type": "markdown",
      "id": "feb3b096",
      "metadata": {
        "id": "feb3b096"
      },
      "source": [
        "### - 배열의 최대값 인덱스(argmax)\n",
        "- 동일한 값이 있을 경우 첫 번째 인덱스"
      ]
    },
    {
      "cell_type": "code",
      "execution_count": null,
      "id": "3476ef32",
      "metadata": {
        "scrolled": true,
        "colab": {
          "base_uri": "https://localhost:8080/"
        },
        "id": "3476ef32",
        "outputId": "ba1f00a9-2e84-42c1-8f1e-04f25f9f0b7e"
      },
      "outputs": [
        {
          "output_type": "stream",
          "name": "stdout",
          "text": [
            "최대값의 인덱스: 3\n"
          ]
        }
      ],
      "source": [
        "print(f\"최대값의 인덱스: {np.argmax(x)}\")"
      ]
    },
    {
      "cell_type": "markdown",
      "id": "2e0d9d0d",
      "metadata": {
        "id": "2e0d9d0d"
      },
      "source": [
        "### - 배열의 최소값 인덱스(argmin)\n",
        "- 동일한 값이 있을 경우 첫 번째 인덱스"
      ]
    },
    {
      "cell_type": "code",
      "execution_count": null,
      "id": "14dca3fc",
      "metadata": {
        "scrolled": true,
        "colab": {
          "base_uri": "https://localhost:8080/"
        },
        "id": "14dca3fc",
        "outputId": "e14767e8-dd2a-4cc6-c8c1-6393e086dcc0"
      },
      "outputs": [
        {
          "output_type": "stream",
          "name": "stdout",
          "text": [
            "최소값의 인덱스: 20\n"
          ]
        }
      ],
      "source": [
        "print(f\"최소값의 인덱스: {np.argmin(x)}\")"
      ]
    },
    {
      "cell_type": "markdown",
      "id": "2f63dee4",
      "metadata": {
        "id": "2f63dee4"
      },
      "source": [
        "----------"
      ]
    },
    {
      "cell_type": "markdown",
      "id": "380fd23b",
      "metadata": {
        "id": "380fd23b"
      },
      "source": [
        "## 대표값\n",
        "데이터 분포의 중심 위치"
      ]
    },
    {
      "cell_type": "markdown",
      "id": "6ef50d49",
      "metadata": {
        "id": "6ef50d49"
      },
      "source": [
        "### - 평균(average)"
      ]
    },
    {
      "cell_type": "code",
      "execution_count": null,
      "id": "9aa8933d",
      "metadata": {
        "colab": {
          "base_uri": "https://localhost:8080/"
        },
        "id": "9aa8933d",
        "outputId": "4bd49c9c-cef2-4b26-e857-e489676e5d43"
      },
      "outputs": [
        {
          "output_type": "stream",
          "name": "stdout",
          "text": [
            "평균: 4.8076923076923075\n"
          ]
        }
      ],
      "source": [
        "print(f\"평균: {np.mean(x)}\")"
      ]
    },
    {
      "cell_type": "markdown",
      "id": "9f94da69",
      "metadata": {
        "id": "9f94da69"
      },
      "source": [
        "### - 중앙값(median)"
      ]
    },
    {
      "cell_type": "code",
      "execution_count": null,
      "id": "5e2a2f4f",
      "metadata": {
        "colab": {
          "base_uri": "https://localhost:8080/"
        },
        "id": "5e2a2f4f",
        "outputId": "a533cb64-b3ad-488e-f29b-07491d65912e"
      },
      "outputs": [
        {
          "output_type": "stream",
          "name": "stdout",
          "text": [
            "중앙값: 5.0\n"
          ]
        }
      ],
      "source": [
        "print(f\"중앙값: {np.median(x)}\")"
      ]
    },
    {
      "cell_type": "markdown",
      "id": "875fd4f7",
      "metadata": {
        "id": "875fd4f7"
      },
      "source": [
        "### - 최빈값(mode)"
      ]
    },
    {
      "cell_type": "code",
      "execution_count": null,
      "id": "72f64466",
      "metadata": {
        "scrolled": true,
        "colab": {
          "base_uri": "https://localhost:8080/"
        },
        "id": "72f64466",
        "outputId": "ab6fb452-4a5a-4ea3-cc32-9c074debacf7"
      },
      "outputs": [
        {
          "output_type": "stream",
          "name": "stdout",
          "text": [
            "[-24 -13  -8  -7  -6  -1   0   2   4   5   7   8   9  10  15  18  19  23] [1 1 1 1 1 1 2 2 2 3 1 1 1 2 2 1 1 2]\n",
            "5\n"
          ]
        }
      ],
      "source": [
        "values, counts = np.unique(x, return_counts=True)\n",
        "print(values, counts)\n",
        "print(values[np.argmax(counts)])"
      ]
    },
    {
      "cell_type": "markdown",
      "id": "7bdf75d3",
      "metadata": {
        "id": "7bdf75d3"
      },
      "source": [
        "### - 히스토그램 그리기"
      ]
    },
    {
      "cell_type": "code",
      "execution_count": null,
      "id": "bbc42d21",
      "metadata": {
        "colab": {
          "base_uri": "https://localhost:8080/",
          "height": 309
        },
        "id": "bbc42d21",
        "outputId": "aad81a53-e2b9-431f-c316-f402c762d0dd"
      },
      "outputs": [
        {
          "output_type": "stream",
          "name": "stdout",
          "text": [
            "[1 0 1 3 1 6 6 2 4] [-25 -20 -15 -10  -5   0   5  10  15  20]\n"
          ]
        },
        {
          "output_type": "display_data",
          "data": {
            "text/plain": [
              "<Figure size 500x300 with 1 Axes>"
            ],
            "image/png": "[encoded data removed]"
          },
          "metadata": {}
        }
      ],
      "source": [
        "bins = np.arange(-25, 25, 5)\n",
        "hist, bins = np.histogram(x, bins)\n",
        "print(hist, bins)\n",
        "\n",
        "import matplotlib.pyplot as plt\n",
        "plt.hist(x, edgecolor=\"w\", color=\"green\")\n",
        "plt.show()"
      ]
    },
    {
      "cell_type": "markdown",
      "id": "1a22fd51",
      "metadata": {
        "id": "1a22fd51"
      },
      "source": [
        "### [실습문제] 조선조 왕의 수명 데이터\n",
        " 1. 왕들의　평균　수명\n",
        " 2. 수명이　가장　짧은　왕,　나이\n",
        " 3. 수명이　가장　긴　왕，　나이\n",
        " 4. 왕들의　중앙값（나이）\n",
        " 5. 왕들의　최빈값（나이）"
      ]
    },
    {
      "cell_type": "code",
      "execution_count": null,
      "id": "5e174be4",
      "metadata": {
        "scrolled": true,
        "id": "5e174be4"
      },
      "outputs": [],
      "source": [
        "import numpy as np\n",
        "# 키가 중복되면 안됨\n",
        "data = {'태조':73, '정종':62, '태종':45, '세종':53, '문종':38,\n",
        "        '단종':16, '세조':51, '예종':28, '성종':37, '연산군':30,\n",
        "        '중종':56, '인종':30, '명종':33, '선조':56, '광해군':66,\n",
        "        '인조':54, '효종':40, '현종':33, '숙종':59, '경종': 36,\n",
        "        '영조':82, '정조':48, '순조':44, '헌종':22, '철종':32,\n",
        "        '고종':67, '순종':52}\n",
        "\n",
        "def get_data_count(datas):\n",
        "    '''데이터별 빈도'''\n",
        "    values = sorted( list(set(datas)) )            # 고유값 리스트\n",
        "    counts = [ datas.count(i) for i in values ]   # 빈도수 리스트\n",
        "#     print(f'#데이터별 빈도: {list(zip(values, counts))}')\n",
        "    return values, counts\n",
        "\n",
        "\n",
        "def get_mode_value(datas):\n",
        "    '''최다 빈도'''\n",
        "    values, counts = get_data_count(datas)\n",
        "    maxs = [(k, v) for k, v in zip(values, counts) if max(counts)== v]\n",
        "    return maxs\n",
        "\n",
        "\n",
        "names= list(data.keys())\n",
        "ages = list(data.values())\n",
        "\n",
        "x_ = np.mean(ages)               # 평균값\n",
        "me = np.median(ages)             # 중앙값\n",
        "mo = get_mode_value(ages)        # 최빈값\n",
        "\n",
        "print(f'#조선의 왕: {names}')\n",
        "print(f'#왕들의 나이: {ages}')\n",
        "\n",
        "values, counts = get_data_count(ages)\n",
        "print(f'#데이터별 빈도: {list(zip(values, counts))}')\n",
        "\n",
        "print()\n",
        "print(f'#1.왕들의 평균나이   : {round(x_)}세')\n",
        "\n",
        "idx = ages.index( min(ages) ) # 값이 여러 개가 아니라는 가정\n",
        "print(f'2.수명이 가장 짧은 왕: {names[idx]}, {ages[idx]}세')\n",
        "\n",
        "idx = ages.index( max(ages) )\n",
        "print(f'3.수명이 가장 긴 왕  : {names[idx]}, {ages[idx]}세')\n",
        "\n",
        "print(f'4.왕들의 중앙값(나이): {round(me)}세')\n",
        "\n",
        "print(f\"5.왕들의 최빈값(나이): {[f'{k}세 ' for k, v in mo ] } \")"
      ]
    },
    {
      "cell_type": "markdown",
      "id": "5580fe92",
      "metadata": {
        "id": "5580fe92"
      },
      "source": [
        "### [실습문제] 산술평균, 중앙값, 최빈값 사이의 관계 설명\n",
        "벤처기업에 근무하는 직원  30명의 연령 자료에 대한 산술평균, 중앙값, 최빈값 사이의 관계 설명하기"
      ]
    },
    {
      "cell_type": "code",
      "execution_count": null,
      "id": "39fda502",
      "metadata": {
        "colab": {
          "base_uri": "https://localhost:8080/",
          "height": 306
        },
        "id": "39fda502",
        "outputId": "a7f9504c-8cff-42df-ba3f-d6e59c1ab936"
      },
      "outputs": [
        {
          "output_type": "stream",
          "name": "stdout",
          "text": [
            "계급수(K):6, R:28, 계급간격(w):5, 계급시작값(s):15.5\n",
            "계급:[15.5 20.5 25.5 30.5 35.5 40.5 45.5]\n"
          ]
        },
        {
          "output_type": "execute_result",
          "data": {
            "text/plain": [
              "             도수      상대도수  누적도수     누적상대도수   계급값\n",
              "계급간격                                            \n",
              "15.5 ~ 20.5   1  0.033333     1   0.033333  18.0\n",
              "20.5 ~ 25.5   7  0.233333     8   8.000000  23.0\n",
              "25.5 ~ 30.5  12  0.400000    20  20.000000  28.0\n",
              "30.5 ~ 35.5   4  0.133333    24  24.000000  33.0\n",
              "35.5 ~ 40.5   4  0.133333    28  28.000000  38.0\n",
              "40.5 ~ 45.5   2  0.066667    30  30.000000  43.0"
            ],
            "text/html": [
              "\n",
              "  <div id=\"df-7380dcd1-0a34-469c-8327-cc6d0a8b11d2\" class=\"colab-df-container\">\n",
              "    <div>\n",
              "<style scoped>\n",
              "    .dataframe tbody tr th:only-of-type {\n",
              "        vertical-align: middle;\n",
              "    }\n",
              "\n",
              "    .dataframe tbody tr th {\n",
              "        vertical-align: top;\n",
              "    }\n",
              "\n",
              "    .dataframe thead th {\n",
              "        text-align: right;\n",
              "    }\n",
              "</style>\n",
              "<table border=\"1\" class=\"dataframe\">\n",
              "  <thead>\n",
              "    <tr style=\"text-align: right;\">\n",
              "      <th></th>\n",
              "      <th>도수</th>\n",
              "      <th>상대도수</th>\n",
              "      <th>누적도수</th>\n",
              "      <th>누적상대도수</th>\n",
              "      <th>계급값</th>\n",
              "    </tr>\n",
              "    <tr>\n",
              "      <th>계급간격</th>\n",
              "      <th></th>\n",
              "      <th></th>\n",
              "      <th></th>\n",
              "      <th></th>\n",
              "      <th></th>\n",
              "    </tr>\n",
              "  </thead>\n",
              "  <tbody>\n",
              "    <tr>\n",
              "      <th>15.5 ~ 20.5</th>\n",
              "      <td>1</td>\n",
              "      <td>0.033333</td>\n",
              "      <td>1</td>\n",
              "      <td>0.033333</td>\n",
              "      <td>18.0</td>\n",
              "    </tr>\n",
              "    <tr>\n",
              "      <th>20.5 ~ 25.5</th>\n",
              "      <td>7</td>\n",
              "      <td>0.233333</td>\n",
              "      <td>8</td>\n",
              "      <td>8.000000</td>\n",
              "      <td>23.0</td>\n",
              "    </tr>\n",
              "    <tr>\n",
              "      <th>25.5 ~ 30.5</th>\n",
              "      <td>12</td>\n",
              "      <td>0.400000</td>\n",
              "      <td>20</td>\n",
              "      <td>20.000000</td>\n",
              "      <td>28.0</td>\n",
              "    </tr>\n",
              "    <tr>\n",
              "      <th>30.5 ~ 35.5</th>\n",
              "      <td>4</td>\n",
              "      <td>0.133333</td>\n",
              "      <td>24</td>\n",
              "      <td>24.000000</td>\n",
              "      <td>33.0</td>\n",
              "    </tr>\n",
              "    <tr>\n",
              "      <th>35.5 ~ 40.5</th>\n",
              "      <td>4</td>\n",
              "      <td>0.133333</td>\n",
              "      <td>28</td>\n",
              "      <td>28.000000</td>\n",
              "      <td>38.0</td>\n",
              "    </tr>\n",
              "    <tr>\n",
              "      <th>40.5 ~ 45.5</th>\n",
              "      <td>2</td>\n",
              "      <td>0.066667</td>\n",
              "      <td>30</td>\n",
              "      <td>30.000000</td>\n",
              "      <td>43.0</td>\n",
              "    </tr>\n",
              "  </tbody>\n",
              "</table>\n",
              "</div>\n",
              "    <div class=\"colab-df-buttons\">\n",
              "\n",
              "  <div class=\"colab-df-container\">\n",
              "    <button class=\"colab-df-convert\" onclick=\"convertToInteractive('df-7380dcd1-0a34-469c-8327-cc6d0a8b11d2')\"\n",
              "            title=\"Convert this dataframe to an interactive table.\"\n",
              "            style=\"display:none;\">\n",
              "\n",
              "  <svg xmlns=\"http://www.w3.org/2000/svg\" height=\"24px\" viewBox=\"0 -960 960 960\">\n",
              "    <path d=\"M120-120v-720h720v720H120Zm60-500h600v-160H180v160Zm220 220h160v-160H400v160Zm0 220h160v-160H400v160ZM180-400h160v-160H180v160Zm440 0h160v-160H620v160ZM180-180h160v-160H180v160Zm440 0h160v-160H620v160Z\"/>\n",
              "  </svg>\n",
              "    </button>\n",
              "\n",
              "  <style>\n",
              "    .colab-df-container {\n",
              "      display:flex;\n",
              "      gap: 12px;\n",
              "    }\n",
              "\n",
              "    .colab-df-convert {\n",
              "      background-color: #E8F0FE;\n",
              "      border: none;\n",
              "      border-radius: 50%;\n",
              "      cursor: pointer;\n",
              "      display: none;\n",
              "      fill: #1967D2;\n",
              "      height: 32px;\n",
              "      padding: 0 0 0 0;\n",
              "      width: 32px;\n",
              "    }\n",
              "\n",
              "    .colab-df-convert:hover {\n",
              "      background-color: #E2EBFA;\n",
              "      box-shadow: 0px 1px 2px rgba(60, 64, 67, 0.3), 0px 1px 3px 1px rgba(60, 64, 67, 0.15);\n",
              "      fill: #174EA6;\n",
              "    }\n",
              "\n",
              "    .colab-df-buttons div {\n",
              "      margin-bottom: 4px;\n",
              "    }\n",
              "\n",
              "    [theme=dark] .colab-df-convert {\n",
              "      background-color: #3B4455;\n",
              "      fill: #D2E3FC;\n",
              "    }\n",
              "\n",
              "    [theme=dark] .colab-df-convert:hover {\n",
              "      background-color: #434B5C;\n",
              "      box-shadow: 0px 1px 3px 1px rgba(0, 0, 0, 0.15);\n",
              "      filter: drop-shadow(0px 1px 2px rgba(0, 0, 0, 0.3));\n",
              "      fill: #FFFFFF;\n",
              "    }\n",
              "  </style>\n",
              "\n",
              "    <script>\n",
              "      const buttonEl =\n",
              "        document.querySelector('#df-7380dcd1-0a34-469c-8327-cc6d0a8b11d2 button.colab-df-convert');\n",
              "      buttonEl.style.display =\n",
              "        google.colab.kernel.accessAllowed ? 'block' : 'none';\n",
              "\n",
              "      async function convertToInteractive(key) {\n",
              "        const element = document.querySelector('#df-7380dcd1-0a34-469c-8327-cc6d0a8b11d2');\n",
              "        const dataTable =\n",
              "          await google.colab.kernel.invokeFunction('convertToInteractive',\n",
              "                                                    [key], {});\n",
              "        if (!dataTable) return;\n",
              "\n",
              "        const docLinkHtml = 'Like what you see? Visit the ' +\n",
              "          '<a target=\"_blank\" href=https://colab.research.google.com/notebooks/data_table.ipynb>data table notebook</a>'\n",
              "          + ' to learn more about interactive tables.';\n",
              "        element.innerHTML = '';\n",
              "        dataTable['output_type'] = 'display_data';\n",
              "        await google.colab.output.renderOutput(dataTable, element);\n",
              "        const docLink = document.createElement('div');\n",
              "        docLink.innerHTML = docLinkHtml;\n",
              "        element.appendChild(docLink);\n",
              "      }\n",
              "    </script>\n",
              "  </div>\n",
              "\n",
              "\n",
              "<div id=\"df-c4601530-fd71-465a-bb5e-c5251e9e6cf3\">\n",
              "  <button class=\"colab-df-quickchart\" onclick=\"quickchart('df-c4601530-fd71-465a-bb5e-c5251e9e6cf3')\"\n",
              "            title=\"Suggest charts\"\n",
              "            style=\"display:none;\">\n",
              "\n",
              "<svg xmlns=\"http://www.w3.org/2000/svg\" height=\"24px\"viewBox=\"0 0 24 24\"\n",
              "     width=\"24px\">\n",
              "    <g>\n",
              "        <path d=\"M19 3H5c-1.1 0-2 .9-2 2v14c0 1.1.9 2 2 2h14c1.1 0 2-.9 2-2V5c0-1.1-.9-2-2-2zM9 17H7v-7h2v7zm4 0h-2V7h2v10zm4 0h-2v-4h2v4z\"/>\n",
              "    </g>\n",
              "</svg>\n",
              "  </button>\n",
              "\n",
              "<style>\n",
              "  .colab-df-quickchart {\n",
              "      --bg-color: #E8F0FE;\n",
              "      --fill-color: #1967D2;\n",
              "      --hover-bg-color: #E2EBFA;\n",
              "      --hover-fill-color: #174EA6;\n",
              "      --disabled-fill-color: #AAA;\n",
              "      --disabled-bg-color: #DDD;\n",
              "  }\n",
              "\n",
              "  [theme=dark] .colab-df-quickchart {\n",
              "      --bg-color: #3B4455;\n",
              "      --fill-color: #D2E3FC;\n",
              "      --hover-bg-color: #434B5C;\n",
              "      --hover-fill-color: #FFFFFF;\n",
              "      --disabled-bg-color: #3B4455;\n",
              "      --disabled-fill-color: #666;\n",
              "  }\n",
              "\n",
              "  .colab-df-quickchart {\n",
              "    background-color: var(--bg-color);\n",
              "    border: none;\n",
              "    border-radius: 50%;\n",
              "    cursor: pointer;\n",
              "    display: none;\n",
              "    fill: var(--fill-color);\n",
              "    height: 32px;\n",
              "    padding: 0;\n",
              "    width: 32px;\n",
              "  }\n",
              "\n",
              "  .colab-df-quickchart:hover {\n",
              "    background-color: var(--hover-bg-color);\n",
              "    box-shadow: 0 1px 2px rgba(60, 64, 67, 0.3), 0 1px 3px 1px rgba(60, 64, 67, 0.15);\n",
              "    fill: var(--button-hover-fill-color);\n",
              "  }\n",
              "\n",
              "  .colab-df-quickchart-complete:disabled,\n",
              "  .colab-df-quickchart-complete:disabled:hover {\n",
              "    background-color: var(--disabled-bg-color);\n",
              "    fill: var(--disabled-fill-color);\n",
              "    box-shadow: none;\n",
              "  }\n",
              "\n",
              "  .colab-df-spinner {\n",
              "    border: 2px solid var(--fill-color);\n",
              "    border-color: transparent;\n",
              "    border-bottom-color: var(--fill-color);\n",
              "    animation:\n",
              "      spin 1s steps(1) infinite;\n",
              "  }\n",
              "\n",
              "  @keyframes spin {\n",
              "    0% {\n",
              "      border-color: transparent;\n",
              "      border-bottom-color: var(--fill-color);\n",
              "      border-left-color: var(--fill-color);\n",
              "    }\n",
              "    20% {\n",
              "      border-color: transparent;\n",
              "      border-left-color: var(--fill-color);\n",
              "      border-top-color: var(--fill-color);\n",
              "    }\n",
              "    30% {\n",
              "      border-color: transparent;\n",
              "      border-left-color: var(--fill-color);\n",
              "      border-top-color: var(--fill-color);\n",
              "      border-right-color: var(--fill-color);\n",
              "    }\n",
              "    40% {\n",
              "      border-color: transparent;\n",
              "      border-right-color: var(--fill-color);\n",
              "      border-top-color: var(--fill-color);\n",
              "    }\n",
              "    60% {\n",
              "      border-color: transparent;\n",
              "      border-right-color: var(--fill-color);\n",
              "    }\n",
              "    80% {\n",
              "      border-color: transparent;\n",
              "      border-right-color: var(--fill-color);\n",
              "      border-bottom-color: var(--fill-color);\n",
              "    }\n",
              "    90% {\n",
              "      border-color: transparent;\n",
              "      border-bottom-color: var(--fill-color);\n",
              "    }\n",
              "  }\n",
              "</style>\n",
              "\n",
              "  <script>\n",
              "    async function quickchart(key) {\n",
              "      const quickchartButtonEl =\n",
              "        document.querySelector('#' + key + ' button');\n",
              "      quickchartButtonEl.disabled = true;  // To prevent multiple clicks.\n",
              "      quickchartButtonEl.classList.add('colab-df-spinner');\n",
              "      try {\n",
              "        const charts = await google.colab.kernel.invokeFunction(\n",
              "            'suggestCharts', [key], {});\n",
              "      } catch (error) {\n",
              "        console.error('Error during call to suggestCharts:', error);\n",
              "      }\n",
              "      quickchartButtonEl.classList.remove('colab-df-spinner');\n",
              "      quickchartButtonEl.classList.add('colab-df-quickchart-complete');\n",
              "    }\n",
              "    (() => {\n",
              "      let quickchartButtonEl =\n",
              "        document.querySelector('#df-c4601530-fd71-465a-bb5e-c5251e9e6cf3 button');\n",
              "      quickchartButtonEl.style.display =\n",
              "        google.colab.kernel.accessAllowed ? 'block' : 'none';\n",
              "    })();\n",
              "  </script>\n",
              "</div>\n",
              "\n",
              "  <div id=\"id_09358196-223e-46fd-b513-3434d0c3af5c\">\n",
              "    <style>\n",
              "      .colab-df-generate {\n",
              "        background-color: #E8F0FE;\n",
              "        border: none;\n",
              "        border-radius: 50%;\n",
              "        cursor: pointer;\n",
              "        display: none;\n",
              "        fill: #1967D2;\n",
              "        height: 32px;\n",
              "        padding: 0 0 0 0;\n",
              "        width: 32px;\n",
              "      }\n",
              "\n",
              "      .colab-df-generate:hover {\n",
              "        background-color: #E2EBFA;\n",
              "        box-shadow: 0px 1px 2px rgba(60, 64, 67, 0.3), 0px 1px 3px 1px rgba(60, 64, 67, 0.15);\n",
              "        fill: #174EA6;\n",
              "      }\n",
              "\n",
              "      [theme=dark] .colab-df-generate {\n",
              "        background-color: #3B4455;\n",
              "        fill: #D2E3FC;\n",
              "      }\n",
              "\n",
              "      [theme=dark] .colab-df-generate:hover {\n",
              "        background-color: #434B5C;\n",
              "        box-shadow: 0px 1px 3px 1px rgba(0, 0, 0, 0.15);\n",
              "        filter: drop-shadow(0px 1px 2px rgba(0, 0, 0, 0.3));\n",
              "        fill: #FFFFFF;\n",
              "      }\n",
              "    </style>\n",
              "    <button class=\"colab-df-generate\" onclick=\"generateWithVariable('df')\"\n",
              "            title=\"Generate code using this dataframe.\"\n",
              "            style=\"display:none;\">\n",
              "\n",
              "  <svg xmlns=\"http://www.w3.org/2000/svg\" height=\"24px\"viewBox=\"0 0 24 24\"\n",
              "       width=\"24px\">\n",
              "    <path d=\"M7,19H8.4L18.45,9,17,7.55,7,17.6ZM5,21V16.75L18.45,3.32a2,2,0,0,1,2.83,0l1.4,1.43a1.91,1.91,0,0,1,.58,1.4,1.91,1.91,0,0,1-.58,1.4L9.25,21ZM18.45,9,17,7.55Zm-12,3A5.31,5.31,0,0,0,4.9,8.1,5.31,5.31,0,0,0,1,6.5,5.31,5.31,0,0,0,4.9,4.9,5.31,5.31,0,0,0,6.5,1,5.31,5.31,0,0,0,8.1,4.9,5.31,5.31,0,0,0,12,6.5,5.46,5.46,0,0,0,6.5,12Z\"/>\n",
              "  </svg>\n",
              "    </button>\n",
              "    <script>\n",
              "      (() => {\n",
              "      const buttonEl =\n",
              "        document.querySelector('#id_09358196-223e-46fd-b513-3434d0c3af5c button.colab-df-generate');\n",
              "      buttonEl.style.display =\n",
              "        google.colab.kernel.accessAllowed ? 'block' : 'none';\n",
              "\n",
              "      buttonEl.onclick = () => {\n",
              "        google.colab.notebook.generateWithVariable('df');\n",
              "      }\n",
              "      })();\n",
              "    </script>\n",
              "  </div>\n",
              "\n",
              "    </div>\n",
              "  </div>\n"
            ],
            "application/vnd.google.colaboratory.intrinsic+json": {
              "type": "dataframe",
              "variable_name": "df",
              "summary": "{\n  \"name\": \"df\",\n  \"rows\": 6,\n  \"fields\": [\n    {\n      \"column\": \"\\uacc4\\uae09\\uac04\\uaca9\",\n      \"properties\": {\n        \"dtype\": \"string\",\n        \"num_unique_values\": 6,\n        \"samples\": [\n          \"15.5 ~ 20.5\",\n          \"20.5 ~ 25.5\",\n          \"40.5 ~ 45.5\"\n        ],\n        \"semantic_type\": \"\",\n        \"description\": \"\"\n      }\n    },\n    {\n      \"column\": \"\\ub3c4\\uc218\",\n      \"properties\": {\n        \"dtype\": \"number\",\n        \"std\": 4,\n        \"min\": 1,\n        \"max\": 12,\n        \"num_unique_values\": 5,\n        \"samples\": [\n          7,\n          2,\n          12\n        ],\n        \"semantic_type\": \"\",\n        \"description\": \"\"\n      }\n    },\n    {\n      \"column\": \"\\uc0c1\\ub300\\ub3c4\\uc218\",\n      \"properties\": {\n        \"dtype\": \"number\",\n        \"std\": 0.13333333333333333,\n        \"min\": 0.03333333333333333,\n        \"max\": 0.4,\n        \"num_unique_values\": 5,\n        \"samples\": [\n          0.23333333333333334,\n          0.06666666666666667,\n          0.4\n        ],\n        \"semantic_type\": \"\",\n        \"description\": \"\"\n      }\n    },\n    {\n      \"column\": \"\\ub204\\uc801\\ub3c4\\uc218\",\n      \"properties\": {\n        \"dtype\": \"number\",\n        \"std\": 11,\n        \"min\": 1,\n        \"max\": 30,\n        \"num_unique_values\": 6,\n        \"samples\": [\n          1,\n          8,\n          30\n        ],\n        \"semantic_type\": \"\",\n        \"description\": \"\"\n      }\n    },\n    {\n      \"column\": \"\\ub204\\uc801\\uc0c1\\ub300\\ub3c4\\uc218\",\n      \"properties\": {\n        \"dtype\": \"number\",\n        \"std\": 11.883703438213502,\n        \"min\": 0.03333333333333333,\n        \"max\": 30.0,\n        \"num_unique_values\": 6,\n        \"samples\": [\n          0.03333333333333333,\n          8.0,\n          30.0\n        ],\n        \"semantic_type\": \"\",\n        \"description\": \"\"\n      }\n    },\n    {\n      \"column\": \"\\uacc4\\uae09\\uac12\",\n      \"properties\": {\n        \"dtype\": \"number\",\n        \"std\": 9.354143466934854,\n        \"min\": 18.0,\n        \"max\": 43.0,\n        \"num_unique_values\": 6,\n        \"samples\": [\n          18.0,\n          23.0,\n          43.0\n        ],\n        \"semantic_type\": \"\",\n        \"description\": \"\"\n      }\n    }\n  ]\n}"
            }
          },
          "metadata": {},
          "execution_count": 38
        }
      ],
      "source": [
        "import math\n",
        "import numpy as np\n",
        "import pandas as pd\n",
        "import matplotlib.pyplot as plt\n",
        "\n",
        "# 그래프 기본 설정\n",
        "plt.rcParams['figure.figsize'] = (5, 3)        # (가로,세로) 인치 단위\n",
        "plt.rcParams['axes.unicode_minus'] = False    # 그래프 눈금 값에서 (-)숫자표시\n",
        "plt.rcParams['lines.linewidth'] = 2            # 선 굵기\n",
        "plt.rcParams['font.family'] =  'NanumBarunGothic'\n",
        "\n",
        "def makeFrequencyTable(datas, k=5):\n",
        "    # 도수분포표 만들기 사전 과정\n",
        "    # k = 5                               # 1.계급 수\n",
        "    R = round(max(datas) - min(datas), 6) # 2.R : 최대측정값 - 최소측정값\n",
        "    w = math.ceil(R/k)                    # 3.계급 간격\n",
        "    s = min(datas) - 0.5                  # 4.시작 계급값\n",
        "    bins = np.arange(s, max(datas)+w+1, step=w)  #계급\n",
        "    index = [f'{bins[i]} ~ {bins[i+1]}' for i in range(len(bins)) if i<(len(bins)-1) ] # 계급 구간(index)\n",
        "    hist, bins = np.histogram(datas, bins)  # 계급 구간별 도수 데이터\n",
        "    print(f'계급수(K):{k}, R:{R}, 계급간격(w):{w}, 계급시작값(s):{s}')\n",
        "    print(f'계급:{bins}')\n",
        "\n",
        "\n",
        "    # 도수분포표 만들기\n",
        "    df = pd.DataFrame(hist, index=index, columns=['도수'])\n",
        "    df.index.name = '계급간격'\n",
        "\n",
        "    df['상대도수'] = [x/sum(hist) for x in hist]\n",
        "    df['누적도수'] = [sum(hist[:i+1]) if i>0 else hist[i] for i in range(k)]\n",
        "    df['누적상대도수'] = [sum(hist[:i+1]) if i>0 else df['상대도수'].values[i] for i in range(k)] # 오류고치기\n",
        "    df['계급값'] = [ (bins[x]+bins[x+1])/2 for x in range(k)]\n",
        "\n",
        "    return df\n",
        "\n",
        "\n",
        "datas = [31, 27, 25, 24, 21, 44, 36, 29, 35, 28,\n",
        "         16, 26, 21, 37, 26, 22, 30, 29, 40, 33,\n",
        "         35, 26, 22, 42, 25, 28, 39, 30, 27, 30]\n",
        "\n",
        "# 도수분포표 만들기\n",
        "df =  makeFrequencyTable(datas, k=6)\n",
        "df"
      ]
    },
    {
      "cell_type": "code",
      "execution_count": null,
      "id": "e208afe8",
      "metadata": {
        "scrolled": true,
        "colab": {
          "base_uri": "https://localhost:8080/",
          "height": 332
        },
        "id": "e208afe8",
        "outputId": "72a12917-e3e4-4e77-fa8c-dead20931076"
      },
      "outputs": [
        {
          "output_type": "display_data",
          "data": {
            "text/plain": [
              "<Figure size 500x300 with 1 Axes>"
            ],
            "image/png": "[encoded data removed]"
          },
          "metadata": {}
        }
      ],
      "source": [
        "def make_histogram(datas, x, y, width=10):\n",
        "    fig = plt.bar(x,y, width=width, edgecolor='w') # 막대그래프\n",
        "    plt.xticks(ticks=x, labels=x)\n",
        "\n",
        "    x_ = np.mean(datas)      # 평균값\n",
        "    me = round(np.median(datas))    # 중앙값\n",
        "    from collections import Counter\n",
        "    counts = Counter(datas)\n",
        "    mo = counts.most_common(1)[0][0]  # 최빈값\n",
        "\n",
        "    plt.axvline(x_, 0, max(y),\n",
        "                c='red', label=f'mean({x_})')     # # 평균값 표시\n",
        "    plt.annotate('평균', xy=(x_, 10), xytext=(50,10),\n",
        "                 fontsize=12,\n",
        "                 arrowprops=dict(facecolor='black', width=1, shrink=0.1, headwidth=5))\n",
        "\n",
        "    plt.axvline(me, 0, max(y),\n",
        "                c='green', label=f'median({me})') # 중앙값 표시\n",
        "\n",
        "    plt.axvline(mo, 0, max(y),\n",
        "                c='violet', label=f'mode({mo})')  # 최빈값 표시\n",
        "\n",
        "    plt.title('(도수)히스토그램')\n",
        "    plt.xlabel('계급값')\n",
        "    plt.ylabel('도수')\n",
        "\n",
        "    plt.legend()\n",
        "    plt.show()\n",
        "\n",
        "\n",
        "# 히스토그램 만들기\n",
        "x = df['계급값']\n",
        "y = df['도수']\n",
        "make_histogram(datas, x, y)"
      ]
    },
    {
      "cell_type": "code",
      "execution_count": null,
      "id": "86591001",
      "metadata": {
        "colab": {
          "base_uri": "https://localhost:8080/",
          "height": 309
        },
        "id": "86591001",
        "outputId": "984cd9ef-cddb-4d71-9779-0994030a3e6c"
      },
      "outputs": [
        {
          "output_type": "execute_result",
          "data": {
            "text/plain": [
              "<Axes: ylabel='Count'>"
            ]
          },
          "metadata": {},
          "execution_count": 40
        },
        {
          "output_type": "display_data",
          "data": {
            "text/plain": [
              "<Figure size 500x300 with 1 Axes>"
            ],
            "image/png": "[encoded data removed]"
          },
          "metadata": {}
        }
      ],
      "source": [
        "# seaborn 라이브러리로 히스토그램 그리기\n",
        "import seaborn as sns\n",
        "sns.histplot(datas, kde=True, bins=5)"
      ]
    },
    {
      "cell_type": "markdown",
      "id": "6ebc92e2",
      "metadata": {
        "id": "6ebc92e2"
      },
      "source": [
        "-------"
      ]
    },
    {
      "cell_type": "markdown",
      "id": "d77a5f76",
      "metadata": {
        "id": "d77a5f76"
      },
      "source": [
        "## 산포도\n",
        "중심으로부터 데이터가 흩어져 있는 정도(변이도)를 수치적으로 측정"
      ]
    },
    {
      "cell_type": "code",
      "execution_count": null,
      "id": "6355e22a",
      "metadata": {
        "colab": {
          "base_uri": "https://localhost:8080/"
        },
        "id": "6355e22a",
        "outputId": "b4687da6-e200-4cf7-bcd8-497383cf76bb"
      },
      "outputs": [
        {
          "output_type": "stream",
          "name": "stdout",
          "text": [
            "[ 18   5  10  23  19  -8  10   0   0   5   2  15   8   2   5   4  15  -1\n",
            "   4  -7 -24   7   9  -6  23 -13]\n"
          ]
        }
      ],
      "source": [
        "import numpy as np\n",
        "\n",
        "x = np.array([18,5,10,23,19,-8,10,0,0,5,2,15,8,2,5,4,15,-1,4,-7,-24,7,9,-6,23,-13])\n",
        "print(x)"
      ]
    },
    {
      "cell_type": "markdown",
      "id": "c01e3de1",
      "metadata": {
        "id": "c01e3de1"
      },
      "source": [
        "### - 분산(variance)\n",
        "평균을 중심으로 밀집되거나 퍼짐 정도를 나타내는 척도"
      ]
    },
    {
      "cell_type": "code",
      "execution_count": null,
      "id": "c460c850",
      "metadata": {
        "colab": {
          "base_uri": "https://localhost:8080/"
        },
        "id": "c460c850",
        "outputId": "e37007e4-147b-4982-9bbe-d5bb17cc9adb"
      },
      "outputs": [
        {
          "output_type": "stream",
          "name": "stdout",
          "text": [
            "분산: 115.23224852071006\n"
          ]
        }
      ],
      "source": [
        "print(f\"분산: {np.var(x)}\")"
      ]
    },
    {
      "cell_type": "markdown",
      "id": "20cd7c7c",
      "metadata": {
        "id": "20cd7c7c"
      },
      "source": [
        "### - 표준 편차(standard deviation)"
      ]
    },
    {
      "cell_type": "code",
      "execution_count": null,
      "id": "edac23c6",
      "metadata": {
        "colab": {
          "base_uri": "https://localhost:8080/"
        },
        "id": "edac23c6",
        "outputId": "fc8b06d8-232f-4ab2-b723-5ca15ed859bc"
      },
      "outputs": [
        {
          "output_type": "stream",
          "name": "stdout",
          "text": [
            "표준편자: 10.734628476137871\n"
          ]
        }
      ],
      "source": [
        "print(f\"표준편자: {np.std(x)}\")"
      ]
    },
    {
      "cell_type": "markdown",
      "id": "ce3c3884",
      "metadata": {
        "id": "ce3c3884"
      },
      "source": [
        " ### - 사분위수(quartile)\n",
        " - 백분위수(percentile): 수집한 자료를 크기순으로 나열할 때, 1%씩 등간격으로 구분하는 척도\n",
        " - 사분위수(quartiles): 수집한 자룔를 크기순으로 나열하여 4등분하는 척도, Q1, Q2, Q3, Q4 <br>\n",
        " - 자동 정렬 후 계산"
      ]
    },
    {
      "cell_type": "code",
      "execution_count": null,
      "id": "2a6d5128",
      "metadata": {
        "colab": {
          "base_uri": "https://localhost:8080/"
        },
        "id": "2a6d5128",
        "outputId": "17abae42-e782-40b1-af33-b4e6d8cd899a"
      },
      "outputs": [
        {
          "output_type": "stream",
          "name": "stdout",
          "text": [
            "  0%: -24.0\n",
            " 25%: 0.0\n",
            " 50%: 5.0\n",
            " 75%: 10.0\n",
            "100%: 23.0\n"
          ]
        }
      ],
      "source": [
        "print(f\"  0%: {np.percentile(x, 0)}\")  # 0% 해당하는 수\n",
        "print(f\" 25%: {np.percentile(x, 25)}\") # 25%,  1사분위 수\n",
        "print(f\" 50%: {np.percentile(x, 50)}\") # 50%, 2사분위 수\n",
        "print(f\" 75%: {np.percentile(x, 75)}\") # 75%, 3사분위 수\n",
        "print(f\"100%: {np.percentile(x, 100)}\")# 100%,  최대값"
      ]
    },
    {
      "cell_type": "markdown",
      "id": "9d6c5717",
      "metadata": {
        "id": "9d6c5717"
      },
      "source": [
        "### - 변동계수(coefficient of variation)\n",
        " - 측정단위가 동일한 두 자료집단: 평균이 큰 차이를 보이는 두 자료집단\n",
        " - 측정단위가 서로 다른 두 자료집단: 산포의 척도를 비교할 때 많이 사용한다."
      ]
    },
    {
      "cell_type": "code",
      "execution_count": null,
      "id": "e4ffd378",
      "metadata": {
        "colab": {
          "base_uri": "https://localhost:8080/"
        },
        "id": "e4ffd378",
        "outputId": "ead4ea10-8141-41c4-ebb6-96dcd3f0bbcc"
      },
      "outputs": [
        {
          "output_type": "stream",
          "name": "stdout",
          "text": [
            "mean: 163.50 std: 5.39\n",
            "#A 변동계수:  3.3\n",
            "mean: 12.03 std: 1.03\n",
            "#B 변동계수:  8.52\n"
          ]
        }
      ],
      "source": [
        "def get_cov(S, ddof=0):\n",
        "    M   = np.mean(S)            # 평균\n",
        "    STD = np.std(S, ddof=ddof)  # 표준편차\n",
        "    cov =  STD / M * 100        #변동계수\n",
        "    print('mean: %.2f'%M, 'std: %.2f'%STD) #소수점 2자리로 표현\n",
        "\n",
        "    return ( np.std(S, ddof=ddof) / np.mean(S) )* 100  #변동계수\n",
        "\n",
        "A = [171, 164, 167, 156, 159, 164]\n",
        "B = [11.5, 12.2, 12.0, 12.4, 13.6, 10.5]\n",
        "\n",
        "print(f'#A 변동계수: ', round(get_cov(A, ddof=1), 2))\n",
        "print(f'#B 변동계수: ', round(get_cov(B, ddof=1), 2) )"
      ]
    },
    {
      "cell_type": "markdown",
      "id": "7ac5f31b",
      "metadata": {
        "id": "7ac5f31b"
      },
      "source": [
        "### - 왜도(skewness)\n",
        "- 분포의 대칭이나 비대칭의 정도를 표시하는 척도\n",
        "- 정규분포로부터 얼마나 멀어져있는지를 보는 수치(왜도=0, 완전한 정규분포)\n",
        "- $\\alpha = 0$ :   완전한 정규분포\n",
        "- $\\alpha > 0$ :   왼쪽으로 치우친 분포\n",
        "- $\\alpha < 0$ :   오른쪽으로 치우친 분포"
      ]
    },
    {
      "cell_type": "markdown",
      "id": "145d4ce3",
      "metadata": {
        "id": "145d4ce3"
      },
      "source": [
        "### - 첨도(kurtosis)\n",
        "- 뽀족함의 정도를 나타내는 척도\n",
        "- 정규뷴포상에서 평균을 중심으로 집중화된 정도를 나타냄\n",
        "- $\\beta = 3$ :   뽀족한 정도가 정규분포와 같다\n",
        "- $\\beta > 3$ :   표준정규분포보다 정점이 높고 뽀족하다, 꼬리가 더 두꺼워짐\n",
        "- $\\beta < 3$ :   표준정규분포보다 정점이 낮고 완만하다, 꼬리가 더 얇아짐"
      ]
    },
    {
      "cell_type": "code",
      "execution_count": null,
      "id": "709d6485",
      "metadata": {
        "scrolled": true,
        "colab": {
          "base_uri": "https://localhost:8080/"
        },
        "id": "709d6485",
        "outputId": "68fac6fb-ea76-4ab4-e27f-003784986c95"
      },
      "outputs": [
        {
          "output_type": "stream",
          "name": "stdout",
          "text": [
            "Skewness:  0.3687197545758706\n",
            "Kurtosis:  -0.3854868247756933\n"
          ]
        }
      ],
      "source": [
        "# 왜도 & 첨도 구하기:  수학적 방법\n",
        "import numpy as np\n",
        "\n",
        "def skew_kurtosis(data):\n",
        "    mean = np.mean(data)\n",
        "    var = np.var(data)\n",
        "    std = np.sqrt(var)\n",
        "\n",
        "    # skewness\n",
        "    skew = np.sum((data - mean)**3) / (len(data) * std**3)\n",
        "    # kurtosis\n",
        "    kurt = np.sum((data - mean)**4) / (len(data) * std**4) - 3\n",
        "\n",
        "    return skew, kurt\n",
        "\n",
        "datas = [31, 27, 25, 24, 21, 44, 36, 29, 35, 28,\n",
        "         16, 26, 21, 37, 26, 22, 30, 29, 40, 33,\n",
        "         35, 26, 22, 42, 25, 28, 39, 30, 27, 30]\n",
        "\n",
        "skew, kurt = skew_kurtosis(datas)\n",
        "print(\"Skewness: \", skew)\n",
        "print(\"Kurtosis: \", kurt)"
      ]
    },
    {
      "cell_type": "markdown",
      "id": "d0ed56e9",
      "metadata": {
        "id": "d0ed56e9"
      },
      "source": [
        "### [실습문제] 산포도 구하기\n",
        "다음은 어느 정유회사에서 생산하는 자동차용 휘발유의 옥탄가 자료이다. 평균, 분산, 표준편차, 왜도, 첨도, 분포 형태 설명"
      ]
    },
    {
      "cell_type": "code",
      "execution_count": null,
      "id": "83399012",
      "metadata": {
        "colab": {
          "base_uri": "https://localhost:8080/"
        },
        "id": "83399012",
        "outputId": "170d6cc1-f3a9-4377-e5e5-39083bd75cc5"
      },
      "outputs": [
        {
          "output_type": "stream",
          "name": "stdout",
          "text": [
            "평   균 : 90.91886792452831\n",
            "분   산 : 13.741153435386261\n",
            "표준편차: 3.706906181087709\n",
            "왜   도 : 0.25305990239555565\n",
            "첨   도 : 0.17783815800195457\n"
          ]
        }
      ],
      "source": [
        "import numpy as np\n",
        "import matplotlib.pyplot as plt\n",
        "\n",
        "datas=[ 90.7, 90.0, 92.2, 91.0, 88.5, 87.8, 83.4, 82.1, 88.6, 100.2,\n",
        "        95.6, 93.3, 88.2, 91.0, 92.7, 93.2, 91.0, 93.4, 85.3, 88.6,\n",
        "        96.1, 98.9, 89.9, 89.8, 91.1, 89.7, 88.2, 93.7, 84.3, 97.9,\n",
        "        87.9, 90.1, 88.3, 93.3, 95.4, 91.6, 88.9, 92.6, 97.4, 87.4,\n",
        "        86.7, 90.4, 91.1, 92.6, 88.8, 89.3, 89.8, 89.2, 88.6, 89.0,\n",
        "        96.1, 95.6, 92.2 ]\n",
        "\n",
        "# 배열이 아닌 리스트를 넣어도 알아서 배열로 변형한후에 함수 계산해줌\n",
        "\n",
        "print(f\"평   균 : {np.mean(datas)}\")\n",
        "print(f\"분   산 : {np.var(datas)}\")\n",
        "print(f\"표준편차: {np.std(datas)}\")\n",
        "print(f\"왜   도 : {np.sum((datas - np.mean(datas))**3/(len(datas)*np.std(datas)**3))}\")\n",
        "print(f\"첨   도 : {np.sum((datas - np.mean(datas))**4/(len(datas)*np.std(datas)**4))-3}\")\n"
      ]
    },
    {
      "cell_type": "code",
      "execution_count": null,
      "id": "56a065e2",
      "metadata": {
        "scrolled": true,
        "colab": {
          "base_uri": "https://localhost:8080/",
          "height": 369
        },
        "id": "56a065e2",
        "outputId": "75ed4431-2cbc-48de-f5d6-5e2088003d13"
      },
      "outputs": [
        {
          "output_type": "stream",
          "name": "stdout",
          "text": [
            "계급수(K):5, R:18.1, 계급간격(w):4, 계급시작값(s):81.6\n",
            "계급:[ 81.6  85.6  89.6  93.6  97.6 101.6]\n"
          ]
        },
        {
          "output_type": "display_data",
          "data": {
            "text/plain": [
              "<Figure size 500x300 with 1 Axes>"
            ],
            "image/png": "[encoded data removed]"
          },
          "metadata": {}
        }
      ],
      "source": [
        "# 도수분포표 만들기\n",
        "df =  makeFrequencyTable(datas, k=5)\n",
        "x, y = df['계급값'], df['도수']\n",
        "make_histogram(datas, x, y, width=5)"
      ]
    },
    {
      "cell_type": "code",
      "execution_count": null,
      "id": "eaf480b4",
      "metadata": {
        "colab": {
          "base_uri": "https://localhost:8080/",
          "height": 291
        },
        "id": "eaf480b4",
        "outputId": "f57339d1-547c-45f4-ed3f-5ecc720d650f"
      },
      "outputs": [
        {
          "output_type": "display_data",
          "data": {
            "text/plain": [
              "<Figure size 500x300 with 1 Axes>"
            ],
            "image/png": "[encoded data removed]"
          },
          "metadata": {}
        }
      ],
      "source": [
        "# seaborn 라이브러리로 히스토그램 그리기\n",
        "import seaborn as sns\n",
        "sns.histplot(datas, kde=True, bins=5)\n",
        "# plt.show() # 객체이름 안보이게 plt가 선행모드같은"
      ]
    },
    {
      "cell_type": "markdown",
      "id": "2a4c2c1a",
      "metadata": {
        "id": "2a4c2c1a"
      },
      "source": [
        "### [실습문제] 변동계수 비교하기\n",
        "- data1 : 1부터 10 사이의 정수 100개 무작위 추출\n",
        "- data2 : 평균 1 이고, 표준편차가 1인 정규분포를 이루는 100개 무작위 추출"
      ]
    },
    {
      "cell_type": "code",
      "execution_count": null,
      "id": "208f326f",
      "metadata": {
        "id": "208f326f"
      },
      "outputs": [],
      "source": [
        "import numpy as np\n",
        "\n",
        "# 데이터 집단 만들기\n",
        "# 1부터 10 사이의 정수 100개 무작위 추출\n",
        "# 평균 1, 표준편차 1인 정규분포에서 100개 무작위 추출\n",
        "\n"
      ]
    },
    {
      "cell_type": "markdown",
      "id": "27291366",
      "metadata": {
        "id": "27291366"
      },
      "source": [
        "### [실습문제] 사분위수를 이용하여 위치 확인하기\n",
        "- 사분위수를 구하시오\n",
        "- 상자그림을 그리시오."
      ]
    },
    {
      "cell_type": "code",
      "execution_count": null,
      "id": "3da1e23b",
      "metadata": {
        "id": "3da1e23b"
      },
      "outputs": [],
      "source": [
        "import numpy as np\n",
        "\n",
        "datas = [26, 31, 27, 38, 42, 26, 18, 17, 25, 29,\n",
        "         39, 38, 38, 40, 46, 38, 39, 41, 41, 40,\n",
        "         26, 19, 39, 28, 45, 34, 21, 41, 30, 30,\n",
        "         12, 22, 48, 34, 29, 26, 29, 58, 43, 16,\n",
        "         42, 44, 38, 44, 28, 43, 39, 42, 39, 46]\n",
        "\n",
        "print(sorted(datas))\n",
        "\n",
        "Q1 =   # 1사분위\n",
        "Q2 =   # 2사분위\n",
        "Q3 =   # 3사분위\n",
        "Q4 =   # 4사분위\n",
        "\n",
        "print('1사분위(Q1: 25%):', Q1 )\n",
        "print('2사분위(Q2: 50%):', Q2 )\n",
        "print('3사분위(Q3: 75%):', Q3 )\n",
        "print('4사분위(Q4:100%):', Q4 )"
      ]
    },
    {
      "cell_type": "markdown",
      "id": "0553808c",
      "metadata": {
        "id": "0553808c"
      },
      "source": [
        "### 상자그림\n",
        " - Box Plot: 사분위수를 이용하여 수집한 자료에 포함된 **특이값**을 알려주는 그림\n",
        " - 두 개 이상의 자료 집단을 비교할 때 매우 유용\n",
        " - https://matplotlib.org/stable/api/_as_gen/matplotlib.pyplot.boxplot.html"
      ]
    },
    {
      "cell_type": "code",
      "execution_count": null,
      "id": "7ce273c7",
      "metadata": {
        "id": "7ce273c7"
      },
      "outputs": [],
      "source": []
    },
    {
      "cell_type": "markdown",
      "id": "adfea130",
      "metadata": {
        "id": "adfea130"
      },
      "source": [
        "### [실습문제] 위치척도와 상자그림"
      ]
    },
    {
      "cell_type": "code",
      "execution_count": null,
      "id": "ef7372fa",
      "metadata": {
        "colab": {
          "base_uri": "https://localhost:8080/",
          "height": 475
        },
        "id": "ef7372fa",
        "outputId": "adf652df-480a-49c2-e435-8bf87ae43ace"
      },
      "outputs": [
        {
          "output_type": "stream",
          "name": "stdout",
          "text": [
            "data1: [56, 90, 88, 87, 68, 32, 76, 54, 100, 41]\n",
            "data2: [8, 51, 70, 86, 2, 77, 81, 75, 64, 89]\n",
            "data3: [15, 55, 64, 95, 67, 67, 51, 58, 57, 89]\n",
            "\n",
            "ext_outlier      : []\n",
            "mid_outlier      : []\n",
            "ext_outlier      : []\n",
            "mid_outlier      : [8, 2]\n",
            "ext_outlier      : [15]\n",
            "mid_outlier      : [95, 89]\n"
          ]
        },
        {
          "output_type": "display_data",
          "data": {
            "text/plain": [
              "<Figure size 500x300 with 1 Axes>"
            ],
            "image/png": "[encoded data removed]"
          },
          "metadata": {}
        }
      ],
      "source": [
        "import numpy as np\n",
        "import matplotlib.pyplot as plt\n",
        "\n",
        "def get_outlier_data(datas):\n",
        "    Q1 = np.percentile(datas, 25).astype('int') # 1사분위 (편의상 정수로 만듦)\n",
        "    Q3 = np.percentile(datas, 75).astype('int')  # 3사분위\n",
        "    IQR = Q3 - Q1\n",
        "    fl = Q1 - 1.5*IQR  # lower inner fence\n",
        "    fu = Q3 + 1.5*IQR  # upper inner fence\n",
        "    fL = Q1 - 3*IQR    # lower outer fence\n",
        "    fU = Q3 + 3*IQR    # upper outer fence\n",
        "    mid_outlier = [x for x in datas if (fL<=x<=fl) or (fu<=x<=fU)] # mid ouetlier(보통 특이값)\n",
        "    ext_outlier = [x for x in datas if (fL>=x) or (fU<=x)]         # extreme outlier(특이값)\n",
        "#     print(f\"ordered data     : {sorted(datas)} \")\n",
        "#     print(f'lower inner fence: {fl}')\n",
        "#     print(f'upper inner fence: {fu}')\n",
        "#     print(f'lower outer fence: {fL}')\n",
        "    print(f'ext_outlier      : {ext_outlier}')\n",
        "    print(f'mid_outlier      : {mid_outlier}')\n",
        "\n",
        "\n",
        "\n",
        "data1 = [56,  90,  88,  87,  68,  32,  76,  54, 100,  41]  # 특이값 미 포함\n",
        "data2 = [8, 51, 70, 86,  2, 77, 81, 75, 64, 89]    # (보통)특이값 포함\n",
        "data3 = [15, 55, 64, 95, 67, 67, 51, 58, 57, 89]   # (보통)특이값 + 특이값 포함\n",
        "print(f'data1: {data1}')\n",
        "print(f'data2: {data2}')\n",
        "print(f'data3: {data3}')\n",
        "print()\n",
        "\n",
        "# outlier 값 찾기\n",
        "get_outlier_data(data1)\n",
        "get_outlier_data(data2)\n",
        "get_outlier_data(data3)\n",
        "\n",
        "# 상자그림 그리기\n",
        "plt.boxplot([data1, data2, data3], showmeans=True)\n",
        "plt.grid()\n",
        "plt.show()"
      ]
    },
    {
      "cell_type": "markdown",
      "id": "152f2e72",
      "metadata": {
        "id": "152f2e72"
      },
      "source": [
        "---------------"
      ]
    },
    {
      "cell_type": "markdown",
      "id": "29166f0d",
      "metadata": {
        "id": "29166f0d"
      },
      "source": [
        "### [실습문제] 산점도와 상관계수\n",
        "학생 건강검사 자료(2019년도 학생 건강검사 표본통계, 교육부) 중 서울지역 초등학교 3학년 남학생에 대한 표본에 대해 키와 몸무게를 이용하여 산점도를 나타내고 상관계수를 계산하시오."
      ]
    },
    {
      "cell_type": "code",
      "execution_count": null,
      "id": "30bb7f68",
      "metadata": {
        "id": "30bb7f68"
      },
      "outputs": [],
      "source": [
        "# 1. 데이터 확인\n",
        "\n"
      ]
    },
    {
      "cell_type": "code",
      "execution_count": null,
      "id": "c9e5c6a0",
      "metadata": {
        "scrolled": true,
        "id": "c9e5c6a0"
      },
      "outputs": [],
      "source": [
        "# 2. 산점도로 확인\n",
        "\n"
      ]
    },
    {
      "cell_type": "code",
      "execution_count": null,
      "id": "21c6b950",
      "metadata": {
        "id": "21c6b950"
      },
      "outputs": [],
      "source": [
        "# 상관계수(method='pearson') 확인\n"
      ]
    },
    {
      "cell_type": "markdown",
      "id": "8ae81d78",
      "metadata": {
        "id": "8ae81d78"
      },
      "source": [
        "----"
      ]
    },
    {
      "cell_type": "markdown",
      "id": "1842bf9a",
      "metadata": {
        "id": "1842bf9a"
      },
      "source": [
        "### **회귀분석(regression analysis)**\n",
        "- 변수가 **다른 변수에 영향을 미치는 관계를 식별**하기 위한 통계적 방법\n",
        "- 두 변수 간의 관계를 파악하여 **한 변수의 값으로부터 그에 대응하는 다른 변수의 값을 예측**하고자 할 때 사용하는 통계적 방법\n",
        "<br><br>\n",
        "- **독립변수(independent variable)** : 다른 변수에 영향을 주는 변수, 설명변수(explanatory variable)\n",
        "- **종속변수(dependent variable)** : 영향을 받는 변수, 반응변수(response variable)"
      ]
    },
    {
      "cell_type": "markdown",
      "id": "e9adbf01",
      "metadata": {
        "id": "e9adbf01"
      },
      "source": [
        "### 단순선형회귀모형(simple linear regression model) : 직선회귀모형\n",
        "\n",
        " - $y_i = a + bx_i + e_i$   $(e_i ~ N(0,\\sigma^2), i=1,2,...,n)$ <br><br>\n",
        " - $a, b$ : 모회귀계수\n",
        " - $x_i$  : 독립변수(설명변수), $y_i$:종속변수(반응변수)\n",
        " - $e_i$  : $N(0,\\sigma^2)$을 따르는 확률변수(오차항) <br><br>\n",
        " -- **==> 모회귀계수 $a, b$를 추정함으로서 회귀직선을 추정할 수 있다!**"
      ]
    },
    {
      "cell_type": "markdown",
      "id": "cc5fb8ea",
      "metadata": {
        "id": "cc5fb8ea"
      },
      "source": [
        "### [실습문제] 단순 회귀분석"
      ]
    },
    {
      "cell_type": "code",
      "execution_count": null,
      "id": "6bb4855b",
      "metadata": {
        "id": "6bb4855b"
      },
      "outputs": [],
      "source": [
        "# 1. 데이터 확인\n",
        "import pandas as pd\n",
        "\n",
        "cm = 2.54  # 키데이터를  inch --> cm로 변환하기 위해\n",
        "df = pd.read_excel('./data/Galtons Height Data_딸.xlsx')\n",
        "df['father'] = df.father * cm\n",
        "df['daughter'] = df.daughter * cm\n",
        "\n",
        "df"
      ]
    },
    {
      "cell_type": "code",
      "execution_count": null,
      "id": "e52ffbea",
      "metadata": {
        "scrolled": true,
        "id": "e52ffbea"
      },
      "outputs": [],
      "source": [
        "# 2. 산점도(추정된 회귀직선 표시) 확인\n",
        "# 방법: seaborn 사용하기\n",
        "import matplotlib.pyplot as plt\n",
        "import seaborn as sns\n",
        "\n",
        "sns.regplot(x=df.father, y=df.daughter)\n",
        "plt.xlabel('father')\n",
        "plt.ylabel('daughter')\n",
        "plt.show()"
      ]
    },
    {
      "cell_type": "code",
      "execution_count": null,
      "id": "96166c8f",
      "metadata": {
        "scrolled": true,
        "id": "96166c8f"
      },
      "outputs": [],
      "source": [
        "# 3. 결정계수 구하기\n",
        "# 방법: statsmodels 사용하기\n",
        "from statsmodels.formula.api import ols\n",
        "\n",
        "model = ols('df.daughter ~ df.father', data=df).fit() #ols('종속변수명 ~ 독립변수명', data=데이터프레임객체)\n",
        "\n",
        "print(f'결정계수: {model.rsquared: .4f}')\n",
        "\n",
        "model.summary() # 모델 요약"
      ]
    },
    {
      "cell_type": "code",
      "execution_count": null,
      "id": "95f9e573",
      "metadata": {
        "id": "95f9e573"
      },
      "outputs": [],
      "source": [
        "# 추정된 회귀직선 표시\n",
        "# 방법1: 직접 그리기\n",
        "target_pred = model.predict()\n",
        "\n",
        "plt.scatter(df.father, df.daughter, marker='o', label='$MEDV_i$ 실제 관측치')\n",
        "plt.plot(df.father, target_pred, color = 'g', label='$\\hat{MEDV}_i$ 회귀선')\n",
        "plt.hlines(df.daughter.mean(), df.father.min(), df.father.max(), color = 'r', label='$MEDV_i$ 평균선')\n",
        "plt.legend()\n",
        "plt.xlabel('df.father')\n",
        "plt.ylabel('df.daughter')\n",
        "plt.show()"
      ]
    },
    {
      "cell_type": "code",
      "execution_count": null,
      "id": "ff1be3da",
      "metadata": {
        "scrolled": true,
        "id": "ff1be3da"
      },
      "outputs": [],
      "source": [
        "# 추정된 회귀직선 표시\n",
        "# 방법2: seaborn regplot()함수 사용\n",
        "sns.regplot(x=df.father, y=df.daughter)\n",
        "plt.xlabel('아빠')\n",
        "plt.ylabel('딸')\n",
        "plt.title('추정회귀직선')\n",
        "plt.show()"
      ]
    },
    {
      "cell_type": "markdown",
      "id": "2c95c8aa",
      "metadata": {
        "id": "2c95c8aa"
      },
      "source": [
        "-------------------"
      ]
    },
    {
      "cell_type": "markdown",
      "id": "ca78f79c",
      "metadata": {
        "id": "ca78f79c"
      },
      "source": [
        "## 사이킷런을 이용한 선형회귀 모델"
      ]
    },
    {
      "cell_type": "markdown",
      "id": "784e8552",
      "metadata": {
        "id": "784e8552"
      },
      "source": [
        "### 사이킷런(Scikit-learn)\n",
        "- **대표적인 머신러닝 라이브러리** : https://scikit-learn.org/\n",
        "- 2007년 구글 하계 코드 프로젝트 모임에 참여한 개발자들 중심으로 시작된 오픈 소스 개발 방식 라이브러리\n",
        "- 딥러닝 프레임워크는 제공 안함\n",
        "\n",
        "#### 머신러닝을 위해서는 필요한 것 5가지\n",
        "- 1.데이터준비(데이터셋): 특성과 테이블(optional)로 이루어진 데이터\n",
        "- 2.모델선정: 데이터를 바탕으로 동자기 결정되는 모델\n",
        "- 3.하이퍼파라미터: 모델 설정 위해 학습에 사용되는 파라미터 (ex: learning rate, 훈련반복횟수, 가중치 초기화 값 등)\n",
        "- 4.학습:  학습을 위한 훈련단계\n",
        "- 5.검증: 검증의 여러 단계"
      ]
    },
    {
      "cell_type": "markdown",
      "id": "a9b33ef6",
      "metadata": {
        "id": "a9b33ef6"
      },
      "source": [
        "#### 선형 회귀분석 모델의 예측력 향상에 좋은 **4가지 기본 가정**\n",
        "- 1.**선형성**:   독립변수와 종속변수 간의 분포 관계가 **선형의 관계**를 가진다.\n",
        "- 2.**독립성**:   독립성은 다중 회귀분석의 중요한 기본 가정으로 독립변수와 다른 독립변수 간의 **상관관계가 적을 경우** 선형 회귀 모델의 예측력이 좋아진다.\n",
        "- 3.**등분산성**: 분산이란 데이터의 분포 정도에 대한 척도인데, 데이터가 특정한 패턴 없이 **고르게 분포**하는 것이, 특정한 좁은 구간에만 집중해서 분포하는 것보다 더 나은 예측을 보인다.\n",
        "- 4.**정규성**:   잔차(residual)란 회귀직선과 관측값과의 차이인데, 오차(error)라고도 한다. 이 **차이(오차)가 정규성을 만족**해야 한다."
      ]
    },
    {
      "cell_type": "markdown",
      "id": "2f06dd42",
      "metadata": {
        "id": "2f06dd42"
      },
      "source": [
        "### [실습문제] 사이킷런으로 선형회귀직선(추정회귀직선) 구하기\n",
        "간단 데이터를 이용하여 선형회귀직선 구하기"
      ]
    },
    {
      "cell_type": "code",
      "execution_count": null,
      "id": "992e4973",
      "metadata": {
        "id": "992e4973"
      },
      "outputs": [],
      "source": [
        "import pandas as pd\n",
        "import numpy as np\n",
        "from sklearn import linear_model\n",
        "\n",
        "# 1. 데이터 준비\n",
        "data = {'X':[1, 1, 2, 3, 4, 4, 5, 6, 6, 8],\n",
        "        'Y':[2, 3, 4, 5, 7, 8, 10, 11, 12, 15]}\n",
        "df = pd.DataFrame(data)\n",
        "\n",
        "# 2. 학습모델 선정\n",
        "model = linear_model.LinearRegression()  # 선형회귀모델\n",
        "\n",
        "# 3. 하이퍼파라미터\n",
        "\n",
        "# 4. 학습\n",
        "X = [[i] for i in df.X]  # 사이킷런에서 독립변수(X)값은 2차원 형태로 만들어줘야한다.\n",
        "Y = df.Y\n",
        "model.fit(X, Y)\n",
        "\n",
        "# 5. 검증\n",
        "# y = ax + b\n",
        "coef = model.coef_               # 직선의 기울기(a)\n",
        "intercept = model.intercept_     # 직선의 절편(b)\n",
        "score = model.score(X, Y)        # 추정된 회귀직선의 정확도(결정계수 r2)\n",
        "print(f\"선형회귀직선: y = {coef[0]:.2f}x + {intercept: .2f}\")\n",
        "print(f\"선형회귀직선의 관계점수(R2): {score: .2f}\")"
      ]
    },
    {
      "cell_type": "markdown",
      "id": "449c833c",
      "metadata": {
        "id": "449c833c"
      },
      "source": [
        "### [실습문제] 키로 몸무게 추정하는 선형회귀 모델\n",
        "- 167cm 남학생의 몸무게는?\n",
        "- 167cm 여학생의 몸무게는?"
      ]
    },
    {
      "cell_type": "code",
      "execution_count": null,
      "id": "dd1a1870",
      "metadata": {
        "id": "dd1a1870"
      },
      "outputs": [],
      "source": [
        "import pandas as pd\n",
        "import numpy as np\n",
        "from sklearn import linear_model\n",
        "\n",
        "# 1. 데이터 준비\n",
        "df = pd.read_excel('./data/키와몸무게.xlsx')\n",
        "df\n",
        "\n",
        "# 2. 학습모델 선정\n",
        "model = linear_model.LinearRegression()  # 선형회귀모델\n",
        "\n",
        "# 3. 하이퍼파라미터\n",
        "\n",
        "# 4. 학습\n",
        "X = df[['키','구분']]  # 구분: 남자 0, 여자 1\n",
        "Y = df.몸무게\n",
        "model.fit(X.values, Y)  # X 대신 X.values (warnings.warn 메시지 안나오게 하려면)\n",
        "\n",
        "# 5. 검증\n",
        "# y = ax + b\n",
        "coef = model.coef_               # 직선의 기울기(a)\n",
        "intercept = model.intercept_     # 직선의 절편(b)\n",
        "score = model.score(X, Y)        # 추정된 회귀직선의 정확도(결정계수 r2)\n",
        "print(f\"선형회귀직선: y = {coef[0]:.2f}x + {intercept: .2f}\")\n",
        "print(f\"선형회귀직선의 관계점수(R2): {score: .2f}\")\n",
        "print(f\"167cm 남학생 추정 몸무게: {model.predict([[167,0]])}\")\n",
        "print(f\"167cm 여학생 추정 몸무게: {model.predict([[167,1]])}\")\n",
        "print(f\"167cm 남학생, 여학생의 추정 몸무게: {model.predict([[167,0], [167,1]])}\")"
      ]
    },
    {
      "cell_type": "markdown",
      "id": "c3d77ca2",
      "metadata": {
        "id": "c3d77ca2"
      },
      "source": [
        "--------------------"
      ]
    },
    {
      "cell_type": "markdown",
      "id": "4ac233c6",
      "metadata": {
        "id": "4ac233c6"
      },
      "source": [
        "### [실습문제] 사이킷런으로 상관분석하기 :  국가별 기대수명\n",
        "- Data : https://www.kaggle.com/datasets/kumarajarshi/life-expectancy-who\n",
        "- WHO 데이터 : 2000 ~ 2015년 나라별 기대수명과 보건 예산, 질병 통계, 비만도 등"
      ]
    },
    {
      "cell_type": "code",
      "execution_count": null,
      "id": "4645b2ae",
      "metadata": {
        "id": "4645b2ae"
      },
      "outputs": [],
      "source": [
        "import pandas as pd\n",
        "import numpy as np\n",
        "import seaborn as sns\n",
        "import matplotlib.pyplot as plt\n",
        "from sklearn import linear_model\n",
        "\n",
        "# 1. 데이터 준비\n",
        "df = pd.read_csv('./data/life_expectancy.csv')\n",
        "df.head()"
      ]
    },
    {
      "cell_type": "code",
      "execution_count": null,
      "id": "14339cd7",
      "metadata": {
        "id": "14339cd7"
      },
      "outputs": [],
      "source": [
        "# 컬럼간 상관관계 확인\n",
        "df.dropna(inplace=True)   # 결측치 제거\n",
        "# df = df.query(\"Year==2015\")\n",
        "df\n",
        "correlation_matrix = df.corr(numeric_only=True).round(2)\n",
        "sns.set(rc={'figure.figsize':(22, 20)})\n",
        "sns.heatmap(data=correlation_matrix, annot=True)\n",
        "plt.show()"
      ]
    },
    {
      "cell_type": "code",
      "execution_count": null,
      "id": "cdead940",
      "metadata": {
        "id": "cdead940"
      },
      "outputs": [],
      "source": [
        "# 기대수명과 피어슨 상관계수 높은 컬럼 선택\n",
        "print('기대수명과 상관계수 높은 변수')\n",
        "c = df.corr(numeric_only=True).round(3)['Life expectancy']\n",
        "c = np.abs( c ) # 상관계수 절대값\n",
        "\n",
        "c.sort_values(ascending=True, inplace=True)  # 오름차순 정렬\n",
        "c = c[:-1]   # 자기 자신을 제외\n",
        "\n",
        "# 시각화\n",
        "plt.barh(c.index, c.values)\n",
        "plt.title('Correlation Coef with Life expectancy')\n",
        "plt.xlabel('Features')\n",
        "plt.ylabel('Correlation Coef')\n",
        "plt.show()"
      ]
    },
    {
      "cell_type": "code",
      "execution_count": null,
      "id": "db9ac4d0",
      "metadata": {
        "id": "db9ac4d0"
      },
      "outputs": [],
      "source": [
        "# 기대수명과 피어슨 상관계수 높은 컬럼 선택\n",
        "# 조건 검색\n",
        "c = c[c.values > 0.5]     # 상관계수 0.5 이상인 값 추출\n",
        "c.sort_values(ascending=False, inplace=True)  # 내림차순 정렬\n",
        "print(f'기대수명과 상관관계 높은 컬럼 : {c.index.to_list()}' )            # 컬럼명\n",
        "\n",
        "# 시각화\n",
        "sns.pairplot(df[c.index.to_list()])\n",
        "plt.show()"
      ]
    },
    {
      "cell_type": "code",
      "execution_count": null,
      "id": "05f5725c",
      "metadata": {
        "id": "05f5725c"
      },
      "outputs": [],
      "source": [
        "# 선형회귀모델 점수 확인\n",
        "X = df[c.index.to_list()]\n",
        "Y = df['Life expectancy']\n",
        "\n",
        "from sklearn.linear_model import LinearRegression\n",
        "from sklearn.model_selection import train_test_split\n",
        "\n",
        "X_train, X_test, y_train, y_test = train_test_split(X, Y, test_size=0.2)\n",
        "\n",
        "model = LinearRegression()\n",
        "model.fit(X_train, y_train)\n",
        "print(f'선형회귀모델 점수 = {model.score(X_test, y_test): .3f}')\n"
      ]
    },
    {
      "cell_type": "markdown",
      "id": "a4c9300a",
      "metadata": {
        "id": "a4c9300a"
      },
      "source": [
        "---------------------------"
      ]
    },
    {
      "cell_type": "markdown",
      "id": "fede246a",
      "metadata": {
        "id": "fede246a"
      },
      "source": [
        "THE END"
      ]
    }
  ],
  "metadata": {
    "colab": {
      "provenance": [],
      "include_colab_link": true
    },
    "kernelspec": {
      "display_name": "Python 3 (ipykernel)",
      "language": "python",
      "name": "python3"
    },
    "language_info": {
      "codemirror_mode": {
        "name": "ipython",
        "version": 3
      },
      "file_extension": ".py",
      "mimetype": "text/x-python",
      "name": "python",
      "nbconvert_exporter": "python",
      "pygments_lexer": "ipython3",
      "version": "3.12.1"
    },
    "vscode": {
      "interpreter": {
        "hash": "b41e41bff03a930185ac2cbea60ce521f7c8c2f5401ceb5c30214081f77ab4f5"
      }
    }
  },
  "nbformat": 4,
  "nbformat_minor": 5
}