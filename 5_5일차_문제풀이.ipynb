{
  "nbformat": 4,
  "nbformat_minor": 0,
  "metadata": {
    "colab": {
      "provenance": [],
      "authorship_tag": "ABX9TyPoBUuaLPJEV9xUQJ8c+068",
      "include_colab_link": true
    },
    "kernelspec": {
      "name": "python3",
      "display_name": "Python 3"
    },
    "language_info": {
      "name": "python"
    }
  },
  "cells": [
    {
      "cell_type": "markdown",
      "metadata": {
        "id": "view-in-github",
        "colab_type": "text"
      },
      "source": [
        "<a href=\"https://colab.research.google.com/github/y109240/dataAnalysis/blob/main/5_5%EC%9D%BC%EC%B0%A8_%EB%AC%B8%EC%A0%9C%ED%92%80%EC%9D%B4.ipynb\" target=\"_parent\"><img src=\"https://colab.research.google.com/assets/colab-badge.svg\" alt=\"Open In Colab\"/></a>"
      ]
    },
    {
      "cell_type": "markdown",
      "source": [],
      "metadata": {
        "id": "_JaqbuVspBrt"
      }
    },
    {
      "cell_type": "markdown",
      "source": [
        "**숙제**\n",
        "- 이자율, 3의 배수의 합, 두배 별 출력, 구구단 출력\n",
        "- 공이 튕긴 횟수 구하기, 도둑잡기 게임, 무인 호텔 관리 프로그램\n",
        "- 거북이 그림 : 원, 벌집, 얼굴\n"
      ],
      "metadata": {
        "id": "YKF2zHnMpFB1"
      }
    },
    {
      "cell_type": "code",
      "source": [
        "# 1000만원을 년 이자율 7%로 저금했을 경우 2000만원이 되는데 몇년이 걸리는지 계산하는 프로그램\n",
        "money = 10000000\n",
        "year = 0\n",
        "while money < 20000000:\n",
        "  year += 1\n",
        "  money += money * 0.07\n",
        "print(f\"1000만원이 2000만원이 되기 위해 {year}년이 걸립니다.\")"
      ],
      "metadata": {
        "colab": {
          "base_uri": "https://localhost:8080/"
        },
        "id": "-CiHXpp3paLA",
        "outputId": "67c07db7-017a-4876-e041-cdae993b4ff4"
      },
      "execution_count": null,
      "outputs": [
        {
          "output_type": "stream",
          "name": "stdout",
          "text": [
            "1000만원이 2000만원이 되기 위해 11년이 걸립니다.\n"
          ]
        }
      ]
    },
    {
      "cell_type": "code",
      "source": [
        "# 반복문을 사용해 1부터 1000까지의 자연수 중에서 3의 배수의 합을 구해보자.\n",
        "# for\n",
        "sum_3 = 0\n",
        "for i in range(1, 1001):\n",
        "  if i % 3 == 0:\n",
        "    sum_3 += i\n",
        "print(sum_3)\n",
        "\n",
        "sum_3 = sum([i for i in range(1, 1001) if i % 3 ==0])\n",
        "print(sum_3)"
      ],
      "metadata": {
        "colab": {
          "base_uri": "https://localhost:8080/"
        },
        "id": "T-PGw9PaqQdt",
        "outputId": "6718dda0-2ada-4454-882f-0fe1fc595933"
      },
      "execution_count": null,
      "outputs": [
        {
          "output_type": "stream",
          "name": "stdout",
          "text": [
            "166833\n",
            "166833\n"
          ]
        }
      ]
    },
    {
      "cell_type": "code",
      "source": [
        "# 반복문을 사용해 1부터 1000까지의 자연수 중에서 3의 배수의 합을 구해보자.\n",
        "# while\n",
        "sum_3 = 0\n",
        "i = 0\n",
        "while i < 1000//3:\n",
        "  i += 1\n",
        "  sum_3 += i*3\n",
        "print(sum_3)\n",
        "\n",
        "while True:\n"
      ],
      "metadata": {
        "colab": {
          "base_uri": "https://localhost:8080/"
        },
        "id": "5aB9o6vb8y6I",
        "outputId": "20dfc33f-0608-4e4a-8e5b-c47e832f1c5f"
      },
      "execution_count": null,
      "outputs": [
        {
          "output_type": "stream",
          "name": "stdout",
          "text": [
            "166833\n"
          ]
        }
      ]
    },
    {
      "cell_type": "code",
      "source": [
        "# # 반복문을 사용해 1부터 1000까지의 자연수 중에서 3의 배수의 합을 구해보자.\n",
        "# 리스트 컴프리헨션\n",
        "sum_3 = sum([i for i in range(1, 1001) if i % 3 ==0])\n",
        "print(sum_3)"
      ],
      "metadata": {
        "colab": {
          "base_uri": "https://localhost:8080/"
        },
        "id": "145B-G4bLGZF",
        "outputId": "18216ad5-dc30-4ddc-da95-8207e6649bf8"
      },
      "execution_count": null,
      "outputs": [
        {
          "output_type": "stream",
          "name": "stdout",
          "text": [
            "166833\n"
          ]
        }
      ]
    },
    {
      "cell_type": "code",
      "source": [
        "# 사용자가 숫자를 입력하면 두배만큼 별을 출력하기\n",
        "num = list(input(\"숫자를 여러개 입력하세요: \"))\n",
        "\n",
        "for i in num:\n",
        "  print(\"*\" * 2 * int(i))"
      ],
      "metadata": {
        "colab": {
          "base_uri": "https://localhost:8080/"
        },
        "id": "qVw99vDMLbeb",
        "outputId": "9ef5a48d-63f9-426a-b8c4-58329cf6f64b"
      },
      "execution_count": null,
      "outputs": [
        {
          "output_type": "stream",
          "name": "stdout",
          "text": [
            "숫자를 여러개 입력하세요: 5915\n",
            "**********\n",
            "******************\n",
            "**\n",
            "**********\n"
          ]
        }
      ]
    },
    {
      "cell_type": "code",
      "source": [
        "# 구구단 출력해 보기\n",
        "# 세로 출력\n",
        "for i in range(2, 10):\n",
        "  print(f\"----{i}단----\")\n",
        "  for j in range(1, 10):\n",
        "    print(f\"{i} x {j} = {i*j:>2}\")"
      ],
      "metadata": {
        "id": "jODQRNa8L6Ez"
      },
      "execution_count": null,
      "outputs": []
    },
    {
      "cell_type": "code",
      "source": [
        "# 구구단 출력해 보기\n",
        "# 가로 출력\n",
        "for _ in range(2, 10): print(f\"----{_}단----\", end=\"\\t\")\n",
        "print()\n",
        "for i in range(1, 10):\n",
        "  for j in range(2, 10):\n",
        "    print(f\"{j} x {i} = {i*j}\", end=\"\\t\")\n",
        "  print()"
      ],
      "metadata": {
        "colab": {
          "base_uri": "https://localhost:8080/"
        },
        "id": "uohdndgEMpII",
        "outputId": "01590be9-60b4-4a73-fa22-341f1307be92"
      },
      "execution_count": 12,
      "outputs": [
        {
          "output_type": "stream",
          "name": "stdout",
          "text": [
            "----2단----\t----3단----\t----4단----\t----5단----\t----6단----\t----7단----\t----8단----\t----9단----\t\n",
            "2 x 1 = 2\t3 x 1 = 3\t4 x 1 = 4\t5 x 1 = 5\t6 x 1 = 6\t7 x 1 = 7\t8 x 1 = 8\t9 x 1 = 9\t\n",
            "2 x 2 = 4\t3 x 2 = 6\t4 x 2 = 8\t5 x 2 = 10\t6 x 2 = 12\t7 x 2 = 14\t8 x 2 = 16\t9 x 2 = 18\t\n",
            "2 x 3 = 6\t3 x 3 = 9\t4 x 3 = 12\t5 x 3 = 15\t6 x 3 = 18\t7 x 3 = 21\t8 x 3 = 24\t9 x 3 = 27\t\n",
            "2 x 4 = 8\t3 x 4 = 12\t4 x 4 = 16\t5 x 4 = 20\t6 x 4 = 24\t7 x 4 = 28\t8 x 4 = 32\t9 x 4 = 36\t\n",
            "2 x 5 = 10\t3 x 5 = 15\t4 x 5 = 20\t5 x 5 = 25\t6 x 5 = 30\t7 x 5 = 35\t8 x 5 = 40\t9 x 5 = 45\t\n",
            "2 x 6 = 12\t3 x 6 = 18\t4 x 6 = 24\t5 x 6 = 30\t6 x 6 = 36\t7 x 6 = 42\t8 x 6 = 48\t9 x 6 = 54\t\n",
            "2 x 7 = 14\t3 x 7 = 21\t4 x 7 = 28\t5 x 7 = 35\t6 x 7 = 42\t7 x 7 = 49\t8 x 7 = 56\t9 x 7 = 63\t\n",
            "2 x 8 = 16\t3 x 8 = 24\t4 x 8 = 32\t5 x 8 = 40\t6 x 8 = 48\t7 x 8 = 56\t8 x 8 = 64\t9 x 8 = 72\t\n",
            "2 x 9 = 18\t3 x 9 = 27\t4 x 9 = 36\t5 x 9 = 45\t6 x 9 = 54\t7 x 9 = 63\t8 x 9 = 72\t9 x 9 = 81\t\n"
          ]
        }
      ]
    },
    {
      "cell_type": "code",
      "source": [
        "# 공이 튕긴 횟수 구하기"
      ],
      "metadata": {
        "id": "4hlFsQEWIOJP"
      },
      "execution_count": null,
      "outputs": []
    },
    {
      "cell_type": "code",
      "source": [
        "# 도둑잡기 게임?\n",
        "'''방문을 열때마다 무작위로 범인이 이동\n",
        "방문을 열었을때 범인이 있으면 100점, 종료\n",
        "없으면 -10점, 찾을때까지 반복함'''\n",
        "\n",
        "import random\n",
        "score = 0\n",
        "\n",
        "while True:\n",
        "  thief = random.choice([\"A\", \"B\", \"C\"])\n",
        "  user = input(\"A, B, C 세개의 방중에서 범인이 있는 방을 찾아주세요: \").upper()\n",
        "  if user not in [\"A\", \"B\", \"C\"]:\n",
        "    print(\"A, B, C 세개의 방중에서 선택해 주세요.\")\n",
        "    continue\n",
        "  if thief == user:\n",
        "    score += 100\n",
        "    print(f\"[{score}점] {thief}방에서 범인 체포!\")\n",
        "    break\n",
        "  else:\n",
        "    score -= 10\n",
        "    print(f\"[{score}점] 범인을 잡지 못했습니다.\")"
      ],
      "metadata": {
        "id": "OYvCy9s7IRp2"
      },
      "execution_count": null,
      "outputs": []
    },
    {
      "cell_type": "code",
      "source": [
        "# 무인 호텔 관리 프로그램\n",
        "menu = '''< 메뉴 >\n",
        "1. 체크인\n",
        "2. 체크아웃\n",
        "3. 현황 보기\n",
        "0. 종료하기'''\n",
        "\n",
        "room_count = int(input(\"총 방의 갯수를 입력해 주세요: \"))\n",
        "\n",
        "room_list = [0 for _ in range(room_count)]\n",
        "\n",
        "while True:\n",
        "  print(menu)\n",
        "  user = int(input(\"메뉴를 선택해 주세요: \"))\n",
        "\n",
        "  # 체크인\n",
        "  if user == 1:\n",
        "    checkin = int(input(\"입실하실 방을 선택해 주세요: \")) -1\n",
        "    if room_list[checkin] == 1:\n",
        "      print(\"입실중인 방은 체크인할수 없습니다.\")\n",
        "    else:\n",
        "      room_list[checkin] = 1\n",
        "      print(f\"{checkin+1}번방 입실 완료\")\n",
        "\n",
        "  # 체크아웃\n",
        "  if user == 2:\n",
        "    checkout = int(input(\"퇴실하실 방을 선택해 주세요: \")) -1\n",
        "    if room_list[checkout] == 0:\n",
        "      print(\"빈방은 체크아웃 할수없습니다.\")\n",
        "    else:\n",
        "      room_list[checkout] = 0\n",
        "      print(f\"{checkout+1}번방 퇴실 완료\")\n",
        "\n",
        "  # 방 현황 보기\n",
        "  if user == 3:\n",
        "    for idx, i in enumerate(room_list):\n",
        "      room = \"빈 방\" if i == 0 else \"입실 중\"\n",
        "      print(f\"{idx+1}호 : {room}\")\n",
        "\n",
        "  if user == 0:\n",
        "    print(\"종료합니다.\")\n",
        "    break\n"
      ],
      "metadata": {
        "id": "b0ogbIpBIYuK"
      },
      "execution_count": null,
      "outputs": []
    }
  ]
}