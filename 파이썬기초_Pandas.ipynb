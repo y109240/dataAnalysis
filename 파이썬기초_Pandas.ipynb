{
  "cells": [
    {
      "cell_type": "markdown",
      "metadata": {
        "colab_type": "text",
        "id": "view-in-github"
      },
      "source": [
        "<a href=\"https://colab.research.google.com/github/y109240/dataAnalysis/blob/main/11%EC%9D%BC%EC%B0%A8_%ED%8C%8C%EC%9D%B4%EC%8D%AC%EA%B8%B0%EC%B4%88_Pandas.ipynb\" target=\"_parent\"><img src=\"https://colab.research.google.com/assets/colab-badge.svg\" alt=\"Open In Colab\"/></a>"
      ]
    },
    {
      "cell_type": "markdown",
      "id": "6c983c03",
      "metadata": {
        "id": "6c983c03"
      },
      "source": [
        "# Pandas\n",
        "교재: 데이터 과학을 위한 파이썬 머신러닝(Chapter4)"
      ]
    },
    {
      "cell_type": "markdown",
      "id": "9476178e",
      "metadata": {
        "id": "9476178e"
      },
      "source": [
        "- <a href=\"#04.1판다스란\">04.1 판다스란</a>\n",
        "- <a href=\"#04.2데이터추출\">04.2 데이터 추출</a>\n",
        "- <a href=\"#04.3그룹별집계\">04.3 그룹별 집계</a>\n",
        "- <a href=\"#04.4병합과연결\">04.4 병합과 연결</a>"
      ]
    },
    {
      "cell_type": "markdown",
      "id": "330e9146",
      "metadata": {
        "id": "330e9146"
      },
      "source": [
        "---------------"
      ]
    },
    {
      "cell_type": "markdown",
      "id": "07cd7ca1",
      "metadata": {
        "id": "07cd7ca1"
      },
      "source": [
        "### 라이브러리 설치"
      ]
    },
    {
      "cell_type": "code",
      "execution_count": null,
      "id": "10194609",
      "metadata": {
        "id": "10194609"
      },
      "outputs": [],
      "source": [
        "!pip install pandas"
      ]
    },
    {
      "cell_type": "code",
      "execution_count": null,
      "id": "13fe60b5",
      "metadata": {
        "id": "13fe60b5",
        "scrolled": true
      },
      "outputs": [],
      "source": [
        "!pip show panads"
      ]
    },
    {
      "cell_type": "code",
      "execution_count": null,
      "id": "deda294d",
      "metadata": {
        "id": "deda294d"
      },
      "outputs": [],
      "source": [
        "import pandas as pd\n",
        "pd.__version__"
      ]
    },
    {
      "cell_type": "markdown",
      "id": "455016db",
      "metadata": {
        "id": "455016db"
      },
      "source": [
        "------------------------------"
      ]
    },
    {
      "cell_type": "markdown",
      "id": "dd312d9d",
      "metadata": {
        "id": "dd312d9d"
      },
      "source": [
        "## <a name=\"04.1판다스란\">04.1 판다스란</a>"
      ]
    },
    {
      "cell_type": "markdown",
      "id": "eba0ff10",
      "metadata": {
        "id": "eba0ff10"
      },
      "source": [
        "### 1. 판다스의 개념\n",
        "- https://pandas.pydata.org/\n",
        "- 파이썬의 데이터 분석 라이브러리\n",
        "- 데이터 테이블(data table)을 다루는 도구\n",
        "- 넘파이를 사용, 판다스는 넘파이를 효율적으로 사용하기 위해 인덱싱, 연산, 전처리 등 다양한 함수 제공\n",
        "- **데이터프레임(DataFrame)** : 데이터 테이블 전체 객체\n",
        "- **시리즈(Series)** : 각 열 데이터를 다루는 객체\n",
        "- 10 minutes to pandas : https://pandas.pydata.org/docs/user_guide/10min.html"
      ]
    },
    {
      "cell_type": "markdown",
      "id": "c8a48e86",
      "metadata": {
        "id": "c8a48e86"
      },
      "source": [
        "### 2. 시리즈 객체\n",
        "- 피쳐 벡터(feature vector)와 같은 개념\n",
        "- 데이터프레임(DataFrame) 안에 포함된 열(colume)들을 지칭할 수 있음\n",
        "- list, dict, ndarray 등 다양한 데이터 타입이 시리즈 객체 형태로 변환되기도 함"
      ]
    },
    {
      "cell_type": "markdown",
      "id": "fb78336b",
      "metadata": {
        "id": "fb78336b"
      },
      "source": [
        "### [예제] Series 객체"
      ]
    },
    {
      "cell_type": "code",
      "execution_count": null,
      "id": "c9db6096",
      "metadata": {
        "id": "c9db6096"
      },
      "outputs": [],
      "source": [
        "# from pandas import Series\n",
        "import pandas as pd\n",
        "import numpy as np\n",
        "\n",
        "list_data = [1, 2, 3, 4, 5]\n",
        "list_name = [\"a\", \"b\", \"c\", \"d\", \"e\"]\n",
        "sample = pd.Series(data=list_data, index=list_name)\n",
        "\n",
        "print(f\"sample        :\\n{sample}\")\n",
        "print(f\"sample.index  : {sample.index}\")\n",
        "print(f\"sample.valuex : {sample.values}\")\n",
        "print(f\"sample.dtype  : {sample.dtype}\")\n",
        "print(f\"type(sample.values) : {type(sample.values)}\")"
      ]
    },
    {
      "cell_type": "markdown",
      "id": "ed88770b",
      "metadata": {
        "id": "ed88770b"
      },
      "source": [
        "### Series 객체 생성\n",
        "- 판다스의 모든 객체는 인덱스 값을 기준으로 생성"
      ]
    },
    {
      "cell_type": "code",
      "execution_count": null,
      "id": "f13952a6",
      "metadata": {
        "id": "f13952a6"
      },
      "outputs": [],
      "source": [
        "dict_data = {\"a\":1, \"b\":2, \"c\":3, \"d\":4, \"e\":5}\n",
        "sample = pd.Series(dict_data, dtype=np.float32, name=\"sample_data\")\n",
        "sample"
      ]
    },
    {
      "cell_type": "code",
      "execution_count": null,
      "id": "1b99e493",
      "metadata": {
        "id": "1b99e493",
        "scrolled": true
      },
      "outputs": [],
      "source": [
        "dict_data = {\"a\":1, \"b\":2, \"c\":3, \"d\":4, \"e\":5}\n",
        "indexes = [\"a\", \"b\", \"c\", \"d\", \"e\", \"f\", \"g\", \"h\"]\n",
        "sample = pd.Series(dict_data, index=indexes)\n",
        "sample"
      ]
    },
    {
      "cell_type": "markdown",
      "id": "53efb3ba",
      "metadata": {
        "id": "53efb3ba"
      },
      "source": [
        "------------------"
      ]
    },
    {
      "cell_type": "markdown",
      "id": "9969a1c0",
      "metadata": {
        "id": "9969a1c0"
      },
      "source": [
        "### 3. 데이터프레임 객체\n",
        "- 데이터 테이블 전체를 지칭하는 객체\n",
        "- 넘파이 배열의 특성을 그대로 가짐\n",
        "- 인덱싱 : 열과 행 각각 사용하여 하나의 데이터에 접근"
      ]
    },
    {
      "cell_type": "markdown",
      "id": "13e63980",
      "metadata": {
        "id": "13e63980"
      },
      "source": [
        "### [예제] Pandas로 다양한 파일 읽어오기"
      ]
    },
    {
      "cell_type": "markdown",
      "id": "434b662f",
      "metadata": {
        "id": "434b662f"
      },
      "source": [
        "#### 1.txt 데이터 Pandas DataFrame으로 나타내기"
      ]
    },
    {
      "cell_type": "code",
      "execution_count": null,
      "id": "46c555bd",
      "metadata": {
        "colab": {
          "base_uri": "https://localhost:8080/",
          "height": 175
        },
        "id": "46c555bd",
        "outputId": "a00ac4a9-d72a-41bc-a0b3-2d8ca971813c"
      },
      "outputs": [
        {
          "name": "stdout",
          "output_type": "stream",
          "text": [
            "            제목                      영어제목            저자    언어         출판년도\n",
            "0     두 도시 이야기      A Tale of Two Cities        찰스 디킨스    영어         1859\n",
            "1        어린 왕자           Le Petit Prince   앙투안 드 생텍쥐페리  프랑스어         1943\n",
            "2       반지의 제왕     The Lord of the Rings   J. R. R. 톨킨    영어  1954 ~ 1955\n",
            "3  그리고 아무도 없었다  And Then There Were None      애거사 크리스티    영어         1939\n",
            "4           호빗                The Hobbit   J. R. R. 톨킨    영어         1937\n"
          ]
        },
        {
          "data": {
            "text/html": [
              "<div>\n",
              "<style scoped>\n",
              "    .dataframe tbody tr th:only-of-type {\n",
              "        vertical-align: middle;\n",
              "    }\n",
              "\n",
              "    .dataframe tbody tr th {\n",
              "        vertical-align: top;\n",
              "    }\n",
              "\n",
              "    .dataframe thead th {\n",
              "        text-align: right;\n",
              "    }\n",
              "</style>\n",
              "<table border=\"1\" class=\"dataframe\">\n",
              "  <thead>\n",
              "    <tr style=\"text-align: right;\">\n",
              "      <th></th>\n",
              "      <th>제목</th>\n",
              "      <th>영어제목</th>\n",
              "      <th>저자</th>\n",
              "      <th>언어</th>\n",
              "      <th>출판년도</th>\n",
              "    </tr>\n",
              "  </thead>\n",
              "  <tbody>\n",
              "    <tr>\n",
              "      <th>0</th>\n",
              "      <td>두 도시 이야기</td>\n",
              "      <td>A Tale of Two Cities</td>\n",
              "      <td>찰스 디킨스</td>\n",
              "      <td>영어</td>\n",
              "      <td>1859</td>\n",
              "    </tr>\n",
              "    <tr>\n",
              "      <th>1</th>\n",
              "      <td>어린 왕자</td>\n",
              "      <td>Le Petit Prince</td>\n",
              "      <td>앙투안 드 생텍쥐페리</td>\n",
              "      <td>프랑스어</td>\n",
              "      <td>1943</td>\n",
              "    </tr>\n",
              "    <tr>\n",
              "      <th>2</th>\n",
              "      <td>반지의 제왕</td>\n",
              "      <td>The Lord of the Rings</td>\n",
              "      <td>J. R. R. 톨킨</td>\n",
              "      <td>영어</td>\n",
              "      <td>1954 ~ 1955</td>\n",
              "    </tr>\n",
              "    <tr>\n",
              "      <th>3</th>\n",
              "      <td>그리고 아무도 없었다</td>\n",
              "      <td>And Then There Were None</td>\n",
              "      <td>애거사 크리스티</td>\n",
              "      <td>영어</td>\n",
              "      <td>1939</td>\n",
              "    </tr>\n",
              "    <tr>\n",
              "      <th>4</th>\n",
              "      <td>호빗</td>\n",
              "      <td>The Hobbit</td>\n",
              "      <td>J. R. R. 톨킨</td>\n",
              "      <td>영어</td>\n",
              "      <td>1937</td>\n",
              "    </tr>\n",
              "  </tbody>\n",
              "</table>\n",
              "</div>"
            ],
            "text/plain": [
              "            제목                      영어제목            저자    언어         출판년도\n",
              "0     두 도시 이야기      A Tale of Two Cities        찰스 디킨스    영어         1859\n",
              "1        어린 왕자           Le Petit Prince   앙투안 드 생텍쥐페리  프랑스어         1943\n",
              "2       반지의 제왕     The Lord of the Rings   J. R. R. 톨킨    영어  1954 ~ 1955\n",
              "3  그리고 아무도 없었다  And Then There Were None      애거사 크리스티    영어         1939\n",
              "4           호빗                The Hobbit   J. R. R. 톨킨    영어         1937"
            ]
          },
          "execution_count": 7,
          "metadata": {},
          "output_type": "execute_result"
        }
      ],
      "source": [
        "DIR = \"./data/\"\n",
        "df = pd.read_table(f'{DIR}book.txt', sep=',',\n",
        "                    names=['제목', '영어제목', '저자', '국적', '출판년도'])\n",
        "df"
      ]
    },
    {
      "cell_type": "markdown",
      "id": "c96e8007",
      "metadata": {
        "id": "c96e8007"
      },
      "source": [
        "#### 2.csv 데이터 Pandas DataFrame으로 나타내기"
      ]
    },
    {
      "cell_type": "code",
      "execution_count": null,
      "id": "767c72d3",
      "metadata": {
        "id": "767c72d3",
        "outputId": "a9f42c19-3aae-4d6b-ae50-73546e03a063"
      },
      "outputs": [
        {
          "data": {
            "text/html": [
              "<div>\n",
              "<style scoped>\n",
              "    .dataframe tbody tr th:only-of-type {\n",
              "        vertical-align: middle;\n",
              "    }\n",
              "\n",
              "    .dataframe tbody tr th {\n",
              "        vertical-align: top;\n",
              "    }\n",
              "\n",
              "    .dataframe thead th {\n",
              "        text-align: right;\n",
              "    }\n",
              "</style>\n",
              "<table border=\"1\" class=\"dataframe\">\n",
              "  <thead>\n",
              "    <tr style=\"text-align: right;\">\n",
              "      <th></th>\n",
              "      <th>행정구역별</th>\n",
              "      <th>2020</th>\n",
              "      <th>2021</th>\n",
              "      <th>2022</th>\n",
              "    </tr>\n",
              "  </thead>\n",
              "  <tbody>\n",
              "    <tr>\n",
              "      <th>0</th>\n",
              "      <td>전국</td>\n",
              "      <td>516.2</td>\n",
              "      <td>515.2</td>\n",
              "      <td>514.6</td>\n",
              "    </tr>\n",
              "    <tr>\n",
              "      <th>1</th>\n",
              "      <td>서울특별시</td>\n",
              "      <td>15839.0</td>\n",
              "      <td>15650.1</td>\n",
              "      <td>15560.7</td>\n",
              "    </tr>\n",
              "    <tr>\n",
              "      <th>2</th>\n",
              "      <td>부산광역시</td>\n",
              "      <td>4348.9</td>\n",
              "      <td>4316.4</td>\n",
              "      <td>4272.8</td>\n",
              "    </tr>\n",
              "    <tr>\n",
              "      <th>3</th>\n",
              "      <td>대구광역시</td>\n",
              "      <td>2728.6</td>\n",
              "      <td>2702.2</td>\n",
              "      <td>2673.7</td>\n",
              "    </tr>\n",
              "    <tr>\n",
              "      <th>4</th>\n",
              "      <td>인천광역시</td>\n",
              "      <td>2765.1</td>\n",
              "      <td>2772.8</td>\n",
              "      <td>2801.3</td>\n",
              "    </tr>\n",
              "    <tr>\n",
              "      <th>5</th>\n",
              "      <td>광주광역시</td>\n",
              "      <td>2948.5</td>\n",
              "      <td>2944.0</td>\n",
              "      <td>2931.9</td>\n",
              "    </tr>\n",
              "    <tr>\n",
              "      <th>6</th>\n",
              "      <td>대전광역시</td>\n",
              "      <td>2758.1</td>\n",
              "      <td>2742.8</td>\n",
              "      <td>2730.7</td>\n",
              "    </tr>\n",
              "    <tr>\n",
              "      <th>7</th>\n",
              "      <td>울산광역시</td>\n",
              "      <td>1069.0</td>\n",
              "      <td>1055.0</td>\n",
              "      <td>1044.9</td>\n",
              "    </tr>\n",
              "    <tr>\n",
              "      <th>8</th>\n",
              "      <td>세종특별자치시</td>\n",
              "      <td>761.3</td>\n",
              "      <td>787.7</td>\n",
              "      <td>822.9</td>\n",
              "    </tr>\n",
              "    <tr>\n",
              "      <th>9</th>\n",
              "      <td>경기도</td>\n",
              "      <td>1325.3</td>\n",
              "      <td>1338.9</td>\n",
              "      <td>1344.9</td>\n",
              "    </tr>\n",
              "    <tr>\n",
              "      <th>10</th>\n",
              "      <td>강원도</td>\n",
              "      <td>90.4</td>\n",
              "      <td>90.4</td>\n",
              "      <td>90.8</td>\n",
              "    </tr>\n",
              "    <tr>\n",
              "      <th>11</th>\n",
              "      <td>충청북도</td>\n",
              "      <td>220.3</td>\n",
              "      <td>219.4</td>\n",
              "      <td>219.4</td>\n",
              "    </tr>\n",
              "    <tr>\n",
              "      <th>12</th>\n",
              "      <td>충청남도</td>\n",
              "      <td>264.0</td>\n",
              "      <td>263.8</td>\n",
              "      <td>265.9</td>\n",
              "    </tr>\n",
              "    <tr>\n",
              "      <th>13</th>\n",
              "      <td>전라북도</td>\n",
              "      <td>223.4</td>\n",
              "      <td>221.4</td>\n",
              "      <td>219.8</td>\n",
              "    </tr>\n",
              "    <tr>\n",
              "      <th>14</th>\n",
              "      <td>전라남도</td>\n",
              "      <td>144.9</td>\n",
              "      <td>143.9</td>\n",
              "      <td>143.3</td>\n",
              "    </tr>\n",
              "    <tr>\n",
              "      <th>15</th>\n",
              "      <td>경상북도</td>\n",
              "      <td>138.9</td>\n",
              "      <td>138.4</td>\n",
              "      <td>137.7</td>\n",
              "    </tr>\n",
              "    <tr>\n",
              "      <th>16</th>\n",
              "      <td>경상남도</td>\n",
              "      <td>316.2</td>\n",
              "      <td>313.6</td>\n",
              "      <td>311.2</td>\n",
              "    </tr>\n",
              "    <tr>\n",
              "      <th>17</th>\n",
              "      <td>제주특별자치도</td>\n",
              "      <td>362.6</td>\n",
              "      <td>363.8</td>\n",
              "      <td>365.6</td>\n",
              "    </tr>\n",
              "  </tbody>\n",
              "</table>\n",
              "</div>"
            ],
            "text/plain": [
              "      행정구역별     2020     2021     2022\n",
              "0        전국    516.2    515.2    514.6\n",
              "1     서울특별시  15839.0  15650.1  15560.7\n",
              "2     부산광역시   4348.9   4316.4   4272.8\n",
              "3     대구광역시   2728.6   2702.2   2673.7\n",
              "4     인천광역시   2765.1   2772.8   2801.3\n",
              "5     광주광역시   2948.5   2944.0   2931.9\n",
              "6     대전광역시   2758.1   2742.8   2730.7\n",
              "7     울산광역시   1069.0   1055.0   1044.9\n",
              "8   세종특별자치시    761.3    787.7    822.9\n",
              "9       경기도   1325.3   1338.9   1344.9\n",
              "10      강원도     90.4     90.4     90.8\n",
              "11     충청북도    220.3    219.4    219.4\n",
              "12     충청남도    264.0    263.8    265.9\n",
              "13     전라북도    223.4    221.4    219.8\n",
              "14     전라남도    144.9    143.9    143.3\n",
              "15     경상북도    138.9    138.4    137.7\n",
              "16     경상남도    316.2    313.6    311.2\n",
              "17  제주특별자치도    362.6    363.8    365.6"
            ]
          },
          "execution_count": 9,
          "metadata": {},
          "output_type": "execute_result"
        }
      ],
      "source": [
        "df = pd.read_csv(f'{DIR}인구밀도.csv', encoding='cp949')\n",
        "df.head(7)\n",
        "df.head(-3)"
      ]
    },
    {
      "cell_type": "markdown",
      "id": "t0wTzAduO6hk",
      "metadata": {
        "id": "t0wTzAduO6hk"
      },
      "source": [
        "#### 3.Excel 시트 Pandas DataFrame으로 나타내기"
      ]
    },
    {
      "cell_type": "code",
      "execution_count": null,
      "id": "a3c7dcb7",
      "metadata": {
        "id": "a3c7dcb7"
      },
      "outputs": [],
      "source": [
        "!pip install openpyxl"
      ]
    },
    {
      "cell_type": "markdown",
      "id": "nDna7CDnSoPY",
      "metadata": {
        "id": "nDna7CDnSoPY"
      },
      "source": [
        "##### 1.전체 시트(sheet) 가져오기"
      ]
    },
    {
      "cell_type": "code",
      "execution_count": null,
      "id": "6R4Agf3uO32N",
      "metadata": {
        "id": "6R4Agf3uO32N"
      },
      "outputs": [],
      "source": [
        "import pandas as pd\n",
        "\n",
        "# 전체 시트 가져오기\n",
        "df = pd.read_excel(f'{DIR}인구밀도_인구주택총조사기준.xlsx', sheet_name=None)\n",
        "\n",
        "df                  # 시트가 여러개일 경우 딕셔너리 형태로\n",
        "df['전체'].head(3)   # 특정 시트를 지정할 경우 데이터프레임 형태로"
      ]
    },
    {
      "cell_type": "markdown",
      "id": "foTGCoMTTSEx",
      "metadata": {
        "id": "foTGCoMTTSEx"
      },
      "source": [
        "##### 2.특정 시트(sheet) 가져오기"
      ]
    },
    {
      "cell_type": "code",
      "execution_count": null,
      "id": "a81OQvEeTSvp",
      "metadata": {
        "id": "a81OQvEeTSvp"
      },
      "outputs": [],
      "source": [
        "df = pd.read_excel(f'{DIR}인구밀도_인구주택총조사기준.xlsx', sheet_name=\"2021\")\n",
        "df.head(3) # 시트가 한개일 경우 데이터프레임 형태로"
      ]
    },
    {
      "cell_type": "markdown",
      "id": "2LfA2DJXTTPW",
      "metadata": {
        "id": "2LfA2DJXTTPW"
      },
      "source": [
        "##### 3.여러 시트(sheet) 가져오기"
      ]
    },
    {
      "cell_type": "code",
      "execution_count": null,
      "id": "ulUDC-jtTThG",
      "metadata": {
        "id": "ulUDC-jtTThG"
      },
      "outputs": [],
      "source": [
        "# 시트 이름으로 가져오기\n",
        "df = pd.read_excel(f'{DIR}인구밀도_인구주택총조사기준.xlsx', sheet_name=[\"2021\", \"2022\"])\n",
        "df                  # 시트가 여러개일 경우 닥셔너리 형태로\n",
        "df[\"2022\"].head(3)  # 특정 시트를 지정할 경우 데이터프레임 형태로"
      ]
    },
    {
      "cell_type": "code",
      "execution_count": null,
      "id": "WpFPWWAcWRb7",
      "metadata": {
        "id": "WpFPWWAcWRb7"
      },
      "outputs": [],
      "source": [
        "# 시트 번호로 가져오기 (0번부터 시작)\n",
        "df = pd.read_excel(f'{DIR}인구밀도_인구주택총조사기준.xlsx', sheet_name=[1, \"2022\"])\n",
        "df\n",
        "df[1].head(3)"
      ]
    },
    {
      "cell_type": "markdown",
      "id": "432937e7",
      "metadata": {
        "id": "432937e7"
      },
      "source": [
        "#### 4.Remote URL의 CSV 데이터 Pandas DataFrame으로 나타내기"
      ]
    },
    {
      "cell_type": "code",
      "execution_count": null,
      "id": "2065b3dd",
      "metadata": {
        "id": "2065b3dd",
        "outputId": "8b081ae4-948c-43c8-ae29-019ee0cecc5b",
        "scrolled": false
      },
      "outputs": [
        {
          "data": {
            "text/html": [
              "<div>\n",
              "<style scoped>\n",
              "    .dataframe tbody tr th:only-of-type {\n",
              "        vertical-align: middle;\n",
              "    }\n",
              "\n",
              "    .dataframe tbody tr th {\n",
              "        vertical-align: top;\n",
              "    }\n",
              "\n",
              "    .dataframe thead th {\n",
              "        text-align: right;\n",
              "    }\n",
              "</style>\n",
              "<table border=\"1\" class=\"dataframe\">\n",
              "  <thead>\n",
              "    <tr style=\"text-align: right;\">\n",
              "      <th></th>\n",
              "      <th>0</th>\n",
              "      <th>1</th>\n",
              "      <th>2</th>\n",
              "      <th>3</th>\n",
              "      <th>4</th>\n",
              "    </tr>\n",
              "  </thead>\n",
              "  <tbody>\n",
              "    <tr>\n",
              "      <th>0</th>\n",
              "      <td>5.1</td>\n",
              "      <td>3.5</td>\n",
              "      <td>1.4</td>\n",
              "      <td>0.2</td>\n",
              "      <td>Iris-setosa</td>\n",
              "    </tr>\n",
              "    <tr>\n",
              "      <th>1</th>\n",
              "      <td>4.9</td>\n",
              "      <td>3.0</td>\n",
              "      <td>1.4</td>\n",
              "      <td>0.2</td>\n",
              "      <td>Iris-setosa</td>\n",
              "    </tr>\n",
              "    <tr>\n",
              "      <th>2</th>\n",
              "      <td>4.7</td>\n",
              "      <td>3.2</td>\n",
              "      <td>1.3</td>\n",
              "      <td>0.2</td>\n",
              "      <td>Iris-setosa</td>\n",
              "    </tr>\n",
              "    <tr>\n",
              "      <th>3</th>\n",
              "      <td>4.6</td>\n",
              "      <td>3.1</td>\n",
              "      <td>1.5</td>\n",
              "      <td>0.2</td>\n",
              "      <td>Iris-setosa</td>\n",
              "    </tr>\n",
              "    <tr>\n",
              "      <th>4</th>\n",
              "      <td>5.0</td>\n",
              "      <td>3.6</td>\n",
              "      <td>1.4</td>\n",
              "      <td>0.2</td>\n",
              "      <td>Iris-setosa</td>\n",
              "    </tr>\n",
              "    <tr>\n",
              "      <th>...</th>\n",
              "      <td>...</td>\n",
              "      <td>...</td>\n",
              "      <td>...</td>\n",
              "      <td>...</td>\n",
              "      <td>...</td>\n",
              "    </tr>\n",
              "    <tr>\n",
              "      <th>145</th>\n",
              "      <td>6.7</td>\n",
              "      <td>3.0</td>\n",
              "      <td>5.2</td>\n",
              "      <td>2.3</td>\n",
              "      <td>Iris-virginica</td>\n",
              "    </tr>\n",
              "    <tr>\n",
              "      <th>146</th>\n",
              "      <td>6.3</td>\n",
              "      <td>2.5</td>\n",
              "      <td>5.0</td>\n",
              "      <td>1.9</td>\n",
              "      <td>Iris-virginica</td>\n",
              "    </tr>\n",
              "    <tr>\n",
              "      <th>147</th>\n",
              "      <td>6.5</td>\n",
              "      <td>3.0</td>\n",
              "      <td>5.2</td>\n",
              "      <td>2.0</td>\n",
              "      <td>Iris-virginica</td>\n",
              "    </tr>\n",
              "    <tr>\n",
              "      <th>148</th>\n",
              "      <td>6.2</td>\n",
              "      <td>3.4</td>\n",
              "      <td>5.4</td>\n",
              "      <td>2.3</td>\n",
              "      <td>Iris-virginica</td>\n",
              "    </tr>\n",
              "    <tr>\n",
              "      <th>149</th>\n",
              "      <td>5.9</td>\n",
              "      <td>3.0</td>\n",
              "      <td>5.1</td>\n",
              "      <td>1.8</td>\n",
              "      <td>Iris-virginica</td>\n",
              "    </tr>\n",
              "  </tbody>\n",
              "</table>\n",
              "<p>150 rows × 5 columns</p>\n",
              "</div>"
            ],
            "text/plain": [
              "       0    1    2    3               4\n",
              "0    5.1  3.5  1.4  0.2     Iris-setosa\n",
              "1    4.9  3.0  1.4  0.2     Iris-setosa\n",
              "2    4.7  3.2  1.3  0.2     Iris-setosa\n",
              "3    4.6  3.1  1.5  0.2     Iris-setosa\n",
              "4    5.0  3.6  1.4  0.2     Iris-setosa\n",
              "..   ...  ...  ...  ...             ...\n",
              "145  6.7  3.0  5.2  2.3  Iris-virginica\n",
              "146  6.3  2.5  5.0  1.9  Iris-virginica\n",
              "147  6.5  3.0  5.2  2.0  Iris-virginica\n",
              "148  6.2  3.4  5.4  2.3  Iris-virginica\n",
              "149  5.9  3.0  5.1  1.8  Iris-virginica\n",
              "\n",
              "[150 rows x 5 columns]"
            ]
          },
          "execution_count": 2,
          "metadata": {},
          "output_type": "execute_result"
        }
      ],
      "source": [
        "url = 'httls://archive.ics.uci.edu/ml/machine-learning-databases/iris/iris.data'\n",
        "# url = 'httls://archive.ics.uci.edu/ml/machine-learning-databases/wine/wine.data'\n",
        "df = pd.read_csv(url, header=None) # 첫번째 행 컬럼으로 인식 안하도록\n",
        "df.head()"
      ]
    },
    {
      "cell_type": "markdown",
      "id": "3f80fd08",
      "metadata": {
        "id": "3f80fd08"
      },
      "source": [
        "### 1. 데이터프레임 생성\n",
        "- 2차원 리스트 타입으로 만들기\n",
        "- 딕셔너리 타입으로 만들기 :  키(key)는 열 이름, 값(value)은 시퀀스형 데이터 타입을 넣어 각 열의 데이터로 만듦\n"
      ]
    },
    {
      "cell_type": "code",
      "execution_count": null,
      "id": "22d193d6",
      "metadata": {
        "id": "22d193d6",
        "outputId": "59b711ae-5824-4166-dee2-c7d35010cd91"
      },
      "outputs": [
        {
          "data": {
            "text/html": [
              "<div>\n",
              "<style scoped>\n",
              "    .dataframe tbody tr th:only-of-type {\n",
              "        vertical-align: middle;\n",
              "    }\n",
              "\n",
              "    .dataframe tbody tr th {\n",
              "        vertical-align: top;\n",
              "    }\n",
              "\n",
              "    .dataframe thead th {\n",
              "        text-align: right;\n",
              "    }\n",
              "</style>\n",
              "<table border=\"1\" class=\"dataframe\">\n",
              "  <thead>\n",
              "    <tr style=\"text-align: right;\">\n",
              "      <th></th>\n",
              "      <th>first_name</th>\n",
              "      <th>last_name</th>\n",
              "      <th>age</th>\n",
              "      <th>address</th>\n",
              "    </tr>\n",
              "  </thead>\n",
              "  <tbody>\n",
              "    <tr>\n",
              "      <th>0</th>\n",
              "      <td>Jason</td>\n",
              "      <td>Miller</td>\n",
              "      <td>42</td>\n",
              "      <td>San Francisco</td>\n",
              "    </tr>\n",
              "    <tr>\n",
              "      <th>1</th>\n",
              "      <td>Molly</td>\n",
              "      <td>Jacobson</td>\n",
              "      <td>52</td>\n",
              "      <td>Baltimore</td>\n",
              "    </tr>\n",
              "    <tr>\n",
              "      <th>2</th>\n",
              "      <td>Tina</td>\n",
              "      <td>Ali</td>\n",
              "      <td>36</td>\n",
              "      <td>Miami</td>\n",
              "    </tr>\n",
              "    <tr>\n",
              "      <th>3</th>\n",
              "      <td>Jake</td>\n",
              "      <td>Milner</td>\n",
              "      <td>24</td>\n",
              "      <td>Douglas</td>\n",
              "    </tr>\n",
              "    <tr>\n",
              "      <th>4</th>\n",
              "      <td>Amy</td>\n",
              "      <td>Cooze</td>\n",
              "      <td>73</td>\n",
              "      <td>None</td>\n",
              "    </tr>\n",
              "  </tbody>\n",
              "</table>\n",
              "</div>"
            ],
            "text/plain": [
              "  first_name last_name  age        address\n",
              "0      Jason    Miller   42  San Francisco\n",
              "1      Molly  Jacobson   52      Baltimore\n",
              "2       Tina       Ali   36          Miami\n",
              "3       Jake    Milner   24        Douglas\n",
              "4        Amy     Cooze   73           None"
            ]
          },
          "execution_count": 5,
          "metadata": {},
          "output_type": "execute_result"
        }
      ],
      "source": [
        "# 2차원 리스트 타입으로 데이터프레임\n",
        "raw_data = [[\"Jason\", \"Miller\", 42, \"San Francisco\"],\n",
        "            [\"Molly\", \"Jacobson\", 52, \"Baltimore\"],\n",
        "            [\"Tina\", \"Ali\", 36, \"Miami\"],\n",
        "            [\"Jake\", \"Milner\", 24, \"Douglas\"],\n",
        "            [\"Amy\", \"Cooze\", 73, \"Boston\"]]\n",
        "df = pd.DataFrame(raw_data, columns=['first_name', 'last_name', 'age', 'city'])\n",
        "df"
      ]
    },
    {
      "cell_type": "code",
      "execution_count": null,
      "id": "e79fa185",
      "metadata": {
        "id": "e79fa185",
        "outputId": "20d34b33-9c6c-4e39-dcd0-3ab6fe542ee6"
      },
      "outputs": [
        {
          "data": {
            "text/html": [
              "<div>\n",
              "<style scoped>\n",
              "    .dataframe tbody tr th:only-of-type {\n",
              "        vertical-align: middle;\n",
              "    }\n",
              "\n",
              "    .dataframe tbody tr th {\n",
              "        vertical-align: top;\n",
              "    }\n",
              "\n",
              "    .dataframe thead th {\n",
              "        text-align: right;\n",
              "    }\n",
              "</style>\n",
              "<table border=\"1\" class=\"dataframe\">\n",
              "  <thead>\n",
              "    <tr style=\"text-align: right;\">\n",
              "      <th></th>\n",
              "      <th>first_name</th>\n",
              "      <th>last_name</th>\n",
              "      <th>age</th>\n",
              "      <th>city</th>\n",
              "    </tr>\n",
              "  </thead>\n",
              "  <tbody>\n",
              "    <tr>\n",
              "      <th>0</th>\n",
              "      <td>Jason</td>\n",
              "      <td>Miller</td>\n",
              "      <td>42</td>\n",
              "      <td>San Francisco</td>\n",
              "    </tr>\n",
              "    <tr>\n",
              "      <th>1</th>\n",
              "      <td>Molly</td>\n",
              "      <td>Jacobson</td>\n",
              "      <td>52</td>\n",
              "      <td>Baltimore</td>\n",
              "    </tr>\n",
              "    <tr>\n",
              "      <th>2</th>\n",
              "      <td>Tina</td>\n",
              "      <td>Ali</td>\n",
              "      <td>36</td>\n",
              "      <td>Miami</td>\n",
              "    </tr>\n",
              "    <tr>\n",
              "      <th>3</th>\n",
              "      <td>Jake</td>\n",
              "      <td>Milner</td>\n",
              "      <td>24</td>\n",
              "      <td>Douglas</td>\n",
              "    </tr>\n",
              "    <tr>\n",
              "      <th>4</th>\n",
              "      <td>Amy</td>\n",
              "      <td>Cooze</td>\n",
              "      <td>73</td>\n",
              "      <td>Boston</td>\n",
              "    </tr>\n",
              "  </tbody>\n",
              "</table>\n",
              "</div>"
            ],
            "text/plain": [
              "  first_name last_name  age           city\n",
              "0      Jason    Miller   42  San Francisco\n",
              "1      Molly  Jacobson   52      Baltimore\n",
              "2       Tina       Ali   36          Miami\n",
              "3       Jake    Milner   24        Douglas\n",
              "4        Amy     Cooze   73         Boston"
            ]
          },
          "execution_count": 9,
          "metadata": {},
          "output_type": "execute_result"
        }
      ],
      "source": [
        "# 딕셔너리 타입으로 데이터프레임 만들기\n",
        "raw_data = {\"first_name\":[\"Jason\", \"Molly\", \"Tina\", \"Jake\", \"Amy\"],\n",
        "            \"last_name\":[\"Miller\", \"Jacobson\", \"Ali\", \"Milner\", \"Cooze\"],\n",
        "            \"age\":[42, 52, 36, 24, 73],\n",
        "            \"city\":[\"San Francisco\", \"Baltimore\", \"Miami\", \"Douglas\", \"Boston\"]}\n",
        "\n",
        "# df = pd.DataFrame(raw_data, columns=[\"first_name\", \"last_name\", \"age\", \"city\"])\n",
        "df = pd.DataFrame(raw_data)\n",
        "df"
      ]
    },
    {
      "cell_type": "markdown",
      "id": "b6987056",
      "metadata": {
        "id": "b6987056"
      },
      "source": [
        "### 2. 데이터프레임의 열 다루기"
      ]
    },
    {
      "cell_type": "code",
      "execution_count": null,
      "id": "28a91fc2",
      "metadata": {
        "id": "28a91fc2",
        "outputId": "fa4c585b-8d57-46aa-ea71-f3fbc277fc8d"
      },
      "outputs": [
        {
          "data": {
            "text/html": [
              "<div>\n",
              "<style scoped>\n",
              "    .dataframe tbody tr th:only-of-type {\n",
              "        vertical-align: middle;\n",
              "    }\n",
              "\n",
              "    .dataframe tbody tr th {\n",
              "        vertical-align: top;\n",
              "    }\n",
              "\n",
              "    .dataframe thead th {\n",
              "        text-align: right;\n",
              "    }\n",
              "</style>\n",
              "<table border=\"1\" class=\"dataframe\">\n",
              "  <thead>\n",
              "    <tr style=\"text-align: right;\">\n",
              "      <th></th>\n",
              "      <th>first_name</th>\n",
              "      <th>age</th>\n",
              "    </tr>\n",
              "  </thead>\n",
              "  <tbody>\n",
              "    <tr>\n",
              "      <th>0</th>\n",
              "      <td>Jason</td>\n",
              "      <td>42</td>\n",
              "    </tr>\n",
              "    <tr>\n",
              "      <th>1</th>\n",
              "      <td>Molly</td>\n",
              "      <td>52</td>\n",
              "    </tr>\n",
              "    <tr>\n",
              "      <th>2</th>\n",
              "      <td>Tina</td>\n",
              "      <td>36</td>\n",
              "    </tr>\n",
              "    <tr>\n",
              "      <th>3</th>\n",
              "      <td>Jake</td>\n",
              "      <td>24</td>\n",
              "    </tr>\n",
              "    <tr>\n",
              "      <th>4</th>\n",
              "      <td>Amy</td>\n",
              "      <td>73</td>\n",
              "    </tr>\n",
              "  </tbody>\n",
              "</table>\n",
              "</div>"
            ],
            "text/plain": [
              "  first_name  age\n",
              "0      Jason   42\n",
              "1      Molly   52\n",
              "2       Tina   36\n",
              "3       Jake   24\n",
              "4        Amy   73"
            ]
          },
          "execution_count": 10,
          "metadata": {},
          "output_type": "execute_result"
        }
      ],
      "source": [
        "# 데이터 생성시, 딕셔너리 데이터에서 열(Key) 이름을 한정하면 해당 열만 추출\n",
        "pd.DataFrame(raw_data, columns=[\"age\", \"city\"])"
      ]
    },
    {
      "cell_type": "code",
      "execution_count": null,
      "id": "645c82d0",
      "metadata": {
        "id": "645c82d0",
        "outputId": "d4f44724-07c3-44db-9867-fe2649a7eed3"
      },
      "outputs": [
        {
          "data": {
            "text/html": [
              "<div>\n",
              "<style scoped>\n",
              "    .dataframe tbody tr th:only-of-type {\n",
              "        vertical-align: middle;\n",
              "    }\n",
              "\n",
              "    .dataframe tbody tr th {\n",
              "        vertical-align: top;\n",
              "    }\n",
              "\n",
              "    .dataframe thead th {\n",
              "        text-align: right;\n",
              "    }\n",
              "</style>\n",
              "<table border=\"1\" class=\"dataframe\">\n",
              "  <thead>\n",
              "    <tr style=\"text-align: right;\">\n",
              "      <th></th>\n",
              "      <th>first_name</th>\n",
              "      <th>age</th>\n",
              "      <th>last_name</th>\n",
              "      <th>city</th>\n",
              "      <th>phone</th>\n",
              "    </tr>\n",
              "  </thead>\n",
              "  <tbody>\n",
              "    <tr>\n",
              "      <th>0</th>\n",
              "      <td>Jason</td>\n",
              "      <td>42</td>\n",
              "      <td>Miller</td>\n",
              "      <td>San Francisco</td>\n",
              "      <td>NaN</td>\n",
              "    </tr>\n",
              "    <tr>\n",
              "      <th>1</th>\n",
              "      <td>Molly</td>\n",
              "      <td>52</td>\n",
              "      <td>Jacobson</td>\n",
              "      <td>Baltimore</td>\n",
              "      <td>NaN</td>\n",
              "    </tr>\n",
              "    <tr>\n",
              "      <th>2</th>\n",
              "      <td>Tina</td>\n",
              "      <td>36</td>\n",
              "      <td>Ali</td>\n",
              "      <td>Miami</td>\n",
              "      <td>NaN</td>\n",
              "    </tr>\n",
              "    <tr>\n",
              "      <th>3</th>\n",
              "      <td>Jake</td>\n",
              "      <td>24</td>\n",
              "      <td>Milner</td>\n",
              "      <td>Douglas</td>\n",
              "      <td>NaN</td>\n",
              "    </tr>\n",
              "    <tr>\n",
              "      <th>4</th>\n",
              "      <td>Amy</td>\n",
              "      <td>73</td>\n",
              "      <td>Cooze</td>\n",
              "      <td>Boston</td>\n",
              "      <td>NaN</td>\n",
              "    </tr>\n",
              "  </tbody>\n",
              "</table>\n",
              "</div>"
            ],
            "text/plain": [
              "  first_name  age last_name           city phone\n",
              "0      Jason   42    Miller  San Francisco   NaN\n",
              "1      Molly   52  Jacobson      Baltimore   NaN\n",
              "2       Tina   36       Ali          Miami   NaN\n",
              "3       Jake   24    Milner        Douglas   NaN\n",
              "4        Amy   73     Cooze         Boston   NaN"
            ]
          },
          "execution_count": 11,
          "metadata": {},
          "output_type": "execute_result"
        }
      ],
      "source": [
        "# 데이터가 존재하지 않는 열을 추가하면 해당 열에는 NaN 값들 추가\n",
        "pd.DataFrame(raw_data, columns=[\"first_name\", \"last_name\", \"age\", \"city\", \"debt\"])"
      ]
    },
    {
      "cell_type": "code",
      "execution_count": null,
      "id": "2ba44d61",
      "metadata": {},
      "outputs": [],
      "source": [
        "from sklearn.datasets import load_iris\n",
        "iris = load_iris()\n",
        "iris"
      ]
    },
    {
      "cell_type": "markdown",
      "id": "a326a44e",
      "metadata": {
        "id": "a326a44e"
      },
      "source": [
        "-----------------"
      ]
    },
    {
      "cell_type": "markdown",
      "id": "7c78c97e",
      "metadata": {
        "id": "7c78c97e"
      },
      "source": [
        "## <a name=\"04.2데이터추출\">04.2 데이터 추출</a>"
      ]
    },
    {
      "cell_type": "markdown",
      "id": "1867211e",
      "metadata": {
        "id": "1867211e"
      },
      "source": [
        "### 1. 데이터 로딩"
      ]
    },
    {
      "cell_type": "code",
      "execution_count": null,
      "id": "244eb5a6",
      "metadata": {
        "id": "244eb5a6",
        "outputId": "ada5c90a-4844-4665-96b3-61c2c7518260"
      },
      "outputs": [
        {
          "data": {
            "text/html": [
              "<div>\n",
              "<style scoped>\n",
              "    .dataframe tbody tr th:only-of-type {\n",
              "        vertical-align: middle;\n",
              "    }\n",
              "\n",
              "    .dataframe tbody tr th {\n",
              "        vertical-align: top;\n",
              "    }\n",
              "\n",
              "    .dataframe thead th {\n",
              "        text-align: right;\n",
              "    }\n",
              "</style>\n",
              "<table border=\"1\" class=\"dataframe\">\n",
              "  <thead>\n",
              "    <tr style=\"text-align: right;\">\n",
              "      <th></th>\n",
              "      <th>account</th>\n",
              "      <th>name</th>\n",
              "      <th>street</th>\n",
              "      <th>city</th>\n",
              "      <th>state</th>\n",
              "      <th>postal-code</th>\n",
              "      <th>Jan</th>\n",
              "      <th>Feb</th>\n",
              "      <th>Mar</th>\n",
              "    </tr>\n",
              "  </thead>\n",
              "  <tbody>\n",
              "    <tr>\n",
              "      <th>0</th>\n",
              "      <td>211829</td>\n",
              "      <td>Kerluke, Koepp and Hilpert</td>\n",
              "      <td>34456 Sean Highway</td>\n",
              "      <td>New Jaycob</td>\n",
              "      <td>Texas</td>\n",
              "      <td>28752</td>\n",
              "      <td>10000</td>\n",
              "      <td>62000</td>\n",
              "      <td>35000</td>\n",
              "    </tr>\n",
              "    <tr>\n",
              "      <th>1</th>\n",
              "      <td>320563</td>\n",
              "      <td>Walter-Trantow</td>\n",
              "      <td>1311 Alvis Tunnel</td>\n",
              "      <td>Port Khadijah</td>\n",
              "      <td>NorthCarolina</td>\n",
              "      <td>38365</td>\n",
              "      <td>95000</td>\n",
              "      <td>45000</td>\n",
              "      <td>35000</td>\n",
              "    </tr>\n",
              "    <tr>\n",
              "      <th>2</th>\n",
              "      <td>648336</td>\n",
              "      <td>Bashirian, Kunde and Price</td>\n",
              "      <td>62184 Schamberger Underpass Apt. 231</td>\n",
              "      <td>New Lilianland</td>\n",
              "      <td>Iowa</td>\n",
              "      <td>76517</td>\n",
              "      <td>91000</td>\n",
              "      <td>120000</td>\n",
              "      <td>35000</td>\n",
              "    </tr>\n",
              "    <tr>\n",
              "      <th>3</th>\n",
              "      <td>109996</td>\n",
              "      <td>D'Amore, Gleichner and Bode</td>\n",
              "      <td>155 Fadel Crescent Apt. 144</td>\n",
              "      <td>Hyattburgh</td>\n",
              "      <td>Maine</td>\n",
              "      <td>46021</td>\n",
              "      <td>45000</td>\n",
              "      <td>120000</td>\n",
              "      <td>10000</td>\n",
              "    </tr>\n",
              "    <tr>\n",
              "      <th>4</th>\n",
              "      <td>121213</td>\n",
              "      <td>Bauch-Goldner</td>\n",
              "      <td>7274 Marissa Common</td>\n",
              "      <td>Shanahanchester</td>\n",
              "      <td>California</td>\n",
              "      <td>49681</td>\n",
              "      <td>162000</td>\n",
              "      <td>120000</td>\n",
              "      <td>35000</td>\n",
              "    </tr>\n",
              "  </tbody>\n",
              "</table>\n",
              "</div>"
            ],
            "text/plain": [
              "   account                         name                                street  \\\n",
              "0   211829   Kerluke, Koepp and Hilpert                    34456 Sean Highway   \n",
              "1   320563               Walter-Trantow                     1311 Alvis Tunnel   \n",
              "2   648336   Bashirian, Kunde and Price  62184 Schamberger Underpass Apt. 231   \n",
              "3   109996  D'Amore, Gleichner and Bode           155 Fadel Crescent Apt. 144   \n",
              "4   121213                Bauch-Goldner                   7274 Marissa Common   \n",
              "\n",
              "              city          state  postal-code     Jan     Feb    Mar  \n",
              "0       New Jaycob          Texas        28752   10000   62000  35000  \n",
              "1    Port Khadijah  NorthCarolina        38365   95000   45000  35000  \n",
              "2   New Lilianland           Iowa        76517   91000  120000  35000  \n",
              "3       Hyattburgh          Maine        46021   45000  120000  10000  \n",
              "4  Shanahanchester     California        49681  162000  120000  35000  "
            ]
          },
          "execution_count": 13,
          "metadata": {},
          "output_type": "execute_result"
        }
      ],
      "source": [
        "df = pd.read_excel(f'{DIR}excel-comp-data.xlsx')\n",
        "df"
      ]
    },
    {
      "cell_type": "markdown",
      "id": "196a3b11",
      "metadata": {
        "id": "196a3b11"
      },
      "source": [
        "### 2. 열 이름을 사용한 데이터 추출"
      ]
    },
    {
      "cell_type": "code",
      "execution_count": null,
      "id": "2cfd5799",
      "metadata": {
        "id": "2cfd5799",
        "outputId": "389cce0e-9728-49a7-f727-a667d035048e"
      },
      "outputs": [
        {
          "data": {
            "text/html": [
              "<div>\n",
              "<style scoped>\n",
              "    .dataframe tbody tr th:only-of-type {\n",
              "        vertical-align: middle;\n",
              "    }\n",
              "\n",
              "    .dataframe tbody tr th {\n",
              "        vertical-align: top;\n",
              "    }\n",
              "\n",
              "    .dataframe thead th {\n",
              "        text-align: right;\n",
              "    }\n",
              "</style>\n",
              "<table border=\"1\" class=\"dataframe\">\n",
              "  <thead>\n",
              "    <tr style=\"text-align: right;\">\n",
              "      <th></th>\n",
              "      <th>account</th>\n",
              "      <th>name</th>\n",
              "      <th>city</th>\n",
              "    </tr>\n",
              "  </thead>\n",
              "  <tbody>\n",
              "    <tr>\n",
              "      <th>0</th>\n",
              "      <td>211829</td>\n",
              "      <td>Kerluke, Koepp and Hilpert</td>\n",
              "      <td>New Jaycob</td>\n",
              "    </tr>\n",
              "    <tr>\n",
              "      <th>1</th>\n",
              "      <td>320563</td>\n",
              "      <td>Walter-Trantow</td>\n",
              "      <td>Port Khadijah</td>\n",
              "    </tr>\n",
              "    <tr>\n",
              "      <th>2</th>\n",
              "      <td>648336</td>\n",
              "      <td>Bashirian, Kunde and Price</td>\n",
              "      <td>New Lilianland</td>\n",
              "    </tr>\n",
              "    <tr>\n",
              "      <th>3</th>\n",
              "      <td>109996</td>\n",
              "      <td>D'Amore, Gleichner and Bode</td>\n",
              "      <td>Hyattburgh</td>\n",
              "    </tr>\n",
              "    <tr>\n",
              "      <th>4</th>\n",
              "      <td>121213</td>\n",
              "      <td>Bauch-Goldner</td>\n",
              "      <td>Shanahanchester</td>\n",
              "    </tr>\n",
              "  </tbody>\n",
              "</table>\n",
              "</div>"
            ],
            "text/plain": [
              "   account                         name             city\n",
              "0   211829   Kerluke, Koepp and Hilpert       New Jaycob\n",
              "1   320563               Walter-Trantow    Port Khadijah\n",
              "2   648336   Bashirian, Kunde and Price   New Lilianland\n",
              "3   109996  D'Amore, Gleichner and Bode       Hyattburgh\n",
              "4   121213                Bauch-Goldner  Shanahanchester"
            ]
          },
          "execution_count": 17,
          "metadata": {},
          "output_type": "execute_result"
        }
      ],
      "source": [
        "# head, tail\n",
        "df.head(3)  # 처음 n개 행\n",
        "df.tail(3)  # 마지막 n개 행 호출\n",
        "df.head(-3) # 끝에서 n개 제외하고 호출"
      ]
    },
    {
      "cell_type": "code",
      "execution_count": null,
      "id": "a08ec279",
      "metadata": {},
      "outputs": [],
      "source": [
        "# 열 이름을 리스트 형태로 넣어 호출\n",
        "df[[\"account\", \"street\", \"state\"]].head(3)\n",
        "# df[\"account\"].head(3)"
      ]
    },
    {
      "cell_type": "markdown",
      "id": "eab5476e",
      "metadata": {
        "id": "eab5476e"
      },
      "source": [
        "### 3. 행 번호를 사용한 데이터 추출"
      ]
    },
    {
      "cell_type": "code",
      "execution_count": null,
      "id": "713ea2a8",
      "metadata": {
        "id": "713ea2a8",
        "outputId": "0321f023-c37f-4c6b-d868-e7ad6de7d09d",
        "scrolled": false
      },
      "outputs": [
        {
          "data": {
            "text/html": [
              "<div>\n",
              "<style scoped>\n",
              "    .dataframe tbody tr th:only-of-type {\n",
              "        vertical-align: middle;\n",
              "    }\n",
              "\n",
              "    .dataframe tbody tr th {\n",
              "        vertical-align: top;\n",
              "    }\n",
              "\n",
              "    .dataframe thead th {\n",
              "        text-align: right;\n",
              "    }\n",
              "</style>\n",
              "<table border=\"1\" class=\"dataframe\">\n",
              "  <thead>\n",
              "    <tr style=\"text-align: right;\">\n",
              "      <th></th>\n",
              "      <th>account</th>\n",
              "      <th>name</th>\n",
              "      <th>street</th>\n",
              "      <th>city</th>\n",
              "      <th>state</th>\n",
              "      <th>postal-code</th>\n",
              "      <th>Jan</th>\n",
              "      <th>Feb</th>\n",
              "      <th>Mar</th>\n",
              "    </tr>\n",
              "  </thead>\n",
              "  <tbody>\n",
              "    <tr>\n",
              "      <th>0</th>\n",
              "      <td>211829</td>\n",
              "      <td>Kerluke, Koepp and Hilpert</td>\n",
              "      <td>34456 Sean Highway</td>\n",
              "      <td>New Jaycob</td>\n",
              "      <td>Texas</td>\n",
              "      <td>28752</td>\n",
              "      <td>10000</td>\n",
              "      <td>62000</td>\n",
              "      <td>35000</td>\n",
              "    </tr>\n",
              "    <tr>\n",
              "      <th>1</th>\n",
              "      <td>320563</td>\n",
              "      <td>Walter-Trantow</td>\n",
              "      <td>1311 Alvis Tunnel</td>\n",
              "      <td>Port Khadijah</td>\n",
              "      <td>NorthCarolina</td>\n",
              "      <td>38365</td>\n",
              "      <td>95000</td>\n",
              "      <td>45000</td>\n",
              "      <td>35000</td>\n",
              "    </tr>\n",
              "    <tr>\n",
              "      <th>2</th>\n",
              "      <td>648336</td>\n",
              "      <td>Bashirian, Kunde and Price</td>\n",
              "      <td>62184 Schamberger Underpass Apt. 231</td>\n",
              "      <td>New Lilianland</td>\n",
              "      <td>Iowa</td>\n",
              "      <td>76517</td>\n",
              "      <td>91000</td>\n",
              "      <td>120000</td>\n",
              "      <td>35000</td>\n",
              "    </tr>\n",
              "  </tbody>\n",
              "</table>\n",
              "</div>"
            ],
            "text/plain": [
              "   account                        name                                street  \\\n",
              "0   211829  Kerluke, Koepp and Hilpert                    34456 Sean Highway   \n",
              "1   320563              Walter-Trantow                     1311 Alvis Tunnel   \n",
              "2   648336  Bashirian, Kunde and Price  62184 Schamberger Underpass Apt. 231   \n",
              "\n",
              "             city          state  postal-code    Jan     Feb    Mar  \n",
              "0      New Jaycob          Texas        28752  10000   62000  35000  \n",
              "1   Port Khadijah  NorthCarolina        38365  95000   45000  35000  \n",
              "2  New Lilianland           Iowa        76517  91000  120000  35000  "
            ]
          },
          "execution_count": 18,
          "metadata": {},
          "output_type": "execute_result"
        }
      ],
      "source": [
        "# 인덱스 번호로 호출\n",
        "df[:3]"
      ]
    },
    {
      "cell_type": "markdown",
      "id": "41fdf695",
      "metadata": {
        "id": "41fdf695"
      },
      "source": [
        "### 4. 행과 열을 모두 사용한 데이터 추출"
      ]
    },
    {
      "cell_type": "code",
      "execution_count": null,
      "id": "bc00a52b",
      "metadata": {
        "id": "bc00a52b",
        "outputId": "5e8a74ba-480e-4964-ec15-9546752921d4"
      },
      "outputs": [
        {
          "data": {
            "text/html": [
              "<div>\n",
              "<style scoped>\n",
              "    .dataframe tbody tr th:only-of-type {\n",
              "        vertical-align: middle;\n",
              "    }\n",
              "\n",
              "    .dataframe tbody tr th {\n",
              "        vertical-align: top;\n",
              "    }\n",
              "\n",
              "    .dataframe thead th {\n",
              "        text-align: right;\n",
              "    }\n",
              "</style>\n",
              "<table border=\"1\" class=\"dataframe\">\n",
              "  <thead>\n",
              "    <tr style=\"text-align: right;\">\n",
              "      <th></th>\n",
              "      <th>account</th>\n",
              "      <th>name</th>\n",
              "      <th>city</th>\n",
              "    </tr>\n",
              "  </thead>\n",
              "  <tbody>\n",
              "    <tr>\n",
              "      <th>0</th>\n",
              "      <td>211829</td>\n",
              "      <td>Kerluke, Koepp and Hilpert</td>\n",
              "      <td>New Jaycob</td>\n",
              "    </tr>\n",
              "    <tr>\n",
              "      <th>1</th>\n",
              "      <td>320563</td>\n",
              "      <td>Walter-Trantow</td>\n",
              "      <td>Port Khadijah</td>\n",
              "    </tr>\n",
              "    <tr>\n",
              "      <th>2</th>\n",
              "      <td>648336</td>\n",
              "      <td>Bashirian, Kunde and Price</td>\n",
              "      <td>New Lilianland</td>\n",
              "    </tr>\n",
              "  </tbody>\n",
              "</table>\n",
              "</div>"
            ],
            "text/plain": [
              "   account                        name            city\n",
              "0   211829  Kerluke, Koepp and Hilpert      New Jaycob\n",
              "1   320563              Walter-Trantow   Port Khadijah\n",
              "2   648336  Bashirian, Kunde and Price  New Lilianland"
            ]
          },
          "execution_count": 19,
          "metadata": {},
          "output_type": "execute_result"
        }
      ],
      "source": [
        "# 열 이름, 인덱스 번호 둘 다 사용해서 호출\n",
        "df[[\"name\", \"street\"]][:2]"
      ]
    },
    {
      "cell_type": "code",
      "execution_count": null,
      "id": "e2dc92f5",
      "metadata": {
        "id": "e2dc92f5",
        "outputId": "52ee0dbe-9496-4479-f877-7e6c55c3de31"
      },
      "outputs": [
        {
          "data": {
            "text/html": [
              "<div>\n",
              "<style scoped>\n",
              "    .dataframe tbody tr th:only-of-type {\n",
              "        vertical-align: middle;\n",
              "    }\n",
              "\n",
              "    .dataframe tbody tr th {\n",
              "        vertical-align: top;\n",
              "    }\n",
              "\n",
              "    .dataframe thead th {\n",
              "        text-align: right;\n",
              "    }\n",
              "</style>\n",
              "<table border=\"1\" class=\"dataframe\">\n",
              "  <thead>\n",
              "    <tr style=\"text-align: right;\">\n",
              "      <th></th>\n",
              "      <th>name</th>\n",
              "      <th>street</th>\n",
              "      <th>city</th>\n",
              "      <th>state</th>\n",
              "      <th>postal-code</th>\n",
              "      <th>Jan</th>\n",
              "      <th>Feb</th>\n",
              "      <th>Mar</th>\n",
              "    </tr>\n",
              "    <tr>\n",
              "      <th>account</th>\n",
              "      <th></th>\n",
              "      <th></th>\n",
              "      <th></th>\n",
              "      <th></th>\n",
              "      <th></th>\n",
              "      <th></th>\n",
              "      <th></th>\n",
              "      <th></th>\n",
              "    </tr>\n",
              "  </thead>\n",
              "  <tbody>\n",
              "    <tr>\n",
              "      <th>211829</th>\n",
              "      <td>Kerluke, Koepp and Hilpert</td>\n",
              "      <td>34456 Sean Highway</td>\n",
              "      <td>New Jaycob</td>\n",
              "      <td>Texas</td>\n",
              "      <td>28752</td>\n",
              "      <td>10000</td>\n",
              "      <td>62000</td>\n",
              "      <td>35000</td>\n",
              "    </tr>\n",
              "    <tr>\n",
              "      <th>320563</th>\n",
              "      <td>Walter-Trantow</td>\n",
              "      <td>1311 Alvis Tunnel</td>\n",
              "      <td>Port Khadijah</td>\n",
              "      <td>NorthCarolina</td>\n",
              "      <td>38365</td>\n",
              "      <td>95000</td>\n",
              "      <td>45000</td>\n",
              "      <td>35000</td>\n",
              "    </tr>\n",
              "    <tr>\n",
              "      <th>648336</th>\n",
              "      <td>Bashirian, Kunde and Price</td>\n",
              "      <td>62184 Schamberger Underpass Apt. 231</td>\n",
              "      <td>New Lilianland</td>\n",
              "      <td>Iowa</td>\n",
              "      <td>76517</td>\n",
              "      <td>91000</td>\n",
              "      <td>120000</td>\n",
              "      <td>35000</td>\n",
              "    </tr>\n",
              "    <tr>\n",
              "      <th>109996</th>\n",
              "      <td>D'Amore, Gleichner and Bode</td>\n",
              "      <td>155 Fadel Crescent Apt. 144</td>\n",
              "      <td>Hyattburgh</td>\n",
              "      <td>Maine</td>\n",
              "      <td>46021</td>\n",
              "      <td>45000</td>\n",
              "      <td>120000</td>\n",
              "      <td>10000</td>\n",
              "    </tr>\n",
              "    <tr>\n",
              "      <th>121213</th>\n",
              "      <td>Bauch-Goldner</td>\n",
              "      <td>7274 Marissa Common</td>\n",
              "      <td>Shanahanchester</td>\n",
              "      <td>California</td>\n",
              "      <td>49681</td>\n",
              "      <td>162000</td>\n",
              "      <td>120000</td>\n",
              "      <td>35000</td>\n",
              "    </tr>\n",
              "    <tr>\n",
              "      <th>132971</th>\n",
              "      <td>Williamson, Schumm and Hettinger</td>\n",
              "      <td>89403 Casimer Spring</td>\n",
              "      <td>Jeremieburgh</td>\n",
              "      <td>Arkansas</td>\n",
              "      <td>62785</td>\n",
              "      <td>150000</td>\n",
              "      <td>120000</td>\n",
              "      <td>35000</td>\n",
              "    </tr>\n",
              "    <tr>\n",
              "      <th>145068</th>\n",
              "      <td>Casper LLC</td>\n",
              "      <td>340 Consuela Bridge Apt. 400</td>\n",
              "      <td>Lake Gabriellaton</td>\n",
              "      <td>Mississipi</td>\n",
              "      <td>18008</td>\n",
              "      <td>62000</td>\n",
              "      <td>120000</td>\n",
              "      <td>70000</td>\n",
              "    </tr>\n",
              "    <tr>\n",
              "      <th>205217</th>\n",
              "      <td>Kovacek-Johnston</td>\n",
              "      <td>91971 Cronin Vista Suite 601</td>\n",
              "      <td>Deronville</td>\n",
              "      <td>RhodeIsland</td>\n",
              "      <td>53461</td>\n",
              "      <td>145000</td>\n",
              "      <td>95000</td>\n",
              "      <td>35000</td>\n",
              "    </tr>\n",
              "    <tr>\n",
              "      <th>209744</th>\n",
              "      <td>Champlin-Morar</td>\n",
              "      <td>26739 Grant Lock</td>\n",
              "      <td>Lake Juliannton</td>\n",
              "      <td>Pennsylvania</td>\n",
              "      <td>64415</td>\n",
              "      <td>70000</td>\n",
              "      <td>95000</td>\n",
              "      <td>35000</td>\n",
              "    </tr>\n",
              "    <tr>\n",
              "      <th>212303</th>\n",
              "      <td>Gerhold-Maggio</td>\n",
              "      <td>366 Maggio Grove Apt. 998</td>\n",
              "      <td>North Ras</td>\n",
              "      <td>Idaho</td>\n",
              "      <td>46308</td>\n",
              "      <td>70000</td>\n",
              "      <td>120000</td>\n",
              "      <td>35000</td>\n",
              "    </tr>\n",
              "    <tr>\n",
              "      <th>214098</th>\n",
              "      <td>Goodwin, Homenick and Jerde</td>\n",
              "      <td>649 Cierra Forks Apt. 078</td>\n",
              "      <td>Rosaberg</td>\n",
              "      <td>Tenessee</td>\n",
              "      <td>47743</td>\n",
              "      <td>45000</td>\n",
              "      <td>120000</td>\n",
              "      <td>55000</td>\n",
              "    </tr>\n",
              "    <tr>\n",
              "      <th>231907</th>\n",
              "      <td>Hahn-Moore</td>\n",
              "      <td>18115 Olivine Throughway</td>\n",
              "      <td>Norbertomouth</td>\n",
              "      <td>NorthDakota</td>\n",
              "      <td>31415</td>\n",
              "      <td>150000</td>\n",
              "      <td>10000</td>\n",
              "      <td>162000</td>\n",
              "    </tr>\n",
              "    <tr>\n",
              "      <th>242368</th>\n",
              "      <td>Frami, Anderson and Donnelly</td>\n",
              "      <td>182 Bertie Road</td>\n",
              "      <td>East Davian</td>\n",
              "      <td>Iowa</td>\n",
              "      <td>72686</td>\n",
              "      <td>162000</td>\n",
              "      <td>120000</td>\n",
              "      <td>35000</td>\n",
              "    </tr>\n",
              "    <tr>\n",
              "      <th>268755</th>\n",
              "      <td>Walsh-Haley</td>\n",
              "      <td>2624 Beatty Parkways</td>\n",
              "      <td>Goodwinmouth</td>\n",
              "      <td>RhodeIsland</td>\n",
              "      <td>31919</td>\n",
              "      <td>55000</td>\n",
              "      <td>120000</td>\n",
              "      <td>35000</td>\n",
              "    </tr>\n",
              "    <tr>\n",
              "      <th>273274</th>\n",
              "      <td>McDermott PLC</td>\n",
              "      <td>8917 Bergstrom Meadow</td>\n",
              "      <td>Kathryneborough</td>\n",
              "      <td>Delaware</td>\n",
              "      <td>27933</td>\n",
              "      <td>150000</td>\n",
              "      <td>120000</td>\n",
              "      <td>70000</td>\n",
              "    </tr>\n",
              "  </tbody>\n",
              "</table>\n",
              "</div>"
            ],
            "text/plain": [
              "                                     name  \\\n",
              "account                                     \n",
              "211829         Kerluke, Koepp and Hilpert   \n",
              "320563                     Walter-Trantow   \n",
              "648336         Bashirian, Kunde and Price   \n",
              "109996        D'Amore, Gleichner and Bode   \n",
              "121213                      Bauch-Goldner   \n",
              "132971   Williamson, Schumm and Hettinger   \n",
              "145068                         Casper LLC   \n",
              "205217                   Kovacek-Johnston   \n",
              "209744                     Champlin-Morar   \n",
              "212303                     Gerhold-Maggio   \n",
              "214098        Goodwin, Homenick and Jerde   \n",
              "231907                         Hahn-Moore   \n",
              "242368       Frami, Anderson and Donnelly   \n",
              "268755                        Walsh-Haley   \n",
              "273274                      McDermott PLC   \n",
              "\n",
              "                                       street               city  \\\n",
              "account                                                            \n",
              "211829                     34456 Sean Highway         New Jaycob   \n",
              "320563                      1311 Alvis Tunnel      Port Khadijah   \n",
              "648336   62184 Schamberger Underpass Apt. 231     New Lilianland   \n",
              "109996            155 Fadel Crescent Apt. 144         Hyattburgh   \n",
              "121213                    7274 Marissa Common    Shanahanchester   \n",
              "132971                   89403 Casimer Spring       Jeremieburgh   \n",
              "145068           340 Consuela Bridge Apt. 400  Lake Gabriellaton   \n",
              "205217           91971 Cronin Vista Suite 601         Deronville   \n",
              "209744                       26739 Grant Lock    Lake Juliannton   \n",
              "212303              366 Maggio Grove Apt. 998          North Ras   \n",
              "214098              649 Cierra Forks Apt. 078           Rosaberg   \n",
              "231907               18115 Olivine Throughway      Norbertomouth   \n",
              "242368                        182 Bertie Road        East Davian   \n",
              "268755                   2624 Beatty Parkways       Goodwinmouth   \n",
              "273274                  8917 Bergstrom Meadow    Kathryneborough   \n",
              "\n",
              "                 state  postal-code     Jan     Feb     Mar  \n",
              "account                                                      \n",
              "211829           Texas        28752   10000   62000   35000  \n",
              "320563   NorthCarolina        38365   95000   45000   35000  \n",
              "648336            Iowa        76517   91000  120000   35000  \n",
              "109996           Maine        46021   45000  120000   10000  \n",
              "121213      California        49681  162000  120000   35000  \n",
              "132971        Arkansas        62785  150000  120000   35000  \n",
              "145068      Mississipi        18008   62000  120000   70000  \n",
              "205217     RhodeIsland        53461  145000   95000   35000  \n",
              "209744    Pennsylvania        64415   70000   95000   35000  \n",
              "212303           Idaho        46308   70000  120000   35000  \n",
              "214098        Tenessee        47743   45000  120000   55000  \n",
              "231907     NorthDakota        31415  150000   10000  162000  \n",
              "242368            Iowa        72686  162000  120000   35000  \n",
              "268755     RhodeIsland        31919   55000  120000   35000  \n",
              "273274        Delaware        27933  150000  120000   70000  "
            ]
          },
          "execution_count": 23,
          "metadata": {},
          "output_type": "execute_result"
        }
      ],
      "source": [
        "# 인덱스 변경하기\n",
        "df.index = df[\"account\"] # 인덱스 변경\n",
        "del df[\"account\"] # account 컬럼 삭제\n",
        "df.head()"
      ]
    },
    {
      "cell_type": "code",
      "execution_count": null,
      "id": "f9cbd8d4",
      "metadata": {
        "id": "f9cbd8d4",
        "outputId": "7a8da8ae-349b-48b0-bd46-44428e679bcc",
        "scrolled": true
      },
      "outputs": [
        {
          "data": {
            "text/html": [
              "<div>\n",
              "<style scoped>\n",
              "    .dataframe tbody tr th:only-of-type {\n",
              "        vertical-align: middle;\n",
              "    }\n",
              "\n",
              "    .dataframe tbody tr th {\n",
              "        vertical-align: top;\n",
              "    }\n",
              "\n",
              "    .dataframe thead th {\n",
              "        text-align: right;\n",
              "    }\n",
              "</style>\n",
              "<table border=\"1\" class=\"dataframe\">\n",
              "  <thead>\n",
              "    <tr style=\"text-align: right;\">\n",
              "      <th></th>\n",
              "      <th>name</th>\n",
              "      <th>city</th>\n",
              "    </tr>\n",
              "    <tr>\n",
              "      <th>account</th>\n",
              "      <th></th>\n",
              "      <th></th>\n",
              "    </tr>\n",
              "  </thead>\n",
              "  <tbody>\n",
              "    <tr>\n",
              "      <th>211829</th>\n",
              "      <td>Kerluke, Koepp and Hilpert</td>\n",
              "      <td>New Jaycob</td>\n",
              "    </tr>\n",
              "    <tr>\n",
              "      <th>320563</th>\n",
              "      <td>Walter-Trantow</td>\n",
              "      <td>Port Khadijah</td>\n",
              "    </tr>\n",
              "    <tr>\n",
              "      <th>648336</th>\n",
              "      <td>Bashirian, Kunde and Price</td>\n",
              "      <td>New Lilianland</td>\n",
              "    </tr>\n",
              "  </tbody>\n",
              "</table>\n",
              "</div>"
            ],
            "text/plain": [
              "                               name            city\n",
              "account                                            \n",
              "211829   Kerluke, Koepp and Hilpert      New Jaycob\n",
              "320563               Walter-Trantow   Port Khadijah\n",
              "648336   Bashirian, Kunde and Price  New Lilianland"
            ]
          },
          "execution_count": 26,
          "metadata": {},
          "output_type": "execute_result"
        }
      ],
      "source": [
        "# loc 함수 : 인덱스 이름과 열 이름으로 데이터 추출\n",
        "df.loc[[211829, 320563], [\"name\", \"street\"]]\n",
        "df.loc[205217:, [\"name\", \"street\"]]"
      ]
    },
    {
      "cell_type": "code",
      "execution_count": null,
      "id": "b198b2fe",
      "metadata": {
        "id": "b198b2fe",
        "outputId": "9d727344-d6ca-48c4-e093-2435400fb8d6"
      },
      "outputs": [
        {
          "data": {
            "text/html": [
              "<div>\n",
              "<style scoped>\n",
              "    .dataframe tbody tr th:only-of-type {\n",
              "        vertical-align: middle;\n",
              "    }\n",
              "\n",
              "    .dataframe tbody tr th {\n",
              "        vertical-align: top;\n",
              "    }\n",
              "\n",
              "    .dataframe thead th {\n",
              "        text-align: right;\n",
              "    }\n",
              "</style>\n",
              "<table border=\"1\" class=\"dataframe\">\n",
              "  <thead>\n",
              "    <tr style=\"text-align: right;\">\n",
              "      <th></th>\n",
              "      <th>city</th>\n",
              "      <th>state</th>\n",
              "    </tr>\n",
              "    <tr>\n",
              "      <th>account</th>\n",
              "      <th></th>\n",
              "      <th></th>\n",
              "    </tr>\n",
              "  </thead>\n",
              "  <tbody>\n",
              "    <tr>\n",
              "      <th>648336</th>\n",
              "      <td>New Lilianland</td>\n",
              "      <td>Iowa</td>\n",
              "    </tr>\n",
              "    <tr>\n",
              "      <th>109996</th>\n",
              "      <td>Hyattburgh</td>\n",
              "      <td>Maine</td>\n",
              "    </tr>\n",
              "    <tr>\n",
              "      <th>121213</th>\n",
              "      <td>Shanahanchester</td>\n",
              "      <td>California</td>\n",
              "    </tr>\n",
              "    <tr>\n",
              "      <th>132971</th>\n",
              "      <td>Jeremieburgh</td>\n",
              "      <td>Arkansas</td>\n",
              "    </tr>\n",
              "    <tr>\n",
              "      <th>145068</th>\n",
              "      <td>Lake Gabriellaton</td>\n",
              "      <td>Mississipi</td>\n",
              "    </tr>\n",
              "    <tr>\n",
              "      <th>205217</th>\n",
              "      <td>Deronville</td>\n",
              "      <td>RhodeIsland</td>\n",
              "    </tr>\n",
              "    <tr>\n",
              "      <th>209744</th>\n",
              "      <td>Lake Juliannton</td>\n",
              "      <td>Pennsylvania</td>\n",
              "    </tr>\n",
              "    <tr>\n",
              "      <th>212303</th>\n",
              "      <td>North Ras</td>\n",
              "      <td>Idaho</td>\n",
              "    </tr>\n",
              "  </tbody>\n",
              "</table>\n",
              "</div>"
            ],
            "text/plain": [
              "                      city         state\n",
              "account                                 \n",
              "648336      New Lilianland          Iowa\n",
              "109996          Hyattburgh         Maine\n",
              "121213     Shanahanchester    California\n",
              "132971        Jeremieburgh      Arkansas\n",
              "145068   Lake Gabriellaton    Mississipi\n",
              "205217          Deronville   RhodeIsland\n",
              "209744     Lake Juliannton  Pennsylvania\n",
              "212303           North Ras         Idaho"
            ]
          },
          "execution_count": 29,
          "metadata": {},
          "output_type": "execute_result"
        }
      ],
      "source": [
        "# iloc 함수 : 인덱스 번호로만 데이터 호출\n",
        "df.iloc[:10, :3]"
      ]
    },
    {
      "cell_type": "markdown",
      "id": "8aa154e9",
      "metadata": {
        "id": "8aa154e9"
      },
      "source": [
        "### 5.새로운 인덱스 할당"
      ]
    },
    {
      "cell_type": "code",
      "execution_count": null,
      "id": "fa4d0a0b",
      "metadata": {
        "id": "fa4d0a0b",
        "outputId": "01ef6fe2-d59c-4e5b-a9e0-1efaa860670d"
      },
      "outputs": [
        {
          "data": {
            "text/html": [
              "<div>\n",
              "<style scoped>\n",
              "    .dataframe tbody tr th:only-of-type {\n",
              "        vertical-align: middle;\n",
              "    }\n",
              "\n",
              "    .dataframe tbody tr th {\n",
              "        vertical-align: top;\n",
              "    }\n",
              "\n",
              "    .dataframe thead th {\n",
              "        text-align: right;\n",
              "    }\n",
              "</style>\n",
              "<table border=\"1\" class=\"dataframe\">\n",
              "  <thead>\n",
              "    <tr style=\"text-align: right;\">\n",
              "      <th></th>\n",
              "      <th>account</th>\n",
              "      <th>name</th>\n",
              "      <th>street</th>\n",
              "      <th>city</th>\n",
              "      <th>state</th>\n",
              "      <th>postal-code</th>\n",
              "      <th>Jan</th>\n",
              "      <th>Feb</th>\n",
              "      <th>Mar</th>\n",
              "    </tr>\n",
              "  </thead>\n",
              "  <tbody>\n",
              "    <tr>\n",
              "      <th>0</th>\n",
              "      <td>211829</td>\n",
              "      <td>Kerluke, Koepp and Hilpert</td>\n",
              "      <td>34456 Sean Highway</td>\n",
              "      <td>New Jaycob</td>\n",
              "      <td>Texas</td>\n",
              "      <td>28752</td>\n",
              "      <td>10000</td>\n",
              "      <td>62000</td>\n",
              "      <td>35000</td>\n",
              "    </tr>\n",
              "    <tr>\n",
              "      <th>1</th>\n",
              "      <td>320563</td>\n",
              "      <td>Walter-Trantow</td>\n",
              "      <td>1311 Alvis Tunnel</td>\n",
              "      <td>Port Khadijah</td>\n",
              "      <td>NorthCarolina</td>\n",
              "      <td>38365</td>\n",
              "      <td>95000</td>\n",
              "      <td>45000</td>\n",
              "      <td>35000</td>\n",
              "    </tr>\n",
              "    <tr>\n",
              "      <th>2</th>\n",
              "      <td>648336</td>\n",
              "      <td>Bashirian, Kunde and Price</td>\n",
              "      <td>62184 Schamberger Underpass Apt. 231</td>\n",
              "      <td>New Lilianland</td>\n",
              "      <td>Iowa</td>\n",
              "      <td>76517</td>\n",
              "      <td>91000</td>\n",
              "      <td>120000</td>\n",
              "      <td>35000</td>\n",
              "    </tr>\n",
              "  </tbody>\n",
              "</table>\n",
              "</div>"
            ],
            "text/plain": [
              "   account                        name                                street  \\\n",
              "0   211829  Kerluke, Koepp and Hilpert                    34456 Sean Highway   \n",
              "1   320563              Walter-Trantow                     1311 Alvis Tunnel   \n",
              "2   648336  Bashirian, Kunde and Price  62184 Schamberger Underpass Apt. 231   \n",
              "\n",
              "             city          state  postal-code    Jan     Feb    Mar  \n",
              "0      New Jaycob          Texas        28752  10000   62000  35000  \n",
              "1   Port Khadijah  NorthCarolina        38365  95000   45000  35000  \n",
              "2  New Lilianland           Iowa        76517  91000  120000  35000  "
            ]
          },
          "execution_count": 32,
          "metadata": {},
          "output_type": "execute_result"
        }
      ],
      "source": [
        "# reset_index 함수로 새로운 인덱스 할당된 객체 생성\n",
        "df_new = df.reset_index()\n",
        "df_new"
      ]
    },
    {
      "cell_type": "markdown",
      "id": "64a58f95",
      "metadata": {
        "id": "64a58f95"
      },
      "source": [
        "### 6. drop 함수"
      ]
    },
    {
      "cell_type": "code",
      "execution_count": null,
      "id": "69b045ff",
      "metadata": {
        "id": "69b045ff"
      },
      "outputs": [],
      "source": [
        "# drop 함수 : 특정 열이나 행을 삭제한 객체를 반환\n",
        "df_new.drop(1).head() # 인덱스 1번 컬럼 삭제 --> 삭제가 안됨"
      ]
    },
    {
      "cell_type": "code",
      "execution_count": null,
      "id": "7634180c",
      "metadata": {
        "id": "7634180c",
        "outputId": "77ecde4a-a2f5-4a06-e402-ea748138041e"
      },
      "outputs": [
        {
          "data": {
            "text/html": [
              "<div>\n",
              "<style scoped>\n",
              "    .dataframe tbody tr th:only-of-type {\n",
              "        vertical-align: middle;\n",
              "    }\n",
              "\n",
              "    .dataframe tbody tr th {\n",
              "        vertical-align: top;\n",
              "    }\n",
              "\n",
              "    .dataframe thead th {\n",
              "        text-align: right;\n",
              "    }\n",
              "</style>\n",
              "<table border=\"1\" class=\"dataframe\">\n",
              "  <thead>\n",
              "    <tr style=\"text-align: right;\">\n",
              "      <th></th>\n",
              "      <th>account</th>\n",
              "      <th>name</th>\n",
              "      <th>city</th>\n",
              "      <th>state</th>\n",
              "      <th>postal-code</th>\n",
              "      <th>Jan</th>\n",
              "      <th>Feb</th>\n",
              "      <th>Mar</th>\n",
              "    </tr>\n",
              "  </thead>\n",
              "  <tbody>\n",
              "    <tr>\n",
              "      <th>3</th>\n",
              "      <td>109996</td>\n",
              "      <td>D'Amore, Gleichner and Bode</td>\n",
              "      <td>Hyattburgh</td>\n",
              "      <td>Maine</td>\n",
              "      <td>46021</td>\n",
              "      <td>45000</td>\n",
              "      <td>120000</td>\n",
              "      <td>10000</td>\n",
              "    </tr>\n",
              "    <tr>\n",
              "      <th>7</th>\n",
              "      <td>205217</td>\n",
              "      <td>Kovacek-Johnston</td>\n",
              "      <td>Deronville</td>\n",
              "      <td>RhodeIsland</td>\n",
              "      <td>53461</td>\n",
              "      <td>145000</td>\n",
              "      <td>95000</td>\n",
              "      <td>35000</td>\n",
              "    </tr>\n",
              "    <tr>\n",
              "      <th>8</th>\n",
              "      <td>209744</td>\n",
              "      <td>Champlin-Morar</td>\n",
              "      <td>Lake Juliannton</td>\n",
              "      <td>Pennsylvania</td>\n",
              "      <td>64415</td>\n",
              "      <td>70000</td>\n",
              "      <td>95000</td>\n",
              "      <td>35000</td>\n",
              "    </tr>\n",
              "    <tr>\n",
              "      <th>9</th>\n",
              "      <td>212303</td>\n",
              "      <td>Gerhold-Maggio</td>\n",
              "      <td>North Ras</td>\n",
              "      <td>Idaho</td>\n",
              "      <td>46308</td>\n",
              "      <td>70000</td>\n",
              "      <td>120000</td>\n",
              "      <td>35000</td>\n",
              "    </tr>\n",
              "    <tr>\n",
              "      <th>10</th>\n",
              "      <td>214098</td>\n",
              "      <td>Goodwin, Homenick and Jerde</td>\n",
              "      <td>Rosaberg</td>\n",
              "      <td>Tenessee</td>\n",
              "      <td>47743</td>\n",
              "      <td>45000</td>\n",
              "      <td>120000</td>\n",
              "      <td>55000</td>\n",
              "    </tr>\n",
              "    <tr>\n",
              "      <th>11</th>\n",
              "      <td>231907</td>\n",
              "      <td>Hahn-Moore</td>\n",
              "      <td>Norbertomouth</td>\n",
              "      <td>NorthDakota</td>\n",
              "      <td>31415</td>\n",
              "      <td>150000</td>\n",
              "      <td>10000</td>\n",
              "      <td>162000</td>\n",
              "    </tr>\n",
              "    <tr>\n",
              "      <th>12</th>\n",
              "      <td>242368</td>\n",
              "      <td>Frami, Anderson and Donnelly</td>\n",
              "      <td>East Davian</td>\n",
              "      <td>Iowa</td>\n",
              "      <td>72686</td>\n",
              "      <td>162000</td>\n",
              "      <td>120000</td>\n",
              "      <td>35000</td>\n",
              "    </tr>\n",
              "    <tr>\n",
              "      <th>13</th>\n",
              "      <td>268755</td>\n",
              "      <td>Walsh-Haley</td>\n",
              "      <td>Goodwinmouth</td>\n",
              "      <td>RhodeIsland</td>\n",
              "      <td>31919</td>\n",
              "      <td>55000</td>\n",
              "      <td>120000</td>\n",
              "      <td>35000</td>\n",
              "    </tr>\n",
              "    <tr>\n",
              "      <th>14</th>\n",
              "      <td>273274</td>\n",
              "      <td>McDermott PLC</td>\n",
              "      <td>Kathryneborough</td>\n",
              "      <td>Delaware</td>\n",
              "      <td>27933</td>\n",
              "      <td>150000</td>\n",
              "      <td>120000</td>\n",
              "      <td>70000</td>\n",
              "    </tr>\n",
              "  </tbody>\n",
              "</table>\n",
              "</div>"
            ],
            "text/plain": [
              "    account                          name             city         state  \\\n",
              "3    109996   D'Amore, Gleichner and Bode       Hyattburgh         Maine   \n",
              "7    205217              Kovacek-Johnston       Deronville   RhodeIsland   \n",
              "8    209744                Champlin-Morar  Lake Juliannton  Pennsylvania   \n",
              "9    212303                Gerhold-Maggio        North Ras         Idaho   \n",
              "10   214098   Goodwin, Homenick and Jerde         Rosaberg      Tenessee   \n",
              "11   231907                    Hahn-Moore    Norbertomouth   NorthDakota   \n",
              "12   242368  Frami, Anderson and Donnelly      East Davian          Iowa   \n",
              "13   268755                   Walsh-Haley     Goodwinmouth   RhodeIsland   \n",
              "14   273274                 McDermott PLC  Kathryneborough      Delaware   \n",
              "\n",
              "    postal-code     Jan     Feb     Mar  \n",
              "3         46021   45000  120000   10000  \n",
              "7         53461  145000   95000   35000  \n",
              "8         64415   70000   95000   35000  \n",
              "9         46308   70000  120000   35000  \n",
              "10        47743   45000  120000   55000  \n",
              "11        31415  150000   10000  162000  \n",
              "12        72686  162000  120000   35000  \n",
              "13        31919   55000  120000   35000  \n",
              "14        27933  150000  120000   70000  "
            ]
          },
          "execution_count": 47,
          "metadata": {},
          "output_type": "execute_result"
        }
      ],
      "source": [
        "# 실제로 삭제하려면\n",
        "df_drop = df_new.drop(1) # 삭제하고 결과를 저장한 후 사용\n",
        "df_new.drop(1, inplace=True) # 삭제하고 바로 적용: (inplace=True 옵션이 있어야함)\n",
        "df_new.drop(\"account\", axis=1) # account 열 제거\n",
        "df_new.drop([\"account\", \"name\"], axis=1) # account, name 열 제거"
      ]
    },
    {
      "cell_type": "markdown",
      "id": "285880b7",
      "metadata": {
        "id": "285880b7"
      },
      "source": [
        "------------------------"
      ]
    },
    {
      "cell_type": "markdown",
      "id": "89e3c211",
      "metadata": {
        "id": "89e3c211"
      },
      "source": [
        "## <a name=\"04.3그룹별집계\">04.3 그룹별 집계</a>"
      ]
    },
    {
      "cell_type": "markdown",
      "id": "4d530aba",
      "metadata": {
        "id": "4d530aba"
      },
      "source": [
        "### 1. 그룹별 집계의 개념\n",
        "- 그룹별 집계(groupby) : 데이터로부터 동일한 객체를 가진 데이터만 따로 뽑아 기술통계 데이터를 추출\n",
        "- 엑셀의 피봇테이블(pivot table) 기능과 비슷\n",
        "- groupby 명령어는 분할→적용→결합 과정을 거침\n",
        " - - 분할(split) : 같은 종류의 데이터끼리 나누는 기능 <br>\n",
        " - - 적용(apply) : 데이터 블록마다 sum, count, mean 등 연산 적용\n",
        " - - 결합(combine) : 연산 함수가 적용된 각 블록들을 합침"
      ]
    },
    {
      "cell_type": "markdown",
      "id": "730af36b",
      "metadata": {
        "id": "730af36b"
      },
      "source": [
        "### 2. 그룹별 집계 사용하기"
      ]
    },
    {
      "cell_type": "code",
      "execution_count": null,
      "id": "b56b196e",
      "metadata": {
        "id": "b56b196e",
        "outputId": "93999fbd-94fc-433a-bd57-48815d3c019f"
      },
      "outputs": [
        {
          "data": {
            "text/html": [
              "<div>\n",
              "<style scoped>\n",
              "    .dataframe tbody tr th:only-of-type {\n",
              "        vertical-align: middle;\n",
              "    }\n",
              "\n",
              "    .dataframe tbody tr th {\n",
              "        vertical-align: top;\n",
              "    }\n",
              "\n",
              "    .dataframe thead th {\n",
              "        text-align: right;\n",
              "    }\n",
              "</style>\n",
              "<table border=\"1\" class=\"dataframe\">\n",
              "  <thead>\n",
              "    <tr style=\"text-align: right;\">\n",
              "      <th></th>\n",
              "      <th>Team</th>\n",
              "      <th>Rank</th>\n",
              "      <th>Year</th>\n",
              "      <th>Points</th>\n",
              "    </tr>\n",
              "  </thead>\n",
              "  <tbody>\n",
              "    <tr>\n",
              "      <th>0</th>\n",
              "      <td>Riders</td>\n",
              "      <td>1</td>\n",
              "      <td>2014</td>\n",
              "      <td>876</td>\n",
              "    </tr>\n",
              "    <tr>\n",
              "      <th>1</th>\n",
              "      <td>Riders</td>\n",
              "      <td>2</td>\n",
              "      <td>2015</td>\n",
              "      <td>789</td>\n",
              "    </tr>\n",
              "    <tr>\n",
              "      <th>2</th>\n",
              "      <td>Devils</td>\n",
              "      <td>2</td>\n",
              "      <td>2014</td>\n",
              "      <td>863</td>\n",
              "    </tr>\n",
              "    <tr>\n",
              "      <th>3</th>\n",
              "      <td>Devils</td>\n",
              "      <td>3</td>\n",
              "      <td>2015</td>\n",
              "      <td>673</td>\n",
              "    </tr>\n",
              "    <tr>\n",
              "      <th>4</th>\n",
              "      <td>Kings</td>\n",
              "      <td>3</td>\n",
              "      <td>2014</td>\n",
              "      <td>741</td>\n",
              "    </tr>\n",
              "    <tr>\n",
              "      <th>5</th>\n",
              "      <td>kings</td>\n",
              "      <td>4</td>\n",
              "      <td>2015</td>\n",
              "      <td>812</td>\n",
              "    </tr>\n",
              "    <tr>\n",
              "      <th>6</th>\n",
              "      <td>Kings</td>\n",
              "      <td>1</td>\n",
              "      <td>2016</td>\n",
              "      <td>756</td>\n",
              "    </tr>\n",
              "    <tr>\n",
              "      <th>7</th>\n",
              "      <td>Kings</td>\n",
              "      <td>1</td>\n",
              "      <td>2017</td>\n",
              "      <td>788</td>\n",
              "    </tr>\n",
              "    <tr>\n",
              "      <th>8</th>\n",
              "      <td>Riders</td>\n",
              "      <td>2</td>\n",
              "      <td>2016</td>\n",
              "      <td>694</td>\n",
              "    </tr>\n",
              "    <tr>\n",
              "      <th>9</th>\n",
              "      <td>Royals</td>\n",
              "      <td>4</td>\n",
              "      <td>2014</td>\n",
              "      <td>701</td>\n",
              "    </tr>\n",
              "    <tr>\n",
              "      <th>10</th>\n",
              "      <td>Royals</td>\n",
              "      <td>1</td>\n",
              "      <td>2015</td>\n",
              "      <td>804</td>\n",
              "    </tr>\n",
              "    <tr>\n",
              "      <th>11</th>\n",
              "      <td>Riders</td>\n",
              "      <td>2</td>\n",
              "      <td>2017</td>\n",
              "      <td>690</td>\n",
              "    </tr>\n",
              "  </tbody>\n",
              "</table>\n",
              "</div>"
            ],
            "text/plain": [
              "      Team  Rank  Year  Points\n",
              "0   Riders     1  2014     876\n",
              "1   Riders     2  2015     789\n",
              "2   Devils     2  2014     863\n",
              "3   Devils     3  2015     673\n",
              "4    Kings     3  2014     741\n",
              "5    kings     4  2015     812\n",
              "6    Kings     1  2016     756\n",
              "7    Kings     1  2017     788\n",
              "8   Riders     2  2016     694\n",
              "9   Royals     4  2014     701\n",
              "10  Royals     1  2015     804\n",
              "11  Riders     2  2017     690"
            ]
          },
          "execution_count": 49,
          "metadata": {},
          "output_type": "execute_result"
        }
      ],
      "source": [
        "# 그룹별 집계의 기본형\n",
        "ipl_data = {'Team':['Riders', 'Riders', 'Devils', 'Devils', 'Kings', 'Kings', 'Kings', 'Kings', 'Riders', 'Royals', 'Royals', 'Riders'],\n",
        "            'Rank':[1, 2, 2, 3, 4, 1, 1, 2, 4, 1, 2],\n",
        "            'Year':[2014, 2015, 2014, 2015, 2014, 2015, 2016, 2017, 2016, 2014, 2015, 2017],\n",
        "            'Points':[876, 789, 863, 673, 741, 812, 756, 788, 694, 701, 804, 690]}\n",
        "\n",
        "df = pd.DataFrame(ipl_data)\n",
        "df"
      ]
    },
    {
      "cell_type": "code",
      "execution_count": null,
      "id": "2068702a",
      "metadata": {
        "id": "2068702a",
        "outputId": "26a7d49d-93e0-4fc6-c477-f2f21fadbb31"
      },
      "outputs": [
        {
          "data": {
            "text/plain": [
              "Team\n",
              "Devils    1536\n",
              "Kings     2285\n",
              "Riders    3049\n",
              "Royals    1505\n",
              "kings      812\n",
              "Name: Points, dtype: int64"
            ]
          },
          "execution_count": 50,
          "metadata": {},
          "output_type": "execute_result"
        }
      ],
      "source": [
        "# 그룹별 집계의 기본형\n",
        "df.groupby(\"Team\")[\"Points\"].sum() # Team별 그룹하여 Points의 합계 구하기"
      ]
    },
    {
      "cell_type": "code",
      "execution_count": null,
      "id": "2e387b47",
      "metadata": {
        "id": "2e387b47"
      },
      "outputs": [],
      "source": [
        "# 멀티 인덱스 그룹별 집계\n",
        "# - 한개 이상의 열을 기준으로 그룹별 집계를 실행\n",
        "df.groupby([\"Team\", \"Year\"])[\"Points\"].sum()"
      ]
    },
    {
      "cell_type": "code",
      "execution_count": null,
      "id": "ee1c1b28",
      "metadata": {
        "id": "ee1c1b28",
        "outputId": "4e27fd1d-1a88-4901-9631-e48c02c5f102"
      },
      "outputs": [
        {
          "data": {
            "text/html": [
              "<div>\n",
              "<style scoped>\n",
              "    .dataframe tbody tr th:only-of-type {\n",
              "        vertical-align: middle;\n",
              "    }\n",
              "\n",
              "    .dataframe tbody tr th {\n",
              "        vertical-align: top;\n",
              "    }\n",
              "\n",
              "    .dataframe thead th {\n",
              "        text-align: right;\n",
              "    }\n",
              "</style>\n",
              "<table border=\"1\" class=\"dataframe\">\n",
              "  <thead>\n",
              "    <tr style=\"text-align: right;\">\n",
              "      <th></th>\n",
              "      <th>Team</th>\n",
              "      <th>Year</th>\n",
              "      <th>Points</th>\n",
              "    </tr>\n",
              "  </thead>\n",
              "  <tbody>\n",
              "    <tr>\n",
              "      <th>0</th>\n",
              "      <td>Devils</td>\n",
              "      <td>2014</td>\n",
              "      <td>863</td>\n",
              "    </tr>\n",
              "    <tr>\n",
              "      <th>1</th>\n",
              "      <td>Devils</td>\n",
              "      <td>2015</td>\n",
              "      <td>673</td>\n",
              "    </tr>\n",
              "    <tr>\n",
              "      <th>2</th>\n",
              "      <td>Kings</td>\n",
              "      <td>2014</td>\n",
              "      <td>741</td>\n",
              "    </tr>\n",
              "    <tr>\n",
              "      <th>3</th>\n",
              "      <td>Kings</td>\n",
              "      <td>2016</td>\n",
              "      <td>756</td>\n",
              "    </tr>\n",
              "    <tr>\n",
              "      <th>4</th>\n",
              "      <td>Kings</td>\n",
              "      <td>2017</td>\n",
              "      <td>788</td>\n",
              "    </tr>\n",
              "    <tr>\n",
              "      <th>5</th>\n",
              "      <td>Riders</td>\n",
              "      <td>2014</td>\n",
              "      <td>876</td>\n",
              "    </tr>\n",
              "    <tr>\n",
              "      <th>6</th>\n",
              "      <td>Riders</td>\n",
              "      <td>2015</td>\n",
              "      <td>789</td>\n",
              "    </tr>\n",
              "    <tr>\n",
              "      <th>7</th>\n",
              "      <td>Riders</td>\n",
              "      <td>2016</td>\n",
              "      <td>694</td>\n",
              "    </tr>\n",
              "    <tr>\n",
              "      <th>8</th>\n",
              "      <td>Riders</td>\n",
              "      <td>2017</td>\n",
              "      <td>690</td>\n",
              "    </tr>\n",
              "    <tr>\n",
              "      <th>9</th>\n",
              "      <td>Royals</td>\n",
              "      <td>2014</td>\n",
              "      <td>701</td>\n",
              "    </tr>\n",
              "    <tr>\n",
              "      <th>10</th>\n",
              "      <td>Royals</td>\n",
              "      <td>2015</td>\n",
              "      <td>804</td>\n",
              "    </tr>\n",
              "    <tr>\n",
              "      <th>11</th>\n",
              "      <td>kings</td>\n",
              "      <td>2015</td>\n",
              "      <td>812</td>\n",
              "    </tr>\n",
              "  </tbody>\n",
              "</table>\n",
              "</div>"
            ],
            "text/plain": [
              "      Team  Year  Points\n",
              "0   Devils  2014     863\n",
              "1   Devils  2015     673\n",
              "2    Kings  2014     741\n",
              "3    Kings  2016     756\n",
              "4    Kings  2017     788\n",
              "5   Riders  2014     876\n",
              "6   Riders  2015     789\n",
              "7   Riders  2016     694\n",
              "8   Riders  2017     690\n",
              "9   Royals  2014     701\n",
              "10  Royals  2015     804\n",
              "11   kings  2015     812"
            ]
          },
          "execution_count": 56,
          "metadata": {},
          "output_type": "execute_result"
        }
      ],
      "source": [
        "# 멀티 인덱스\n",
        "# - 한개이상의 열로 그룹별 집계 수행하면 여러 열이 모두 인덱스로 반환됨\n",
        "multi_groupby = df.groupby([\"Team\", \"Year\"])[\"Points\"].sum()\n",
        "multi_groupby.index"
      ]
    },
    {
      "cell_type": "code",
      "execution_count": null,
      "id": "0c510798",
      "metadata": {
        "id": "0c510798",
        "outputId": "cf3a981c-9950-48fd-885a-f02ec660a0c0"
      },
      "outputs": [],
      "source": [
        "multi_groupby[\"Devils\":\"Kings\"]"
      ]
    },
    {
      "cell_type": "code",
      "execution_count": null,
      "id": "657598b0",
      "metadata": {
        "id": "657598b0",
        "outputId": "686c9cad-2ec9-4eed-83af-139a21512780",
        "scrolled": true
      },
      "outputs": [],
      "source": [
        "multi_groupby.unstack()"
      ]
    },
    {
      "cell_type": "code",
      "execution_count": null,
      "id": "232ec67c",
      "metadata": {},
      "outputs": [],
      "source": [
        "# - swaplevel 함수로 인덱스 간 레벨을 변경\n",
        "# - sort_index 함수로 첫 번째 인덱스를 기준으로 데이터 재정렬\n",
        "multi_groupby.swaplevel().sort_index()\n",
        "# multi_groupby.unstack().T"
      ]
    },
    {
      "cell_type": "code",
      "execution_count": null,
      "id": "f3219fad",
      "metadata": {},
      "outputs": [],
      "source": [
        "multi_groupby.sum(level=0)\n",
        "multi_groupby.sum(level=1)"
      ]
    },
    {
      "cell_type": "markdown",
      "id": "de2c90ef",
      "metadata": {
        "id": "de2c90ef"
      },
      "source": [
        "### 3. 그룹화된 상태\n",
        "- 그룹화된(grouped) 상태 : 분할→적용→결합 중에서 분할까지만 이루어진 상태\n",
        "- get_group 함수 : 해당 키 값을 기준으로 분할된 데이터프레임 객체를 확인"
      ]
    },
    {
      "cell_type": "code",
      "execution_count": null,
      "id": "92bfa2fd",
      "metadata": {
        "id": "92bfa2fd",
        "outputId": "5662e599-f86d-4e24-e1d8-b58b3a94b8a8"
      },
      "outputs": [
        {
          "data": {
            "text/plain": [
              "Team\n",
              "Devils    1536\n",
              "Kings     2285\n",
              "Riders    3049\n",
              "Royals    1505\n",
              "kings      812\n",
              "Name: Points, dtype: int64"
            ]
          },
          "execution_count": 64,
          "metadata": {},
          "output_type": "execute_result"
        }
      ],
      "source": [
        "grouped = df.groupby(\"Team\")\n",
        "grouped.get_group(\"Riders\")"
      ]
    },
    {
      "cell_type": "markdown",
      "id": "166d7ac4",
      "metadata": {
        "id": "166d7ac4"
      },
      "source": [
        "- **집계(aggregation)** : 요약된 통계 정보를 추출"
      ]
    },
    {
      "cell_type": "code",
      "execution_count": null,
      "id": "ef99240b",
      "metadata": {
        "id": "ef99240b",
        "scrolled": true
      },
      "outputs": [],
      "source": [
        "# 집계(aggregation) : 요약된 통계 정보를 추출\n",
        "grouped.agg(min)\n",
        "grouped.agg(np.mean)"
      ]
    },
    {
      "cell_type": "markdown",
      "id": "924408c9",
      "metadata": {},
      "source": [
        "- **변환(transformation)** : 해당 정보를 변환, 키 값별로 요약된 정보가 아닌 개별 데이터 변환 지원"
      ]
    },
    {
      "cell_type": "code",
      "execution_count": null,
      "id": "kkrFzaCWUXCI",
      "metadata": {
        "id": "kkrFzaCWUXCI"
      },
      "outputs": [],
      "source": [
        "# 변환\n",
        "grouped.transform(max)\n",
        "\n",
        "# z점수 : 표준편차상에 어떤 위치를 차지하는지를 보여주는 차원없는 수치\n",
        "score = lambda x: (x - x.mean()) / x.std()\n",
        "grouped.transform(score)"
      ]
    },
    {
      "cell_type": "markdown",
      "id": "fb1aa00e",
      "metadata": {
        "id": "fb1aa00e"
      },
      "source": [
        "- **필터(filter)** : 특정 조건으로 데이터를 검색"
      ]
    },
    {
      "cell_type": "code",
      "execution_count": null,
      "id": "51714a27",
      "metadata": {
        "id": "51714a27"
      },
      "outputs": [],
      "source": [
        "df.groupby(\"Team\").filter(lambda x: len(x) >= 3) # Team별 레코드 개수 3개 이상인 Team\n",
        "df.groupby(\"Team\").filter(lambda x: x[\"Points\"].max() > 800) # Team별 Points의 최고값이 800이상인 Team"
      ]
    },
    {
      "cell_type": "markdown",
      "id": "b6197470",
      "metadata": {
        "id": "b6197470"
      },
      "source": [
        "-----------------"
      ]
    },
    {
      "cell_type": "markdown",
      "id": "1719e385",
      "metadata": {
        "id": "1719e385"
      },
      "source": [
        "## <a name=\"04.4병합과연결\">04.4 병합과 연결</a>"
      ]
    },
    {
      "cell_type": "markdown",
      "id": "b3f465c3",
      "metadata": {
        "id": "b3f465c3"
      },
      "source": [
        "### 1. 병합\n",
        "병합(merge) : 두 개의 데이터를 특정 기준한 기준을 가지고 하나로 통합하는 작업"
      ]
    },
    {
      "cell_type": "code",
      "execution_count": null,
      "id": "49b08067",
      "metadata": {
        "id": "49b08067"
      },
      "outputs": [],
      "source": [
        "raw_data = {\"subject_id\": [\"1\", \"2\", \"3\", \"4\", \"5\", \"7\", \"8\", \"9\", \"10\", \"11\"],\n",
        "            \"test_score\": [51, 15, 15, 61, 14, 15, 1, 61, 16]}\n",
        "\n",
        "df_left = pd.DataFrame(raw_data, columns=[\"subject_id\", \"teat_score\"])\n",
        "df_left"
      ]
    },
    {
      "cell_type": "code",
      "execution_count": null,
      "id": "70284dbf",
      "metadata": {
        "id": "70284dbf"
      },
      "outputs": [],
      "source": [
        "raw_data = {\"subject_id\": [\"4\", \"5\", \"6\", \"7\", \"8\"],\n",
        "            \"first_name\": [\"Billy\", \"Brian\", \"Bran\", \"Bryce\", \"Betty\"],\n",
        "            \"last_name\": [\"Bonder\", \"Black\", \"Balwner\", \"Brice\", \"Btisan\"]}\n",
        "\n",
        "df_right = pd.DataFrame(raw_data, columns=[\"subject_id\", \"first_name\", \"last_name\"])\n",
        "df_right"
      ]
    },
    {
      "cell_type": "code",
      "execution_count": null,
      "id": "4b3f17b1",
      "metadata": {
        "id": "4b3f17b1",
        "scrolled": true
      },
      "outputs": [],
      "source": [
        "# 내부 조인: 양쪽의 교집합 데이터를 통합\n",
        "pd.merge(left=df_left, right=df_right, on=\"subject_id\", how=\"inner\")"
      ]
    },
    {
      "cell_type": "code",
      "execution_count": null,
      "id": "1c0682ce",
      "metadata": {
        "id": "1c0682ce"
      },
      "outputs": [],
      "source": [
        "# 왼쪽 조인, 오른쪽 조인\n",
        "pd.merge(df_left, df_right, on=\"subject_id\", how=\"left\")\n",
        "pd.merge(df_left, df_right, on=\"subject_id\", how=\"right\")"
      ]
    },
    {
      "cell_type": "code",
      "execution_count": null,
      "id": "9ba704b4",
      "metadata": {
        "id": "9ba704b4"
      },
      "outputs": [],
      "source": [
        "# 완전 조인\n",
        "pd.merge(df_left, df_right, on=\"subject_id\", how=\"outer\")"
      ]
    },
    {
      "cell_type": "markdown",
      "id": "608cca3b",
      "metadata": {
        "id": "608cca3b"
      },
      "source": [
        "### 2. 연결(concatenate)"
      ]
    },
    {
      "cell_type": "code",
      "execution_count": null,
      "id": "b23a48fc",
      "metadata": {
        "id": "b23a48fc"
      },
      "outputs": [],
      "source": [
        "# 디렉토리에서 파일명이 sales 가 포함된 파일명 가져오기\n",
        "import os\n",
        "filenames = [os.path.join(DIR, filename) for filename in os.listdir(DIR) if \"sales\" in filename]\n",
        "print(filenames)\n",
        "\n",
        "# 파일 Pandas DataFrame으로 읽어오기\n",
        "df_list = [pd.read_excel(filename, engine=\"openpyxl\") for filename in filenames]\n",
        "for filename, df in zip(filenames, df_list):\n",
        "    print(filename, type(df), len(df))\n",
        "\n",
        "# 파일 병합하기\n",
        "df = pd.concat(df_list, axis=0)\n",
        "print(f\"Total count : {len(df)}\") # 384\n",
        "df.reset_index(drop=True)\n",
        "df"
      ]
    },
    {
      "cell_type": "code",
      "execution_count": null,
      "id": "9aadd0e1",
      "metadata": {},
      "outputs": [],
      "source": [
        "df_1, df_2, df_3 = [pd.read_excel(filename, engine=\"openpyxl\") for filename in filenames]\n",
        "df = df_1.append(df_2)\n",
        "df = df.append(df_3)\n",
        "df"
      ]
    },
    {
      "cell_type": "markdown",
      "id": "70d0ed11",
      "metadata": {
        "id": "70d0ed11"
      },
      "source": [
        "--------------"
      ]
    }
  ],
  "metadata": {
    "colab": {
      "include_colab_link": true,
      "provenance": []
    },
    "kernelspec": {
      "display_name": "Python 3 (ipykernel)",
      "language": "python",
      "name": "python3"
    },
    "language_info": {
      "codemirror_mode": {
        "name": "ipython",
        "version": 3
      },
      "file_extension": ".py",
      "mimetype": "text/x-python",
      "name": "python",
      "nbconvert_exporter": "python",
      "pygments_lexer": "ipython3",
      "version": "3.12.2"
    }
  },
  "nbformat": 4,
  "nbformat_minor": 5
}
