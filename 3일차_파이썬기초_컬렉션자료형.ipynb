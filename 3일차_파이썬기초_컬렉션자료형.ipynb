{
  "nbformat": 4,
  "nbformat_minor": 0,
  "metadata": {
    "colab": {
      "provenance": [],
      "authorship_tag": "ABX9TyMx1b4N8706b0lYfbQAt7k6",
      "include_colab_link": true
    },
    "kernelspec": {
      "name": "python3",
      "display_name": "Python 3"
    },
    "language_info": {
      "name": "python"
    }
  },
  "cells": [
    {
      "cell_type": "markdown",
      "metadata": {
        "id": "view-in-github",
        "colab_type": "text"
      },
      "source": [
        "<a href=\"https://colab.research.google.com/github/y109240/dataAnalysis/blob/main/3%EC%9D%BC%EC%B0%A8_%ED%8C%8C%EC%9D%B4%EC%8D%AC%EA%B8%B0%EC%B4%88_%EC%BB%AC%EB%A0%89%EC%85%98%EC%9E%90%EB%A3%8C%ED%98%95.ipynb\" target=\"_parent\"><img src=\"https://colab.research.google.com/assets/colab-badge.svg\" alt=\"Open In Colab\"/></a>"
      ]
    },
    {
      "cell_type": "markdown",
      "source": [
        "# 3.컬렉션 자료형"
      ],
      "metadata": {
        "id": "1Ta-1AwkTnti"
      }
    },
    {
      "cell_type": "markdown",
      "source": [
        "## 3-1.리스트(list)"
      ],
      "metadata": {
        "id": "34Mbv05uTso6"
      }
    },
    {
      "cell_type": "markdown",
      "source": [
        "### 리스트 생성"
      ],
      "metadata": {
        "id": "Dlb0NZjmT3JZ"
      }
    },
    {
      "cell_type": "code",
      "source": [
        "# 빈 리스트 생성\n",
        "a = []\n",
        "a = list()\n",
        "print(type(a))\n",
        "print(a)"
      ],
      "metadata": {
        "colab": {
          "base_uri": "https://localhost:8080/"
        },
        "id": "LCOMkqNUT4nD",
        "outputId": "020011c9-2eed-4b20-d401-b65e1b6f640d"
      },
      "execution_count": 5,
      "outputs": [
        {
          "output_type": "stream",
          "name": "stdout",
          "text": [
            "<class 'list'>\n",
            "[]\n"
          ]
        }
      ]
    },
    {
      "cell_type": "code",
      "execution_count": 8,
      "metadata": {
        "colab": {
          "base_uri": "https://localhost:8080/"
        },
        "id": "mFlzAa9JNWnk",
        "outputId": "308d710c-7289-4888-fa9f-e41616320d2e"
      },
      "outputs": [
        {
          "output_type": "stream",
          "name": "stdout",
          "text": [
            "[1, 'apple', '딸기', 3.14, 3.141592653589793, 30]\n",
            "[1, 2, [1, 'apple', '딸기', 3.14, 3.141592653589793, 30], ['사과', '딸기'], {'k': 'v'}]\n"
          ]
        }
      ],
      "source": [
        "# 초기 데이터 넣고 리스트 생성\n",
        "import math\n",
        "a = [1, 2, 3, 4, 5]\n",
        "a = [1, \"apple\", \"딸기\", 3.14, math.pi, max(10, 20, 30)]\n",
        "print(a)\n",
        "b = [1, 2, a, [\"사과\", \"딸기\"], {\"k\":\"v\"}]\n",
        "print(b)"
      ]
    },
    {
      "cell_type": "code",
      "source": [
        "# 반복문을 이용하여 리스트 생성\n",
        "numlist = []\n",
        "for num in range(1, 21, 2):\n",
        "  numlist.append(num)\n",
        "print(numlist)"
      ],
      "metadata": {
        "colab": {
          "base_uri": "https://localhost:8080/"
        },
        "id": "IIPMcZw7VJ6e",
        "outputId": "bd1d40df-08d2-4959-f0c9-264230a53ff2"
      },
      "execution_count": 9,
      "outputs": [
        {
          "output_type": "stream",
          "name": "stdout",
          "text": [
            "[1, 3, 5, 7, 9, 11, 13, 15, 17, 19]\n"
          ]
        }
      ]
    },
    {
      "cell_type": "code",
      "source": [
        "numlist = list(range(1, 21, 2))\n",
        "print(numlist)"
      ],
      "metadata": {
        "colab": {
          "base_uri": "https://localhost:8080/"
        },
        "id": "weiUZqY4WwyK",
        "outputId": "77dc7076-3293-4123-d407-34f8b3f37362"
      },
      "execution_count": 14,
      "outputs": [
        {
          "output_type": "stream",
          "name": "stdout",
          "text": [
            "[1, 3, 5, 7, 9, 11, 13, 15, 17, 19]\n"
          ]
        }
      ]
    },
    {
      "cell_type": "code",
      "source": [
        "# 리스트 컴프리헨션\n",
        "numlist = [num for num in range(1, 21, 2)]\n",
        "print(numlist)"
      ],
      "metadata": {
        "colab": {
          "base_uri": "https://localhost:8080/"
        },
        "id": "TRgVAHqtV0qg",
        "outputId": "55794623-613d-4b8b-cb6f-5e2ec4176d2b"
      },
      "execution_count": 12,
      "outputs": [
        {
          "output_type": "stream",
          "name": "stdout",
          "text": [
            "[1, 3, 5, 7, 9, 11, 13, 15, 17, 19]\n"
          ]
        }
      ]
    },
    {
      "cell_type": "code",
      "source": [
        "print(b)\n",
        "for i in b:\n",
        "  print(i)"
      ],
      "metadata": {
        "colab": {
          "base_uri": "https://localhost:8080/"
        },
        "id": "VIW-upXvViGY",
        "outputId": "bf2690eb-26a5-4415-9aae-bddb9c6558cd"
      },
      "execution_count": 11,
      "outputs": [
        {
          "output_type": "stream",
          "name": "stdout",
          "text": [
            "[1, 2, [1, 'apple', '딸기', 3.14, 3.141592653589793, 30], ['사과', '딸기'], {'k': 'v'}]\n",
            "1\n",
            "2\n",
            "[1, 'apple', '딸기', 3.14, 3.141592653589793, 30]\n",
            "['사과', '딸기']\n",
            "{'k': 'v'}\n"
          ]
        }
      ]
    },
    {
      "cell_type": "markdown",
      "source": [
        "### 리스트 요소에 접근"
      ],
      "metadata": {
        "id": "maT-UNxIXXQJ"
      }
    },
    {
      "cell_type": "code",
      "source": [
        "colors = [\"빨강\", \"파랑\", \"초록\", \"노랑\", \"보라\"]\n",
        "print(colors[0])\n",
        "print(colors[2:4])\n",
        "print(colors[::-1])\n",
        "# 슬라이싱은 리스트로 출력\n",
        "for color in colors:\n",
        "  print(f\"나는 '{color}' 색상을 좋아합니다.\")"
      ],
      "metadata": {
        "colab": {
          "base_uri": "https://localhost:8080/"
        },
        "id": "UEY7aqpoXa0g",
        "outputId": "77af39ae-9446-4482-ecbe-b1d6010554d9"
      },
      "execution_count": 18,
      "outputs": [
        {
          "output_type": "stream",
          "name": "stdout",
          "text": [
            "빨강\n",
            "['초록', '노랑']\n",
            "['보라', '노랑', '초록', '파랑', '빨강']\n",
            "나는 '빨강' 색상을 좋아합니다.\n",
            "나는 '파랑' 색상을 좋아합니다.\n",
            "나는 '초록' 색상을 좋아합니다.\n",
            "나는 '노랑' 색상을 좋아합니다.\n",
            "나는 '보라' 색상을 좋아합니다.\n"
          ]
        }
      ]
    },
    {
      "cell_type": "markdown",
      "source": [
        "### 리스트에 요소 추가하기"
      ],
      "metadata": {
        "id": "ukaq95VUYmyM"
      }
    },
    {
      "cell_type": "code",
      "source": [
        "print(colors)\n",
        "\n",
        "# 인덱스 2 위치에 \"분홍\" 넣기\n",
        "colors.insert(2, \"분홍\")\n",
        "print(colors)\n",
        "\n",
        "# 맨뒤에 추가\n",
        "colors.append(\"베이지\")\n",
        "print(colors)"
      ],
      "metadata": {
        "id": "iaXNG4ZgYqK2"
      },
      "execution_count": null,
      "outputs": []
    },
    {
      "cell_type": "markdown",
      "source": [
        "### 리스트 특정 위치의 요소값 변경하기"
      ],
      "metadata": {
        "id": "fg8A204EZesL"
      }
    },
    {
      "cell_type": "code",
      "source": [
        "colors[3] = \"주황\"\n",
        "print(colors)\n",
        "\n",
        "colors[1:3] = \"갈색\"\n",
        "print(colors)\n",
        "# 요소 개수 만큼 일일히 지정하던지 for문 돌리던지\n",
        "\n",
        "colors[1:4] = \"갈색\"\n",
        "print(colors)\n",
        "# 부족한 부분은 삭제? 공백 삽입?"
      ],
      "metadata": {
        "colab": {
          "base_uri": "https://localhost:8080/"
        },
        "id": "41tdHHv7Zkl-",
        "outputId": "e2a6c8aa-6c96-4578-bd69-a61ff02fd5d5"
      },
      "execution_count": 25,
      "outputs": [
        {
          "output_type": "stream",
          "name": "stdout",
          "text": [
            "['빨강', '갈', '색', '주황', '초록', '노랑', '보라', '베이지', '베이지']\n",
            "['빨강', '갈', '색', '주황', '초록', '노랑', '보라', '베이지', '베이지']\n",
            "['빨강', '갈', '색', '초록', '노랑', '보라', '베이지', '베이지']\n"
          ]
        }
      ]
    },
    {
      "cell_type": "markdown",
      "source": [
        "### 리스트의 요소 삭제"
      ],
      "metadata": {
        "id": "OJHh8sEwbX8q"
      }
    },
    {
      "cell_type": "code",
      "source": [
        "colors = [\"빨강\", \"파랑\", \"초록\", \"노랑\", \"보라\", \"노랑\"]\n",
        "\n",
        "# 맨 뒤에 있는것 꺼내기(삭제?)\n",
        "colors.pop()\n",
        "print(colors)\n",
        "\n",
        "# 요소값과 일치하는것 전부 삭제\n",
        "colors.remove(\"노랑\")\n",
        "print(colors)\n",
        "\n",
        "# 전체 내용 지우기\n",
        "colors.clear()\n",
        "print(colors)"
      ],
      "metadata": {
        "colab": {
          "base_uri": "https://localhost:8080/"
        },
        "id": "f7RhmUZ_bZ02",
        "outputId": "05f07633-01f3-4386-cbf5-88f864bdcd4b"
      },
      "execution_count": 32,
      "outputs": [
        {
          "output_type": "stream",
          "name": "stdout",
          "text": [
            "['빨강', '파랑', '초록', '노랑', '보라']\n",
            "['빨강', '파랑', '초록', '보라']\n",
            "[]\n"
          ]
        }
      ]
    },
    {
      "cell_type": "markdown",
      "source": [
        "### 리스트 자체 삭제"
      ],
      "metadata": {
        "id": "zR4bzCYmc4q5"
      }
    },
    {
      "cell_type": "code",
      "source": [
        "colors = [\"빨강\", \"파랑\", \"초록\", \"노랑\", \"보라\", \"노랑\"]\n",
        "del(colors)"
      ],
      "metadata": {
        "id": "BiS4_gWHccDk"
      },
      "execution_count": 34,
      "outputs": []
    },
    {
      "cell_type": "markdown",
      "source": [
        "### 2차원/3차원... 리스트 요소 접근"
      ],
      "metadata": {
        "id": "rsOr75Jsc9VM"
      }
    },
    {
      "cell_type": "code",
      "source": [
        "animals = [\"사자\", \"호랑이\", \"곰\",\n",
        "          [\"고양이\", \"강아지\", [\"돌고래\", \"범고래\"], \"햄스터\"]]\n",
        "print(animals)\n",
        "print(animals[1])\n",
        "print(animals[3])\n",
        "print(animals[3][1])\n",
        "print(animals[3][2][1])"
      ],
      "metadata": {
        "colab": {
          "base_uri": "https://localhost:8080/"
        },
        "id": "AJhgRGHndBTd",
        "outputId": "25fb0235-8d7e-4259-ab98-d370d8e49720"
      },
      "execution_count": 38,
      "outputs": [
        {
          "output_type": "stream",
          "name": "stdout",
          "text": [
            "['사자', '호랑이', '곰', ['고양이', '강아지', ['돌고래', '범고래'], '햄스터']]\n",
            "호랑이\n",
            "['고양이', '강아지', ['돌고래', '범고래'], '햄스터']\n",
            "강아지\n",
            "범고래\n",
            "4\n"
          ]
        }
      ]
    },
    {
      "cell_type": "markdown",
      "source": [
        "### 리스트 길이 (요소의 개수)"
      ],
      "metadata": {
        "id": "R1b7VnCnfa9B"
      }
    },
    {
      "cell_type": "code",
      "source": [
        "print(len(animals))\n",
        "print(len(animals[3]))\n",
        "print(len(animals[3][2]))"
      ],
      "metadata": {
        "colab": {
          "base_uri": "https://localhost:8080/"
        },
        "id": "R5aKeATBfWW2",
        "outputId": "a2c0cc10-acfe-4c96-c2be-575983996e40"
      },
      "execution_count": 41,
      "outputs": [
        {
          "output_type": "stream",
          "name": "stdout",
          "text": [
            "4\n",
            "4\n",
            "2\n"
          ]
        }
      ]
    },
    {
      "cell_type": "markdown",
      "source": [
        "### 리스트 함수"
      ],
      "metadata": {
        "id": "v0Y5rlUBgCZx"
      }
    },
    {
      "cell_type": "code",
      "source": [
        "colors = [\"빨강\", \"파랑\", \"초록\", \"노랑\", \"보라\", \"노랑\"]\n",
        "\n",
        "# 정렬 (오름차순)\n",
        "colors.sort()\n",
        "print(colors)\n",
        "# 역정렬 (내림차순)\n",
        "colors.reverse()\n",
        "print(colors)\n",
        "\n",
        "# 요소 위치 찾기\n",
        "print(colors.index(\"빨강\"))\n",
        "print(colors.index(\"노랑\")) # 중복일 경우 처음 나타난것\n",
        "\n",
        "# 요소 값 개수세기\n",
        "print(colors.count(\"노랑\"))\n",
        "\n",
        "# 리스트를 정렬해서 반환값을 새로운 이름으로 지정\n",
        "sorted_colors = sorted(colors)\n",
        "print(sorted_colors)\n",
        "# 그러면 리스트는 가변객체인데 원래리스트는 안변함??, 차이점 파악하기\n",
        "\n",
        "# 두개의 리스트 붙이기\n",
        "new_colors = [\"마젠타\", \"사이언\", \"버건디\"]\n",
        "print(new_colors)\n",
        "colors.extend(new_colors)\n",
        "print(colors)\n",
        "\n",
        "print(colors + new_colors)\n",
        "# colors += new_colors"
      ],
      "metadata": {
        "id": "u96S00MNgG3V"
      },
      "execution_count": null,
      "outputs": []
    },
    {
      "cell_type": "markdown",
      "source": [
        "\n",
        "\n",
        "---\n",
        "\n"
      ],
      "metadata": {
        "id": "kVMyk9tnne1b"
      }
    },
    {
      "cell_type": "markdown",
      "source": [
        "## 3-2.딕셔너리(Dictionary)"
      ],
      "metadata": {
        "id": "heVHgSk7nfsP"
      }
    },
    {
      "cell_type": "markdown",
      "source": [
        "### 딕셔너리 자료 생성"
      ],
      "metadata": {
        "id": "grdTtA8htQ0h"
      }
    },
    {
      "cell_type": "code",
      "source": [
        "# 딕셔너리 생성\n",
        "dic = {}\n",
        "dic = dict()\n",
        "print(type(dic))"
      ],
      "metadata": {
        "colab": {
          "base_uri": "https://localhost:8080/"
        },
        "id": "BIju72JVntGs",
        "outputId": "a084745f-104d-41ad-9a6b-294432a7e3e6"
      },
      "execution_count": 2,
      "outputs": [
        {
          "output_type": "stream",
          "name": "stdout",
          "text": [
            "<class 'dict'>\n"
          ]
        }
      ]
    },
    {
      "cell_type": "code",
      "source": [
        "# 딕셔너리는 key:value 구조\n",
        "members = {1:\"이승철\", 2:\"박정현\", \"bts\":[\"진\", \"RM\", \"뷔\", \"지민\"]}\n",
        "print(members)\n",
        "print(members[2]) # 여기서 2는 키\n",
        "print(members[\"bts\"][1])\n",
        "print(len(members))"
      ],
      "metadata": {
        "colab": {
          "base_uri": "https://localhost:8080/"
        },
        "id": "ksVGw8eEtpsU",
        "outputId": "55729546-6135-4bc0-91fb-77ac6b67a801"
      },
      "execution_count": 6,
      "outputs": [
        {
          "output_type": "stream",
          "name": "stdout",
          "text": [
            "{1: '이승철', 2: '박정현', 'bts': ['진', 'RM', '뷔', '지민']}\n",
            "박정현\n",
            "RM\n",
            "3\n"
          ]
        }
      ]
    },
    {
      "cell_type": "markdown",
      "source": [
        "### 딕셔너리에서 value에 접근하기\n",
        "- key를 통해서 value에 접근할 수 있다.\n",
        "\n"
      ],
      "metadata": {
        "id": "UqEyWaY-v1ux"
      }
    },
    {
      "cell_type": "code",
      "source": [
        "members = {1:\"이승철\", 2:\"박정현\", \"bts\":[\"진\", \"RM\", \"뷔\", \"지민\"]}\n",
        "for key in members:\n",
        "  print(f\"{key}: {members[key]}\")"
      ],
      "metadata": {
        "colab": {
          "base_uri": "https://localhost:8080/"
        },
        "id": "vq8voyhovJvE",
        "outputId": "e9fcafeb-70f3-467e-d7ee-8a128cf85405"
      },
      "execution_count": 9,
      "outputs": [
        {
          "output_type": "stream",
          "name": "stdout",
          "text": [
            "1: 이승철\n",
            "2: 박정현\n",
            "bts: ['진', 'RM', '뷔', '지민']\n"
          ]
        }
      ]
    },
    {
      "cell_type": "markdown",
      "source": [
        "### 딕셔너리에서 자주 사용하는 함수"
      ],
      "metadata": {
        "id": "69RH1NFAwGho"
      }
    },
    {
      "cell_type": "code",
      "source": [
        "members = {1:\"이승철\", 2:\"박정현\", \"bts\":[\"진\", \"RM\", \"뷔\", \"지민\"]}\n",
        "print(members.keys())\n",
        "print(members.values())\n",
        "print(members.items()) # (key, value) 쌍으로 튜플형태"
      ],
      "metadata": {
        "colab": {
          "base_uri": "https://localhost:8080/"
        },
        "id": "fmLuD4etwJvN",
        "outputId": "9f3f761d-5467-4e40-83db-16daf1d3a3df"
      },
      "execution_count": 11,
      "outputs": [
        {
          "output_type": "stream",
          "name": "stdout",
          "text": [
            "dict_keys([1, 2, 'bts'])\n",
            "dict_values(['이승철', '박정현', ['진', 'RM', '뷔', '지민']])\n",
            "dict_items([(1, '이승철'), (2, '박정현'), ('bts', ['진', 'RM', '뷔', '지민'])])\n"
          ]
        }
      ]
    },
    {
      "cell_type": "code",
      "source": [
        "# for (key, value) in members.items()\n",
        "for key, value in members.items():\n",
        "  print(key, value)"
      ],
      "metadata": {
        "colab": {
          "base_uri": "https://localhost:8080/"
        },
        "id": "8k2bjUkHwulc",
        "outputId": "22ea67f5-0f04-4495-d462-fddd89f089b5"
      },
      "execution_count": 13,
      "outputs": [
        {
          "output_type": "stream",
          "name": "stdout",
          "text": [
            "1 이승철\n",
            "2 박정현\n",
            "bts ['진', 'RM', '뷔', '지민']\n"
          ]
        }
      ]
    },
    {
      "cell_type": "code",
      "source": [
        "# eval 함수로 언팩하는법 복습 할것.\n",
        "for key, value in eval(members):\n",
        "  print(key, value)"
      ],
      "metadata": {
        "colab": {
          "base_uri": "https://localhost:8080/",
          "height": 162
        },
        "id": "zlaY8AUpxNwQ",
        "outputId": "a9d2af96-33cd-43bf-bdf3-e5d99f4a2a20"
      },
      "execution_count": 14,
      "outputs": [
        {
          "output_type": "error",
          "ename": "TypeError",
          "evalue": "eval() arg 1 must be a string, bytes or code object",
          "traceback": [
            "\u001b[0;31m---------------------------------------------------------------------------\u001b[0m",
            "\u001b[0;31mTypeError\u001b[0m                                 Traceback (most recent call last)",
            "\u001b[0;32m<ipython-input-14-f0b1446e183f>\u001b[0m in \u001b[0;36m<cell line: 1>\u001b[0;34m()\u001b[0m\n\u001b[0;32m----> 1\u001b[0;31m \u001b[0;32mfor\u001b[0m \u001b[0mkey\u001b[0m\u001b[0;34m,\u001b[0m \u001b[0mvalue\u001b[0m \u001b[0;32min\u001b[0m \u001b[0meval\u001b[0m\u001b[0;34m(\u001b[0m\u001b[0mmembers\u001b[0m\u001b[0;34m)\u001b[0m\u001b[0;34m:\u001b[0m\u001b[0;34m\u001b[0m\u001b[0;34m\u001b[0m\u001b[0m\n\u001b[0m\u001b[1;32m      2\u001b[0m   \u001b[0mprint\u001b[0m\u001b[0;34m(\u001b[0m\u001b[0mkey\u001b[0m\u001b[0;34m,\u001b[0m \u001b[0mvalue\u001b[0m\u001b[0;34m)\u001b[0m\u001b[0;34m\u001b[0m\u001b[0;34m\u001b[0m\u001b[0m\n",
            "\u001b[0;31mTypeError\u001b[0m: eval() arg 1 must be a string, bytes or code object"
          ]
        }
      ]
    },
    {
      "cell_type": "markdown",
      "source": [
        "### 딕셔너리에 요소 추가/수정/삭제"
      ],
      "metadata": {
        "id": "aLA82c9Tx5Nq"
      }
    },
    {
      "cell_type": "code",
      "source": [
        "members = {1:\"이승철\", 2:\"박정현\", \"bts\":[\"진\", \"RM\", \"뷔\", \"지민\"]}\n",
        "print(members)\n",
        "\n",
        "# 요소 추가\n",
        "members[3] = \"NCT Dream\"\n",
        "members[\"소속사\"] = [\"하이브\", \"SM기획\"]\n",
        "print(members)\n",
        "\n",
        "# 요소 수정\n",
        "members[1] = \"아이유\"\n",
        "print(members)\n",
        "\n",
        "# 요소 삭제\n",
        "del(members[\"소속사\"])\n",
        "print(members)\n",
        "\n",
        "# 딕셔너리 삭제\n",
        "del(members)\n",
        "print(members)"
      ],
      "metadata": {
        "id": "38NHve0Qx2uE"
      },
      "execution_count": null,
      "outputs": []
    },
    {
      "cell_type": "markdown",
      "source": [
        "## 3-3.튜플(Tuple)"
      ],
      "metadata": {
        "id": "0yoVgNTSzZyZ"
      }
    },
    {
      "cell_type": "markdown",
      "source": [
        "### 튜플 생성"
      ],
      "metadata": {
        "id": "PUM2J_3uz2s9"
      }
    },
    {
      "cell_type": "code",
      "source": [
        "# 튜플 생성\n",
        "tup = ()\n",
        "tup = tuple()\n",
        "print(type(tup))"
      ],
      "metadata": {
        "colab": {
          "base_uri": "https://localhost:8080/"
        },
        "id": "ebleGwCBzku9",
        "outputId": "55783fff-73d4-48f6-8442-a4a3c0ab1ac9"
      },
      "execution_count": 21,
      "outputs": [
        {
          "output_type": "stream",
          "name": "stdout",
          "text": [
            "<class 'tuple'>\n"
          ]
        }
      ]
    },
    {
      "cell_type": "code",
      "source": [
        "a = [1, 2, 3, 4]\n",
        "print(type(a), a)\n",
        "print(type(tuple(a)), tuple(a))"
      ],
      "metadata": {
        "colab": {
          "base_uri": "https://localhost:8080/"
        },
        "id": "upCH4xl_0OD2",
        "outputId": "952340cc-89fe-4140-ba88-68f41830d90d"
      },
      "execution_count": 23,
      "outputs": [
        {
          "output_type": "stream",
          "name": "stdout",
          "text": [
            "<class 'list'> [1, 2, 3, 4]\n",
            "<class 'tuple'> (1, 2, 3, 4)\n"
          ]
        }
      ]
    },
    {
      "cell_type": "code",
      "source": [
        "tup1 = (\"사과\") # 괄호는 묶음의 의미로 해석\n",
        "print(type(tup1))\n",
        "tup2 = (\"사과\",) # 튜플에서 요소가 하나일 때는 반드시 뒤에 ,(쉼표)추가\n",
        "print(type(tup2))"
      ],
      "metadata": {
        "colab": {
          "base_uri": "https://localhost:8080/"
        },
        "id": "nb-jOlJt0lpq",
        "outputId": "1292442f-350a-4ee0-8f8e-44661c5a9efb"
      },
      "execution_count": 25,
      "outputs": [
        {
          "output_type": "stream",
          "name": "stdout",
          "text": [
            "<class 'str'>\n",
            "<class 'tuple'>\n"
          ]
        }
      ]
    },
    {
      "cell_type": "code",
      "source": [
        "# 자료형에 대한 도움말\n",
        "help(tuple)"
      ],
      "metadata": {
        "id": "Ssrc7v2c1CBO"
      },
      "execution_count": null,
      "outputs": []
    },
    {
      "cell_type": "markdown",
      "source": [
        "### 튜플은 변수를 정의할때 / 함수의 파라미터 정의에 사용"
      ],
      "metadata": {
        "id": "ssqRdjz92DBS"
      }
    },
    {
      "cell_type": "code",
      "source": [
        "a, b = 100, 200\n",
        "c, d, e = 300, 400, 500\n",
        "\n",
        "print(a, b, c, d, e)"
      ],
      "metadata": {
        "colab": {
          "base_uri": "https://localhost:8080/"
        },
        "id": "W3CXFIx12Ukl",
        "outputId": "8cd32783-3bc2-44ef-fa93-fdd5cb0fa7dd"
      },
      "execution_count": 27,
      "outputs": [
        {
          "output_type": "stream",
          "name": "stdout",
          "text": [
            "100 200 300 400 500\n"
          ]
        }
      ]
    },
    {
      "cell_type": "code",
      "source": [
        "a, b = 100, [1, 2, 3]\n",
        "print(a)\n",
        "print(b)"
      ],
      "metadata": {
        "colab": {
          "base_uri": "https://localhost:8080/"
        },
        "id": "BPDiz27f2e_j",
        "outputId": "2f62f780-f819-47eb-f75d-f0eb1d46dee7"
      },
      "execution_count": 28,
      "outputs": [
        {
          "output_type": "stream",
          "name": "stdout",
          "text": [
            "100\n",
            "[1, 2, 3]\n"
          ]
        }
      ]
    },
    {
      "cell_type": "code",
      "source": [
        "def nSum(a, b):\n",
        "  return a + b\n",
        "nSum(11, 22)\n",
        "# 여기서 ()도 튜플"
      ],
      "metadata": {
        "colab": {
          "base_uri": "https://localhost:8080/"
        },
        "id": "Ktif2Jf92o--",
        "outputId": "4b2e75b7-233c-414c-cad1-acc9d86e80dd"
      },
      "execution_count": 29,
      "outputs": [
        {
          "output_type": "execute_result",
          "data": {
            "text/plain": [
              "33"
            ]
          },
          "metadata": {},
          "execution_count": 29
        }
      ]
    },
    {
      "cell_type": "markdown",
      "source": [
        "## 3-4.집합(Set)"
      ],
      "metadata": {
        "id": "GLg2iVLl3I5D"
      }
    },
    {
      "cell_type": "markdown",
      "source": [
        "### 집합 생성"
      ],
      "metadata": {
        "id": "W7geXDmr6Vl9"
      }
    },
    {
      "cell_type": "code",
      "source": [
        "a = set() # 빈 집합 생성\n",
        "print(type(a))\n",
        "\n",
        "a = {1, 2, 3, 4, 2, 2, 4}\n",
        "print(a)"
      ],
      "metadata": {
        "colab": {
          "base_uri": "https://localhost:8080/"
        },
        "id": "TQzMuSW35dcO",
        "outputId": "332fb03a-3c97-4041-b112-10f3cf188a07"
      },
      "execution_count": 31,
      "outputs": [
        {
          "output_type": "stream",
          "name": "stdout",
          "text": [
            "<class 'set'>\n",
            "{1, 2, 3, 4}\n"
          ]
        }
      ]
    },
    {
      "cell_type": "markdown",
      "source": [
        "### 집합은 중복된 데이터는 배제한다.\n",
        "- unique한 데이터만 남는다.\n",
        "- 순서가 없다."
      ],
      "metadata": {
        "id": "hD8tem9p6v35"
      }
    },
    {
      "cell_type": "code",
      "source": [
        "a = [1, 2, 3, 4, 5, 6, 7, 2, 2, 3, 5, 6, 7, 2]\n",
        "print(a)\n",
        "a = list(set(a))\n",
        "print(a)"
      ],
      "metadata": {
        "colab": {
          "base_uri": "https://localhost:8080/"
        },
        "id": "WIkK_Snt64vf",
        "outputId": "206eb02f-b2eb-4a0c-fe80-5fa92d137614"
      },
      "execution_count": 33,
      "outputs": [
        {
          "output_type": "stream",
          "name": "stdout",
          "text": [
            "[1, 2, 3, 4, 5, 6, 7, 2, 2, 3, 5, 6, 7, 2]\n",
            "[1, 2, 3, 4, 5, 6, 7]\n"
          ]
        }
      ]
    },
    {
      "cell_type": "markdown",
      "source": [
        "### 집합에 요소 추가/삭제\n",
        "- 순서가 없기 때문에 수정의 의미가 없음"
      ],
      "metadata": {
        "id": "9J_pRWS-7WXM"
      }
    },
    {
      "cell_type": "code",
      "source": [
        "s = {1, 2, 3, \"a\", \"b\"}\n",
        "print(s)\n",
        "\n",
        "# 요소 한개 추가\n",
        "s.add(4)\n",
        "print(s)\n",
        "\n",
        "# 요소 여러개 추가\n",
        "s.update([\"c\", \"d\", 5]) # 여러개를 추가할때는 보통 리스트로\n",
        "s.update(\"apple\") # 문자열은 알파벳으로 분할해서 추가됨\n",
        "print(s)\n",
        "\n",
        "s.update([\"apple\"])\n",
        "print(s)\n",
        "\n",
        "# 요소 한개 삭제\n",
        "s.discard(\"a\")\n",
        "print(s)\n",
        "s.discard(\"apple\") # \"apple\"를 하나의 요소로 인식, 업데이트랑 반대\n",
        "print(s)\n",
        "# s.discard([\"p\", \"l\"]) # 오류 리스트를 이용해서 여러개 삭제 안됨\n",
        "# print(s)\n",
        "\n",
        "# 특정 요소 하나 삭제\n",
        "s.remove(1)\n",
        "# 임의의 요소 하나 삭제\n",
        "s.pop()\n",
        "print(s)\n",
        "# 요소 전체 삭제\n",
        "s.clear()\n",
        "print(s)"
      ],
      "metadata": {
        "colab": {
          "base_uri": "https://localhost:8080/"
        },
        "id": "-8xLZhwH7ixY",
        "outputId": "14e1211a-a328-4ab1-addb-13026d8acda2"
      },
      "execution_count": 1,
      "outputs": [
        {
          "output_type": "stream",
          "name": "stdout",
          "text": [
            "{1, 2, 3, 'a', 'b'}\n",
            "{1, 2, 3, 'a', 'b', 4}\n",
            "{1, 2, 3, 4, 5, 'e', 'p', 'b', 'a', 'l', 'c', 'd'}\n",
            "{1, 2, 3, 4, 5, 'e', 'p', 'apple', 'b', 'a', 'l', 'c', 'd'}\n",
            "{1, 2, 3, 4, 5, 'e', 'p', 'apple', 'b', 'l', 'c', 'd'}\n",
            "{1, 2, 3, 4, 5, 'e', 'p', 'b', 'l', 'c', 'd'}\n",
            "{3, 4, 5, 'e', 'p', 'b', 'l', 'c', 'd'}\n",
            "set()\n"
          ]
        }
      ]
    },
    {
      "cell_type": "code",
      "source": [
        "del(s)\n",
        "print(s)"
      ],
      "metadata": {
        "id": "NxYmZq6k9baq"
      },
      "execution_count": null,
      "outputs": []
    },
    {
      "cell_type": "markdown",
      "source": [
        "### 교집합/합집합/차집합"
      ],
      "metadata": {
        "id": "D6TQlDJd-lQ-"
      }
    },
    {
      "cell_type": "code",
      "source": [
        "s1 = {1, 2, 3, 4, 5}\n",
        "s2 = {3, 4, 5, 6, 7}\n",
        "print(s1)\n",
        "print(s2)\n",
        "\n",
        "# 교집합\n",
        "print(s1 & s2)\n",
        "print(s1.intersection(s2))\n",
        "\n",
        "# 합집합\n",
        "print(s1 | s2)\n",
        "print(s1.union(s2))\n",
        "\n",
        "# 차집합\n",
        "print(s1 - s2)\n",
        "print(s1.difference(s2))\n",
        "\n",
        "# 대칭 차집합 : 합집합-교집합\n",
        "print(s1 ^ s2)\n",
        "print(s1.symmetric_difference(s2))"
      ],
      "metadata": {
        "colab": {
          "base_uri": "https://localhost:8080/"
        },
        "id": "AfPyfXed-pM4",
        "outputId": "d0e1c847-1005-4ec0-d8a2-e82043438712"
      },
      "execution_count": 7,
      "outputs": [
        {
          "output_type": "stream",
          "name": "stdout",
          "text": [
            "{1, 2, 3, 4, 5}\n",
            "{3, 4, 5, 6, 7}\n",
            "{3, 4, 5}\n",
            "{3, 4, 5}\n",
            "{1, 2, 3, 4, 5, 6, 7}\n",
            "{1, 2, 3, 4, 5, 6, 7}\n",
            "{1, 2}\n",
            "{1, 2}\n",
            "{1, 2, 6, 7}\n",
            "{1, 2, 6, 7}\n"
          ]
        }
      ]
    },
    {
      "cell_type": "code",
      "source": [
        "# 교집합으로 업데이트\n",
        "s1 = {1, 2, 3, 4, 5}\n",
        "s2 = {3, 4, 5, 6, 7}\n",
        "s3 = {5, 6, 7}\n",
        "\n",
        "print(s1)\n",
        "print(s1.intersection_update(s2, s3))\n",
        "print(s1)\n",
        "\n",
        "# 그 외에도\n",
        "# 합집합으로 업데이트(그냥 update), 차집합으로 업데이트, 대칭차집합으로 업데이트"
      ],
      "metadata": {
        "colab": {
          "base_uri": "https://localhost:8080/"
        },
        "id": "E8_3OB-R_8j7",
        "outputId": "2133d2ac-b44c-4d89-ae20-43046937b588"
      },
      "execution_count": 9,
      "outputs": [
        {
          "output_type": "stream",
          "name": "stdout",
          "text": [
            "None\n",
            "{1, 2, 3, 4, 5, 6, 7}\n",
            "None\n",
            "{5, 6, 7}\n"
          ]
        }
      ]
    },
    {
      "cell_type": "code",
      "source": [
        "help(set)"
      ],
      "metadata": {
        "colab": {
          "base_uri": "https://localhost:8080/"
        },
        "id": "iQ6ySyQyAflT",
        "outputId": "c2954bfc-9e5d-4950-8f1a-8c08b86fd998"
      },
      "execution_count": 5,
      "outputs": [
        {
          "output_type": "stream",
          "name": "stdout",
          "text": [
            "Help on class set in module builtins:\n",
            "\n",
            "class set(object)\n",
            " |  set() -> new empty set object\n",
            " |  set(iterable) -> new set object\n",
            " |  \n",
            " |  Build an unordered collection of unique elements.\n",
            " |  \n",
            " |  Methods defined here:\n",
            " |  \n",
            " |  __and__(self, value, /)\n",
            " |      Return self&value.\n",
            " |  \n",
            " |  __contains__(...)\n",
            " |      x.__contains__(y) <==> y in x.\n",
            " |  \n",
            " |  __eq__(self, value, /)\n",
            " |      Return self==value.\n",
            " |  \n",
            " |  __ge__(self, value, /)\n",
            " |      Return self>=value.\n",
            " |  \n",
            " |  __getattribute__(self, name, /)\n",
            " |      Return getattr(self, name).\n",
            " |  \n",
            " |  __gt__(self, value, /)\n",
            " |      Return self>value.\n",
            " |  \n",
            " |  __iand__(self, value, /)\n",
            " |      Return self&=value.\n",
            " |  \n",
            " |  __init__(self, /, *args, **kwargs)\n",
            " |      Initialize self.  See help(type(self)) for accurate signature.\n",
            " |  \n",
            " |  __ior__(self, value, /)\n",
            " |      Return self|=value.\n",
            " |  \n",
            " |  __isub__(self, value, /)\n",
            " |      Return self-=value.\n",
            " |  \n",
            " |  __iter__(self, /)\n",
            " |      Implement iter(self).\n",
            " |  \n",
            " |  __ixor__(self, value, /)\n",
            " |      Return self^=value.\n",
            " |  \n",
            " |  __le__(self, value, /)\n",
            " |      Return self<=value.\n",
            " |  \n",
            " |  __len__(self, /)\n",
            " |      Return len(self).\n",
            " |  \n",
            " |  __lt__(self, value, /)\n",
            " |      Return self<value.\n",
            " |  \n",
            " |  __ne__(self, value, /)\n",
            " |      Return self!=value.\n",
            " |  \n",
            " |  __or__(self, value, /)\n",
            " |      Return self|value.\n",
            " |  \n",
            " |  __rand__(self, value, /)\n",
            " |      Return value&self.\n",
            " |  \n",
            " |  __reduce__(...)\n",
            " |      Return state information for pickling.\n",
            " |  \n",
            " |  __repr__(self, /)\n",
            " |      Return repr(self).\n",
            " |  \n",
            " |  __ror__(self, value, /)\n",
            " |      Return value|self.\n",
            " |  \n",
            " |  __rsub__(self, value, /)\n",
            " |      Return value-self.\n",
            " |  \n",
            " |  __rxor__(self, value, /)\n",
            " |      Return value^self.\n",
            " |  \n",
            " |  __sizeof__(...)\n",
            " |      S.__sizeof__() -> size of S in memory, in bytes\n",
            " |  \n",
            " |  __sub__(self, value, /)\n",
            " |      Return self-value.\n",
            " |  \n",
            " |  __xor__(self, value, /)\n",
            " |      Return self^value.\n",
            " |  \n",
            " |  add(...)\n",
            " |      Add an element to a set.\n",
            " |      \n",
            " |      This has no effect if the element is already present.\n",
            " |  \n",
            " |  clear(...)\n",
            " |      Remove all elements from this set.\n",
            " |  \n",
            " |  copy(...)\n",
            " |      Return a shallow copy of a set.\n",
            " |  \n",
            " |  difference(...)\n",
            " |      Return the difference of two or more sets as a new set.\n",
            " |      \n",
            " |      (i.e. all elements that are in this set but not the others.)\n",
            " |  \n",
            " |  difference_update(...)\n",
            " |      Remove all elements of another set from this set.\n",
            " |  \n",
            " |  discard(...)\n",
            " |      Remove an element from a set if it is a member.\n",
            " |      \n",
            " |      If the element is not a member, do nothing.\n",
            " |  \n",
            " |  intersection(...)\n",
            " |      Return the intersection of two sets as a new set.\n",
            " |      \n",
            " |      (i.e. all elements that are in both sets.)\n",
            " |  \n",
            " |  intersection_update(...)\n",
            " |      Update a set with the intersection of itself and another.\n",
            " |  \n",
            " |  isdisjoint(...)\n",
            " |      Return True if two sets have a null intersection.\n",
            " |  \n",
            " |  issubset(...)\n",
            " |      Report whether another set contains this set.\n",
            " |  \n",
            " |  issuperset(...)\n",
            " |      Report whether this set contains another set.\n",
            " |  \n",
            " |  pop(...)\n",
            " |      Remove and return an arbitrary set element.\n",
            " |      Raises KeyError if the set is empty.\n",
            " |  \n",
            " |  remove(...)\n",
            " |      Remove an element from a set; it must be a member.\n",
            " |      \n",
            " |      If the element is not a member, raise a KeyError.\n",
            " |  \n",
            " |  symmetric_difference(...)\n",
            " |      Return the symmetric difference of two sets as a new set.\n",
            " |      \n",
            " |      (i.e. all elements that are in exactly one of the sets.)\n",
            " |  \n",
            " |  symmetric_difference_update(...)\n",
            " |      Update a set with the symmetric difference of itself and another.\n",
            " |  \n",
            " |  union(...)\n",
            " |      Return the union of sets as a new set.\n",
            " |      \n",
            " |      (i.e. all elements that are in either set.)\n",
            " |  \n",
            " |  update(...)\n",
            " |      Update a set with the union of itself and others.\n",
            " |  \n",
            " |  ----------------------------------------------------------------------\n",
            " |  Class methods defined here:\n",
            " |  \n",
            " |  __class_getitem__(...) from builtins.type\n",
            " |      See PEP 585\n",
            " |  \n",
            " |  ----------------------------------------------------------------------\n",
            " |  Static methods defined here:\n",
            " |  \n",
            " |  __new__(*args, **kwargs) from builtins.type\n",
            " |      Create and return a new object.  See help(type) for accurate signature.\n",
            " |  \n",
            " |  ----------------------------------------------------------------------\n",
            " |  Data and other attributes defined here:\n",
            " |  \n",
            " |  __hash__ = None\n",
            "\n"
          ]
        }
      ]
    }
  ]
}