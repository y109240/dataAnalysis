{
  "nbformat": 4,
  "nbformat_minor": 0,
  "metadata": {
    "colab": {
      "provenance": [],
      "authorship_tag": "ABX9TyNLxNz+jHVYk6a5s+9BH6z+",
      "include_colab_link": true
    },
    "kernelspec": {
      "name": "python3",
      "display_name": "Python 3"
    },
    "language_info": {
      "name": "python"
    }
  },
  "cells": [
    {
      "cell_type": "markdown",
      "metadata": {
        "id": "view-in-github",
        "colab_type": "text"
      },
      "source": [
        "<a href=\"https://colab.research.google.com/github/y109240/dataAnalysis/blob/main/3%EC%9D%BC%EC%B0%A8_%ED%8C%8C%EC%9D%B4%EC%8D%AC%EA%B8%B0%EC%B4%88_%EC%BB%AC%EB%A0%89%EC%85%98%EC%9E%90%EB%A3%8C%ED%98%95.ipynb\" target=\"_parent\"><img src=\"https://colab.research.google.com/assets/colab-badge.svg\" alt=\"Open In Colab\"/></a>"
      ]
    },
    {
      "cell_type": "code",
      "execution_count": null,
      "metadata": {
        "id": "6-f_ykUHQTU8"
      },
      "outputs": [],
      "source": []
    },
    {
      "cell_type": "markdown",
      "source": [
        "#3.컬렉션 자료형"
      ],
      "metadata": {
        "id": "REYlMyf5TsDB"
      }
    },
    {
      "cell_type": "markdown",
      "source": [
        "##3-1. 리스트   생성(list)"
      ],
      "metadata": {
        "id": "NXN05bOuTw_B"
      }
    },
    {
      "cell_type": "markdown",
      "source": [],
      "metadata": {
        "id": "Srfap_yLTvnR"
      }
    },
    {
      "cell_type": "code",
      "source": [
        "#  빈 리스트 생성\n",
        " a=[]\n",
        " print(type(a))\n",
        " print(a)"
      ],
      "metadata": {
        "colab": {
          "base_uri": "https://localhost:8080/",
          "height": 110
        },
        "id": "K7q0BU0QT5Pi",
        "outputId": "d04c366f-0a4b-42a3-c454-c62d995bf25f"
      },
      "execution_count": 20,
      "outputs": [
        {
          "output_type": "error",
          "ename": "IndentationError",
          "evalue": "unexpected indent (<ipython-input-20-835beade97b4>, line 2)",
          "traceback": [
            "\u001b[0;36m  File \u001b[0;32m\"<ipython-input-20-835beade97b4>\"\u001b[0;36m, line \u001b[0;32m2\u001b[0m\n\u001b[0;31m    a=[]\u001b[0m\n\u001b[0m    ^\u001b[0m\n\u001b[0;31mIndentationError\u001b[0m\u001b[0;31m:\u001b[0m unexpected indent\n"
          ]
        }
      ]
    },
    {
      "cell_type": "code",
      "source": [
        "<class  'list'>\n",
        "[]"
      ],
      "metadata": {
        "id": "vXm5oy8fUT3T"
      },
      "execution_count": null,
      "outputs": []
    },
    {
      "cell_type": "code",
      "source": [
        "#초기 데이터 넣고 리스트 생성\n",
        "import math\n",
        "a=[1,2,3,4,5]\n",
        "a=[1,'apple','딸기',3.14, math.pi,max([10,20,30]) ]\n",
        "print(a)\n",
        "\n",
        "b=[1,2,a,['사과','딸기'], {'k':'kiwi'}]\n",
        "print(b)\n",
        "\n",
        "numlist=[]\n",
        "for num in range(1,21,2): #for 반복문, range():정수를 순차로 발생시키는 함수\n",
        "    numlist.append(num) #리스트에 데이터 추가\n",
        "print(numlist)\n",
        "\n",
        "print(b)\n",
        "for i in b: #for 반복문, b란 이름의 리스트 안에 있는 요소를 하나씩 출력하는 코드\n",
        "     print(i)"
      ],
      "metadata": {
        "colab": {
          "base_uri": "https://localhost:8080/"
        },
        "id": "6RB0YUzuUYKR",
        "outputId": "97f2b43f-7059-4f2c-a6c9-8e4aa7287b67"
      },
      "execution_count": 21,
      "outputs": [
        {
          "output_type": "stream",
          "name": "stdout",
          "text": [
            "[1, 'apple', '딸기', 3.14, 3.141592653589793, 30]\n",
            "[1, 2, [1, 'apple', '딸기', 3.14, 3.141592653589793, 30], ['사과', '딸기'], {'k': 'kiwi'}]\n",
            "[1, 3, 5, 7, 9, 11, 13, 15, 17, 19]\n",
            "[1, 2, [1, 'apple', '딸기', 3.14, 3.141592653589793, 30], ['사과', '딸기'], {'k': 'kiwi'}]\n",
            "1\n",
            "2\n",
            "[1, 'apple', '딸기', 3.14, 3.141592653589793, 30]\n",
            "['사과', '딸기']\n",
            "{'k': 'kiwi'}\n"
          ]
        }
      ]
    },
    {
      "cell_type": "markdown",
      "source": [
        "##리스트 요소에 접근"
      ],
      "metadata": {
        "id": "85uymMVLXbWT"
      }
    },
    {
      "cell_type": "code",
      "source": [
        "colors=['Red', 'Purple', 'yellow', 'balck']\n",
        "print(colors[0])\n",
        "print(colors[2:4])\n",
        "print(colors[::])\n",
        "print(colors[::-1]) #거꾸로 정렬\n",
        "\n",
        "\n",
        "for color in colors:\n",
        "  print(f\"나는 '{color}' 색상을 좋아합니다\")"
      ],
      "metadata": {
        "colab": {
          "base_uri": "https://localhost:8080/"
        },
        "id": "PRuaMM3QXeiK",
        "outputId": "2edfde71-8503-4f38-99be-59f4c81cf1b1"
      },
      "execution_count": 34,
      "outputs": [
        {
          "output_type": "stream",
          "name": "stdout",
          "text": [
            "Red\n",
            "['yellow', 'balck']\n",
            "['Red', 'Purple', 'yellow', 'balck']\n",
            "['balck', 'yellow', 'Purple', 'Red']\n",
            "나는 'Red' 색상을 좋아합니다\n",
            "나는 'Purple' 색상을 좋아합니다\n",
            "나는 'yellow' 색상을 좋아합니다\n",
            "나는 'balck' 색상을 좋아합니다\n"
          ]
        }
      ]
    },
    {
      "cell_type": "markdown",
      "source": [
        "##리스트에 요소 추가하기"
      ],
      "metadata": {
        "id": "VPMtNl-xYo3D"
      }
    },
    {
      "cell_type": "code",
      "source": [
        "print(colors)\n",
        "#인덱스 2 위치에 '분홍' 넣기(purple  뒤)\n",
        "colors.insert(2,'분홍')\n",
        "print(colors)\n",
        "\n",
        "#맨 뒤에 추가하기\n",
        "colors.append('보라')\n",
        "print(colors)"
      ],
      "metadata": {
        "colab": {
          "base_uri": "https://localhost:8080/"
        },
        "id": "hSuMNGMFYrGK",
        "outputId": "a3d9a511-49c5-4a50-c98b-3335abf70fa8"
      },
      "execution_count": 41,
      "outputs": [
        {
          "output_type": "stream",
          "name": "stdout",
          "text": [
            "['Red', 'Purple', '분홍', '분홍', '분홍', '분홍', '분홍', 'yellow', 'balck', '보라', '보라', '보라', '보라']\n",
            "['Red', 'Purple', '분홍', '분홍', '분홍', '분홍', '분홍', '분홍', 'yellow', 'balck', '보라', '보라', '보라', '보라']\n",
            "['Red', 'Purple', '분홍', '분홍', '분홍', '분홍', '분홍', '분홍', 'yellow', 'balck', '보라', '보라', '보라', '보라', '보라']\n"
          ]
        }
      ]
    },
    {
      "cell_type": "markdown",
      "source": [
        "##리스틔 특정 위치의 요소값 변경\n"
      ],
      "metadata": {
        "id": "_8VL5-WhZiqr"
      }
    },
    {
      "cell_type": "code",
      "source": [
        "print(colors)\n",
        "colors[3]='주황'\n",
        "print(colors)\n",
        "\n",
        "colors[1:3]='갈색'  #주의: 인덱스 개수가 다르면 대체가 안되고 없어짐.\n",
        "print(colors)\n",
        "\n",
        "colors[1:3]=['갈색','고동']\n",
        "print(colors)\n",
        "\n",
        "colors[4]='초록'\n",
        "print(colors)\n"
      ],
      "metadata": {
        "colab": {
          "base_uri": "https://localhost:8080/"
        },
        "id": "MiqbAYdEZm3D",
        "outputId": "b1be32fe-d6c9-40c2-87f3-7582bb52156a"
      },
      "execution_count": 49,
      "outputs": [
        {
          "output_type": "stream",
          "name": "stdout",
          "text": [
            "['Red', '갈색', '고동', '주황', '분홍', '분홍', '분홍', '분홍', 'yellow', 'balck', '보라', '보라', '보라', '보라', '보라']\n",
            "['Red', '갈색', '고동', '주황', '분홍', '분홍', '분홍', '분홍', 'yellow', 'balck', '보라', '보라', '보라', '보라', '보라']\n",
            "['Red', '갈', '색', '주황', '분홍', '분홍', '분홍', '분홍', 'yellow', 'balck', '보라', '보라', '보라', '보라', '보라']\n",
            "['Red', '갈색', '고동', '주황', '분홍', '분홍', '분홍', '분홍', 'yellow', 'balck', '보라', '보라', '보라', '보라', '보라']\n",
            "['Red', '갈색', '고동', '주황', '초록', '분홍', '분홍', '분홍', 'yellow', 'balck', '보라', '보라', '보라', '보라', '보라']\n"
          ]
        }
      ]
    },
    {
      "cell_type": "markdown",
      "source": [
        "## 리스트의 요소 삭제"
      ],
      "metadata": {
        "id": "a5QclX4LbZtT"
      }
    },
    {
      "cell_type": "code",
      "source": [
        "colors=['Red', 'Purple', 'yellow', 'balck', 'yellow']\n",
        "#맨 뒤에 있는 것  삭제(꺼내기)\n",
        "print(colors)\n",
        "colors.pop()\n",
        "print(colors)\n",
        "\n",
        "#요소값과 일치하는 것 삭제\n",
        "colors.remove('yellow')\n",
        "print(colors)\n",
        "\n",
        "#전체 요소 삭제\n",
        "colors.clear()\n",
        "print(colors)\n",
        "\n",
        "\n"
      ],
      "metadata": {
        "colab": {
          "base_uri": "https://localhost:8080/",
          "height": 257
        },
        "id": "tK7WjfkbbcGK",
        "outputId": "a739d795-47b4-44c0-fb4c-7ae366966e83"
      },
      "execution_count": 57,
      "outputs": [
        {
          "output_type": "stream",
          "name": "stdout",
          "text": [
            "['Red', 'Purple', 'yellow', 'balck', 'yellow']\n",
            "['Red', 'Purple', 'yellow', 'balck']\n",
            "['Red', 'Purple', 'balck']\n",
            "[]\n"
          ]
        },
        {
          "output_type": "error",
          "ename": "NameError",
          "evalue": "name 'colors' is not defined",
          "traceback": [
            "\u001b[0;31m---------------------------------------------------------------------------\u001b[0m",
            "\u001b[0;31mNameError\u001b[0m                                 Traceback (most recent call last)",
            "\u001b[0;32m<ipython-input-57-696a3c869a7f>\u001b[0m in \u001b[0;36m<cell line: 16>\u001b[0;34m()\u001b[0m\n\u001b[1;32m     14\u001b[0m \u001b[0;34m\u001b[0m\u001b[0m\n\u001b[1;32m     15\u001b[0m \u001b[0;32mdel\u001b[0m\u001b[0;34m(\u001b[0m\u001b[0mcolors\u001b[0m\u001b[0;34m)\u001b[0m\u001b[0;34m\u001b[0m\u001b[0;34m\u001b[0m\u001b[0m\n\u001b[0;32m---> 16\u001b[0;31m \u001b[0mprint\u001b[0m\u001b[0;34m(\u001b[0m\u001b[0mcolors\u001b[0m\u001b[0;34m)\u001b[0m\u001b[0;34m\u001b[0m\u001b[0;34m\u001b[0m\u001b[0m\n\u001b[0m",
            "\u001b[0;31mNameError\u001b[0m: name 'colors' is not defined"
          ]
        }
      ]
    },
    {
      "cell_type": "markdown",
      "source": [
        "##리스트  자체 삭제\n"
      ],
      "metadata": {
        "id": "nOEdM5pFcuLs"
      }
    },
    {
      "cell_type": "code",
      "source": [
        "colors=['Red', 'Purple', 'yellow', 'balck', 'yellow']\n",
        "print(colors)\n",
        "del(colors)"
      ],
      "metadata": {
        "colab": {
          "base_uri": "https://localhost:8080/"
        },
        "id": "KF9AGk1EcwLK",
        "outputId": "415c1c8f-8113-4849-e390-cc695874017f"
      },
      "execution_count": 59,
      "outputs": [
        {
          "output_type": "stream",
          "name": "stdout",
          "text": [
            "['Red', 'Purple', 'yellow', 'balck', 'yellow']\n"
          ]
        }
      ]
    },
    {
      "cell_type": "markdown",
      "source": [
        "#2차원/3차원 ... 리스트 요소 접근"
      ],
      "metadata": {
        "id": "-qY3wP_Dc97q"
      }
    },
    {
      "cell_type": "code",
      "source": [
        "animals=['fox', 'rabbit', 'bear', 'cat', 'dog',\n",
        "          ['고양이', '강이지','햄스터'],\n",
        "          'dolpohin', 'whale']\n",
        "print(animals)\n",
        "print(animals[1])\n",
        "print(animals[5])\n",
        "print(animals[5][1])\n",
        "print(len(animals))\n",
        "\n",
        "#animal=['fox', 'rabbit', 'bear', ['고양이', '강이지',['dolpohin', 'whale']',햄스터']]\n",
        "#print(animal)\n",
        "#print(animal[1])\n",
        "#print(animal[5])\n",
        "#print(animal[5][1])"
      ],
      "metadata": {
        "colab": {
          "base_uri": "https://localhost:8080/"
        },
        "id": "07B1TjwWdB70",
        "outputId": "a8b8e509-da19-49e2-8ad7-1c002688fe75"
      },
      "execution_count": 95,
      "outputs": [
        {
          "output_type": "stream",
          "name": "stdout",
          "text": [
            "['fox', 'rabbit', 'bear', 'cat', 'dog', ['고양이', '강이지', '햄스터'], 'dolpohin', 'whale']\n",
            "rabbit\n",
            "['고양이', '강이지', '햄스터']\n",
            "강이지\n",
            "8\n"
          ]
        }
      ]
    },
    {
      "cell_type": "markdown",
      "source": [
        "## 리스트 함수"
      ],
      "metadata": {
        "id": "TVYWTFxTgDdS"
      }
    },
    {
      "cell_type": "code",
      "source": [
        "colors=['Red', 'Purple', 'yellow', 'balck', 'yellow']\n",
        "# 정렬\n",
        "colors.sort() #순차 정렬\n",
        "print(colors)\n",
        "\n",
        "colors.reverse() #역순 정렬\n",
        "print(colors)\n",
        "\n",
        "#리스트의 특정 요소 위치 찾기\n",
        "colors.index('Purple')\n",
        "print(colors.index('Purple')) #여러 개 있을 경우 맨 앞의 인덱스 나타내기\n",
        "\n",
        "# 요소값 개수세기"
      ],
      "metadata": {
        "colab": {
          "base_uri": "https://localhost:8080/"
        },
        "id": "FKqELA6EgHvD",
        "outputId": "63eb7b38-bc48-4a64-d323-4fcf1f8f45e2"
      },
      "execution_count": 111,
      "outputs": [
        {
          "output_type": "stream",
          "name": "stdout",
          "text": [
            "['Purple', 'Red', 'balck', 'yellow', 'yellow']\n",
            "['yellow', 'yellow', 'balck', 'Red', 'Purple']\n",
            "4\n"
          ]
        }
      ]
    },
    {
      "cell_type": "markdown",
      "source": [
        "##리스트 길이(요소의 개수)"
      ],
      "metadata": {
        "id": "a0GuIltbfa4c"
      }
    },
    {
      "cell_type": "code",
      "source": [
        "animals=['fox', 'rabbit', 'bear', 'cat', 'dog',\n",
        "          ['고양이', '강이지','햄스터'],\n",
        "          'dolpohin', 'whale']\n",
        "print(animals)\n",
        "print(len(animals))\n",
        "\n",
        "print(len(animals[5]))\n",
        "print(len(animals[5][2]))"
      ],
      "metadata": {
        "colab": {
          "base_uri": "https://localhost:8080/"
        },
        "id": "gU9K16WhVZyi",
        "outputId": "8959d04b-2667-4243-d358-65896f5441a4"
      },
      "execution_count": 94,
      "outputs": [
        {
          "output_type": "stream",
          "name": "stdout",
          "text": [
            "['fox', 'rabbit', 'bear', 'cat', 'dog', ['고양이', '강이지', '햄스터'], 'dolpohin', 'whale']\n",
            "8\n",
            "3\n",
            "3\n"
          ]
        }
      ]
    }
  ]
}