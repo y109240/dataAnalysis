{
  "nbformat": 4,
  "nbformat_minor": 0,
  "metadata": {
    "colab": {
      "provenance": [],
      "authorship_tag": "ABX9TyOxxvYMz2YGHm2Mk5ffO5bM",
      "include_colab_link": true
    },
    "kernelspec": {
      "name": "python3",
      "display_name": "Python 3"
    },
    "language_info": {
      "name": "python"
    }
  },
  "cells": [
    {
      "cell_type": "markdown",
      "metadata": {
        "id": "view-in-github",
        "colab_type": "text"
      },
      "source": [
        "<a href=\"https://colab.research.google.com/github/y109240/dataAnalysis/blob/main/1%EC%9D%BC%EC%B0%A8_%ED%8C%8C%EC%9D%B4%EC%8D%AC%EA%B8%B0%EC%B4%88_%EC%9E%90%EB%A3%8C%ED%98%95%EA%B3%BC%EC%97%B0%EC%82%B0_ipynb%EC%9D%98_%EC%82%AC%EB%B3%B8.ipynb\" target=\"_parent\"><img src=\"https://colab.research.google.com/assets/colab-badge.svg\" alt=\"Open In Colab\"/></a>"
      ]
    },
    {
      "cell_type": "markdown",
      "source": [
        "# 1. 파이썬 자료형과 연산"
      ],
      "metadata": {
        "id": "jWnhOizzp8m-"
      }
    },
    {
      "cell_type": "markdown",
      "source": [
        "무친 버스파업ㅠㅠㅠㅠ 오는데 2시간 넘게 걸림ㅠㅠㅠㅠㅠㅠㅠㅠㅠㅠㅠㅠ\n",
        "오늘 쉽지안타...\n",
        "colab은 리눅스로 만들어진 서버"
      ],
      "metadata": {
        "id": "7nDP8dmSq1SG"
      }
    },
    {
      "cell_type": "code",
      "execution_count": null,
      "metadata": {
        "colab": {
          "base_uri": "https://localhost:8080/"
        },
        "id": "cdbD5Ol8p3g1",
        "outputId": "3e763f04-779a-485d-aeed-9f400e5db870"
      },
      "outputs": [
        {
          "output_type": "stream",
          "name": "stdout",
          "text": [
            "Hello, World!\n"
          ]
        }
      ],
      "source": [
        "print(\"Hello, World!\")"
      ]
    },
    {
      "cell_type": "code",
      "source": [
        "a = 10 #number\n",
        "b = \"python\" #string\n",
        "print( a , b )"
      ],
      "metadata": {
        "colab": {
          "base_uri": "https://localhost:8080/"
        },
        "id": "8vcOrVKIsuBU",
        "outputId": "65e10c12-be68-4417-e884-d079c8372d9a"
      },
      "execution_count": null,
      "outputs": [
        {
          "output_type": "stream",
          "name": "stdout",
          "text": [
            "10 python\n"
          ]
        }
      ]
    },
    {
      "cell_type": "markdown",
      "source": [
        "## [실습 문제]"
      ],
      "metadata": {
        "id": "skhRMvyfzS3k"
      }
    },
    {
      "cell_type": "code",
      "source": [
        "!python --version"
      ],
      "metadata": {
        "colab": {
          "base_uri": "https://localhost:8080/"
        },
        "id": "pYC_8rjpyzQR",
        "outputId": "d6272c76-4697-448f-baa1-cc71394aad7c"
      },
      "execution_count": null,
      "outputs": [
        {
          "output_type": "stream",
          "name": "stdout",
          "text": [
            "Python 3.10.12\n"
          ]
        }
      ]
    },
    {
      "cell_type": "code",
      "source": [
        "# 설치된 파이썬 버전 출력\n",
        "import sys\n",
        "print(\"---\", sys.version)\n",
        "sys.version\n",
        "# 마지막줄의 실행결과는 print가 없어도 출력해줌, 주피터 특징"
      ],
      "metadata": {
        "colab": {
          "base_uri": "https://localhost:8080/",
          "height": 54
        },
        "id": "RWavQZD3zYoL",
        "outputId": "38ead094-e0a4-4cc6-c90f-7b79f52cab9f"
      },
      "execution_count": null,
      "outputs": [
        {
          "output_type": "stream",
          "name": "stdout",
          "text": [
            "--- 3.10.12 (main, Nov 20 2023, 15:14:05) [GCC 11.4.0]\n"
          ]
        },
        {
          "output_type": "execute_result",
          "data": {
            "text/plain": [
              "'3.10.12 (main, Nov 20 2023, 15:14:05) [GCC 11.4.0]'"
            ],
            "application/vnd.google.colaboratory.intrinsic+json": {
              "type": "string"
            }
          },
          "metadata": {},
          "execution_count": 13
        }
      ]
    },
    {
      "cell_type": "code",
      "source": [
        "# 실행 파일의 위치\n",
        "import sys\n",
        "print(sys.executable) # 리눅스"
      ],
      "metadata": {
        "colab": {
          "base_uri": "https://localhost:8080/"
        },
        "id": "cVAnEA0y0b6t",
        "outputId": "d9977568-c690-4d52-99ba-cc005ef33399"
      },
      "execution_count": null,
      "outputs": [
        {
          "output_type": "stream",
          "name": "stdout",
          "text": [
            "/usr/bin/python3\n"
          ]
        }
      ]
    },
    {
      "cell_type": "code",
      "source": [
        "# 현재 디렉토리의 위치?\n",
        "import os\n",
        "os.getcwd()"
      ],
      "metadata": {
        "colab": {
          "base_uri": "https://localhost:8080/",
          "height": 36
        },
        "id": "YZmn9Csr1kcJ",
        "outputId": "2cae813c-0f9e-43a9-8b20-3e02f4862396"
      },
      "execution_count": null,
      "outputs": [
        {
          "output_type": "execute_result",
          "data": {
            "text/plain": [
              "'/content'"
            ],
            "application/vnd.google.colaboratory.intrinsic+json": {
              "type": "string"
            }
          },
          "metadata": {},
          "execution_count": 15
        }
      ]
    },
    {
      "cell_type": "markdown",
      "source": [
        "## 1.파이썬 자료형"
      ],
      "metadata": {
        "id": "P--ujZQR27Mw"
      }
    },
    {
      "cell_type": "code",
      "source": [
        "print(10 + 3 * 4)\n",
        "print(\"총 금액:\", 15 * 130,\"만원\")\n",
        "print(\"x % 2 == 0이면 짝수, == 1이면 홀수\")\n",
        "print(2**3 * 5**4 * 3**4)"
      ],
      "metadata": {
        "colab": {
          "base_uri": "https://localhost:8080/"
        },
        "id": "LcKwix6T3Shl",
        "outputId": "ed7c73b4-f72c-4204-d263-a6d079388a13"
      },
      "execution_count": null,
      "outputs": [
        {
          "output_type": "stream",
          "name": "stdout",
          "text": [
            "22\n",
            "총 금액: 1950 만원\n",
            "x % 2 == 0이면 짝수, == 1이면 홀수\n",
            "405000\n"
          ]
        }
      ]
    },
    {
      "cell_type": "code",
      "source": [
        "x = int(input(\"자연수를 입력해 주세요: \"))\n",
        "if x % 2 ==0:\n",
        "  print(\"짝수입니다.\")\n",
        "elif x % 2 == 1:\n",
        "  print(\"홀수입니다.\")\n",
        "\n",
        "# print(\"짝수\") if x % 2 ==0 else print(\"홀수\")"
      ],
      "metadata": {
        "id": "A29yhBAr4aDQ"
      },
      "execution_count": null,
      "outputs": []
    },
    {
      "cell_type": "code",
      "source": [
        "# 바다코끼리 사용해서? :=\n",
        "if (x := int(input(\"자연수를 입력해 주세요: \"))) % 2 ==0:\n",
        "  print(\"짝수\")\n",
        "else:\n",
        "  print(\"홀수\")"
      ],
      "metadata": {
        "colab": {
          "base_uri": "https://localhost:8080/"
        },
        "id": "0oYGAcLy7g1I",
        "outputId": "6068f186-ace9-4a2d-863f-450fbb25c66f"
      },
      "execution_count": null,
      "outputs": [
        {
          "output_type": "stream",
          "name": "stdout",
          "text": [
            "자연수를 입력해 주세요: 77778\n",
            "짝수\n"
          ]
        }
      ]
    },
    {
      "cell_type": "code",
      "source": [
        "# 파이썬 자료형 확인 Data Type\n",
        "print(type(123))\n",
        "print(type(3.14))\n",
        "print(type(\"일이삼\"))\n",
        "print(type([123]))\n",
        "print(type((123, )))\n",
        "print(type({\"123\":123}))\n",
        "print(type({123}))\n",
        "print(type(True))"
      ],
      "metadata": {
        "colab": {
          "base_uri": "https://localhost:8080/"
        },
        "id": "KgGbrRmL9w_J",
        "outputId": "fc0e4e40-7791-4ffe-f651-5e374b827115"
      },
      "execution_count": null,
      "outputs": [
        {
          "output_type": "stream",
          "name": "stdout",
          "text": [
            "<class 'int'>\n",
            "<class 'float'>\n",
            "<class 'str'>\n",
            "<class 'list'>\n",
            "<class 'tuple'>\n",
            "<class 'dict'>\n",
            "<class 'set'>\n",
            "<class 'bool'>\n"
          ]
        }
      ]
    },
    {
      "cell_type": "markdown",
      "source": [
        "## 2.표준 입출력"
      ],
      "metadata": {
        "id": "MjNqX7oR-1qr"
      }
    },
    {
      "cell_type": "code",
      "source": [
        "# 문자열 데이터를 숫자로 변환하기\n",
        "a = input(\"키보드로 숫자를 입력해 주세요: \")\n",
        "print(type(a))\n",
        "a = int(a)\n",
        "print(type(a))"
      ],
      "metadata": {
        "colab": {
          "base_uri": "https://localhost:8080/"
        },
        "id": "mESMT8wxDBYq",
        "outputId": "a0721a9a-c874-4d91-9160-8b285aceea53"
      },
      "execution_count": null,
      "outputs": [
        {
          "output_type": "stream",
          "name": "stdout",
          "text": [
            "키보드로 숫자를 입력해 주세요: 100\n",
            "<class 'str'>\n",
            "<class 'int'>\n"
          ]
        }
      ]
    },
    {
      "cell_type": "code",
      "source": [
        "a = int(print(\"숫자를 입력해 주세요: \"))"
      ],
      "metadata": {
        "id": "bXISqpphEDfZ"
      },
      "execution_count": null,
      "outputs": []
    },
    {
      "cell_type": "code",
      "source": [
        "# 문자열 포맷팅\n",
        "a = input(\"숫자를 입력하세요: \")\n",
        "print(\"변수 a에 입력된 값은\", a, \"입니다.\")\n",
        "print(\"변수 a에 입력된 값은 \" +a+ \" 입니다.\")\n",
        "print(\"변수 a에 입력된 값은 %s 입니다.\" %a)\n",
        "print(\"변수 a에 입력된 값은 {0} 입니다.\".format(a))\n",
        "print(f\"변수 a에 입력된 값은 {a} 입니다.\")"
      ],
      "metadata": {
        "colab": {
          "base_uri": "https://localhost:8080/"
        },
        "id": "cYiJYWabEwPa",
        "outputId": "f751e59f-dccb-4f6a-de1f-b08a6e328259"
      },
      "execution_count": null,
      "outputs": [
        {
          "output_type": "stream",
          "name": "stdout",
          "text": [
            "숫자를 입력하세요: 애플\n",
            "변수 a에 입력된 값은 애플 입니다.\n",
            "변수 a에 입력된 값은 애플 입니다.\n",
            "변수 a에 입력된 값은 애플 입니다.\n",
            "변수 a에 입력된 값은 애플 입니다.\n",
            "변수 a에 입력된 값은 애플 입니다.\n"
          ]
        }
      ]
    },
    {
      "cell_type": "code",
      "source": [
        "# 키보드로 두 수를 입력받아 간단한 계산기 프로그램 만들기\n",
        "x = int(input(\"첫번째 숫자를 입력해 주세요: \"))\n",
        "y = int(input(\"두번째 숫자를 입력해 주세요: \"))\n",
        "# print(\"-\"*30)\n",
        "print(f\"덧셈: {x} + {y} = {x+y:>4}\")\n",
        "print(f\"뺄셈: {x} - {y} = {x-y:<4}\")\n",
        "print(f\"곱셈: {x} x {y} = {x*y:^4}\")\n",
        "print(f\"몫: {x} // {y} = {x//y:>4}\")\n",
        "print(f\"나머지: {x} % {y} = {x%y:^4}\")"
      ],
      "metadata": {
        "colab": {
          "base_uri": "https://localhost:8080/"
        },
        "id": "59tei4I7Gg9g",
        "outputId": "fffdfa45-a9b3-4816-dcca-b2f86b546fcc"
      },
      "execution_count": null,
      "outputs": [
        {
          "output_type": "stream",
          "name": "stdout",
          "text": [
            "첫번째 숫자를 입력해 주세요: 50\n",
            "두번째 숫자를 입력해 주세요: 3\n",
            "덧셈: 50 + 3 =   53\n",
            "뺄셈: 50 - 3 = 47  \n",
            "곱셈: 50 x 3 = 150 \n",
            "몫: 50 // 3 =   16\n",
            "나머지: 50 % 3 =  2  \n"
          ]
        }
      ]
    },
    {
      "cell_type": "code",
      "source": [
        "# 속력과 거리를 입력받아 시간을 계산하는 프로그램 만들기\n",
        "velocity = int(input(\"속력을 입력해 주세요(km/h): \"))\n",
        "distance = int(input(\"거리를 입력해 주세요(km): \"))\n",
        "print(\"-\"*25)\n",
        "print(f\"속력 : {velocity:.1f} km/h\")\n",
        "print(f\"거리 : {distance:.1f} km\")\n",
        "print(f\"시간 : {distance/velocity:.1f} h\")\n",
        "# 출력물은 괜찮지만 만약 소수점이 있는 숫자가 들어왔을때 계산에 문제가 생길수있지"
      ],
      "metadata": {
        "colab": {
          "base_uri": "https://localhost:8080/"
        },
        "id": "iYjjIFGcIj06",
        "outputId": "bdabcc10-12de-41ea-9460-054975fdcdbe"
      },
      "execution_count": null,
      "outputs": [
        {
          "output_type": "stream",
          "name": "stdout",
          "text": [
            "속력을 입력해 주세요(km/h): 100\n",
            "거리를 입력해 주세요(km): 340\n",
            "-------------------------\n",
            "속력 : 100.0 km/h\n",
            "거리 : 340.0 km\n",
            "시간 : 3.4 h\n"
          ]
        }
      ]
    },
    {
      "cell_type": "code",
      "source": [
        "# 교수님 답안\n",
        "velocity = input(\"속력을 입력해 주세요(km/h): \")\n",
        "distance = input(\"거리를 입력해 주세요(km): \")\n",
        "print(f\"속력 : {float(velocity)} km/h\")\n",
        "print(f\"거리 : {float(distance)} km\")\n",
        "print(f\"시간 : {float(distance)/float(velocity):.1f} h\")"
      ],
      "metadata": {
        "colab": {
          "base_uri": "https://localhost:8080/"
        },
        "id": "8u_OrUPPNc-6",
        "outputId": "bc1e33a4-5436-49e5-9d24-b6fca810b1ce"
      },
      "execution_count": null,
      "outputs": [
        {
          "output_type": "stream",
          "name": "stdout",
          "text": [
            "속력을 입력해 주세요(km/h): 100.5\n",
            "거리를 입력해 주세요(km): 340.5\n",
            "속력 : 100.5 km/h\n",
            "거리 : 340.5 km\n",
            "시간 : 3.4 h\n"
          ]
        }
      ]
    },
    {
      "cell_type": "code",
      "source": [
        "# 이정은님 코드\n",
        "velocity= float(input('속력을 입력해 주세요(km/h):'))\n",
        "distance= float(input('거리을 입력해 주세요(km):'))\n",
        "\n",
        "print('-\"*30')\n",
        "print(f'속력  :  {velocity} km/h')\n",
        "print(f'거리  :  {distance} km')\n",
        "print(f'시간  :  {distance/velocity} h')\n",
        "# float로 받으면 소수점이 첫번째까지만 나옴??"
      ],
      "metadata": {
        "colab": {
          "base_uri": "https://localhost:8080/"
        },
        "id": "BvY2GH3qM8ch",
        "outputId": "a97f0c15-9ee4-44f1-91e1-8e8fe3a1d788"
      },
      "execution_count": null,
      "outputs": [
        {
          "output_type": "stream",
          "name": "stdout",
          "text": [
            "속력을 입력해 주세요(km/h):100\n",
            "거리을 입력해 주세요(km):340\n",
            "-\"*30\n",
            "속력  :  100.0 km/h\n",
            "거리  :  340.0 km\n",
            "시간  :  3.4 h\n"
          ]
        }
      ]
    },
    {
      "cell_type": "markdown",
      "source": [
        "## 내장된 수학함수"
      ],
      "metadata": {
        "id": "09ueTkM9OwNs"
      }
    },
    {
      "cell_type": "code",
      "source": [
        "import math\n",
        "print(f\"원주율 : {math.pi}\")\n",
        "print(f\"원주율 : {round(math.pi, 3)}\")\n"
      ],
      "metadata": {
        "colab": {
          "base_uri": "https://localhost:8080/"
        },
        "id": "dCMMYoDMOz36",
        "outputId": "8f5a0856-a33f-49cf-cf67-599980c03806"
      },
      "execution_count": null,
      "outputs": [
        {
          "output_type": "stream",
          "name": "stdout",
          "text": [
            "원주율 : 3.141592653589793\n",
            "원주율 : 3.142\n"
          ]
        }
      ]
    },
    {
      "cell_type": "code",
      "source": [
        "import math\n",
        "print(f\"반지름이 4인 원의 넓이 : {4**2 * math.pi}\")\n",
        "# 제곱 : **, ^, math.pow(,)\n",
        "print(round(3.14*2/7))\n",
        "print(f\"원주율이 3.14이고 반지름이 4인 원의 둘레길이 : {round(3.14*4*2, 2)}\")"
      ],
      "metadata": {
        "colab": {
          "base_uri": "https://localhost:8080/"
        },
        "id": "uE4oD_qxP8br",
        "outputId": "a4c3ba2f-a80c-4976-db75-86efb96d6c2e"
      },
      "execution_count": null,
      "outputs": [
        {
          "output_type": "stream",
          "name": "stdout",
          "text": [
            "반지름이 4인 원의 넓이 : 50.26548245743669\n",
            "1\n",
            "원주율이 3.14이고 반지름이 4인 원의 둘레길이 : 25.12\n"
          ]
        }
      ]
    },
    {
      "cell_type": "code",
      "source": [
        "print(\"%d / %d = %f\" %(100, 200, 0.5))"
      ],
      "metadata": {
        "colab": {
          "base_uri": "https://localhost:8080/"
        },
        "id": "r5QDKcefTQJ4",
        "outputId": "979e6e7b-becf-4350-e3b1-b20d1afcfe49"
      },
      "execution_count": null,
      "outputs": [
        {
          "output_type": "stream",
          "name": "stdout",
          "text": [
            "100 / 200 = 0.500000\n"
          ]
        }
      ]
    },
    {
      "cell_type": "code",
      "source": [
        "a = input(\"1~9까지의 정수중에서 하나 입력: \")\n",
        "print(f\"{a} + {a*2} + {a*3} = {int(a) + int(a*2) + int(a*3)}\")\n",
        "# print(f\"{a} + {a+a} + {a+a+a} = ... \")"
      ],
      "metadata": {
        "colab": {
          "base_uri": "https://localhost:8080/"
        },
        "id": "4CtGkbCwUd4k",
        "outputId": "9b97c597-ca63-4a7d-bf08-9790ed11f81c"
      },
      "execution_count": 1,
      "outputs": [
        {
          "output_type": "stream",
          "name": "stdout",
          "text": [
            "한자리수 자연수를 입력하세요: 7\n",
            "7 + 77 + 777 = 861\n"
          ]
        }
      ]
    },
    {
      "cell_type": "code",
      "source": [
        "a = int(a)\n",
        "aa = int(a+a)\n",
        "\n",
        "print(a, aa)\n",
        "print(type(a), type(aa))"
      ],
      "metadata": {
        "colab": {
          "base_uri": "https://localhost:8080/"
        },
        "id": "CHc_eTb4LhbJ",
        "outputId": "919b4974-332b-4765-d645-c0b7e1469f16"
      },
      "execution_count": 14,
      "outputs": [
        {
          "output_type": "stream",
          "name": "stdout",
          "text": [
            "8 16\n",
            "<class 'int'> <class 'int'>\n"
          ]
        }
      ]
    },
    {
      "cell_type": "code",
      "source": [
        "# eval???\n",
        "my_list = [1, 2, 3]\n",
        "print(eval(my_list))\n",
        "type(eval(my_list))"
      ],
      "metadata": {
        "id": "7bdG9kmZMzq9"
      },
      "execution_count": null,
      "outputs": []
    },
    {
      "cell_type": "code",
      "source": [
        "# eval() : 문자열을 숫자로 인식하고 계산하는 함수\n",
        "eval(\"7+77+777\")\n",
        "calc = f\"{a} + {a+a} + {a+a+a}\"\n",
        "print(f\"{calc} = {eval(calc)}\")"
      ],
      "metadata": {
        "colab": {
          "base_uri": "https://localhost:8080/"
        },
        "id": "37cxpwgFN0Gj",
        "outputId": "85f2730a-23d9-4fb7-898f-763c48d15e8a"
      },
      "execution_count": 22,
      "outputs": [
        {
          "output_type": "stream",
          "name": "stdout",
          "text": [
            "7 + 77 + 777 = 861\n"
          ]
        }
      ]
    }
  ]
}