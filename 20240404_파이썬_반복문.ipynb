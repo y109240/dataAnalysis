{
  "nbformat": 4,
  "nbformat_minor": 0,
  "metadata": {
    "colab": {
      "provenance": [],
      "authorship_tag": "ABX9TyOKAvsQFdcUwNdAh14jVrEM",
      "include_colab_link": true
    },
    "kernelspec": {
      "name": "python3",
      "display_name": "Python 3"
    },
    "language_info": {
      "name": "python"
    }
  },
  "cells": [
    {
      "cell_type": "markdown",
      "metadata": {
        "id": "view-in-github",
        "colab_type": "text"
      },
      "source": [
        "<a href=\"https://colab.research.google.com/github/y109240/dataAnalysis/blob/main/20240404_%ED%8C%8C%EC%9D%B4%EC%8D%AC_%EB%B0%98%EB%B3%B5%EB%AC%B8.ipynb\" target=\"_parent\"><img src=\"https://colab.research.google.com/assets/colab-badge.svg\" alt=\"Open In Colab\"/></a>"
      ]
    },
    {
      "cell_type": "code",
      "execution_count": null,
      "metadata": {
        "id": "ZmWDcAjki218"
      },
      "outputs": [],
      "source": []
    },
    {
      "cell_type": "markdown",
      "source": [
        "# 5.반복문 : 유한개수의 반복문"
      ],
      "metadata": {
        "id": "QGOZtlPjoIUi"
      }
    },
    {
      "cell_type": "markdown",
      "source": [
        "## 5-1.다양한 반복문"
      ],
      "metadata": {
        "id": "yIi1AhZ9nR4N"
      }
    },
    {
      "cell_type": "code",
      "source": [
        "# 1. range() 함수 이용:정수를 차례로 발생시키는 함수\n",
        "# for 변수 in range(0,3,1):\n",
        "for 변수 in range(3): #(0,3,1)과 동일\n",
        "    print(변수)"
      ],
      "metadata": {
        "colab": {
          "base_uri": "https://localhost:8080/"
        },
        "id": "04b3fpVlnTrF",
        "outputId": "7cd62fbd-0283-428b-86cf-14240d21ef8c"
      },
      "execution_count": 4,
      "outputs": [
        {
          "output_type": "stream",
          "name": "stdout",
          "text": [
            "0\n",
            "1\n",
            "2\n"
          ]
        }
      ]
    },
    {
      "cell_type": "markdown",
      "source": [
        "## 5-2. 리스트 이용"
      ],
      "metadata": {
        "id": "_CksSLmRoAXj"
      }
    },
    {
      "cell_type": "code",
      "source": [
        "# a=range(1,11)\n",
        "a=list(range(10,0,-1))\n",
        "for i in a:\n",
        "    # print(i)\n",
        "     # print(i,end=' ') # 가로로 1줄로 결과값 나온다\n",
        "     print(i,end=',') # 가로로 1줄로 결과값 나온다 + ,"
      ],
      "metadata": {
        "colab": {
          "base_uri": "https://localhost:8080/"
        },
        "id": "5TOEuUTToV32",
        "outputId": "0d01b6be-a6c0-47d5-a101-57c9dcb31116"
      },
      "execution_count": 17,
      "outputs": [
        {
          "output_type": "stream",
          "name": "stdout",
          "text": [
            "10,9,8,7,6,5,4,3,2,1,"
          ]
        }
      ]
    },
    {
      "cell_type": "code",
      "source": [
        "#  한줄로 표현하는 방법\n",
        "for i in range(1,101,10):\n",
        "    print(i,end='.')"
      ],
      "metadata": {
        "colab": {
          "base_uri": "https://localhost:8080/"
        },
        "id": "GD-Sxa3fpvUq",
        "outputId": "a8ebda8e-de67-4bee-ec71-e6de0787e816"
      },
      "execution_count": 22,
      "outputs": [
        {
          "output_type": "stream",
          "name": "stdout",
          "text": [
            "1.11.21.31.41.51.61.71.81.91."
          ]
        }
      ]
    },
    {
      "cell_type": "markdown",
      "source": [
        "## 5-3 문자열 이용"
      ],
      "metadata": {
        "id": "G276L0mOqJrk"
      }
    },
    {
      "cell_type": "markdown",
      "source": [],
      "metadata": {
        "id": "SYuxUU_mnMhG"
      }
    },
    {
      "cell_type": "code",
      "source": [
        "for i in 'phthon':\n",
        "    print(i)"
      ],
      "metadata": {
        "colab": {
          "base_uri": "https://localhost:8080/"
        },
        "id": "meVWa6fsqO3i",
        "outputId": "20a09a33-2040-437b-b930-e84dea9c14e8"
      },
      "execution_count": 26,
      "outputs": [
        {
          "output_type": "stream",
          "name": "stdout",
          "text": [
            "p\n",
            "h\n",
            "t\n",
            "h\n",
            "o\n",
            "n\n"
          ]
        }
      ]
    },
    {
      "cell_type": "markdown",
      "source": [
        "##5-4. 변수 사용안하고 반복만 할때"
      ],
      "metadata": {
        "id": "uJImkdMCqvGm"
      }
    },
    {
      "cell_type": "code",
      "source": [
        "\n",
        "for _ in range(3):\n",
        "    print('좋은 아침')"
      ],
      "metadata": {
        "colab": {
          "base_uri": "https://localhost:8080/"
        },
        "id": "ZtTZYvfcq2F8",
        "outputId": "d7bd0874-9fcc-426f-cc6f-48283f27a4bf"
      },
      "execution_count": 28,
      "outputs": [
        {
          "output_type": "stream",
          "name": "stdout",
          "text": [
            "좋은 아침\n",
            "좋은 아침\n",
            "좋은 아침\n"
          ]
        }
      ]
    },
    {
      "cell_type": "markdown",
      "source": [
        "## 5-5. 리스트와 같은 순서가 있는 자료형의 인덱스를 함께 사요"
      ],
      "metadata": {
        "id": "yoVXQVyPq4Xt"
      }
    },
    {
      "cell_type": "code",
      "source": [
        "fruits=['사과','포도','딸기','키위']\n",
        "for i in   fruits:\n",
        "    print(i)"
      ],
      "metadata": {
        "colab": {
          "base_uri": "https://localhost:8080/"
        },
        "id": "9LX5AsUaq-34",
        "outputId": "dbf21300-5b30-47c3-83e7-aa55d92b2394"
      },
      "execution_count": 30,
      "outputs": [
        {
          "output_type": "stream",
          "name": "stdout",
          "text": [
            "사과\n",
            "포도\n",
            "딸기\n",
            "키위\n"
          ]
        }
      ]
    },
    {
      "cell_type": "code",
      "source": [
        "fruits=['사과','포도','딸기','키위']\n",
        "for idx, fruit in   enumerate(fruits):\n",
        "    print(idx, fruit)"
      ],
      "metadata": {
        "colab": {
          "base_uri": "https://localhost:8080/"
        },
        "id": "mVsZ5mxIrQYY",
        "outputId": "67ddeeff-66ba-4503-e809-d9a5a8639234"
      },
      "execution_count": 40,
      "outputs": [
        {
          "output_type": "stream",
          "name": "stdout",
          "text": [
            "0 사과\n",
            "1 포도\n",
            "2 딸기\n",
            "3 키위\n"
          ]
        }
      ]
    },
    {
      "cell_type": "code",
      "source": [
        "fruits=['사과','포도','딸기','키위']\n",
        "idx=0\n",
        "for fruit in   fruits:\n",
        "    print(idx, fruit)\n",
        "    idx=idx+1"
      ],
      "metadata": {
        "colab": {
          "base_uri": "https://localhost:8080/"
        },
        "id": "x3Z-nvcar40i",
        "outputId": "8cb24abf-f9a0-4ea1-c29f-2989d7e83c50"
      },
      "execution_count": 41,
      "outputs": [
        {
          "output_type": "stream",
          "name": "stdout",
          "text": [
            "0 사과\n",
            "1 포도\n",
            "2 딸기\n",
            "3 키위\n"
          ]
        }
      ]
    }
  ]
}