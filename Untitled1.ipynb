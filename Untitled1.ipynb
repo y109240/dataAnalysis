{
  "nbformat": 4,
  "nbformat_minor": 0,
  "metadata": {
    "colab": {
      "provenance": [],
      "authorship_tag": "ABX9TyMMbqiIWR31f2MmSCOA20vI",
      "include_colab_link": true
    },
    "kernelspec": {
      "name": "python3",
      "display_name": "Python 3"
    },
    "language_info": {
      "name": "python"
    }
  },
  "cells": [
    {
      "cell_type": "markdown",
      "metadata": {
        "id": "view-in-github",
        "colab_type": "text"
      },
      "source": [
        "<a href=\"https://colab.research.google.com/github/y109240/dataAnalysis/blob/main/Untitled1.ipynb\" target=\"_parent\"><img src=\"https://colab.research.google.com/assets/colab-badge.svg\" alt=\"Open In Colab\"/></a>"
      ]
    },
    {
      "cell_type": "code",
      "execution_count": null,
      "metadata": {
        "id": "X3uahCkOyHtX"
      },
      "outputs": [],
      "source": []
    },
    {
      "cell_type": "markdown",
      "source": [
        "## 4. 다중 조건문\n",
        "if~ else~ if -> If~ elif~"
      ],
      "metadata": {
        "id": "2sJ4fJyeyIXm"
      }
    },
    {
      "cell_type": "code",
      "source": [
        "age=int(input('나이를 입력하세요 :'))\n",
        "if age < 8:\n",
        "    print('미취학 아동입니다.')\n",
        "elif age < 14:\n",
        "    print('초등학생입니다')\n",
        "elif age < 17:\n",
        "    print('중학생입니다')\n",
        "elif age < 20:\n",
        "    print('고등학생입니다')\n",
        "else:\n",
        "    print('성인입니다.')\n"
      ],
      "metadata": {
        "colab": {
          "base_uri": "https://localhost:8080/"
        },
        "id": "r1N4Dz3pychn",
        "outputId": "1ebff472-5f32-419e-f58c-f2fde9650978"
      },
      "execution_count": null,
      "outputs": [
        {
          "output_type": "stream",
          "name": "stdout",
          "text": [
            "나이를 입력하세요 :25\n",
            "성인입니다.\n"
          ]
        }
      ]
    },
    {
      "cell_type": "markdown",
      "source": [
        "## 5. 조건부 표현식"
      ],
      "metadata": {
        "id": "JoLsljbMz3fE"
      }
    },
    {
      "cell_type": "code",
      "source": [
        "score=int(input('점수를 입력하세요'))\n",
        "#if score >= 80:\n",
        "#    message = 'Success'\n",
        "#else:\n",
        "#    message = 'Failure'\n",
        "message='success' if score>=80 else 'failure'\n",
        "print(f\"당신은 {message} 하셨습니다.\")"
      ],
      "metadata": {
        "colab": {
          "base_uri": "https://localhost:8080/"
        },
        "id": "kQ-QGd3Pz7rE",
        "outputId": "b45dcf10-7041-4d3e-823c-efc430763b01"
      },
      "execution_count": null,
      "outputs": [
        {
          "output_type": "stream",
          "name": "stdout",
          "text": [
            "점수를 입력하세요79\n",
            "당신은 failure 하셨습니다.\n"
          ]
        }
      ]
    },
    {
      "cell_type": "code",
      "source": [
        "\n",
        "temp=int(input('온도를 입력하세요'))\n",
        "if temp>=30:\n",
        "    print('에어컨을 켜주세요')\n",
        "elif temp<=20 and temp>=10:\n",
        "    print('내복을 입여주세요')\n",
        "elif temp<10:\n",
        "    print('난방기를 켜주세요')\n"
      ],
      "metadata": {
        "colab": {
          "base_uri": "https://localhost:8080/"
        },
        "id": "Z4g56c7T2EL1",
        "outputId": "f8c47635-b2ec-4450-cd06-1af391abd8d9"
      },
      "execution_count": 22,
      "outputs": [
        {
          "output_type": "stream",
          "name": "stdout",
          "text": [
            "온도를 입력하세요85\n",
            "에어컨을 켜주세요\n"
          ]
        }
      ]
    },
    {
      "cell_type": "code",
      "source": [
        "menu=''' [커피 메뉴]\n",
        "----------------------\n",
        "-아메리카노:2500원\n",
        "-카페라테  :3000원\n",
        "-카페모카  :3000원\n",
        "----------------------\n",
        "원하시는 커피종류와 잔수를 입력하세요'''\n",
        "print(menu)\n",
        "coffee1=int(input('아메리카노 몇잔?'))\n",
        "coffee2=int(input('카페라테 몇잔?'))\n",
        "coffee3=int(input('카페모카 몇잔?'))\n",
        "total=2500*coffee1+3000*coffee2+3000*coffee3\n",
        "print(f\"지불하실 총 금액은 {total}원 입니다.\")\n",
        "money=int(input('돈을 넣어 주세요 \"))\n",
        "change=total-money\n",
        "if total>money:\n",
        "    print(f\"돈이 부족합니다. {change}를 더 넣어주세요.\")\n",
        "else:\n",
        "\n",
        "\n",
        "\n",
        "\n"
      ],
      "metadata": {
        "colab": {
          "base_uri": "https://localhost:8080/",
          "height": 110
        },
        "id": "DKiGlXso9-YT",
        "outputId": "4f82f76f-9965-49eb-ab71-ac925bc8a8a3"
      },
      "execution_count": 24,
      "outputs": [
        {
          "output_type": "error",
          "ename": "SyntaxError",
          "evalue": "unterminated string literal (detected at line 14) (<ipython-input-24-eb59fdb5174b>, line 14)",
          "traceback": [
            "\u001b[0;36m  File \u001b[0;32m\"<ipython-input-24-eb59fdb5174b>\"\u001b[0;36m, line \u001b[0;32m14\u001b[0m\n\u001b[0;31m    money=int(input('돈을 넣어 주세요 \"))\u001b[0m\n\u001b[0m                    ^\u001b[0m\n\u001b[0;31mSyntaxError\u001b[0m\u001b[0;31m:\u001b[0m unterminated string literal (detected at line 14)\n"
          ]
        }
      ]
    },
    {
      "cell_type": "markdown",
      "source": [],
      "metadata": {
        "id": "F5R50D-4yMu9"
      }
    },
    {
      "cell_type": "code",
      "source": [
        "from gtts import gTTS\n",
        "from IPython.display import Audio\n",
        "\n",
        "menu=''' [커피 메뉴]\n",
        "----------------------\n",
        "-아메리카노:2500원\n",
        "-카페라테  :3000원\n",
        "-카페모카  :3000원\n",
        "----------------------\n",
        "원하시는 커피종류와 잔수를 입력하세요'''\n",
        "print(menu)\n",
        "coffee1=int(input('아메리카노 몇잔?'))\n",
        "coffee2=int(input('카페라테 몇잔?'))\n",
        "coffee3=int(input('카페모카 몇잔?'))\n",
        "total=2500*coffee1+3000*coffee2+3000*coffee3\n",
        "print(f\"지불하실 총 금액은 {total:,}원 입니다.\")\n",
        "money=int(input(\"돈을 넣어 주세요 \"))\n",
        "change=total-money\n",
        "if total>money:\n",
        "    print(f\"돈이 부족합니다. {change}를 더 넣어주세요.\")\n",
        "else:\n",
        "    print(f\"거스름돈은 {abs(change)}입니다.\")\n",
        "\n",
        "\n",
        "\n"
      ],
      "metadata": {
        "colab": {
          "base_uri": "https://localhost:8080/"
        },
        "outputId": "ca99211e-5fa2-4191-9304-ad88efd45aff",
        "id": "zQNZoqPI_lsp"
      },
      "execution_count": 7,
      "outputs": [
        {
          "output_type": "stream",
          "name": "stdout",
          "text": [
            " [커피 메뉴]\n",
            "----------------------\n",
            "-아메리카노:2500원\n",
            "-카페라테  :3000원\n",
            "-카페모카  :3000원\n",
            "----------------------\n",
            "원하시는 커피종류와 잔수를 입력하세요\n",
            "아메리카노 몇잔?1\n",
            "카페라테 몇잔?2\n",
            "카페모카 몇잔?1\n",
            "지불하실 총 금액은 11,500원 입니다.\n",
            "돈을 넣어 주세요 11500\n",
            "거스름돈은 0입니다.\n"
          ]
        }
      ]
    },
    {
      "cell_type": "code",
      "source": [
        "!pip install gTTS"
      ],
      "metadata": {
        "colab": {
          "base_uri": "https://localhost:8080/"
        },
        "id": "CLfD_vNJC7Mq",
        "outputId": "506b4ac4-502b-4eaf-d5ec-c475d3e9a559"
      },
      "execution_count": 5,
      "outputs": [
        {
          "output_type": "stream",
          "name": "stdout",
          "text": [
            "Collecting gTTS\n",
            "  Downloading gTTS-2.5.1-py3-none-any.whl (29 kB)\n",
            "Requirement already satisfied: requests<3,>=2.27 in /usr/local/lib/python3.10/dist-packages (from gTTS) (2.31.0)\n",
            "Requirement already satisfied: click<8.2,>=7.1 in /usr/local/lib/python3.10/dist-packages (from gTTS) (8.1.7)\n",
            "Requirement already satisfied: charset-normalizer<4,>=2 in /usr/local/lib/python3.10/dist-packages (from requests<3,>=2.27->gTTS) (3.3.2)\n",
            "Requirement already satisfied: idna<4,>=2.5 in /usr/local/lib/python3.10/dist-packages (from requests<3,>=2.27->gTTS) (3.6)\n",
            "Requirement already satisfied: urllib3<3,>=1.21.1 in /usr/local/lib/python3.10/dist-packages (from requests<3,>=2.27->gTTS) (2.0.7)\n",
            "Requirement already satisfied: certifi>=2017.4.17 in /usr/local/lib/python3.10/dist-packages (from requests<3,>=2.27->gTTS) (2024.2.2)\n",
            "Installing collected packages: gTTS\n",
            "Successfully installed gTTS-2.5.1\n"
          ]
        }
      ]
    },
    {
      "cell_type": "markdown",
      "source": [],
      "metadata": {
        "id": "MCYHeeXQ_lsq"
      }
    }
  ]
}