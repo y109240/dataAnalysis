{
  "nbformat": 4,
  "nbformat_minor": 0,
  "metadata": {
    "colab": {
      "provenance": [],
      "authorship_tag": "ABX9TyN6LSVdz2uWv43uAg4UJ0VJ",
      "include_colab_link": true
    },
    "kernelspec": {
      "name": "python3",
      "display_name": "Python 3"
    },
    "language_info": {
      "name": "python"
    }
  },
  "cells": [
    {
      "cell_type": "markdown",
      "metadata": {
        "id": "view-in-github",
        "colab_type": "text"
      },
      "source": [
        "<a href=\"https://colab.research.google.com/github/y109240/dataAnalysis/blob/main/5%EC%9D%BC%EC%B0%A8_%ED%8C%8C%EC%9D%B4%EC%8D%AC%EA%B8%B0%EC%B4%88_%EB%AC%B8%EC%A0%9C%ED%92%80%EC%9D%B4.ipynb\" target=\"_parent\"><img src=\"https://colab.research.google.com/assets/colab-badge.svg\" alt=\"Open In Colab\"/></a>"
      ]
    },
    {
      "cell_type": "code",
      "source": [
        "print(\"프로그램을 작성할 때 일정한 구간의 명령을 \\n반복해서 실행하도록 구성한 구문을 무엇이라고 하는가?\")\n",
        "while True:\n",
        "  answer = input(\"정답은?: \")\n",
        "  if answer == \"반복문\":\n",
        "    print(\"정답입니다.\")\n",
        "    break\n",
        "  elif answer != \"반복문\":\n",
        "    print(\"좀 더 고민해 보세요.\")\n",
        "    continue\n",
        "  print(\"오답입니다.\")\n",
        "print(\"프로그램을 종료합니다.\")"
      ],
      "metadata": {
        "id": "BELxfZtULSMC"
      },
      "execution_count": null,
      "outputs": []
    },
    {
      "cell_type": "markdown",
      "source": [
        "**숙제**\n",
        "- 이자율, 3의 배수의 합, 두배 별 출력, 구구단 출력\n",
        "- 공이 튕긴 횟수 구하기, 도둑잡기 게임, 무인 호텔 관리 프로그램\n",
        "- 거북이 그림 : 원, 벌집, 얼굴\n"
      ],
      "metadata": {
        "id": "YKF2zHnMpFB1"
      }
    },
    {
      "cell_type": "code",
      "source": [
        "# 1000만원을 년 이자율 7%로 저금했을 경우 2000만원이 되는데 몇년이 걸리는지 계산하는 프로그램\n",
        "money = 10000000\n",
        "year = 0\n",
        "while money < 20000000:\n",
        "  year += 1\n",
        "  money += money * 0.07\n",
        "print(f\"1000만원이 2000만원이상이 되기 위해 {year}년이 걸립니다.\")"
      ],
      "metadata": {
        "colab": {
          "base_uri": "https://localhost:8080/"
        },
        "id": "-CiHXpp3paLA",
        "outputId": "fa2369f9-f3a2-4e1e-9496-2ca51ee0d013"
      },
      "execution_count": null,
      "outputs": [
        {
          "output_type": "stream",
          "name": "stdout",
          "text": [
            "1000만원이 2000만원이상이 되기 위해 11년이 걸립니다.\n"
          ]
        }
      ]
    },
    {
      "cell_type": "code",
      "source": [
        "# 교수님 코드\n",
        "seed, target = 1000, 2000\n",
        "balance, interest = 1000, 0.07\n",
        "year = 0\n",
        "\n",
        "while balance <= target:\n",
        "  balance += balance * interest\n",
        "  year += 1\n",
        "  print(f\"year: {year}, balance: {balance}\")\n",
        "print(f\"{seed}만원이 {target}만원이 되는데 {year}년이 걸립니다.\")"
      ],
      "metadata": {
        "colab": {
          "base_uri": "https://localhost:8080/"
        },
        "id": "8ppmlM4fO15K",
        "outputId": "5d6b605e-ce3b-4023-bfe9-ebb3aeefc45d"
      },
      "execution_count": null,
      "outputs": [
        {
          "output_type": "stream",
          "name": "stdout",
          "text": [
            "year: 1, balance: 1070.0\n",
            "year: 2, balance: 1144.9\n",
            "year: 3, balance: 1225.0430000000001\n",
            "year: 4, balance: 1310.79601\n",
            "year: 5, balance: 1402.5517307\n",
            "year: 6, balance: 1500.730351849\n",
            "year: 7, balance: 1605.78147647843\n",
            "year: 8, balance: 1718.18617983192\n",
            "year: 9, balance: 1838.4592124201545\n",
            "year: 10, balance: 1967.1513572895653\n",
            "year: 11, balance: 2104.851952299835\n",
            "1000만원이 2000만원이 되는데 11년이 걸립니다.\n"
          ]
        }
      ]
    },
    {
      "cell_type": "code",
      "source": [
        "# 반복문을 사용해 1부터 1000까지의 자연수 중에서 3의 배수의 합을 구해보자.\n",
        "# for\n",
        "sum_3_for = 0\n",
        "for i in range(1, 1001):\n",
        "  if i % 3 == 0:\n",
        "    sum_3_for += i\n",
        "print(f\"for 사용 {sum_3_for}\")\n",
        "\n",
        "sum_3_for = sum([i for i in range(1, 1001) if i % 3 ==0])\n",
        "print(f\"for 조건부 표현식 {sum_3_for}\")\n",
        "\n",
        "\n",
        "# while\n",
        "sum_3_while = 0\n",
        "i = 0\n",
        "while i < 1000//3:\n",
        "  i += 1\n",
        "  sum_3_while += i*3\n",
        "print(f\"while 사용 {sum_3_while}\")\n",
        "\n",
        "i = 1\n",
        "sum_3_while2 = 0\n",
        "while i <= 1000:\n",
        "  if i % 3 == 0:\n",
        "    sum_3_while2 += i\n",
        "  i += 1\n",
        "print(f\"while 조건문에 if 넣어서 {sum_3_while2}\")\n",
        "\n",
        "\n",
        "# 리스트 컴프리헨션\n",
        "sum_3_listsum = sum([i for i in range(1, 1001) if i % 3 ==0])\n",
        "print(f\"리스트 컴프리헨션 사용 {sum_3_listsum}\")"
      ],
      "metadata": {
        "colab": {
          "base_uri": "https://localhost:8080/"
        },
        "id": "T-PGw9PaqQdt",
        "outputId": "19eda367-ce20-4a3d-8058-52d5a8edad14"
      },
      "execution_count": null,
      "outputs": [
        {
          "output_type": "stream",
          "name": "stdout",
          "text": [
            "for 사용 166833\n",
            "for 조건부 표현식 166833\n",
            "while 사용 166833\n",
            "while 조건문에 if 넣어서 166833\n",
            "리스트 컴프리헨션 사용 166833\n"
          ]
        }
      ]
    },
    {
      "cell_type": "code",
      "source": [
        "# 사용자가 숫자를 입력하면 두배만큼 별을 출력하기\n",
        "# 리스트로 입력받기\n",
        "num = list(input(\"숫자를 여러개 입력하세요: \"))\n",
        "for i in num:\n",
        "  print(\"\\u2605\" * 2 * int(i))\n",
        "\n",
        "# 문자열로 입력받아 인덱스 이용하기\n",
        "num = input(\"숫자를 여러개 입력하세요: \")\n",
        "for i in range(len(num)):\n",
        "  print(\"\\u2605\" * 2 * int(num[i]))\n",
        "\n",
        "# 교수님 코드\n",
        "numbers = input(\"숫자를 입력하세요: \")\n",
        "for number in numbers:\n",
        "  for _ in range(int(number)*2):\n",
        "    print(\"\\u2605\", end=\"\")\n",
        "  print()"
      ],
      "metadata": {
        "id": "qVw99vDMLbeb"
      },
      "execution_count": null,
      "outputs": []
    },
    {
      "cell_type": "code",
      "source": [
        "# 구구단 출력해 보기\n",
        "# 세로 출력\n",
        "for i in range(2, 10):\n",
        "  print(f\"----{i}단----\")\n",
        "  for j in range(1, 10):\n",
        "    print(f\"{i} x {j} = {i*j:>2}\")"
      ],
      "metadata": {
        "id": "jODQRNa8L6Ez"
      },
      "execution_count": null,
      "outputs": []
    },
    {
      "cell_type": "code",
      "source": [
        "# 구구단 출력해 보기\n",
        "# 가로 출력\n",
        "for _ in range(2, 10): print(f\"----{_}단----\", end=\"\\t\")\n",
        "print()\n",
        "for i in range(1, 10):\n",
        "  for j in range(2, 10):\n",
        "    print(f\"{j} x {i} = {i*j}\", end=\"\\t\")\n",
        "  print()"
      ],
      "metadata": {
        "id": "uohdndgEMpII"
      },
      "execution_count": null,
      "outputs": []
    },
    {
      "cell_type": "code",
      "source": [
        "# 공이 튕긴 횟수 구하기\n",
        "height = int(input(\"공이 처음 떨어질 높이를 입력하세요(meter): \"))\n",
        "count = 0\n",
        "height_half = height\n",
        "\n",
        "while height_half >= 0.00001:\n",
        "  count += 1\n",
        "  height_half /= 2\n",
        "\n",
        "print(f\"{height}m 위치에서 공이 튕긴횟수는 총{count}번 입니다.\")"
      ],
      "metadata": {
        "id": "4hlFsQEWIOJP"
      },
      "execution_count": null,
      "outputs": []
    },
    {
      "cell_type": "code",
      "source": [
        "# 도둑잡기 게임?\n",
        "'''방문을 열때마다 무작위로 범인이 이동\n",
        "방문을 열었을때 범인이 있으면 100점, 종료\n",
        "없으면 -10점, 찾을때까지 반복함'''\n",
        "\n",
        "import random\n",
        "score = 100\n",
        "\n",
        "while True:\n",
        "  thief = random.choice([\"A\", \"B\", \"C\"])\n",
        "  user = input(\"A, B, C 세개의 방중에서 범인이 있는 방을 찾아주세요: \").upper()\n",
        "  if user not in [\"A\", \"B\", \"C\"]:\n",
        "    print(\"A, B, C 세개의 방중에서 선택해 주세요.\")\n",
        "    continue\n",
        "  if thief == user:\n",
        "    print(f\"[{score}점] {thief}방에서 범인 체포!\")\n",
        "    break\n",
        "  if score == 0 :\n",
        "    print(f\"[{score}]점 범인을 잡지 못했습니다.\")\n",
        "    break\n",
        "  else:\n",
        "    score -= 10\n",
        "    print(f\"[{score}점] 범인을 잡지 못했습니다.\")"
      ],
      "metadata": {
        "id": "OYvCy9s7IRp2"
      },
      "execution_count": null,
      "outputs": []
    },
    {
      "cell_type": "code",
      "source": [
        "# 무인 호텔 관리 프로그램\n",
        "print(\"호텔 관리 시스템입니다.\")\n",
        "menu = '''< 메뉴 >\n",
        "1. 체크인\n",
        "2. 체크아웃\n",
        "3. 현황 보기\n",
        "0. 종료하기'''\n",
        "\n",
        "room_count = int(input(\"총 방의 갯수를 입력해 주세요: \"))\n",
        "room_list = [0 for _ in range(room_count)]\n",
        "print(f\"방 현황: {room_list} (0: 빈방, 1: 입실중)\")\n",
        "\n",
        "while True:\n",
        "  print(\"-\"*10)\n",
        "  print(menu)\n",
        "  user = int(input(\"메뉴를 선택해 주세요: \"))\n",
        "  print(f\"--> 선택 : {user}\")\n",
        "\n",
        "  # 체크인\n",
        "  if user == 1:\n",
        "    checkin = int(input(\"입실하실 방을 선택해 주세요: \")) -1\n",
        "    if room_list[checkin] == 1:\n",
        "      print(\"입실중인 방은 체크인할수 없습니다.\")\n",
        "    else:\n",
        "      room_list[checkin] = 1\n",
        "      print(f\"{checkin+1}번방 입실 완료\")\n",
        "    continue\n",
        "\n",
        "  # 체크아웃\n",
        "  if user == 2:\n",
        "    checkout = int(input(\"퇴실하실 방을 선택해 주세요: \")) -1\n",
        "    if room_list[checkout] == 0:\n",
        "      print(\"빈방은 체크아웃 할수없습니다.\")\n",
        "    else:\n",
        "      room_list[checkout] = 0\n",
        "      print(f\"{checkout+1}번방 퇴실 완료\")\n",
        "    continue\n",
        "\n",
        "  # 방 현황 보기\n",
        "  if user == 3:\n",
        "    for idx, i in enumerate(room_list):\n",
        "      room = \"빈 방\" if i == 0 else \"입실 중\"\n",
        "      print(f\"{idx+1}호 : {room}\")\n",
        "    continue\n",
        "  # 종료 하기\n",
        "  if user == 0:\n",
        "    print(\"종료합니다.\")\n",
        "    break\n",
        "\n",
        "  # 방 번호 오류체크\n",
        "  if user not in [1, 2, 3, 0]:\n",
        "    print(\"번호를 잘못 입력하셨습니다.\")\n"
      ],
      "metadata": {
        "id": "b0ogbIpBIYuK"
      },
      "execution_count": null,
      "outputs": []
    },
    {
      "cell_type": "code",
      "source": [
        "print('호텔관리 시스템입니다.')\n",
        "menu = '''\n",
        "1. 체크인\n",
        "2. 체크아웃\n",
        "3. 입실현황\n",
        "0. 종료'''\n",
        "number = int(input('호텔 방의 개수는(입력): '))\n",
        "hotel = [0 for _ in range(number)]\n",
        "print(f\"방 현황: {hotel} (0:빈방, 1:입실중)\")\n",
        "while True:\n",
        "    print('-------------------')\n",
        "    print(menu)\n",
        "    select = input('-->메뉴 선택: ')\n",
        "    if select == '0':\n",
        "        break\n",
        "\n",
        "    elif select == '1': # 체크인\n",
        "        num = int(input(f'체크-in하실 방 호수(1~{len(hotel)}): '))\n",
        "        if hotel[num-1]:   # 이미 입실 중일 때\n",
        "            print(f\"{num}번 방은 이미 입실 중입니다.\")\n",
        "        else:\n",
        "            hotel[num-1] = 1\n",
        "\n",
        "    elif select == '2': # 체크아웃\n",
        "        num = int(input(f'체크-out하실 방 호수(1~{len(hotel)}): '))\n",
        "        if hotel[num-1]: # 체크아웃 처리\n",
        "            hotel[num-1] = 0    # 빈 방 상태로 만듦\n",
        "        else:\n",
        "            print(f'{hotel[num]}번 방은 빈 방입니다. 빈 방은 체크-out하실 수 없습니다.')\n",
        "\n",
        "    elif select == '3': # 현황보기\n",
        "        for idx, room in enumerate(hotel): #[0, 0, 0]\n",
        "            if room == 0:\n",
        "                print(f\"{idx+1}호: 빈방\")\n",
        "            elif room == 1:\n",
        "                print(f\"{idx+1}호: 입실중\")\n",
        "\n",
        "\n",
        "print('-------------------')\n",
        "print('프로그램 종료!')"
      ],
      "metadata": {
        "id": "nepYHgjui9vq"
      },
      "execution_count": null,
      "outputs": []
    },
    {
      "cell_type": "code",
      "source": [
        "# 호텔관리 프로그램을 함수로 만든다면?\n",
        "# 그래픽을 배워서 실제로 유저가 동작시킬수 있게 만들수 있을까?"
      ],
      "metadata": {
        "id": "YkcUYgGme3Fg"
      },
      "execution_count": null,
      "outputs": []
    }
  ]
}