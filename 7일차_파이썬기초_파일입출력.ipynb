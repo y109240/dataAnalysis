{
  "nbformat": 4,
  "nbformat_minor": 0,
  "metadata": {
    "colab": {
      "provenance": [],
      "mount_file_id": "1kBpsl1lhXCBRG3qVChSSKwZWMEr_ZQGW",
      "authorship_tag": "ABX9TyOdrP2sxCOqK9GywrE500Dc",
      "include_colab_link": true
    },
    "kernelspec": {
      "name": "python3",
      "display_name": "Python 3"
    },
    "language_info": {
      "name": "python"
    }
  },
  "cells": [
    {
      "cell_type": "markdown",
      "metadata": {
        "id": "view-in-github",
        "colab_type": "text"
      },
      "source": [
        "<a href=\"https://colab.research.google.com/github/y109240/dataAnalysis/blob/main/7%EC%9D%BC%EC%B0%A8_%ED%8C%8C%EC%9D%B4%EC%8D%AC%EA%B8%B0%EC%B4%88_%ED%8C%8C%EC%9D%BC%EC%9E%85%EC%B6%9C%EB%A0%A5.ipynb\" target=\"_parent\"><img src=\"https://colab.research.google.com/assets/colab-badge.svg\" alt=\"Open In Colab\"/></a>"
      ]
    },
    {
      "cell_type": "markdown",
      "source": [
        "# 6. 파일 입출력(TXT)"
      ],
      "metadata": {
        "id": "0ft-GM-fkjeo"
      }
    },
    {
      "cell_type": "markdown",
      "source": [
        "### 파일 입출력"
      ],
      "metadata": {
        "id": "R1B-kv1-mWlv"
      }
    },
    {
      "cell_type": "code",
      "execution_count": null,
      "metadata": {
        "id": "5jplu2dokW_5"
      },
      "outputs": [],
      "source": [
        "# 파일에 쓰기\n",
        "f = open(\"./새파일.txt\", \"w\")\n",
        "for i in range(1, 11):\n",
        "  f.write(f\"{i:2>}번째 줄입니다.\\n\")\n",
        "f.close()"
      ]
    },
    {
      "cell_type": "markdown",
      "source": [
        "- read()\n",
        "- readline()\n",
        "- readlines()"
      ],
      "metadata": {
        "id": "SwGrwxXCoqTO"
      }
    },
    {
      "cell_type": "code",
      "source": [
        "# readline()\n",
        "f = open(\"./새파일.txt\", \"r\")\n",
        "line = f.readline()\n",
        "print(line)\n",
        "print(\"------------\")\n",
        "\n",
        "while True:\n",
        "  line = f.readline()\n",
        "  if not line:\n",
        "    break\n",
        "  print(line.strip()) # 보이지 않는 개행문자를 제거\n",
        "f.close()"
      ],
      "metadata": {
        "colab": {
          "base_uri": "https://localhost:8080/"
        },
        "id": "OG0xsrSDn7lz",
        "outputId": "dae449e8-0209-48c4-bf2a-e8b3c44d3681"
      },
      "execution_count": null,
      "outputs": [
        {
          "output_type": "stream",
          "name": "stdout",
          "text": [
            "1번째 줄입니다.\n",
            "\n",
            "------------\n",
            "2번째 줄입니다.\n",
            "3번째 줄입니다.\n",
            "4번째 줄입니다.\n",
            "5번째 줄입니다.\n",
            "6번째 줄입니다.\n",
            "7번째 줄입니다.\n",
            "8번째 줄입니다.\n",
            "9번째 줄입니다.\n",
            "10번째 줄입니다.\n"
          ]
        }
      ]
    },
    {
      "cell_type": "code",
      "source": [
        "# readlines() 리스트 형태로 출력\n",
        "f = open(\"./새파일.txt\", \"r\")\n",
        "for lines in  f.readlines():\n",
        "  print(lines.strip())\n",
        "f.close()"
      ],
      "metadata": {
        "colab": {
          "base_uri": "https://localhost:8080/"
        },
        "id": "HbFD0-VzpxYg",
        "outputId": "7d59d9b9-69e0-4bb4-843c-84cb7cc9d670"
      },
      "execution_count": null,
      "outputs": [
        {
          "output_type": "stream",
          "name": "stdout",
          "text": [
            "1번째 줄입니다.\n",
            "2번째 줄입니다.\n",
            "3번째 줄입니다.\n",
            "4번째 줄입니다.\n",
            "5번째 줄입니다.\n",
            "6번째 줄입니다.\n",
            "7번째 줄입니다.\n",
            "8번째 줄입니다.\n",
            "9번째 줄입니다.\n",
            "10번째 줄입니다.\n"
          ]
        }
      ]
    },
    {
      "cell_type": "code",
      "source": [
        "# read() 통으로 읽음 str 반환\n",
        "f = open(\"./새파일.txt\", \"r\")\n",
        "line = f.read()\n",
        "print(line)\n",
        "f.close()"
      ],
      "metadata": {
        "colab": {
          "base_uri": "https://localhost:8080/"
        },
        "id": "PRZCTqliqZVt",
        "outputId": "353b225a-5e80-44e0-951f-bce56578f87b"
      },
      "execution_count": null,
      "outputs": [
        {
          "output_type": "stream",
          "name": "stdout",
          "text": [
            "1번째 줄입니다.\n",
            "2번째 줄입니다.\n",
            "3번째 줄입니다.\n",
            "4번째 줄입니다.\n",
            "5번째 줄입니다.\n",
            "6번째 줄입니다.\n",
            "7번째 줄입니다.\n",
            "8번째 줄입니다.\n",
            "9번째 줄입니다.\n",
            "10번째 줄입니다.\n",
            "\n"
          ]
        }
      ]
    },
    {
      "cell_type": "markdown",
      "source": [
        "### with문\n",
        "- with로 열경우 따로 닫지 않아도됨\n",
        "- with문 블록 범위를 벗어나면 자동으로 파일 객체가 닫기 처리가 됨\n",
        "\n"
      ],
      "metadata": {
        "id": "BaNbJzYlroET"
      }
    },
    {
      "cell_type": "code",
      "source": [
        "with open(\"./새파일.txt\", \"r\") as f:\n",
        "  data = f.read()\n",
        "  print(type(data))\n",
        "  data = data.replace(\"줄\", \"사람\")\n",
        "  print(data)"
      ],
      "metadata": {
        "colab": {
          "base_uri": "https://localhost:8080/"
        },
        "id": "oI8ytv4-rPek",
        "outputId": "eae1d6d4-76fc-40d5-e095-2fddfe66f80a"
      },
      "execution_count": null,
      "outputs": [
        {
          "output_type": "stream",
          "name": "stdout",
          "text": [
            "<class 'str'>\n",
            "1번째 사람입니다.\n",
            "2번째 사람입니다.\n",
            "3번째 사람입니다.\n",
            "4번째 사람입니다.\n",
            "5번째 사람입니다.\n",
            "6번째 사람입니다.\n",
            "7번째 사람입니다.\n",
            "8번째 사람입니다.\n",
            "9번째 사람입니다.\n",
            "10번째 사람입니다.\n",
            "\n"
          ]
        }
      ]
    },
    {
      "cell_type": "markdown",
      "source": [
        "### os 모듈: 디렉토리와 파일 관련 함수"
      ],
      "metadata": {
        "id": "ze2D62dnsxaZ"
      }
    },
    {
      "cell_type": "code",
      "source": [
        "import os\n",
        "\n",
        "print(f\"현재위치: {os.getcwd()}\")\n",
        "print(f\"현재위치 파일/폴더 목록: {os.listdir()}\")\n",
        "# os.chdir(\"../\")\n",
        "os.chdir(\"/content\")\n",
        "print(f\"현재위치 파일/폴더 목록: {os.listdir()}\")"
      ],
      "metadata": {
        "colab": {
          "base_uri": "https://localhost:8080/"
        },
        "id": "McQAb9Yusq09",
        "outputId": "08a8e3cd-28af-4b0f-809c-b77bd3a9881f"
      },
      "execution_count": null,
      "outputs": [
        {
          "output_type": "stream",
          "name": "stdout",
          "text": [
            "현재위치: /content\n",
            "현재위치 파일/폴더 목록: ['.config', 'drive', '새파일.txt', 'sample_data']\n",
            "현재위치 파일/폴더 목록: ['.config', 'drive', '새파일.txt', 'sample_data']\n"
          ]
        }
      ]
    },
    {
      "cell_type": "markdown",
      "source": [
        "- os.remove() : 파일삭제"
      ],
      "metadata": {
        "id": "qKJJfBB2uaiq"
      }
    },
    {
      "cell_type": "code",
      "source": [
        "import os\n",
        "file = \"새파일.txt\"\n",
        "if os.path.isfile(file): # 현재 경로에 파일이 있는지 확인\n",
        "  os.remove(file) # 파일이 있으면 삭제\n",
        "  print(f\"'{file}' 파일이 삭제되었습니다.\")\n",
        "else:\n",
        "  print(f\"'{file}' 파일이 존재하지 않습니다.\")\n",
        "\n",
        "# 먼저 파일이 있는지 없는지 확인하고 없으면 바로 종료하도록 만들면 뒤에 안읽어도 되겠지"
      ],
      "metadata": {
        "colab": {
          "base_uri": "https://localhost:8080/"
        },
        "id": "TbM315K0ughd",
        "outputId": "873756c5-2c19-4830-8646-136459f2e149"
      },
      "execution_count": null,
      "outputs": [
        {
          "output_type": "stream",
          "name": "stdout",
          "text": [
            "'새파일.txt'이 존재하지 않습니다.\n"
          ]
        }
      ]
    },
    {
      "cell_type": "markdown",
      "source": [
        "파일 복제"
      ],
      "metadata": {
        "id": "bevMffU0vk40"
      }
    },
    {
      "cell_type": "code",
      "source": [
        "# 파일을 복사하고 싶을때\n",
        "import shutil\n",
        "shutil.copy(\"복사할 파일명\", \"복사된 파일명\")"
      ],
      "metadata": {
        "id": "N8uQ0CVFvm7c"
      },
      "execution_count": null,
      "outputs": []
    },
    {
      "cell_type": "markdown",
      "source": [
        "## [실습]"
      ],
      "metadata": {
        "id": "JZ8JBLL9v2oc"
      }
    },
    {
      "cell_type": "code",
      "source": [
        "import random\n",
        "with open(\"./sample.txt\", \"w\") as f:\n",
        "  for _ in range(10):\n",
        "    f.write(str(random.randint(1, 100))+ \"\\n\")\n",
        "\n",
        "# 파일은 문자열로 작성됨\n",
        "# 근데 , 로는 연결이 안되던데 왜 그런거?\n",
        "# , 는 인수 개수로 판별해 버림. 그래서 안되는듯?"
      ],
      "metadata": {
        "id": "oS30sdd1v2G4"
      },
      "execution_count": null,
      "outputs": []
    },
    {
      "cell_type": "code",
      "source": [
        "f = open(\"./sample.txt\")\n",
        "data = f.read()\n",
        "print(data)\n",
        "f.close()"
      ],
      "metadata": {
        "colab": {
          "base_uri": "https://localhost:8080/"
        },
        "id": "LXtuA0BAxnqX",
        "outputId": "b64c95d3-00e8-4231-aed4-b2e71da20b6c"
      },
      "execution_count": null,
      "outputs": [
        {
          "output_type": "stream",
          "name": "stdout",
          "text": [
            "47\n",
            "72\n",
            "20\n",
            "67\n",
            "68\n",
            "3\n",
            "30\n",
            "49\n",
            "42\n",
            "63\n",
            "\n"
          ]
        }
      ]
    },
    {
      "cell_type": "code",
      "source": [
        "# 평균 구하기\n",
        "f = open(\"./sample.txt\")\n",
        "data = f.readlines().split() #???\n",
        "print(data)\n",
        "data_int = lambda x: int(x)\n",
        "\n",
        "# print(f\"총합은 {sum(list(map(lambda x: int(x), data)))} 입니다.\")\n",
        "# print(f\"평균은 {sum(data)/len(data)} 입니다.\")\n",
        "\n",
        "# ???????? 엘리스 구하는거 이렇게 비슷하게 했던것 같은데\n",
        "# 개행문자를 못빼겠음"
      ],
      "metadata": {
        "colab": {
          "base_uri": "https://localhost:8080/",
          "height": 216
        },
        "id": "EcXAmSNDylAx",
        "outputId": "b72332a2-b6a0-4213-d365-1f186c0e2cb8"
      },
      "execution_count": null,
      "outputs": [
        {
          "output_type": "error",
          "ename": "AttributeError",
          "evalue": "'list' object has no attribute 'split'",
          "traceback": [
            "\u001b[0;31m---------------------------------------------------------------------------\u001b[0m",
            "\u001b[0;31mAttributeError\u001b[0m                            Traceback (most recent call last)",
            "\u001b[0;32m<ipython-input-58-ab095bd34104>\u001b[0m in \u001b[0;36m<cell line: 3>\u001b[0;34m()\u001b[0m\n\u001b[1;32m      1\u001b[0m \u001b[0;31m# 평균 구하기\u001b[0m\u001b[0;34m\u001b[0m\u001b[0;34m\u001b[0m\u001b[0m\n\u001b[1;32m      2\u001b[0m \u001b[0mf\u001b[0m \u001b[0;34m=\u001b[0m \u001b[0mopen\u001b[0m\u001b[0;34m(\u001b[0m\u001b[0;34m\"./sample.txt\"\u001b[0m\u001b[0;34m)\u001b[0m\u001b[0;34m\u001b[0m\u001b[0;34m\u001b[0m\u001b[0m\n\u001b[0;32m----> 3\u001b[0;31m \u001b[0mdata\u001b[0m \u001b[0;34m=\u001b[0m \u001b[0mf\u001b[0m\u001b[0;34m.\u001b[0m\u001b[0mreadlines\u001b[0m\u001b[0;34m(\u001b[0m\u001b[0;34m)\u001b[0m\u001b[0;34m.\u001b[0m\u001b[0msplit\u001b[0m\u001b[0;34m(\u001b[0m\u001b[0;34m)\u001b[0m\u001b[0;34m\u001b[0m\u001b[0;34m\u001b[0m\u001b[0m\n\u001b[0m\u001b[1;32m      4\u001b[0m \u001b[0mprint\u001b[0m\u001b[0;34m(\u001b[0m\u001b[0mdata\u001b[0m\u001b[0;34m)\u001b[0m\u001b[0;34m\u001b[0m\u001b[0;34m\u001b[0m\u001b[0m\n\u001b[1;32m      5\u001b[0m \u001b[0mdata_int\u001b[0m \u001b[0;34m=\u001b[0m \u001b[0;32mlambda\u001b[0m \u001b[0mx\u001b[0m\u001b[0;34m:\u001b[0m \u001b[0mint\u001b[0m\u001b[0;34m(\u001b[0m\u001b[0mx\u001b[0m\u001b[0;34m)\u001b[0m\u001b[0;34m\u001b[0m\u001b[0;34m\u001b[0m\u001b[0m\n",
            "\u001b[0;31mAttributeError\u001b[0m: 'list' object has no attribute 'split'"
          ]
        }
      ]
    },
    {
      "cell_type": "code",
      "source": [
        "f = open(\"./sample.txt\")\n",
        "# data = int(f.readline().split()) # 이걸 반복하던지\n",
        "data = [int(x) for x in f.readlines()]\n",
        "print(data)\n",
        "content = f\"총합은 {sum(data)}입니다.\\n평균은 {sum(data)/len(data)}입니다.\"\n",
        "\n",
        "# 만약에 int바꿀수 없으면 건너뛰게 할수있나?\n",
        "# 나중에 전처리할때 쓸것같은데\n",
        "\n",
        "print(content)\n",
        "\n",
        "with open(\"./sample.txt\", \"a\") as f:\n",
        "  f.write(str(data))\n",
        "  f.write(\"\\n\"+content)\n"
      ],
      "metadata": {
        "colab": {
          "base_uri": "https://localhost:8080/"
        },
        "id": "YDo6PUUw0fMS",
        "outputId": "5ef71c7c-c280-458b-e25f-6fa44aca7a27"
      },
      "execution_count": null,
      "outputs": [
        {
          "output_type": "stream",
          "name": "stdout",
          "text": [
            "[32, 81, 46, 49, 17, 99, 97, 95, 77, 44]\n",
            "총합은 637입니다.\n",
            "평균은 63.7입니다.\n"
          ]
        }
      ]
    },
    {
      "cell_type": "code",
      "source": [
        "# 파일을 읽어서 key에 해당하는 단어를 value값으로 대체하고\n",
        "\n",
        "dicText = {\"13\":\"20\", \"토트넘\":\"맨체스터유나이티드\", \"해리케인\":\"박지성\", \"손흥민\":\"이승우\"}\n",
        "\n",
        "with open() as f:\n",
        "\n"
      ],
      "metadata": {
        "id": "5cF5T1d82aSR"
      },
      "execution_count": null,
      "outputs": []
    },
    {
      "cell_type": "markdown",
      "source": [
        "### [실습문제]\n",
        "- 파일 입출력 문제\n",
        "- 회원 목록 읽어와서 팀으로 배정하기"
      ],
      "metadata": {
        "id": "aPgVgmNkmhr0"
      }
    },
    {
      "cell_type": "code",
      "source": [
        "# 리트스 섞기\n",
        "def list_shuffle(members):\n",
        "  import random\n",
        "  for i in range(5):\n",
        "    random.shuffle(members)\n",
        "  print(f\"섞은 후: {members}\")\n",
        "  return members\n",
        "\n",
        "# 팀별로 배정하기\n",
        "def member_split():\n",
        "  teams_dic, tmp = dict(), list() # 팀:회원 저장 딕셔너리, 임시저장 리스트\n",
        "  i, member_cnt = 1, 4\n",
        "  for idx, member in enumerate(members):\n",
        "    if idx > 0 and idx  % member_cnt == 0:\n",
        "      teams_dic[f\"{i}팀\"] = tmp\n",
        "      print(f\"{i:>2}팀 : {tmp}\")    # 화면 출력\n",
        "      fw.write(f\"{i:>2}팀: {tmp}\\n\")  # 파일 출력\n",
        "      i += 1\n",
        "      tmp = []\n",
        "    tmp.append(member) #4의 배수가 빠지지 않도록 해준다는데 이해가 잘 안감\n",
        "  if tmp :\n",
        "    teams_dic[f\"{i}팀\"] = tmp\n",
        "    print(f\"{i}팀 : {tmp}\")\n",
        "    fw.write(f\"{i}팀: {tmp}\")\n",
        "  return teams_dic\n",
        "\n",
        "# 파일 열고 회원 목록 읽기\n",
        "f = open(\"./members.txt\", \"r\")\n",
        "fw = open(\"./teams.txt\", \"w\")\n",
        "members = [member.strip() for member in f.readlines()]\n",
        "print(f\"전체 회원 인원: {len(members)}\")\n",
        "print(f\"섞기 전: {members}\")\n",
        "\n",
        "members = list_shuffle(members)\n",
        "teams_dic = member_split(members)\n",
        "f.close()\n",
        "fw.close()\n",
        "\n",
        "\n",
        "\n",
        "# 대박 잘됨 왜 잘됨? 신기하네\n",
        "\n",
        "# 팀별로 배치하기, 나라면 이미 셔플했으니까 그냥 슬라이싱 할듯\n"
      ],
      "metadata": {
        "id": "qIeB0gJ06u1S",
        "colab": {
          "base_uri": "https://localhost:8080/"
        },
        "outputId": "a6374399-d787-49b9-b0ac-492bf540f528"
      },
      "execution_count": null,
      "outputs": [
        {
          "output_type": "stream",
          "name": "stdout",
          "text": [
            "전체 회원 인원: 39\n",
            "섞기 전: ['1,고정미', '2,권지선', '3,김미영', '4,김선형', '5,김현아', '6,김혜정', '7,박성미', '8,박윤경', '9,박지연', '10,박지영', '11,박효미', '12,서남미', '13,송인경', '14,안지영', '15,오현주', '16,유지연', '17,유지은', '18,윤노숙', '19,윤영순', '20,이미경', '21,이수진', '22,이숙미', '23,이정', '24,이주현', '25,인선미', '26,임미숙', '27,임은희', '28,전유진', '29,전현주', '30,전혜진', '31,조현정', '32,천윤희', '33,최민지', '34,최원희', '35,최준희', '36,한진희', '37,황수산나', '38,정재순', '39,권명숙']\n",
            "섞은 후: ['16,유지연', '9,박지연', '39,권명숙', '36,한진희', '29,전현주', '14,안지영', '22,이숙미', '26,임미숙', '28,전유진', '24,이주현', '17,유지은', '5,김현아', '31,조현정', '34,최원희', '20,이미경', '37,황수산나', '7,박성미', '19,윤영순', '35,최준희', '30,전혜진', '38,정재순', '23,이정', '3,김미영', '18,윤노숙', '21,이수진', '32,천윤희', '4,김선형', '15,오현주', '2,권지선', '11,박효미', '27,임은희', '25,인선미', '6,김혜정', '8,박윤경', '1,고정미', '12,서남미', '10,박지영', '13,송인경', '33,최민지']\n",
            " 1팀 : ['16,유지연', '9,박지연', '39,권명숙', '36,한진희']\n",
            " 2팀 : ['29,전현주', '14,안지영', '22,이숙미', '26,임미숙']\n",
            " 3팀 : ['28,전유진', '24,이주현', '17,유지은', '5,김현아']\n",
            " 4팀 : ['31,조현정', '34,최원희', '20,이미경', '37,황수산나']\n",
            " 5팀 : ['7,박성미', '19,윤영순', '35,최준희', '30,전혜진']\n",
            " 6팀 : ['38,정재순', '23,이정', '3,김미영', '18,윤노숙']\n",
            " 7팀 : ['21,이수진', '32,천윤희', '4,김선형', '15,오현주']\n",
            " 8팀 : ['2,권지선', '11,박효미', '27,임은희', '25,인선미']\n",
            " 9팀 : ['6,김혜정', '8,박윤경', '1,고정미', '12,서남미']\n",
            "10팀 : ['10,박지영', '13,송인경', '33,최민지']\n",
            "{'1팀': ['16,유지연', '9,박지연', '39,권명숙', '36,한진희'], '2팀': ['29,전현주', '14,안지영', '22,이숙미', '26,임미숙'], '3팀': ['28,전유진', '24,이주현', '17,유지은', '5,김현아'], '4팀': ['31,조현정', '34,최원희', '20,이미경', '37,황수산나'], '5팀': ['7,박성미', '19,윤영순', '35,최준희', '30,전혜진'], '6팀': ['38,정재순', '23,이정', '3,김미영', '18,윤노숙'], '7팀': ['21,이수진', '32,천윤희', '4,김선형', '15,오현주'], '8팀': ['2,권지선', '11,박효미', '27,임은희', '25,인선미'], '9팀': ['6,김혜정', '8,박윤경', '1,고정미', '12,서남미'], '10팀': ['10,박지영', '13,송인경', '33,최민지']}\n"
          ]
        }
      ]
    },
    {
      "cell_type": "code",
      "source": [
        "# pandas 예시\n",
        "import pandas as pd\n",
        "df = pd.read_csv(\"./members.txt\")\n",
        "df"
      ],
      "metadata": {
        "id": "58eQMkqNn9XA"
      },
      "execution_count": null,
      "outputs": []
    }
  ]
}