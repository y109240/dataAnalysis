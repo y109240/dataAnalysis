{
  "nbformat": 4,
  "nbformat_minor": 0,
  "metadata": {
    "colab": {
      "provenance": [],
      "mount_file_id": "1h0TxT4w6k8zRIeLGKLFOJfdRqAp-C7xj",
      "authorship_tag": "ABX9TyOULS2urBO30sXa86bUlKkd",
      "include_colab_link": true
    },
    "kernelspec": {
      "name": "python3",
      "display_name": "Python 3"
    },
    "language_info": {
      "name": "python"
    }
  },
  "cells": [
    {
      "cell_type": "markdown",
      "metadata": {
        "id": "view-in-github",
        "colab_type": "text"
      },
      "source": [
        "<a href=\"https://colab.research.google.com/github/y109240/dataAnalysis/blob/main/6%EC%9D%BC%EC%B0%A8_%ED%8C%8C%EC%9D%B4%EC%8D%AC%EA%B8%B0%EC%B4%88_%EB%B3%B5%EC%8A%B5%EA%B3%BC%ED%95%A8%EC%88%98.ipynb\" target=\"_parent\"><img src=\"https://colab.research.google.com/assets/colab-badge.svg\" alt=\"Open In Colab\"/></a>"
      ]
    },
    {
      "cell_type": "code",
      "execution_count": 3,
      "metadata": {
        "colab": {
          "base_uri": "https://localhost:8080/"
        },
        "id": "d9MrgM11n1fx",
        "outputId": "00cb76b9-9ab9-4c8b-e1ba-f2d7f84c61d2"
      },
      "outputs": [
        {
          "output_type": "stream",
          "name": "stdout",
          "text": [
            "숫자별 개수 : [17, 19, 16, 19, 13, 16]\n",
            "가장많이 나온 숫자: [2, 4], 횟수: 19\n"
          ]
        }
      ],
      "source": [
        "# 주사위별 빈도수 구하기\n",
        "import random\n",
        "\n",
        "dice = [0, 0, 0, 0, 0, 0]\n",
        "\n",
        "for _ in range(100):\n",
        "  x = random.randint(1, 6)\n",
        "  for i in range(1, 7):\n",
        "    if x == i:\n",
        "      dice[x-1] += 1\n",
        "\n",
        "max_value = [idx+1 for idx, v in enumerate(dice) if v == max(dice)]\n",
        "\n",
        "print(f\"숫자별 개수 : {dice}\")\n",
        "print(f\"가장많이 나온 숫자: {max_value}, 횟수: {max(dice)}\")\n",
        "\n",
        "# 나 아직 너무 수학적으로 사고하는듯\n",
        "# 원래 코드클린이 능력치여 겨우 한달 했는데 뭐\n",
        "# find의 차이점??\n",
        "# index는 무조건 하나만 반환하기 때문에 중복되는 경우를 체크해 줘야함\n"
      ]
    },
    {
      "cell_type": "code",
      "source": [
        "# 이정은님 코드\n",
        "import random\n",
        "dice=[0,0,0,0,0,0]\n",
        "for i in range(0,100) :\n",
        "    a=random.randint(1,6)\n",
        "    dice[a-1] +=1\n",
        "print(dice)\n",
        "list_max= max(dice)\n",
        "print(f\"가장 많이 나온 주사위 숫자:[{dice.index(list_max)+1}],횟수: {list_max}\")\n",
        "\n",
        "# 내꺼보다 훨씬 간결함.\n",
        "# 어떻게 바로 이렇게 생각하는거야"
      ],
      "metadata": {
        "id": "0FDdO7uNrPNN"
      },
      "execution_count": null,
      "outputs": []
    },
    {
      "cell_type": "code",
      "source": [
        "# 중복처리 하는 방법??\n",
        "# 리스트 안의 값이 max와 비교해서 여러개인경우\n",
        "# 교수님이 고쳐주심\n",
        "\n",
        "dice = [22, 22, 20, 18, 9]\n",
        "max_value = max(dice)\n",
        "print([idx+1 for idx, v in enumerate(dice) if v == max_value])"
      ],
      "metadata": {
        "id": "CxfiK4DmrX6s"
      },
      "execution_count": null,
      "outputs": []
    },
    {
      "cell_type": "markdown",
      "source": [
        "리스트 컴프리헨션\n",
        "- 전에 재화교수님이 하셨던 틱택토게임 리스트 컴프리헨션으로 다시 작성해 보기"
      ],
      "metadata": {
        "id": "ElC6XiuOv_12"
      }
    },
    {
      "cell_type": "markdown",
      "source": [
        "zip()\n",
        "리스트 길이가 서로 달라도 같은 인덱스끼리 연결,\n",
        "튜플로 출력,\n",
        "사전도 가능"
      ],
      "metadata": {
        "id": "y5QWitisw1F3"
      }
    },
    {
      "cell_type": "code",
      "source": [
        "from google.colab import drive\n",
        "drive.mount('/content/drive')\n",
        "# 구글 드라이브 마운트"
      ],
      "metadata": {
        "id": "8wiXdCb-ytZA"
      },
      "execution_count": null,
      "outputs": []
    },
    {
      "cell_type": "markdown",
      "source": [
        "# 5. 함수와 모듈"
      ],
      "metadata": {
        "id": "rbrYRv8EzDCh"
      }
    },
    {
      "cell_type": "code",
      "source": [
        "# * 가변인자는 튜플로 받음\n",
        "# ** 무제한 인자는 딕셔너리로 받음"
      ],
      "metadata": {
        "id": "TAqteInx8z6k"
      },
      "execution_count": null,
      "outputs": []
    },
    {
      "cell_type": "code",
      "source": [
        "# 암스트롱수를 구하는 함수를 만들어 출력해보기\n",
        "\n",
        "# 암스트롱수 : 세자리의 정수 중에서 각 자리의 수를 세제곱한 수의합과 자신이 같은수\n",
        "\n",
        "def is_arm(N):\n",
        "  n_10 = N % 100\n",
        "  n_1 = n_10 % 10\n",
        "\n",
        "  return True if (N // 100) **3 + (n_10 // 10) **3 + n_1 ** 3 == N else False\n",
        "\n",
        "for i in range(100, 1000):\n",
        "  if is_arm(i):\n",
        "    print(f\"{i} is armstrong number\")"
      ],
      "metadata": {
        "colab": {
          "base_uri": "https://localhost:8080/"
        },
        "id": "QHCUL35L89Vs",
        "outputId": "cb46db01-b7c1-41e0-859d-e89786bfc767"
      },
      "execution_count": 3,
      "outputs": [
        {
          "output_type": "stream",
          "name": "stdout",
          "text": [
            "153 is armstrong number\n",
            "370 is armstrong number\n",
            "371 is armstrong number\n",
            "407 is armstrong number\n"
          ]
        }
      ]
    }
  ]
}