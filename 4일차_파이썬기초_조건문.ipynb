{
  "nbformat": 4,
  "nbformat_minor": 0,
  "metadata": {
    "colab": {
      "provenance": [],
      "authorship_tag": "ABX9TyNhS1lJEzuDhiDTGPYSGl7J",
      "include_colab_link": true
    },
    "kernelspec": {
      "name": "python3",
      "display_name": "Python 3"
    },
    "language_info": {
      "name": "python"
    }
  },
  "cells": [
    {
      "cell_type": "markdown",
      "metadata": {
        "id": "view-in-github",
        "colab_type": "text"
      },
      "source": [
        "<a href=\"https://colab.research.google.com/github/y109240/dataAnalysis/blob/main/4%EC%9D%BC%EC%B0%A8_%ED%8C%8C%EC%9D%B4%EC%8D%AC%EA%B8%B0%EC%B4%88_%EC%A1%B0%EA%B1%B4%EB%AC%B8.ipynb\" target=\"_parent\"><img src=\"https://colab.research.google.com/assets/colab-badge.svg\" alt=\"Open In Colab\"/></a>"
      ]
    },
    {
      "cell_type": "markdown",
      "source": [
        "# 4. 파이썬 조건문"
      ],
      "metadata": {
        "id": "M16ZRnTxZSuU"
      }
    },
    {
      "cell_type": "markdown",
      "source": [
        "## 1. if 조건문 (if만 사용)"
      ],
      "metadata": {
        "id": "OZo11N7QcoKa"
      }
    },
    {
      "cell_type": "code",
      "source": [
        "a = 99\n",
        "if a < 100:\n",
        "  print(f\"{a}는 100보다 작습니다.\")"
      ],
      "metadata": {
        "id": "AagbD4SEc-K3"
      },
      "execution_count": 2,
      "outputs": []
    },
    {
      "cell_type": "markdown",
      "source": [
        "## 2. if-else 조건문"
      ],
      "metadata": {
        "id": "_0kVUpOpcvAC"
      }
    },
    {
      "cell_type": "code",
      "source": [
        "a = int(input(\"숫자를 입력하세요: \"))\n",
        "if a < 100:\n",
        "  print(f\"{a}는 100보다 작습니다.\")\n",
        "else:\n",
        "  print(f\"{a}는 100보다 작지않습니다.\")"
      ],
      "metadata": {
        "colab": {
          "base_uri": "https://localhost:8080/"
        },
        "id": "jZj0dGBIc_jc",
        "outputId": "f7904610-0e04-4327-8a74-38dbc340d59a"
      },
      "execution_count": 3,
      "outputs": [
        {
          "output_type": "stream",
          "name": "stdout",
          "text": [
            "숫자를 입력하세요: 100\n",
            "100는 100보다 작지않습니다.\n"
          ]
        }
      ]
    },
    {
      "cell_type": "markdown",
      "source": [
        "## 3. 중첩 if 조건문 (if문 안에 if문)"
      ],
      "metadata": {
        "id": "ymYCEva8c05I"
      }
    },
    {
      "cell_type": "code",
      "source": [
        "a = int(input(\"숫자를 입력하세요: \"))\n",
        "if a < 100:\n",
        "  if a < 50:\n",
        "    print(f\"{a}는 50보다 작습니다.\")\n",
        "  else:\n",
        "    print(f\"{a}는 50보다 작지않고 100보다 작습니다.\")\n",
        "else:\n",
        "  if a == 100:\n",
        "    print(f\"{a}는 100과 같습니다.\")\n",
        "  else:\n",
        "    print(f\"{a}는 100보다 작지않습니다.\")"
      ],
      "metadata": {
        "colab": {
          "base_uri": "https://localhost:8080/"
        },
        "id": "2h_UQ11afgvw",
        "outputId": "2ba76bed-9b54-4cb0-a64a-cc79b5bf3d7e"
      },
      "execution_count": 5,
      "outputs": [
        {
          "output_type": "stream",
          "name": "stdout",
          "text": [
            "숫자를 입력하세요: 65\n",
            "65는 50보다 작지않고 100보다 작습니다.\n"
          ]
        }
      ]
    },
    {
      "cell_type": "code",
      "source": [
        "try:\n",
        "  x = int(input(\"숫자를 입력해 주세요: \"))\n",
        "  if x % 2 == 0:\n",
        "    print(f\"{x}는 짝수입니다.\")\n",
        "  else:\n",
        "    print(f\"{x}는 홀수입니다.\")\n",
        "except ValueError:\n",
        "  print(\"정수를 입력해주세요.\")\n",
        "\n",
        "print(f\"{x}는 짝수\") if x % 2 ==0 else print(f\"{x}는 홀수\")"
      ],
      "metadata": {
        "colab": {
          "base_uri": "https://localhost:8080/"
        },
        "id": "dyVc-f8QgLvi",
        "outputId": "4745402e-7ab8-4e74-d56c-3f33733a8f1e"
      },
      "execution_count": 15,
      "outputs": [
        {
          "output_type": "stream",
          "name": "stdout",
          "text": [
            "숫자를 입력해 주세요: 34\n",
            "짝수\n"
          ]
        }
      ]
    },
    {
      "cell_type": "code",
      "source": [
        "import random\n",
        "random.randint(0, 2)"
      ],
      "metadata": {
        "colab": {
          "base_uri": "https://localhost:8080/"
        },
        "id": "k6B_LpdRiqEM",
        "outputId": "ce08e745-8a13-4c61-bca3-2ed1fb0213a6"
      },
      "execution_count": 20,
      "outputs": [
        {
          "output_type": "execute_result",
          "data": {
            "text/plain": [
              "0"
            ]
          },
          "metadata": {},
          "execution_count": 20
        }
      ]
    },
    {
      "cell_type": "code",
      "source": [
        "# 가위바위보 게임하기\n",
        "\n",
        "import random\n",
        "print(\"가위바위보 게임을 시작합니다.\")\n",
        "com = random.choice([\"가위\", \"바위\", \"보\"])\n",
        "print(\"컴퓨터는 정했습니다.\")\n",
        "user = input(\"가위/바위/보 중 하나 입력: \")\n",
        "print(\"-\"*20, \"게임 결과는?\")\n",
        "print(f\"당신: {user}, 컴퓨터: {com}\")\n",
        "\n",
        "# if와 elif의 차이점, 순차적으로 했을때 어떻게 문제가 되는지?\n",
        "if user == com :\n",
        "  print(\"비겼습니다.\")\n",
        "if user == \"가위\" and com == \"보\":\n",
        "  print(\"당신이 이겼습니다.\")\n",
        "if user == \"바위\" and com == \"가위\":\n",
        "  print(\"당신이 이겼습니다.\")\n",
        "if user == \"보\" and com == \"바위\":\n",
        "  print(\"당신이 이겼습니다.\")\n",
        "else:\n",
        "  print(\"컴퓨터가 이겼습니다.\")"
      ],
      "metadata": {
        "colab": {
          "base_uri": "https://localhost:8080/"
        },
        "id": "ZSuVGg5nh_pY",
        "outputId": "fb979c51-c3d5-4570-8d9d-7f2b8a167eac"
      },
      "execution_count": 53,
      "outputs": [
        {
          "output_type": "stream",
          "name": "stdout",
          "text": [
            "가위바위보 게임을 시작합니다.\n",
            "컴퓨터는 정했습니다.\n",
            "가위/바위/보 중 하나 입력: 가위\n",
            "-------------------- 게임 결과는?\n",
            "당신: 가위, 컴퓨터: 보\n",
            "당신이 이겼습니다.\n"
          ]
        }
      ]
    },
    {
      "cell_type": "code",
      "source": [
        "# 교수님 코드\n",
        "# if-else 만 이용\n",
        "if user == com:\n",
        "  print(\"비겼습니다.\")\n",
        "else:\n",
        "  if (user == \"가위\" and com == \"보\") or\\\n",
        "    (user == \"바위\" and com == \"가위\") or\\\n",
        "    (user == \"보\" and com == \"바위\"):\n",
        "    print(\"당신이 이겼습니다.\")\n",
        "  else:\n",
        "    print(\"컴퓨터가 이겼습니다.\")"
      ],
      "metadata": {
        "id": "o5JuIyqAohp3"
      },
      "execution_count": null,
      "outputs": []
    },
    {
      "cell_type": "code",
      "source": [
        "# 김윤이님 코드\n",
        "# 내가 보를 냈을때 이기지 않음. 순차적으로 할때 오류가 나는것같은데\n",
        "# 안나올수 있는 상황에 대해서 어떻게 판별하고 고칠지?\n",
        "\n",
        "import random\n",
        "while True:\n",
        "  c = random.choice(['가위','바위','보'])\n",
        "  m = \"보\"\n",
        "  print(f\"cumputer:{c}, my:{m}\")\n",
        "  if c == m:\n",
        "      print('비겼어요')\n",
        "  else:\n",
        "      if c == '가위' and m == '주먹':    print('이겼어요 승!')\n",
        "      else:\n",
        "          if c == '주먹' and m == '보':  print('이겼어여 승!')\n",
        "          else:\n",
        "              if c == '보' and m == '가위':  print('이겼어여 승!')\n",
        "          print('컴퓨터 승!')\n"
      ],
      "metadata": {
        "id": "1vP-Rk1NnV5b"
      },
      "execution_count": null,
      "outputs": []
    },
    {
      "cell_type": "code",
      "source": [
        "# 김승미님 코드\n",
        "# 역시 오류발생 : 왜 오류가 발생했는지 알아보기, 어떻게 고칠수 있는지?\n",
        "\n",
        "import random # 난수 발생 모듈\n",
        "computer = random.choice(['가위', '바위', '보'])\n",
        "my = input('가위/바위/보 중 하나 입력:')\n",
        "if my == '가위':\n",
        "    if computer == '바위':\n",
        "        print(f\"computer:{computer}, my:{my}\")\n",
        "        print(f\"컴퓨터가 이겼습니다.\")\n",
        "    if computer == '보':\n",
        "        print(f\"computer:{computer}, my:{my}\")\n",
        "        print(f\"당신이 이겼습니다.\")\n",
        "    if computer == '가위':\n",
        "        print(f\"computer:{computer}, my:{my}\")\n",
        "        print(f\"비겼습니다.\")\n",
        "else:\n",
        "    if computer == '바위':\n",
        "        print(f\"computer:{computer}, my:{my}\")\n",
        "        print(f\"컴퓨터가 이겼습니다.\")\n",
        "    if computer == '보':\n",
        "        print(f\"computer:{computer}, my:{my}\")\n",
        "        print(f\"당신이 이겼습니다.\")\n",
        "    if computer == '가위':\n",
        "        print(f\"computer:{computer}, my:{my}\")\n",
        "        print(f\"비겼습니다.\")"
      ],
      "metadata": {
        "colab": {
          "base_uri": "https://localhost:8080/"
        },
        "id": "WQ0b-cDRuawx",
        "outputId": "e65e2ada-bdcf-412f-fabf-99c31e0fa574"
      },
      "execution_count": 82,
      "outputs": [
        {
          "output_type": "stream",
          "name": "stdout",
          "text": [
            "가위/바위/보 중 하나 입력:보\n",
            "computer:가위, my:보\n",
            "비겼습니다.\n"
          ]
        }
      ]
    },
    {
      "cell_type": "code",
      "source": [
        "# 주수진님 코드\n",
        "# 오류없이 되는것같은데, 위의 코드들이랑 차이점 뭐인지?\n",
        "\n",
        "computer = random.choice(['가위','바위','보']) #직접\n",
        "my = input('가위/바위/보 중 하나 입력')\n",
        "print(f\"computer : {computer}, my : {my}\")\n",
        "if computer == my:\n",
        "    print(f\"비겼습니다\")\n",
        "else:\n",
        "    if computer=='가위'and my=='보' :\n",
        "        print(f\"내가 졌다\")\n",
        "    else:\n",
        "        if computer=='바위'and my=='가위' :\n",
        "            print(f\"내가 졌다\")\n",
        "        else :\n",
        "            if computer=='보'and my=='바위' :\n",
        "                print(f\"내가 졌다\")\n",
        "            else:\n",
        "                print(f\"내가 이겼다\")"
      ],
      "metadata": {
        "colab": {
          "base_uri": "https://localhost:8080/"
        },
        "id": "_DQVLdI3wfd_",
        "outputId": "51aed24c-e327-44a8-8e8c-9f58d1dd263b"
      },
      "execution_count": 89,
      "outputs": [
        {
          "output_type": "stream",
          "name": "stdout",
          "text": [
            "가위/바위/보 중 하나 입력보\n",
            "computer : 가위, my : 보\n",
            "내가 졌다\n"
          ]
        }
      ]
    },
    {
      "cell_type": "code",
      "source": [
        "# 직각삼각형의 판별조건\n",
        "a = int(input(\"변 a의 길이: \"))\n",
        "b = int(input(\"변 b의 길이: \"))\n",
        "c = int(input(\"변 c의 길이: \"))\n",
        "print(\"-\"*20)\n",
        "\n",
        "# 변의 길이 순서대로 뒤에서부터 정렬\n",
        "if a > b:\n",
        "  a, b = b, a\n",
        "  if b > c:\n",
        "    b, c = c, b\n",
        "else:\n",
        "  if b > c:\n",
        "    b, c = c, b\n",
        "    if a > b:\n",
        "      a, b = b, a\n",
        "\n",
        "# 직각삼각형인지 판별\n",
        "if c**2 == a**2 + b**2:\n",
        "  print(\"직각삼각형 입니다.\")\n",
        "else:\n",
        "  print(\"직각삼각형이 아닙니다.\")"
      ],
      "metadata": {
        "colab": {
          "base_uri": "https://localhost:8080/"
        },
        "id": "mbkWXEF1pTOo",
        "outputId": "d3f13c7d-38a2-4a84-a8e0-e5f48246205a"
      },
      "execution_count": 75,
      "outputs": [
        {
          "output_type": "stream",
          "name": "stdout",
          "text": [
            "변 a의 길이: 4\n",
            "변 b의 길이: 5\n",
            "변 c의 길이: 3\n",
            "--------------------\n",
            "3 4 5\n",
            "직각삼각형 입니다.\n"
          ]
        }
      ]
    },
    {
      "cell_type": "markdown",
      "source": [
        "## 4. 다중 조건문"
      ],
      "metadata": {
        "id": "tFAa30sGyWU8"
      }
    },
    {
      "cell_type": "markdown",
      "source": [
        "### if - else - if => if - elif -\n",
        "(elif 는 쭉 읽다가 중간에 걸리는 조건)"
      ],
      "metadata": {
        "id": "wJu6aa8yyff3"
      }
    },
    {
      "cell_type": "code",
      "source": [
        "# 나이별 학생 구분하기\n",
        "age = int(input(\"나이를 입력하세요: \"))\n",
        "if age < 8:\n",
        "  print(\"미취학 아동입니다.\")\n",
        "elif age < 14:\n",
        "  print(\"초등학생 입니다.\")\n",
        "elif age < 17:\n",
        "  print(\"중학생 입니다.\")\n",
        "elif age < 20:\n",
        "  print(\"고등학생 입니다.\")\n",
        "else:\n",
        "  print(\"성인 입니다.\")"
      ],
      "metadata": {
        "id": "uePNH3eyyweR"
      },
      "execution_count": null,
      "outputs": []
    },
    {
      "cell_type": "markdown",
      "source": [
        "## 5. 조건부 표현식"
      ],
      "metadata": {
        "id": "2uHvw-19z1dL"
      }
    },
    {
      "cell_type": "code",
      "source": [
        "score = int(input(\"점수를 입력하세요: \"))\n",
        "\n",
        "message = \"success\" if score >= 80 else \"failure\"\n",
        "\n",
        "# if score >= 80:\n",
        "#   message = \"success\"\n",
        "# else:\n",
        "#   message = \"failure\"\n",
        "\n",
        "print(f\"당신은 {score}점으로 {message}하셨습니다.\")"
      ],
      "metadata": {
        "colab": {
          "base_uri": "https://localhost:8080/"
        },
        "id": "VINSQSARz6pX",
        "outputId": "4b807495-1881-4e59-c617-10348c237e08"
      },
      "execution_count": 93,
      "outputs": [
        {
          "output_type": "stream",
          "name": "stdout",
          "text": [
            "점수를 입력하세요: 78\n",
            "당신은 78점으로 failure하셨습니다.\n"
          ]
        }
      ]
    },
    {
      "cell_type": "code",
      "source": [
        "# 일상 생활에서 찾을수있는 조건상황에 대해 input, if 등을 사용해서 만들어보기\n",
        "\n",
        "# 요일을 입력받아서 뭐하는 날인지?\n",
        "\n",
        "day = input(\"오늘은 무슨요일 인가요?: \")\n",
        "\n",
        "if day == \"일요일\":\n",
        "  print(f\"{day}은 쉬는날 입니다!\")\n",
        "elif day == \"화요일\":\n",
        "  print(f\"{day}은 쓰레기 버리는 날입니다.\")\n",
        "elif day == \"수요일\":\n",
        "  print(f\"{day}은 맛있는걸 먹는 날 입니다.\")\n",
        "elif day == \"금요일\":\n",
        "  print(f\"{day}은 SQL을 공부하는 날입니다.\")\n",
        "else:\n",
        "  print(\"특별한 일은 없어도 오늘 하루도 화이팅!\")\n",
        "\n",
        "'''\n",
        "\"금\"이 \"금요일\"에 포함되게 하고싶은데\n",
        "그냥 in으로 넣으면 공백단위로 잘라져서 생각한대로 구상이 안됨\n",
        "'''"
      ],
      "metadata": {
        "colab": {
          "base_uri": "https://localhost:8080/"
        },
        "id": "qBUAv0pm14o9",
        "outputId": "03a7036e-3e98-4e0b-e867-cd0281875542"
      },
      "execution_count": 7,
      "outputs": [
        {
          "output_type": "stream",
          "name": "stdout",
          "text": [
            "오늘은 무슨요일 인가요?: 수요일\n",
            "수요일은 맛있는걸 먹는 날 입니다.\n"
          ]
        }
      ]
    },
    {
      "cell_type": "code",
      "source": [
        "# 사전으로 계속 반복하는 반복문?\n",
        "day_dict = {\"일요일\":\"쉬는날\", \"화요일\":\"쓰레기 버리는 날\", \"수요일\":\"맛있는거 먹는 날\", \"금요일\":\"SQL 공부하는날\"}\n",
        "\n",
        "day = input(\"오늘은 무슨 날인가요?: \")\n",
        "\n",
        "for i in day_dict:\n",
        "  if i == day :\n",
        "    print(f\"{i}요일은 {day_dict[day]} 입니다.\")\n",
        "    break\n",
        "else:\n",
        "  print(\"특별한 일은 없어도 오늘 하루도 화이팅!\")"
      ],
      "metadata": {
        "colab": {
          "base_uri": "https://localhost:8080/"
        },
        "id": "jOQv5uyD4qjK",
        "outputId": "81473eed-27cf-46b9-dbbf-45ef2f2b39b1"
      },
      "execution_count": 16,
      "outputs": [
        {
          "output_type": "stream",
          "name": "stdout",
          "text": [
            "오늘은 무슨 날인가요?: 금요일\n",
            "금요일요일은 SQL 공부하는날 입니다.\n"
          ]
        }
      ]
    },
    {
      "cell_type": "code",
      "source": [
        "degree = int(input(\"온도를 입력해 주세요: \"))\n",
        "if degree >= 30:\n",
        "  print(\"에어컨을 켜세요.\")\n",
        "elif degree <= 10:\n",
        "  print(\"난방기를 켜세요.\")\n",
        "elif degree < 20:\n",
        "  print(\"내복을 입으세요.\")\n",
        "else:\n",
        "  print(\"쾌적한 기온 입니다.\")"
      ],
      "metadata": {
        "id": "3r01sE0i6Jc8"
      },
      "execution_count": null,
      "outputs": []
    },
    {
      "cell_type": "code",
      "source": [
        "# 여러개의 조건에 걸리게 할려면?\n",
        "degree = int(input(\"온도를 입력해 주세요: \"))\n",
        "\n",
        "if 20 <= degree < 30:\n",
        "  print(\"쾌적한 날씨 입니다.\")\n",
        "else:\n",
        "  if degree <= 10:\n",
        "    print(\"난방기를 켜세요.\")\n",
        "  if degree < 20:\n",
        "    print(\"내복을 입으세요\")\n",
        "  if degree > 30:\n",
        "    print(\"에어컨을 켜세요.\")"
      ],
      "metadata": {
        "colab": {
          "base_uri": "https://localhost:8080/"
        },
        "id": "Vps1yglA7PRO",
        "outputId": "9804f110-916f-44ab-8586-50700c29ec79"
      },
      "execution_count": 18,
      "outputs": [
        {
          "output_type": "stream",
          "name": "stdout",
          "text": [
            "온도를 입력해 주세요: 22\n",
            "쾌적한 날씨 입니다.\n"
          ]
        }
      ]
    },
    {
      "cell_type": "code",
      "source": [
        "# 커피 자판기 메뉴 만들기\n",
        "menu = f\"\"\"[커피 자동주문 머신 메뉴]\n",
        "{\"-\"*20}\n",
        "- 아메리카노: 2500원\n",
        "- 카페라떼:  3000원\n",
        "- 카푸치노:  3000원\n",
        "원하시는 커피종류의 잔수를 입력하세요.\n",
        "{\"-\"*20}\"\"\"\n",
        "\n",
        "# 반복되는 부분을 딕셔너리나 리스트로 받아서 처리 하는 방법?\n",
        "# 돈을 전부 넣을때 까지 무한 반복\n",
        "# 함수사용해서 음성 인터페이스로 만들어보기 (이건 아마도 자연어 처리해야될듯)\n",
        "\n",
        "print(menu)\n",
        "coffee1 = int(input(\"아메리카노 몇잔?: \"))\n",
        "coffee2 = int(input(\"카페라떼 몇잔?: \"))\n",
        "coffee3 = int(input(\"카푸치노 몇잔?: \"))\n",
        "total = 2500*coffee1 + 3000*coffee2 + 3000*coffee3\n",
        "print(f\"지불할 총 금액은 {total:,}원 입니다.\")\n",
        "money = int(input(\"돈을 넣어 주세요: \"))\n",
        "\n",
        "##\n",
        "if total > money:\n",
        "  pritn(f\"돈이 부족합니다. {total-money}원을 더 넣어주세요.\")\n",
        "else:\n",
        "  print(f\"거스름돈은 {money-total}원 입니다. 맛있게 드세요.\")"
      ],
      "metadata": {
        "id": "IQxOyHZS8rKz"
      },
      "execution_count": null,
      "outputs": []
    },
    {
      "cell_type": "code",
      "source": [
        "##\n",
        "while total > money:\n",
        "  add_money = int(input(f\"돈이 부족합니다. {total - money}원을 더 넣어주세요: \"))\n",
        "  money += add_money\n",
        "  if total <= money:\n",
        "    print(\"주문이 완료되었습니다.\")\n",
        "    print(f\"거스름돈은 {money-total}입니다. 맛있게 드세요.\")\n",
        "    break"
      ],
      "metadata": {
        "id": "kWesdM5LCsdO"
      },
      "execution_count": null,
      "outputs": []
    },
    {
      "cell_type": "markdown",
      "source": [
        "숙제\n",
        "- 변수의 내용을 서로 바꿔서 정렬할때\n",
        "- elif <-> if else 여러가지 버전으로 변경해보기\n",
        "- if - if 계속 쓸때 판별되지 않는 조건을 어떻게 파악할지?\n",
        "- 클로드3, gemini, gpt"
      ],
      "metadata": {
        "id": "hgj1SeDpxBhs"
      }
    }
  ]
}