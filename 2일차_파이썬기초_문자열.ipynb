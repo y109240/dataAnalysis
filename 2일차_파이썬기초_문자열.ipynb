{
  "nbformat": 4,
  "nbformat_minor": 0,
  "metadata": {
    "colab": {
      "provenance": [],
      "authorship_tag": "ABX9TyNsWVz9V13fTy5wwrNNLwup",
      "include_colab_link": true
    },
    "kernelspec": {
      "name": "python3",
      "display_name": "Python 3"
    },
    "language_info": {
      "name": "python"
    }
  },
  "cells": [
    {
      "cell_type": "markdown",
      "metadata": {
        "id": "view-in-github",
        "colab_type": "text"
      },
      "source": [
        "<a href=\"https://colab.research.google.com/github/y109240/dataAnalysis/blob/main/2%EC%9D%BC%EC%B0%A8_%ED%8C%8C%EC%9D%B4%EC%8D%AC%EA%B8%B0%EC%B4%88_%EB%AC%B8%EC%9E%90%EC%97%B4.ipynb\" target=\"_parent\"><img src=\"https://colab.research.google.com/assets/colab-badge.svg\" alt=\"Open In Colab\"/></a>"
      ]
    },
    {
      "cell_type": "markdown",
      "source": [
        "# 문자열"
      ],
      "metadata": {
        "id": "oO_MkH4aRA0n"
      }
    },
    {
      "cell_type": "code",
      "execution_count": null,
      "metadata": {
        "id": "0XYZrj-4OmOH"
      },
      "outputs": [],
      "source": [
        "# 큰 따옴표(or 작은 따옴표)로 표시\n",
        "a = '사과'\n",
        "a = \"사과\"\n",
        "a = \"Yes, I can't\"\n",
        "a = '\"사과는 정말 맛있지?\" 라고 이야기 했습니다.'"
      ]
    },
    {
      "cell_type": "code",
      "source": [
        "# 한 줄 이상 문장은 따옴표 3개 사용\n",
        "a = '''#OOO 카페 메뉴판\n",
        "- 아메리카노:  3000원\n",
        "- 카페라떼:    4000원\n",
        "- 카페모카:    4000원'''\n",
        "\n",
        "coffee = input(f\"{a}\\n주문하실 메뉴를 골라주세요: \")\n",
        "# input 안에서도 f스트링쓸수 있는건 처음알았음\n",
        "print(f\"{'-'*30}\\n주문하신 메뉴는 '{coffee}' 입니다.\")\n",
        "# \"-\"은 안됨, '-'은 됨, f스트링 쓸때 안쪽 바깥쪽 반드시 다르게 해야하는듯 함."
      ],
      "metadata": {
        "colab": {
          "base_uri": "https://localhost:8080/"
        },
        "id": "kmp9xNn4RdZ9",
        "outputId": "10356483-cf32-44f1-98bc-f3c2d580a800"
      },
      "execution_count": 9,
      "outputs": [
        {
          "output_type": "stream",
          "name": "stdout",
          "text": [
            "#OOO 카페 메뉴판\n",
            "- 아메리카노:  3000원\n",
            "- 카페라떼:    4000원\n",
            "- 카페모카:    4000원\n",
            "주문하실 메뉴를 골라주세요: 아메리카노\n",
            "------------------------------\n",
            "주문하신 메뉴는 '아메리카노' 입니다.\n"
          ]
        }
      ]
    },
    {
      "cell_type": "code",
      "source": [
        "!pip install gTTS"
      ],
      "metadata": {
        "colab": {
          "base_uri": "https://localhost:8080/"
        },
        "id": "eMNBqvWsVLBn",
        "outputId": "bfcbacfe-5eda-4d0f-9c35-3001e7cdc5c7"
      },
      "execution_count": 10,
      "outputs": [
        {
          "output_type": "stream",
          "name": "stdout",
          "text": [
            "Collecting gTTS\n",
            "  Downloading gTTS-2.5.1-py3-none-any.whl (29 kB)\n",
            "Requirement already satisfied: requests<3,>=2.27 in /usr/local/lib/python3.10/dist-packages (from gTTS) (2.31.0)\n",
            "Requirement already satisfied: click<8.2,>=7.1 in /usr/local/lib/python3.10/dist-packages (from gTTS) (8.1.7)\n",
            "Requirement already satisfied: charset-normalizer<4,>=2 in /usr/local/lib/python3.10/dist-packages (from requests<3,>=2.27->gTTS) (3.3.2)\n",
            "Requirement already satisfied: idna<4,>=2.5 in /usr/local/lib/python3.10/dist-packages (from requests<3,>=2.27->gTTS) (3.6)\n",
            "Requirement already satisfied: urllib3<3,>=1.21.1 in /usr/local/lib/python3.10/dist-packages (from requests<3,>=2.27->gTTS) (2.0.7)\n",
            "Requirement already satisfied: certifi>=2017.4.17 in /usr/local/lib/python3.10/dist-packages (from requests<3,>=2.27->gTTS) (2024.2.2)\n",
            "Installing collected packages: gTTS\n",
            "Successfully installed gTTS-2.5.1\n"
          ]
        }
      ]
    },
    {
      "cell_type": "code",
      "source": [
        "from gtts import gTTS\n",
        "from IPython.display import Audio\n",
        "\n",
        "menu ='''#OOO 카페 메뉴판\n",
        "- 아메리카노:  3000원\n",
        "- 카페라떼:    4000원\n",
        "- 카페모카:    4000원'''\n",
        "\n",
        "# eng_wav = gTTS('Hello World!')\n",
        "# eng_wav.save('eng.wav')\n",
        "kor_wav = gTTS(menu, lang = 'ko')\n",
        "kor_wav.save('kor.wav')\n",
        "\n",
        "display(Audio('kor.wav', autoplay=True))\n",
        "# 메모리에 저장하는 방식으로 변경해서 테스트 해보기"
      ],
      "metadata": {
        "id": "cL8y653_VUrf"
      },
      "execution_count": null,
      "outputs": []
    },
    {
      "cell_type": "markdown",
      "source": [
        "### + 기호 : 문자열을 합쳐서 출력"
      ],
      "metadata": {
        "id": "R6obZDpcemUa"
      }
    },
    {
      "cell_type": "code",
      "source": [
        "print(\"사과\"+\"맛있어\")\n",
        "print(\"사과\", \"맛있어\")"
      ],
      "metadata": {
        "colab": {
          "base_uri": "https://localhost:8080/"
        },
        "id": "qUz8X72AekgQ",
        "outputId": "24d6d5fd-b4bb-40e5-d6e0-de3e3b6dd31d"
      },
      "execution_count": 11,
      "outputs": [
        {
          "output_type": "stream",
          "name": "stdout",
          "text": [
            "사과맛있어\n",
            "사과 맛있어\n"
          ]
        }
      ]
    },
    {
      "cell_type": "markdown",
      "source": [
        "### * 기호 : 반복의 의미"
      ],
      "metadata": {
        "id": "SIVQhGTAe2QM"
      }
    },
    {
      "cell_type": "code",
      "source": [
        "print(\"반짝\" *2, \"눈이 부셔\", \"노\"*5)\n",
        "print(\"*\" * 50)"
      ],
      "metadata": {
        "colab": {
          "base_uri": "https://localhost:8080/"
        },
        "id": "I2nzao98fBmp",
        "outputId": "8854d4c0-5305-4263-ebd2-05012085a121"
      },
      "execution_count": 14,
      "outputs": [
        {
          "output_type": "stream",
          "name": "stdout",
          "text": [
            "반짝반짝 눈이 부셔 노노노노노\n",
            "**************************************************\n"
          ]
        }
      ]
    },
    {
      "cell_type": "code",
      "source": [
        "print(\"Mary's cosmetics\")\n",
        "print('박씨가 소리질렀다. \"도둑이야!\".')\n",
        "print(\"안녕하세요.\\n오늘\\t날씨가\\t\\t좋습니다.\")"
      ],
      "metadata": {
        "colab": {
          "base_uri": "https://localhost:8080/"
        },
        "id": "0uEofk51fapO",
        "outputId": "eaaddff5-b42a-4e19-dddd-280ef5c6a533"
      },
      "execution_count": 15,
      "outputs": [
        {
          "output_type": "stream",
          "name": "stdout",
          "text": [
            "Mary's cosmetics\n",
            "박씨가 소리질렀다. \"도둑이야!\".\n",
            "안녕하세요.\n",
            "오늘\t날씨가\t\t좋습니다.\n"
          ]
        }
      ]
    },
    {
      "cell_type": "markdown",
      "source": [
        "### 문자열에서 자주 사용하는 함수"
      ],
      "metadata": {
        "id": "lufOdzfIklWD"
      }
    },
    {
      "cell_type": "code",
      "source": [
        "# count(), find(), index()\n",
        "a = \"안녕하세요?\"\n",
        "print(a.count(\"?\"), a.find(\"?\"), a.index(\"?\"))"
      ],
      "metadata": {
        "colab": {
          "base_uri": "https://localhost:8080/"
        },
        "id": "a83YiEc8jHqG",
        "outputId": "df73b51b-2817-4c3a-9e1c-1a212617b319"
      },
      "execution_count": 20,
      "outputs": [
        {
          "output_type": "stream",
          "name": "stdout",
          "text": [
            "1 5 5\n"
          ]
        }
      ]
    },
    {
      "cell_type": "code",
      "source": [
        "a = \"Life is too short!\"\n",
        "print(f\"개수 세기 :  {a.count('o')}\")\n",
        "print(f\"위치 반환 : {a.find('f')}\") # 없으면 '-1'을 반환\n",
        "print(f\"인덱스 반환 : {a.index('f')}\") # 없으면 오류\n",
        "\n",
        "\n",
        "print(f\"문자열 삽입 : {'*'.join(a)}\")\n",
        "print(f\"문자열 변환 : {a.replace('Life', 'Your leg')}\")\n",
        "print(f\"문자열 나누기 : {a.split()}\") # 공백으로 분리해서 리스트 형식으로 반환\n",
        "print(f\"문자열 나누기 : {a.split('is')}\")"
      ],
      "metadata": {
        "colab": {
          "base_uri": "https://localhost:8080/"
        },
        "id": "D1eaT7-Qk3HD",
        "outputId": "a2adeafe-0e03-4ed1-935c-98ce33466c4b"
      },
      "execution_count": 25,
      "outputs": [
        {
          "output_type": "stream",
          "name": "stdout",
          "text": [
            "개수 세기 :  3\n",
            "위치 반환 : 2\n",
            "인덱스 반환 : 2\n",
            "문자열 삽입 : L*i*f*e* *i*s* *t*o*o* *s*h*o*r*t*!\n",
            "문자열 변환 : Your leg is too short!\n",
            "문자열 나누기 : ['Life', 'is', 'too', 'short!']\n",
            "문자열 나누기 : ['Life ', ' too short!']\n"
          ]
        }
      ]
    },
    {
      "cell_type": "code",
      "source": [
        "# join(), strip(), split()"
      ],
      "metadata": {
        "id": "rlu7NvALkUQ5"
      },
      "execution_count": null,
      "outputs": []
    },
    {
      "cell_type": "code",
      "source": [
        "# 문자열을 입력받아 거꾸로 출력하기\n",
        "s = input(\"문자열을 입력하세요: \")\n",
        "print(s[::-1])"
      ],
      "metadata": {
        "colab": {
          "base_uri": "https://localhost:8080/"
        },
        "id": "7pivcYgekfuL",
        "outputId": "91aa6de0-5f96-4e25-d5c0-63840d929523"
      },
      "execution_count": 26,
      "outputs": [
        {
          "output_type": "stream",
          "name": "stdout",
          "text": [
            "문자열을 입력하세요: 사랑해요 파이썬!\n",
            "!썬이파 요해랑사\n"
          ]
        }
      ]
    },
    {
      "cell_type": "code",
      "source": [
        "a = input(\"파일을 입력하세요: \")\n",
        "print(f\"파일: {a}\")\n",
        "print(f\"파일명: {a[:a.index('.')]}, 확장자: {a[a.index('.')+1:]}\")"
      ],
      "metadata": {
        "colab": {
          "base_uri": "https://localhost:8080/"
        },
        "id": "GVsa7A3FnV5U",
        "outputId": "dd7300c5-a39f-444f-e307-8c357bbb0502"
      },
      "execution_count": 31,
      "outputs": [
        {
          "output_type": "stream",
          "name": "stdout",
          "text": [
            "파일을 입력하세요: test.ipynb\n",
            "파일: test.ipynb\n",
            "파일명: test, 확장자: ipynb\n"
          ]
        }
      ]
    },
    {
      "cell_type": "code",
      "source": [
        "# 교수님 코드\n",
        "file_name = input(\"확장자포함 파일명 입력하기: \")\n",
        "a = file_name.split(\".\")\n",
        "print(f\"파일명: {a[0]}, 확장자: {a[1]}\")"
      ],
      "metadata": {
        "colab": {
          "base_uri": "https://localhost:8080/"
        },
        "id": "IXZ_bTEwpCGU",
        "outputId": "545102f1-dc9a-4422-d9b6-a0174dc216f2"
      },
      "execution_count": 29,
      "outputs": [
        {
          "output_type": "stream",
          "name": "stdout",
          "text": [
            "확장자포함 파일명 입력하기: tese.py\n",
            "파일명: tese, 확장자: py\n"
          ]
        }
      ]
    },
    {
      "cell_type": "code",
      "source": [
        "# 지불할 음식 총 가격 계산하기\n",
        "meal = 4450\n",
        "tax = 0.0675\n",
        "tip = 0.15\n",
        "meal_tax = meal + meal * tax\n",
        "total = meal_tax + meal_tax * tip\n",
        "print(f\"음식가격: {meal}원\")\n",
        "print(f\"세금: {tax*100}%\")\n",
        "print(f\"팁: {tip*100}%\")\n",
        "print(f\"총 지출할 음식 가격: {round(total, 2):,}\")\n",
        "# 무친 세자리수마다 콤마찍는거 개빡세게 했는데 이미 포맷팅에 있었음.\n",
        "# 포매팅에서 세자리마다 , 찍는거 여러가지로 시도해 보기"
      ],
      "metadata": {
        "colab": {
          "base_uri": "https://localhost:8080/"
        },
        "id": "80s-y5f-omUJ",
        "outputId": "3fe5eead-ccc2-4620-bbc6-e6bb48367692"
      },
      "execution_count": 48,
      "outputs": [
        {
          "output_type": "stream",
          "name": "stdout",
          "text": [
            "음식가격: 4450원\n",
            "세금: 6.75%\n",
            "팁: 15.0%\n",
            "총 지출할 음식 가격: 5,462.93\n"
          ]
        }
      ]
    },
    {
      "cell_type": "code",
      "source": [
        "# 교수님 코드\n",
        "meal = int(input(\"음식가격: \"))\n",
        "tax = 0.0675\n",
        "tip = 0.15\n",
        "meal = meal + meal * tax\n",
        "total = meal + meal * tip\n",
        "print(f\"내가 지불할 총 금액: {round(total, 2):,} 원\")\n"
      ],
      "metadata": {
        "colab": {
          "base_uri": "https://localhost:8080/"
        },
        "id": "3yiylrwTwLAz",
        "outputId": "14b71a27-9e40-41f7-c6f2-c14cde12f2b2"
      },
      "execution_count": 45,
      "outputs": [
        {
          "output_type": "stream",
          "name": "stdout",
          "text": [
            "음식가격: 4450\n",
            "내가 지불할 총 금액: 5,462.93 원\n"
          ]
        }
      ]
    },
    {
      "cell_type": "code",
      "source": [
        "# 섭씨온도 -> 화씨온도 변환\n",
        "celsius = float(input(\"섭씨 온도를 입력하세요: \"))\n",
        "print(f\"섭씨온도 = {celsius}℃, 화씨온도 = {celsius *9/5 +32}℉\")"
      ],
      "metadata": {
        "colab": {
          "base_uri": "https://localhost:8080/"
        },
        "id": "8GVGkpwmq9kc",
        "outputId": "e639f88f-d662-47ef-8e9d-4030ab225bd2"
      },
      "execution_count": 50,
      "outputs": [
        {
          "output_type": "stream",
          "name": "stdout",
          "text": [
            "섭씨 온도를 입력하세요: 40\n",
            "섭씨온도 = 40.0℃, 화씨온도 = 104.0℉\n"
          ]
        }
      ]
    },
    {
      "cell_type": "code",
      "source": [
        "# 화씨온도 -> 섭씨온도 변환\n",
        "fahrenheit = float(input(\"화씨온도를 입력하세요: \"))\n",
        "print(f\"화씨온도 = {fahrenheit}℉, 섭씨온도 = {round((fahrenheit-32)*5/9, 2)}℃ \")"
      ],
      "metadata": {
        "colab": {
          "base_uri": "https://localhost:8080/"
        },
        "id": "238R8Ozjr1Uw",
        "outputId": "e5cd6331-5691-4e99-d821-edb12156709c"
      },
      "execution_count": 51,
      "outputs": [
        {
          "output_type": "stream",
          "name": "stdout",
          "text": [
            "화씨온도를 입력하세요: 104.0\n",
            "화씨온도 = 104.0℉, 섭씨온도 = 40.0℃ \n"
          ]
        }
      ]
    },
    {
      "cell_type": "markdown",
      "source": [
        "### 파이썬 연산자"
      ],
      "metadata": {
        "id": "2u80ZQw2z1Tc"
      }
    },
    {
      "cell_type": "code",
      "source": [
        "# 산술 연산자\n",
        "print(33 // 5)\n",
        "print(33 % 5)"
      ],
      "metadata": {
        "colab": {
          "base_uri": "https://localhost:8080/"
        },
        "id": "OXIJyaBBz26U",
        "outputId": "14c10f44-80ac-469d-87eb-111d1dff9213"
      },
      "execution_count": 52,
      "outputs": [
        {
          "output_type": "stream",
          "name": "stdout",
          "text": [
            "6\n",
            "3\n"
          ]
        }
      ]
    },
    {
      "cell_type": "code",
      "source": [
        "# 대입 연산자\n",
        "a += a # a = a+1\n",
        "meal += (meal * tax)"
      ],
      "metadata": {
        "id": "quLtQeZu0fkt"
      },
      "execution_count": null,
      "outputs": []
    },
    {
      "cell_type": "code",
      "source": [
        "# 관계 연산자 (비교 연산자)\n",
        "a = 100\n",
        "print(a > 200)\n",
        "print(a == 100)\n",
        "print( a != 100)"
      ],
      "metadata": {
        "colab": {
          "base_uri": "https://localhost:8080/"
        },
        "id": "UrAp-x9-0po4",
        "outputId": "02258bf3-7443-472c-9fcb-ae24370b0edc"
      },
      "execution_count": 53,
      "outputs": [
        {
          "output_type": "stream",
          "name": "stdout",
          "text": [
            "False\n",
            "True\n",
            "False\n"
          ]
        }
      ]
    },
    {
      "cell_type": "code",
      "source": [
        "# 논리 연산자\n",
        "a = 100\n",
        "print(a > 100 and a == 100) # a>=100\n",
        "print(a > 100 or a == 100)\n",
        "print(not a == 100) # not(a==100) 이랑 차이점?"
      ],
      "metadata": {
        "colab": {
          "base_uri": "https://localhost:8080/"
        },
        "id": "olZjTdZQ03l3",
        "outputId": "096816cf-3756-4f4b-855c-6cf4b265b355"
      },
      "execution_count": 54,
      "outputs": [
        {
          "output_type": "stream",
          "name": "stdout",
          "text": [
            "False\n",
            "True\n",
            "False\n"
          ]
        }
      ]
    },
    {
      "cell_type": "code",
      "source": [
        "# 멤버쉽 연산자\n",
        "print(\"안녕\" in \"안녕하세요?\")\n",
        "fruits = [\"사과\", \"딸기\", \"포도\", \"오렌지\"]\n",
        "print(\"키위\" in fruits)\n",
        "print(\"딸기\" not in fruits)\n",
        "\n",
        "if \"딸기\" in fruits:\n",
        "  print(\"딸기는 fruits 안에 있습니다.\")\n",
        "else:\n",
        "  print(\"딸기는 fruits 안에 없습니다.\")\n",
        "\n",
        "for fruit in fruits:\n",
        "  print(f\"내가 좋아하는 과일 {fruit}\")"
      ],
      "metadata": {
        "colab": {
          "base_uri": "https://localhost:8080/"
        },
        "id": "koXMMrn51WEq",
        "outputId": "d8219c7c-042d-403e-fc8b-8d15ad05ae7b"
      },
      "execution_count": 57,
      "outputs": [
        {
          "output_type": "stream",
          "name": "stdout",
          "text": [
            "True\n",
            "False\n",
            "False\n",
            "딸기는 fruits 안에 있습니다.\n",
            "내가 좋아하는 과일 사과\n",
            "내가 좋아하는 과일 딸기\n",
            "내가 좋아하는 과일 포도\n",
            "내가 좋아하는 과일 오렌지\n"
          ]
        }
      ]
    },
    {
      "cell_type": "code",
      "source": [
        "letters = \"Life is too short!\"\n",
        "if \"too\" in letters:\n",
        "  print(True) # True == 1\n",
        "else:\n",
        "  print(False) # False == 0"
      ],
      "metadata": {
        "colab": {
          "base_uri": "https://localhost:8080/"
        },
        "id": "_eg_fYNl2jSm",
        "outputId": "79351a1e-6b2e-4079-876e-bb459c8e5217"
      },
      "execution_count": 59,
      "outputs": [
        {
          "output_type": "stream",
          "name": "stdout",
          "text": [
            "True\n"
          ]
        }
      ]
    },
    {
      "cell_type": "code",
      "source": [
        "a = int(input(\"동전으로 교환할 금액을 입력하세요: \"))\n",
        "\n",
        "a_500 = a % 500\n",
        "a_100 = a_500 % 100\n",
        "a_50 = a_100 % 50\n",
        "a_10 = a_50 % 10\n",
        "\n",
        "# 방법1 : 각 동전의 몫으로 나누고 나머지를 작은 동전의 몫으로 다시 나눔\n",
        "# 방법2 : 전체에서 몫을 먼저 구하고 구한 몫*동전을 계속 빼가면서 반복\n",
        "\n",
        "print(\"-\" * 30)\n",
        "print(f\"500원 짜리 ==> {a // 500}개\")\n",
        "print(f\"100원 짜리 ==> {a_500 // 100}개\")\n",
        "print(f\"50원 짜리 ==> {a_100 // 50}개\")\n",
        "print(f\"10원 짜리 ==> {a_50 // 10}개\")\n",
        "print(f\"잔돈 ==> {a_10}\")"
      ],
      "metadata": {
        "colab": {
          "base_uri": "https://localhost:8080/"
        },
        "id": "MoONJXbRP3_i",
        "outputId": "ab2975f9-6bb9-4700-db9e-5e72a0dcc68e"
      },
      "execution_count": 1,
      "outputs": [
        {
          "output_type": "stream",
          "name": "stdout",
          "text": [
            "동전으로 교환할 금액을 입력하세요: 4321\n",
            "------------------------------\n",
            "500원 짜리 ==> 8개\n",
            "100원 짜리 ==> 3개\n",
            "50원 짜리 ==> 0개\n",
            "10원 짜리 ==> 2개\n",
            "잔돈 ==> 1\n"
          ]
        }
      ]
    },
    {
      "cell_type": "code",
      "source": [
        "# 교수님 코드\n",
        "money = int(input('동전으로 교환할 금액 입력하세요: '))\n",
        "print('-'*50)\n",
        "print(f\"500원짜리 ==> {money // 500} 개\")\n",
        "money %= 500\n",
        "print(f\"100원짜리 ==> {money // 100} 개\")\n",
        "money %= 100\n",
        "print(f\" 50원짜리 ==> {money // 50} 개\")\n",
        "money %= 50\n",
        "print(f\" 10원짜리 ==> {money // 10} 개\")\n",
        "money %= 10\n",
        "print(f\"     잔돈 ==> {money} 원\")"
      ],
      "metadata": {
        "colab": {
          "base_uri": "https://localhost:8080/"
        },
        "id": "tw_lsBMD6ppt",
        "outputId": "f2055163-95b9-4d4d-de84-b47cb073aa48"
      },
      "execution_count": 2,
      "outputs": [
        {
          "output_type": "stream",
          "name": "stdout",
          "text": [
            "동전으로 교환할 금액 입력하세요: 4321\n",
            "--------------------------------------------------\n",
            "500원짜리 ==> 8 개\n",
            "100원짜리 ==> 3 개\n",
            " 50원짜리 ==> 0 개\n",
            " 10원짜리 ==> 2 개\n",
            "     잔돈 ==> 1 원\n"
          ]
        }
      ]
    }
  ]
}