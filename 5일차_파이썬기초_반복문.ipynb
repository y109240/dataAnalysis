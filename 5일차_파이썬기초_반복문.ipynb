{
  "nbformat": 4,
  "nbformat_minor": 0,
  "metadata": {
    "colab": {
      "provenance": [],
      "authorship_tag": "ABX9TyNknrMo1th8xSw/6WV2ZKaV",
      "include_colab_link": true
    },
    "kernelspec": {
      "name": "python3",
      "display_name": "Python 3"
    },
    "language_info": {
      "name": "python"
    }
  },
  "cells": [
    {
      "cell_type": "markdown",
      "metadata": {
        "id": "view-in-github",
        "colab_type": "text"
      },
      "source": [
        "<a href=\"https://colab.research.google.com/github/y109240/dataAnalysis/blob/main/5%EC%9D%BC%EC%B0%A8_%ED%8C%8C%EC%9D%B4%EC%8D%AC%EA%B8%B0%EC%B4%88_%EB%B0%98%EB%B3%B5%EB%AC%B8.ipynb\" target=\"_parent\"><img src=\"https://colab.research.google.com/assets/colab-badge.svg\" alt=\"Open In Colab\"/></a>"
      ]
    },
    {
      "cell_type": "markdown",
      "source": [
        "# 5. 반복문"
      ],
      "metadata": {
        "id": "VFB9FknnkWbd"
      }
    },
    {
      "cell_type": "markdown",
      "source": [
        "## 5-1. for 반복문\n",
        "유한개수의 반복"
      ],
      "metadata": {
        "id": "mjCeOo5HoB92"
      }
    },
    {
      "cell_type": "markdown",
      "source": [
        "### 다양한 반복문"
      ],
      "metadata": {
        "id": "gQGTLRtpnQg0"
      }
    },
    {
      "cell_type": "code",
      "execution_count": 3,
      "metadata": {
        "colab": {
          "base_uri": "https://localhost:8080/"
        },
        "id": "9FKVw1hFg_YT",
        "outputId": "59b919be-187d-439e-ce41-08f9ea9d24e2"
      },
      "outputs": [
        {
          "output_type": "stream",
          "name": "stdout",
          "text": [
            "0\n",
            "1\n",
            "2\n"
          ]
        }
      ],
      "source": [
        "# 1. range() 함수 이용 : 정수를 차례로 발생시키는 함수\n",
        "# for 변수 in range(0, 3, 1):\n",
        "for 변수 in range(3):\n",
        "  print(변수)"
      ]
    },
    {
      "cell_type": "code",
      "source": [
        "# 2. 리스트 이용\n",
        "a = list(range(10, 0, -1))\n",
        "# 대괄호로 리스트를 만들면 그냥 리스트안에 레인지 객체가 생성\n",
        "print(a)\n",
        "\n",
        "for i in a:\n",
        "  print(i)\n",
        "\n",
        "for i in a:\n",
        "  print(i, end=\",\")"
      ],
      "metadata": {
        "colab": {
          "base_uri": "https://localhost:8080/"
        },
        "id": "IKsc7XeJn-IH",
        "outputId": "57da754f-3ab1-4e2d-b05f-882b1ad5005e"
      },
      "execution_count": 13,
      "outputs": [
        {
          "output_type": "stream",
          "name": "stdout",
          "text": [
            "[10, 9, 8, 7, 6, 5, 4, 3, 2, 1]\n",
            "10\n",
            "9\n",
            "8\n",
            "7\n",
            "6\n",
            "5\n",
            "4\n",
            "3\n",
            "2\n",
            "1\n",
            "10,9,8,7,6,5,4,3,2,1,"
          ]
        }
      ]
    },
    {
      "cell_type": "code",
      "source": [
        "# 1~100 까지 10단위로 가로로 출력하는법\n",
        "for i in range(1, 101, 10):\n",
        "  for j in range(i, i+10):\n",
        "    print(f\"{j:>4}\", end=\" \")\n",
        "  print()\n",
        "\n",
        "# i를 10으로 나눠서\n",
        "# 리스트 컴프리헨션"
      ],
      "metadata": {
        "colab": {
          "base_uri": "https://localhost:8080/"
        },
        "id": "C1t43pxupq1E",
        "outputId": "2e960416-b3b7-4ccc-cf7a-c25e1a26c1e0"
      },
      "execution_count": 41,
      "outputs": [
        {
          "output_type": "stream",
          "name": "stdout",
          "text": [
            "   1    2    3    4    5    6    7    8    9   10 \n",
            "  11   12   13   14   15   16   17   18   19   20 \n",
            "  21   22   23   24   25   26   27   28   29   30 \n",
            "  31   32   33   34   35   36   37   38   39   40 \n",
            "  41   42   43   44   45   46   47   48   49   50 \n",
            "  51   52   53   54   55   56   57   58   59   60 \n",
            "  61   62   63   64   65   66   67   68   69   70 \n",
            "  71   72   73   74   75   76   77   78   79   80 \n",
            "  81   82   83   84   85   86   87   88   89   90 \n",
            "  91   92   93   94   95   96   97   98   99  100 \n"
          ]
        }
      ]
    },
    {
      "cell_type": "code",
      "source": [
        "# ????\n",
        "for i in a:\n",
        "  print(i)\n",
        "  print(i, end=\",\")"
      ],
      "metadata": {
        "id": "-mUh0-z9pazh"
      },
      "execution_count": null,
      "outputs": []
    },
    {
      "cell_type": "code",
      "source": [
        "# 3. 문자열 이용\n",
        "for i in \"python\":\n",
        "  print(i)"
      ],
      "metadata": {
        "colab": {
          "base_uri": "https://localhost:8080/"
        },
        "id": "62FK-FaYqXH2",
        "outputId": "3c6147fe-d09c-4618-ff2a-db26b4088684"
      },
      "execution_count": 17,
      "outputs": [
        {
          "output_type": "stream",
          "name": "stdout",
          "text": [
            "p\n",
            "y\n",
            "t\n",
            "h\n",
            "o\n",
            "n\n"
          ]
        }
      ]
    },
    {
      "cell_type": "code",
      "source": [
        "# 4. 변수 사용안하고 반복만 할때\n",
        "for _ in range(3):\n",
        "  print(\"Hello, World!\")"
      ],
      "metadata": {
        "colab": {
          "base_uri": "https://localhost:8080/"
        },
        "id": "v7e2kaZvqdg8",
        "outputId": "00642138-ac04-4a26-e301-8b265b4bfd06"
      },
      "execution_count": 16,
      "outputs": [
        {
          "output_type": "stream",
          "name": "stdout",
          "text": [
            "Hello, World!\n",
            "Hello, World!\n",
            "Hello, World!\n"
          ]
        }
      ]
    },
    {
      "cell_type": "code",
      "source": [
        "# 5. enumerate() : 리스트와 같은 순서라 있는 지료형의 인덱스를 함께 사용\n",
        "\n",
        "fruits = [\"사과\", \"포도\", \"딸기\", \"키위\"]\n",
        "# enumerate() 인덱스 번호랑 나눠서?\n",
        "# fruits = {\"4\":\"사과\", \"2\":\"포도\", \"0\":\"딸기\", \"1\":\"키위\"}\n",
        "\n",
        "idx = 0\n",
        "for fruit in fruits:\n",
        "  print(idx, fruit)\n",
        "  idx = idx+1\n",
        "\n",
        "for idx, fruit in enumerate(fruits):\n",
        "  print(idx, fruit)"
      ],
      "metadata": {
        "colab": {
          "base_uri": "https://localhost:8080/"
        },
        "id": "uN0N5jLpqsDq",
        "outputId": "f3f2c7ca-5a61-4289-82d3-bf49948335ad"
      },
      "execution_count": 43,
      "outputs": [
        {
          "output_type": "stream",
          "name": "stdout",
          "text": [
            "0 사과\n",
            "1 포도\n",
            "2 딸기\n",
            "3 키위\n",
            "0 사과\n",
            "1 포도\n",
            "2 딸기\n",
            "3 키위\n"
          ]
        }
      ]
    },
    {
      "cell_type": "code",
      "source": [
        "# 6. 컬렉션 자료형 특징 이용\n",
        "# 리스트\n",
        "for a, b in [(1, 2,), (3, 4), (5, 6)]:\n",
        "  print(a, b)\n",
        "print(\"-\" * 5)\n",
        "\n",
        "# 딕셔너리\n",
        "dic = {1:\"사과\", 2:\"포도\"}\n",
        "for key in dic:\n",
        "  print(key, dic[key])\n",
        "\n",
        "for key, value in dic.items():\n",
        "  print(key, value)\n",
        "\n",
        "print(\"-\" * 5)\n",
        "# 셋\n",
        "for v in {1, 2, 3, 3, 4, 5, 3}:\n",
        "  print(v)"
      ],
      "metadata": {
        "colab": {
          "base_uri": "https://localhost:8080/"
        },
        "id": "-FIt7ZpCsbG6",
        "outputId": "a0a410f1-777c-4388-b731-f53298ab59ec"
      },
      "execution_count": 27,
      "outputs": [
        {
          "output_type": "stream",
          "name": "stdout",
          "text": [
            "1 2\n",
            "3 4\n",
            "5 6\n",
            "-----\n",
            "1 사과\n",
            "2 포도\n",
            "1 사과\n",
            "2 포도\n",
            "-----\n",
            "1\n",
            "2\n",
            "3\n",
            "4\n",
            "5\n"
          ]
        }
      ]
    },
    {
      "cell_type": "code",
      "source": [
        "n = int(input(\"합계를 구할 숫자 입력: \"))\n",
        "odd_sum = 0\n",
        "# sum([i for i in range(1, n+1, 2)])\n",
        "# for i in range(1, n+1, 2):\n",
        "for i in range(1, n+1):\n",
        "  if i % 2 ==1:\n",
        "    odd_sum += i\n",
        "print(f\"1~{n}까지 짝수를 제외한 합은: {odd_sum}\")\n"
      ],
      "metadata": {
        "colab": {
          "base_uri": "https://localhost:8080/"
        },
        "id": "BkzptD3IuMUf",
        "outputId": "ddf00737-70e4-4d23-a898-1705b466e6bd"
      },
      "execution_count": 35,
      "outputs": [
        {
          "output_type": "stream",
          "name": "stdout",
          "text": [
            "합계를 구할 숫자 입력: 100\n",
            "1~100까지 짝수를 제외한 합은: 2500\n"
          ]
        }
      ]
    },
    {
      "cell_type": "markdown",
      "source": [
        "### [실습문제] 정오각형 그리기\n",
        "- turtle 모듈을 코랩에서 사용할 수 없음.\n",
        "- pc에서 사용하기"
      ],
      "metadata": {
        "id": "uPIFiq-o2H57"
      }
    },
    {
      "cell_type": "code",
      "source": [
        "# 거북이 그림 그리기\n",
        "# 동시에 여러마리의 거북이가 움직이게 할려면?\n",
        "# 함수로 정의해서 그려보기"
      ],
      "metadata": {
        "id": "jZEr1aaz2A_U"
      },
      "execution_count": 44,
      "outputs": []
    },
    {
      "cell_type": "markdown",
      "source": [
        "### [실습문제]"
      ],
      "metadata": {
        "id": "Dvl7wLRD8WqX"
      }
    },
    {
      "cell_type": "code",
      "source": [
        "# 1~100까지의 숫자를 한줄로 출력해보기\n",
        "\n",
        "# for i in range(1, 101): print(i, end=\" \")\n",
        "\n",
        "print(\" \".join([str(i) for i in range(1, 101)]))"
      ],
      "metadata": {
        "id": "TIbK9hus8A7S"
      },
      "execution_count": null,
      "outputs": []
    },
    {
      "cell_type": "code",
      "source": [
        "import random\n",
        "\n",
        "scores = [random.randint(1, 100) for _ in range(5)]\n",
        "for idx, i in enumerate(scores):\n",
        "  print(f\"{idx+1}번 학생 {i}점: 합격\") if i > 60 else print(f\"{idx+1}번 학생 {i}점: 불학격\")\n",
        "\n",
        "  # if i > 60:\n",
        "  #   print(f\"{idx+1}번 학생 {i}점: 합격입니다.\")\n",
        "  # else:\n",
        "  #   print(f\"{idx+1}번 학생 {i}점: 불합격입니다.\")\n",
        "\n",
        "  # result = \"합격\" if i > 60 else \"불합격\"\n",
        "  # print(f\"{idx+1}번 학생 {i}점: {result}\")"
      ],
      "metadata": {
        "colab": {
          "base_uri": "https://localhost:8080/"
        },
        "id": "3FCBsgvZ9VTw",
        "outputId": "d1269986-0ba5-40b4-d4da-c85708feae53"
      },
      "execution_count": 76,
      "outputs": [
        {
          "output_type": "stream",
          "name": "stdout",
          "text": [
            "1번 학생 69점: 합격\n",
            "2번 학생 20점: 불학격\n",
            "3번 학생 7점: 불학격\n",
            "4번 학생 74점: 합격\n",
            "5번 학생 58점: 불학격\n"
          ]
        }
      ]
    },
    {
      "cell_type": "code",
      "source": [
        "# 리스트 컴프리헨션 너무 못하는뎈ㅋㅋㅋㅋㅋㅋㅋ\n",
        "import random\n",
        "\n",
        "for i in range(5):\n",
        "  i = random.choice(range(1, 100))\n",
        "  print(i, end=\" \")\n",
        "print()\n",
        "\n",
        "for i in range(5):\n",
        "  i = random.randint(1, 100)\n",
        "  print(i, end=\" \")\n",
        "\n",
        "print([random.randint(1, 101) for _ in range(5)])\n",
        "# randint는 되는데 choice는 안됨. 왜지???\n",
        "# 아마 반환값의 차이??"
      ],
      "metadata": {
        "colab": {
          "base_uri": "https://localhost:8080/"
        },
        "id": "6QBpqV249z3X",
        "outputId": "daffa5df-77f9-4366-9087-c71d6e789f0f"
      },
      "execution_count": 68,
      "outputs": [
        {
          "output_type": "stream",
          "name": "stdout",
          "text": [
            "99 21 14 79 23 97 82 98 14 101 [62, 63, 17, 40, 46]\n"
          ]
        }
      ]
    },
    {
      "cell_type": "code",
      "source": [
        "# 괄호 짝꿍 판별하기 (회문과 유사)\n",
        "# 총 개수가 같은지\n",
        "a_list = list(input(\"괄호: \"))\n",
        "print(a_list)\n",
        "\n",
        "# 조건 반복 나열\n",
        "# l_count = 0\n",
        "# r_count = 0\n",
        "# for i in a_list:\n",
        "#   if i == \"(\":\n",
        "#     l_count += 1\n",
        "#   else:\n",
        "#     r_count += 1\n",
        "# if l_count == r_count:\n",
        "#   print(\"결과:\", True)\n",
        "# else:\n",
        "#   print(\"결과:\", False)\n",
        "\n",
        "# 리스트 컴프리헨션\n",
        "l_count = len([i for i in a_list if i == \"(\"])\n",
        "r_count = len([i for i in a_list if i == \")\"])\n",
        "\n",
        "print(True if l_count == r_count else False)"
      ],
      "metadata": {
        "id": "saM02fRAKgqp"
      },
      "execution_count": null,
      "outputs": []
    },
    {
      "cell_type": "code",
      "source": [
        "a_list = list(input(\"괄호: \"))\n",
        "\n",
        "# \"(\" = +1,  \")\" = -1, sum == 0\n",
        "#  처음이 -1 이면 실패\n",
        "\n",
        "i_list = []\n",
        "if a_list[0] == \")\":\n",
        "  print(False)\n",
        "\n",
        "else:\n",
        "  for i in a_list:\n",
        "    i_list = [1 if i == \"(\" else -1]\n",
        "    # if i == \"(\":\n",
        "    #   i = 1\n",
        "    #   i_list.append(i)\n",
        "    # else:\n",
        "    #   i = -1\n",
        "    #   i_list.append(i)\n",
        "\n",
        "  print(True) if sum(i_list) == 0 else print(False)\n",
        "\n",
        "# 이거 어떻게 줄일지 생각해보고\n",
        "# 교수님 코드로 내 코드랑 같은점 다른점 생각해보기"
      ],
      "metadata": {
        "colab": {
          "base_uri": "https://localhost:8080/"
        },
        "id": "taiLdOuoCnP6",
        "outputId": "ad2a23b8-daa3-4c62-abfe-010f9ec6ebb3"
      },
      "execution_count": 88,
      "outputs": [
        {
          "output_type": "stream",
          "name": "stdout",
          "text": [
            "괄호: (())(\n",
            "False\n"
          ]
        }
      ]
    },
    {
      "cell_type": "markdown",
      "source": [
        "## 중첩 for 반복문 : 반복문 안에 반복문"
      ],
      "metadata": {
        "id": "u8NcVcMpHFgz"
      }
    },
    {
      "cell_type": "code",
      "source": [
        "for i in range(3):\n",
        "  print(f\"{i}-------\")\n",
        "  for j in range(3):\n",
        "    print(f\"i:{i}, j:{j}\")"
      ],
      "metadata": {
        "colab": {
          "base_uri": "https://localhost:8080/"
        },
        "id": "RfXdDTFHHMcU",
        "outputId": "bc8f8b53-9884-4c88-a19d-f9cc21d318cb"
      },
      "execution_count": 92,
      "outputs": [
        {
          "output_type": "stream",
          "name": "stdout",
          "text": [
            "0-------\n",
            "i:0, j:0\n",
            "i:0, j:1\n",
            "i:0, j:2\n",
            "1-------\n",
            "i:1, j:0\n",
            "i:1, j:1\n",
            "i:1, j:2\n",
            "2-------\n",
            "i:2, j:0\n",
            "i:2, j:1\n",
            "i:2, j:2\n"
          ]
        }
      ]
    },
    {
      "cell_type": "code",
      "source": [
        "p_lists = [\")))()()(((\", \"()()()()())\", \"()(())()()\", \"))(())((\", \"()(()))(\", \"((())())\"]\n",
        "for p_list in p_lists:\n",
        "  t = 0\n",
        "  for p in p_list:\n",
        "    if p == \"(\":\n",
        "      t += 1\n",
        "    elif p == \")\":\n",
        "      t -= 1\n",
        "    if t < 0:\n",
        "      break\n",
        "  print(True) if t == 0 else print(False)\n",
        "# 이렇게 판별하는 하는 코드는 함수로 만들면 좋아요."
      ],
      "metadata": {
        "colab": {
          "base_uri": "https://localhost:8080/"
        },
        "id": "8P4lJMSLIA5h",
        "outputId": "cb6d9e34-feb9-454b-c309-275783078b37"
      },
      "execution_count": 93,
      "outputs": [
        {
          "output_type": "stream",
          "name": "stdout",
          "text": [
            "False\n",
            "False\n",
            "True\n",
            "False\n",
            "False\n",
            "True\n"
          ]
        }
      ]
    },
    {
      "cell_type": "markdown",
      "source": [
        "## 5-2. while 반복문"
      ],
      "metadata": {
        "id": "4ewRVyldRd5v"
      }
    },
    {
      "cell_type": "markdown",
      "source": [
        "### while 반복문 기본 형식"
      ],
      "metadata": {
        "id": "HdsJK3IwRnz6"
      }
    },
    {
      "cell_type": "code",
      "source": [
        "# while True == while 1"
      ],
      "metadata": {
        "id": "rqOvGap8REIL"
      },
      "execution_count": null,
      "outputs": []
    },
    {
      "cell_type": "code",
      "source": [
        "a = 0\n",
        "while a < 5:\n",
        "  print(f\"{a}는 5보다 작습니다.\")\n",
        "  a += 1\n",
        "print(f\"{a}는 5와 같습니다.\")"
      ],
      "metadata": {
        "colab": {
          "base_uri": "https://localhost:8080/"
        },
        "id": "CxaXRacrRtqn",
        "outputId": "dd10e8ac-959e-4a24-ad61-629a7806aea1"
      },
      "execution_count": 95,
      "outputs": [
        {
          "output_type": "stream",
          "name": "stdout",
          "text": [
            "0는 5보다 작습니다.\n",
            "1는 5보다 작습니다.\n",
            "2는 5보다 작습니다.\n",
            "3는 5보다 작습니다.\n",
            "4는 5보다 작습니다.\n",
            "5는 5와 같습니다.\n"
          ]
        }
      ]
    },
    {
      "cell_type": "code",
      "source": [
        "a = 0\n",
        "while True:\n",
        "  if a >= 5:\n",
        "    break\n",
        "  print(f\"{a}는 5보다 작습니다.\")\n",
        "  a += 1\n",
        "print(f\"{a}는 5와 같습니다.\")"
      ],
      "metadata": {
        "colab": {
          "base_uri": "https://localhost:8080/"
        },
        "id": "7w8NNOyNSP6K",
        "outputId": "d3c68d0a-1720-4da7-b4aa-cd2d287b6206"
      },
      "execution_count": 96,
      "outputs": [
        {
          "output_type": "stream",
          "name": "stdout",
          "text": [
            "0는 5보다 작습니다.\n",
            "1는 5보다 작습니다.\n",
            "2는 5보다 작습니다.\n",
            "3는 5보다 작습니다.\n",
            "4는 5보다 작습니다.\n",
            "5는 5와 같습니다.\n"
          ]
        }
      ]
    },
    {
      "cell_type": "code",
      "source": [
        "treeHit = 0\n",
        "while treeHit < 10:\n",
        "  treeHit += 1\n",
        "  print(f\"나무를 {treeHit}번 찍었습니다.\")\n",
        "print(\"나무 넘어가유\")\n",
        "\n",
        "# while True:\n",
        "#   if treeHit >= 10:\n",
        "#     print(\"나무 넘어가유~\")\n",
        "#     break\n",
        "#   treeHit += 1\n",
        "#   print(f\"나무를 {treeHit}번 찍었습니다.\")"
      ],
      "metadata": {
        "colab": {
          "base_uri": "https://localhost:8080/"
        },
        "id": "icgQG6DzS55K",
        "outputId": "854ba36b-d42b-46b8-d2fe-2a369f51fe1a"
      },
      "execution_count": 99,
      "outputs": [
        {
          "output_type": "stream",
          "name": "stdout",
          "text": [
            "나무를 1번 찍었습니다.\n",
            "나무를 2번 찍었습니다.\n",
            "나무를 3번 찍었습니다.\n",
            "나무를 4번 찍었습니다.\n",
            "나무를 5번 찍었습니다.\n",
            "나무를 6번 찍었습니다.\n",
            "나무를 7번 찍었습니다.\n",
            "나무를 8번 찍었습니다.\n",
            "나무를 9번 찍었습니다.\n",
            "나무를 10번 찍었습니다.\n",
            "나무 넘어가유\n"
          ]
        }
      ]
    },
    {
      "cell_type": "code",
      "source": [
        "# 반복문을 이용하는 퀴즈문제\n",
        "# 하이앤로우, 글자가 들어간 20고개 가능?, 정해진 갯수만큼 판매하는 프로그램, 전설의 별찍기 문제"
      ],
      "metadata": {
        "id": "JnVe0LHiUwM5"
      },
      "execution_count": null,
      "outputs": []
    },
    {
      "cell_type": "markdown",
      "source": [
        "**숙제**\n",
        "- 이자율, 3의 배수의 합, 두배 별 출력, 구구단 출력\n",
        "- 공이 튕긴 횟수 구하기, 도둑잡기 게임, 무인 호텔 관리 프로그램\n",
        "- 거북이 그림 : 원, 벌집, 얼굴\n"
      ],
      "metadata": {
        "id": "BnB0ucEdTrux"
      }
    }
  ]
}