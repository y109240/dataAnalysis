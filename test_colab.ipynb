{
  "nbformat": 4,
  "nbformat_minor": 0,
  "metadata": {
    "colab": {
      "provenance": [],
      "toc_visible": true,
      "authorship_tag": "ABX9TyM6a0KmxD7X4ucQ3szPTSd+",
      "include_colab_link": true
    },
    "kernelspec": {
      "name": "python3",
      "display_name": "Python 3"
    },
    "language_info": {
      "name": "python"
    }
  },
  "cells": [
    {
      "cell_type": "markdown",
      "metadata": {
        "id": "view-in-github",
        "colab_type": "text"
      },
      "source": [
        "<a href=\"https://colab.research.google.com/github/y109240/dataAnalysis/blob/main/test_colab.ipynb\" target=\"_parent\"><img src=\"https://colab.research.google.com/assets/colab-badge.svg\" alt=\"Open In Colab\"/></a>"
      ]
    },
    {
      "cell_type": "code",
      "execution_count": null,
      "metadata": {
        "id": "cnJbqmdeDQ-V"
      },
      "outputs": [],
      "source": []
    },
    {
      "cell_type": "markdown",
      "source": [
        "## **아기 고양이가 지나가요**\n",
        "# 제목 입니다.\n",
        "\n",
        "### 어떻게 변할까?\n",
        "#### 프리뷰를 봅시다."
      ],
      "metadata": {
        "id": "C6BU1dHiD5iU"
      }
    },
    {
      "cell_type": "markdown",
      "source": [
        "## 2.제목 이예요"
      ],
      "metadata": {
        "id": "jJgjR5FxEcG0"
      }
    },
    {
      "cell_type": "code",
      "source": [
        "print(\"Hello, World!\")"
      ],
      "metadata": {
        "id": "fSVeAhAAE67C"
      },
      "execution_count": null,
      "outputs": []
    },
    {
      "cell_type": "code",
      "source": [
        "a = 10\n",
        "b = 20\n",
        "\n",
        "print(a + b)\n",
        "print(a - b)\n",
        "print(a * b)\n",
        "print(a / b)\n",
        "print(a // b)\n",
        "print(a % b)"
      ],
      "metadata": {
        "id": "9tY5sAzQFDNI"
      },
      "execution_count": null,
      "outputs": []
    },
    {
      "cell_type": "markdown",
      "source": [
        "## 3.파이썬 패키지 확인\n",
        "\n",
        "! 외부 명령어 실행"
      ],
      "metadata": {
        "id": "SPBDlB77EifI"
      }
    },
    {
      "cell_type": "code",
      "source": [
        "!pip list"
      ],
      "metadata": {
        "id": "JgpuZQryE55I"
      },
      "execution_count": null,
      "outputs": []
    }
  ]
}