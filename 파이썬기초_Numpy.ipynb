{
 "cells": [
  {
   "cell_type": "markdown",
   "id": "6c983c03",
   "metadata": {},
   "source": [
    "# Numpy\n",
    "교재: 데이터 과학을 위한 파이썬 머신러닝(Chapter03)"
   ]
  },
  {
   "cell_type": "markdown",
   "id": "9476178e",
   "metadata": {},
   "source": [
    "- <a href=\"#03.1넘파이란\">03.1 넘파이란</a>\n",
    "- <a href=\"#03.2넘파이배열객체다루기\">03.2 넘파이 배열 객체 다루기</a>\n",
    "- <a href=\"#03.3넘파이배열연산\">03.3 넘파이 배열 연산</a>\n",
    "- <a href=\"#03.4비교연산과데이터추출\">03.4 비교 연산과 데이터 추출</a>"
   ]
  },
  {
   "cell_type": "markdown",
   "id": "330e9146",
   "metadata": {},
   "source": [
    "---------------"
   ]
  },
  {
   "cell_type": "markdown",
   "id": "07cd7ca1",
   "metadata": {},
   "source": [
    "### 라이브러리 설치"
   ]
  },
  {
   "cell_type": "code",
   "execution_count": null,
   "id": "10194609",
   "metadata": {},
   "outputs": [],
   "source": [
    "!pip install numpy"
   ]
  },
  {
   "cell_type": "code",
   "execution_count": null,
   "id": "13fe60b5",
   "metadata": {
    "scrolled": true
   },
   "outputs": [],
   "source": [
    "import numpy as np\n",
    "print(f'numpy version : {np.__version__}')"
   ]
  },
  {
   "cell_type": "markdown",
   "id": "455016db",
   "metadata": {},
   "source": [
    "------------------------------"
   ]
  },
  {
   "cell_type": "markdown",
   "id": "dd312d9d",
   "metadata": {},
   "source": [
    "## <a name=\"03.1넘파이란\">03.1 넘파이란</a>"
   ]
  },
  {
   "cell_type": "markdown",
   "id": "96230a28",
   "metadata": {},
   "source": [
    "- https://numpy.org/\n",
    "- 파이썬의 고성능 과학 계산용 라이브러리\n",
    "- 벡터나 행렬 같은 선형대수의 표현법을 코드로 처리\n",
    "- 사실상의 표준 라이브러리\n",
    "- 다차원 리스트나 크기가 큰 데이터 처리에 유리"
   ]
  },
  {
   "cell_type": "markdown",
   "id": "d3df7631",
   "metadata": {},
   "source": [
    "### [예제] 선형대수의 표현법을 코드로 처리\n",
    "$2x_1 + 2x_2 + x_3 = 9$ <br>\n",
    "$2x_1 - x_2 + 2x_3 = 6$ <br>\n",
    "$x_1 - x_2 + 2x_3 = 5$ <br>"
   ]
  },
  {
   "cell_type": "markdown",
   "id": "ed88770b",
   "metadata": {},
   "source": [
    "### 특수 행렬\n",
    "- numpy 행렬을 위한 참고 정보\n",
    "\n",
    "|구분 |영문설명| numpy.함수명()|\n",
    "|:---|:---|:---|\n",
    "|대각행렬|Diagonal matrix | np.diag(x) |\n",
    "|내적(행렬 곱)|Dot Product, Inner product| np.dot(a,b) , a @ b|\n",
    "|대각합|Trace | np.trace(x)|\n",
    "|행렬식|Matrix Deteminant  | np.linalg.det(x) |\n",
    "|역행렬|Inverse of a matrix  | np.linalg.inv(x) |\n",
    "|고유값, 고유벡터 |Eigenvalue, Eigenvector  | w, v = np.linalg.eig(x) |\n",
    "|특이값 분해 |Singular value Decomposition  |u,s,vh = np.linalg.svd(A) |\n",
    "|연립방정식 해 풀기 |Solve a linear matrix equation  | np.linalg.slove(a, b) |\n",
    "|최소자승 해 풀기 |Compute the Least-squares solution  | m, c = np.linalg.lstsq(A,y,rcond=None)[0] |"
   ]
  },
  {
   "cell_type": "code",
   "execution_count": null,
   "id": "845eeafc",
   "metadata": {},
   "outputs": [],
   "source": [
    "arr1 = np.array([[2,2,1],\n",
    "                 [2,-1,2],\n",
    "                 [1,-1,2]])\n",
    "arr2 = np.array([[9],[6],[5]])\n",
    "print(f'선형연립방정식 결과:\\n{np.linalg.solve(arr1, arr2)}') "
   ]
  },
  {
   "cell_type": "code",
   "execution_count": null,
   "id": "4212456a",
   "metadata": {},
   "outputs": [],
   "source": [
    "# sympy를 이용한 선형연립방정식 해 구하기 \n",
    "from sympy import * \n",
    "  \n",
    "M = Matrix([[2,2,1,9],\n",
    "            [2,-1,2,6],\n",
    "            [1,-1,2,5]])\n",
    "print(\"Matrix : {} \".format(M))\n",
    "   \n",
    "# Use sympy.rref() method \n",
    "M_rref = M.rref()  \n",
    "      \n",
    "print(\"The Row echelon form of matrix M and the pivot columns : {}\".format(M_rref))  "
   ]
  },
  {
   "cell_type": "markdown",
   "id": "2a511617",
   "metadata": {},
   "source": [
    "### [예제] 사실상의 표준 라이브러리 (다른 라이브러리의 기본 라이브러리)"
   ]
  },
  {
   "cell_type": "code",
   "execution_count": null,
   "id": "3320b84c",
   "metadata": {},
   "outputs": [],
   "source": [
    "# 영상처리 & 컴퓨터 비전 라이브러리\n",
    "!pip install opencv-python"
   ]
  },
  {
   "cell_type": "code",
   "execution_count": null,
   "id": "3f96a631",
   "metadata": {},
   "outputs": [],
   "source": [
    "import sys\n",
    "import cv2\n",
    "\n",
    "image = cv2.imread('./image/cat.jpg')\n",
    "if image is None:\n",
    "    print('Image load failed!')\n",
    "    sys.exit()\n",
    "    \n",
    "# print(image)\n",
    "print(type(image))\n",
    "print(image.dtype)    \n",
    "\n",
    "\n",
    "# cv2_imshow(image)   # 코랩에서 이미지 확인하는 경우\n",
    "cv2.namedWindow('image')\n",
    "cv2.imshow(\"image\", image)\n",
    "cv2.waitKey()\n",
    "cv2.destroyAllWindows()"
   ]
  },
  {
   "cell_type": "code",
   "execution_count": null,
   "id": "b2814eaa",
   "metadata": {},
   "outputs": [],
   "source": [
    "# 머신러닝 라이브러리\n",
    "!pip install scikit-learn"
   ]
  },
  {
   "cell_type": "code",
   "execution_count": null,
   "id": "d07ee974",
   "metadata": {},
   "outputs": [],
   "source": [
    "from sklearn.datasets import load_iris  \n",
    "\n",
    "iris = load_iris()\n",
    "\n",
    "iris"
   ]
  },
  {
   "cell_type": "markdown",
   "id": "200f47c8",
   "metadata": {},
   "source": [
    "### [예제] 다차원 리스트나 크기가 큰 데이터 처리에 유리\n",
    "loop 프로그래밍 없이 전체 배열에 대해서 표준 수학 함수를 매우 빠른 속도로 수행할 수 있습"
   ]
  },
  {
   "cell_type": "code",
   "execution_count": null,
   "id": "e6a323f6",
   "metadata": {},
   "outputs": [],
   "source": [
    "import numpy as np\n",
    "\n",
    "arr = np.arange(16)\n",
    "print(arr)\n",
    "arr1 = arr.reshape(4, -1)   # 2차원\n",
    "print(arr1)\n",
    "arr2 = arr.reshape(4, 2, 2) # 3차원 (면,행,렬)\n",
    "print(arr2)"
   ]
  },
  {
   "cell_type": "code",
   "execution_count": null,
   "id": "0bb4f438",
   "metadata": {},
   "outputs": [],
   "source": [
    "import sys\n",
    "import numpy as np\n",
    "import cv2\n",
    "\n",
    "src = cv2.imread('./image/cat.jpg', cv2.IMREAD_GRAYSCALE)\n",
    "\n",
    "if src is None:\n",
    "    print('Image load failed!')\n",
    "    sys.exit()\n",
    "\n",
    "# 마스크처리: 부드럽게\n",
    "mask = np.array([[1/9,1/9,1/9],\n",
    "                [1/9,1/9,1/9],\n",
    "                [1/9,1/9,1/9]])\n",
    "# mask = np.ones((3,3), dtype=np.float64)/ 9.\n",
    "\n",
    "# 마스크처리: 날카롭게\n",
    "# mask = np.array([[0,-1,0],\n",
    "#                 [-1,4,-1],\n",
    "#                 [0,-1,0]])\n",
    "\n",
    "# 마스크 적용\n",
    "dst = cv2.filter2D(src, -1, mask)\n",
    "\n",
    "cv2.imshow('src', src)\n",
    "cv2.imshow('dst', dst)\n",
    "cv2.waitKey()  # 키가 눌려질때까지 기다리기\n",
    "cv2.destroyAllWindows()"
   ]
  },
  {
   "cell_type": "markdown",
   "id": "a326a44e",
   "metadata": {},
   "source": [
    "-----------------"
   ]
  },
  {
   "cell_type": "markdown",
   "id": "7c78c97e",
   "metadata": {},
   "source": [
    "## <a name=\"03.2넘파이배열객체다루기\">03.2 넘파이 배열 객체 다루기</a>"
   ]
  },
  {
   "cell_type": "markdown",
   "id": "1867211e",
   "metadata": {},
   "source": [
    "### 1. 넘파이 배열과 텐서"
   ]
  },
  {
   "cell_type": "code",
   "execution_count": null,
   "id": "bb2fde31",
   "metadata": {},
   "outputs": [],
   "source": [
    "from IPython.display import Image\n",
    "Image(url='https://codetorial.net/tensorflow/_images/basics_of_tensor_01.png') # 웹 파일"
   ]
  },
  {
   "cell_type": "markdown",
   "id": "196a3b11",
   "metadata": {},
   "source": [
    "### 2. 배열의 메모리 구조\n",
    "- https://numpy.org/doc/stable/reference/arrays.html\n",
    "- np.array 함수 사용하여 배열 생성\n",
    "- 배열의 모든 구성 요소에 값이 존재해야 함\n",
    "- 하나의 데이터 타입만 사용\n",
    "- 각 값 메모리 크기가 동일\n",
    "- 검색이나 연산 속도가 리스트에 비해 훨씬 빠름"
   ]
  },
  {
   "cell_type": "markdown",
   "id": "667377d6",
   "metadata": {},
   "source": [
    "### 3. 배열의 생성 : np.array, dtype"
   ]
  },
  {
   "cell_type": "code",
   "execution_count": null,
   "id": "459ed64c",
   "metadata": {
    "scrolled": false
   },
   "outputs": [],
   "source": [
    "# np.array : 다차원 배열 생성\n",
    "arr = np.array([1,2,3,4])               # 1차원 배열 정의\n",
    "arr = np.array([[1,2,3,4],[1,2,3,4]])   # 2차원 배열 정의\n",
    "arr = np.array([[[1,2,3,4],[1,2,3,4]],[[1,2,3,4],[1,2,3,4]]])   # 3차원 배열 정의\n",
    "\n",
    "print(f'arr = {arr}')              # 배열\n",
    "print(f'type = {type(arr)}')       # 배열 타입\n",
    "print(f'dtype = {arr.dtype}')      # 배열 데이터 타입\n",
    "print(f'shape = {arr.shape}')      # 배열 구조\n",
    "print(f'dimension = {arr.ndim}')   # 차원\n",
    "print(f'strides = {arr.strides}')  # 각 dimensions를 건너가는데 몇 bytes나 뛰어넘어야 하는지에 대한 정보"
   ]
  },
  {
   "cell_type": "code",
   "execution_count": null,
   "id": "13e7bf1d",
   "metadata": {},
   "outputs": [],
   "source": [
    "# dtype : 데이터 타입 확인\n",
    "arr = np.array([1,2,3.5,4]) \n",
    "arr = np.array([1,2,3.5,4], float) \n",
    "arr = np.array([1,2,3.5,4], dtype=np.float64) \n",
    "arr.itemsize  # itemsize로 넘파이 배열에서 각 요소가 차지하는 바이트(byte) 확인\n",
    "np.finfo('float64')        # float64 타입이 사용할 수 있는 값 범위 확인\n",
    "# np.f\\iinfo('float64')    # int종류 타입이 사용할 수 있는 값 범위 확인"
   ]
  },
  {
   "cell_type": "markdown",
   "id": "e2ee2bac",
   "metadata": {},
   "source": [
    "### 4. 배열의 구조 다루기 : reshape, flatten"
   ]
  },
  {
   "cell_type": "code",
   "execution_count": null,
   "id": "902dd250",
   "metadata": {},
   "outputs": [],
   "source": [
    "arr = np.array([[1,2,5,8],[1,2,5,8]]) \n",
    "arr.shape"
   ]
  },
  {
   "cell_type": "code",
   "execution_count": null,
   "id": "ee7e0071",
   "metadata": {},
   "outputs": [],
   "source": [
    "arr.reshape(4,2)  \n",
    "arr.reshape(2,-1)  "
   ]
  },
  {
   "cell_type": "code",
   "execution_count": null,
   "id": "841587db",
   "metadata": {},
   "outputs": [],
   "source": [
    "arr = np.array(range(8)).reshape(4,2)\n",
    "arr"
   ]
  },
  {
   "cell_type": "code",
   "execution_count": null,
   "id": "3db5570e",
   "metadata": {},
   "outputs": [],
   "source": [
    "arr.flatten()"
   ]
  },
  {
   "cell_type": "markdown",
   "id": "226e3d61",
   "metadata": {},
   "source": [
    "### 5. 인덱싱과 슬라이싱"
   ]
  },
  {
   "cell_type": "code",
   "execution_count": null,
   "id": "9849fde4",
   "metadata": {},
   "outputs": [],
   "source": [
    "arr = np.array([[[1,2,3,4],[5,6,7,8]],[[9,10,11,12],[13,14,15,16]]]) \n",
    "arr[0][0][0]  # 면(층),행,열"
   ]
  },
  {
   "cell_type": "code",
   "execution_count": null,
   "id": "11c29590",
   "metadata": {},
   "outputs": [],
   "source": [
    "arr[::, ::, ::]# 면(층),행,열 (:: -> start:end:step)\n",
    "arr[:, :, :]"
   ]
  },
  {
   "cell_type": "code",
   "execution_count": null,
   "id": "87e084b2",
   "metadata": {},
   "outputs": [],
   "source": [
    "arr[1:, 1:, 2:4]# 면(층),행,열"
   ]
  },
  {
   "cell_type": "markdown",
   "id": "8a5e4ff3",
   "metadata": {},
   "source": [
    "### 6.배열 생성 함수"
   ]
  },
  {
   "cell_type": "code",
   "execution_count": null,
   "id": "3e76db91",
   "metadata": {
    "scrolled": false
   },
   "outputs": [],
   "source": [
    "# arange()\n",
    "print(f'np.arange(10)      : {np.arange(10)}')\n",
    "print(f'np.arange(-5,5)    : {np.arange(-5,5)}')\n",
    "print(f'np.arange(0,5,0.5) : {np.arange(0,5,0.5)}')"
   ]
  },
  {
   "cell_type": "code",
   "execution_count": null,
   "id": "d3472e96",
   "metadata": {
    "scrolled": true
   },
   "outputs": [],
   "source": [
    "a, b = 3, 4\n",
    "print('%d + %d = %d' % (a,b,a+b))\n",
    "print(f'{a} + {b} = {a+b}')"
   ]
  },
  {
   "cell_type": "code",
   "execution_count": null,
   "id": "65e6ed55",
   "metadata": {},
   "outputs": [],
   "source": [
    "arr\n",
    "# np.ones(arr)"
   ]
  },
  {
   "cell_type": "code",
   "execution_count": null,
   "id": "e61c34ea",
   "metadata": {},
   "outputs": [],
   "source": [
    "# ones, zeros, empty\n",
    "print(f'np.ones(shape=(2,4),dtype=np.float32) :\\n{np.ones(shape=(2,4), dtype=np.float32)}')\n",
    "print(f'np.zeros(shape=(2,4),dtype=np.float32) :\\n{np.zeros(shape=(2,4), dtype=np.float32)}')\n",
    "print(f'np.empty(shape=(2,4),dtype=np.float32) :\\n{np.empty(shape=(2,4), dtype=np.float32)}')"
   ]
  },
  {
   "cell_type": "code",
   "execution_count": null,
   "id": "2b071763",
   "metadata": {},
   "outputs": [],
   "source": [
    "# ones_like, zeros_like, empty_like : 구조만 동일하게\n",
    "arr = np.arange(12).reshape(3,4)\n",
    "print(arr)\n",
    "np.ones_like(arr)\n",
    "np.zeros_like(arr)\n",
    "np.empty_like(arr)"
   ]
  },
  {
   "cell_type": "code",
   "execution_count": null,
   "id": "eab93f22",
   "metadata": {},
   "outputs": [],
   "source": [
    "# identity, eye, diag\n",
    "np.identity(n=3, dtype=int)    # 매개변수 n으로 n×n 단위행렬 생성\n",
    "np.eye(N=3, M=5, k=2)          # 행(N), 열(M), 열인덱스시작(k) 지정하여 단위행렬 생성    "
   ]
  },
  {
   "cell_type": "code",
   "execution_count": null,
   "id": "99a54fcc",
   "metadata": {},
   "outputs": [],
   "source": [
    "# diag : 행렬의 대각성분 값을 추출\n",
    "arr = np.arange(9).reshape(3,3)\n",
    "np.diag(arr)\n",
    "np.diag(arr, k=1)\n"
   ]
  },
  {
   "cell_type": "markdown",
   "id": "458b5ee9",
   "metadata": {},
   "source": [
    "### 7. 통계 분석 함수"
   ]
  },
  {
   "cell_type": "code",
   "execution_count": null,
   "id": "1bece9f8",
   "metadata": {},
   "outputs": [],
   "source": [
    "# normal 함수 : 정규분포 함수\n",
    "np.random.normal(0, 2, 10)   # (평균값, 분산, 데이터개수)"
   ]
  },
  {
   "cell_type": "code",
   "execution_count": null,
   "id": "b1a9ecc5",
   "metadata": {},
   "outputs": [],
   "source": [
    "# mean, min, max, var, std, argmax, argmin\n",
    "arr = np.array([18,5,10,23,19,-8,10,0,0,5,2,15,8,2,5,4,15,-1,4,-7,-24,7,9,-6,23,-13])\n",
    "print(f'평균     : {np.mean(arr)}')\n",
    "print(f'중앙강   : {np.median(arr)}')\n",
    "print(f'최소     : {np.min(arr)}')\n",
    "print(f'최대     : {np.max(arr)}')\n",
    "print(f'분산     : {np.var(arr)}')\n",
    "print(f'표준편차 : {np.std(arr)}')\n",
    "print(f'최소값인덱스 : {np.argmin(arr)}')\n",
    "print(f'최대값인덱스 : {np.argmax(arr)}')\n",
    "print(f'3사분위수    : {np.percentile(arr, 75)}')\n",
    "\n",
    "hist, bins = np.histogram(arr, bins=5)  # 히스토그램  \n",
    "print(f'도수분포 구간 : {bins}') \n",
    "print(f'도수분포 도수 : {hist}')  "
   ]
  },
  {
   "cell_type": "code",
   "execution_count": null,
   "id": "92ccb3c2",
   "metadata": {
    "scrolled": true
   },
   "outputs": [],
   "source": [
    "import matplotlib.pyplot as plt\n",
    "\n",
    "plt.hist(arr, bins, edgecolor='w')\n",
    "plt.show()"
   ]
  },
  {
   "cell_type": "markdown",
   "id": "6fe3cfd5",
   "metadata": {},
   "source": [
    "-----------------"
   ]
  },
  {
   "cell_type": "markdown",
   "id": "89e3c211",
   "metadata": {},
   "source": [
    "## <a name=\"03.3넘파이배열연산\">03.3 넘파이 배열 연산</a>"
   ]
  },
  {
   "cell_type": "markdown",
   "id": "c9b6dbce",
   "metadata": {},
   "source": [
    "### 1. 연산 함수\n",
    "- 배열 내부 연산을 지원하는 함수\n",
    "- 축(axis) : 배열의 랭크가 증가할 때마다 새로운 축이 추가되어 차원 증가"
   ]
  },
  {
   "cell_type": "code",
   "execution_count": null,
   "id": "90a7f6f3",
   "metadata": {},
   "outputs": [],
   "source": [
    "# sum : 지정된 축 기준 요소 합\n",
    "np.arange(1, 11).sum()\n",
    "np.arange(1,13).reshape(3,4).sum(axis=0)  # 행기준 - 열별 합산 \n",
    "np.arange(1,13).reshape(3,4).sum(axis=1)  # 열기준 - 행별 합산\n",
    "\n",
    "arr = np.arange(1, 13).reshape(3, 4)\n",
    "arr_tensor = np.array([arr,arr,arr])\n",
    "arr_tensor.sum(axis=0)       # 층기준 - 면의 동일위치요소 합산\n",
    "arr_tensor.sum(axis=1)       # 행기준 - 열별 합산 \n",
    "arr_tensor.sum(axis=2)       # 열기준 - 행별 합산"
   ]
  },
  {
   "cell_type": "code",
   "execution_count": null,
   "id": "f3eea3c4",
   "metadata": {},
   "outputs": [],
   "source": [
    "# mean , sqrt\n",
    "np.arange(1,13).reshape(3,4).mean(axis=0)    # 행기준 - 열별 평균\n",
    "np.arange(1,13).reshape(3,4).mean(axis=1)    # 열기준 - 행별 평균\n",
    "np.sqrt(np.arange(1,13).reshape(3,4))        # 열기준 - 행별 제곱근"
   ]
  },
  {
   "cell_type": "markdown",
   "id": "e517aaaf",
   "metadata": {},
   "source": [
    "### 2. 연결 함수\n",
    "두 객체 간의 결합을 지원하는 함수"
   ]
  },
  {
   "cell_type": "code",
   "execution_count": null,
   "id": "7139fa39",
   "metadata": {},
   "outputs": [],
   "source": [
    "# vstack, hstack\n",
    "v1 = np.array([1, 2, 3])\n",
    "v2 = np.array([4, 5, 6])\n",
    "np.vstack((v1, v2))         # 배열을 수직으로 붙여 하나의 행렬을 생성\n",
    "np.hstack((v1, v2))         # 배열을 수평으로 붙여 하나의 행렬을 생성\n",
    "\n",
    "# concatenate : 축을 고려하여 두 개의 배열을 결합\n",
    "# - 생성될 배열 차원 = 소스 배열의 차원이 같아야 함\n",
    "v1 = np.array([[1, 2, 3]])   \n",
    "v2 = np.array([[4, 5, 6]])\n",
    "np.concatenate((v1,v2), axis=0) "
   ]
  },
  {
   "cell_type": "markdown",
   "id": "987b46ea",
   "metadata": {},
   "source": [
    "### 3. 사칙연산 함수\n",
    "- 행렬과 행렬, 벡터와 백터 간 사칙연산이 가능\n",
    "- 두 배열의 구조가 동일할 경우 같은 인덱스 요소들끼리 연산"
   ]
  },
  {
   "cell_type": "code",
   "execution_count": null,
   "id": "1a8f3959",
   "metadata": {},
   "outputs": [],
   "source": [
    "# 사친연산\n",
    "arr1 = np.array([[1,1],\n",
    "                 [1,1]])\n",
    "arr2 = np.array([[2,2],\n",
    "                 [2,2]])\n",
    "print(f'matrix addition     :\\n {arr1 + arr2}\\n')\n",
    "print(f'matrix subtraction  :\\n {arr1 - arr2}\\n')\n",
    "print(f'matrix multipication:\\n {arr1 * arr2}\\n')\n",
    "print(f'matrix division     :\\n {arr1 / arr2}\\n')"
   ]
  },
  {
   "cell_type": "code",
   "execution_count": null,
   "id": "78de57ba",
   "metadata": {
    "scrolled": true
   },
   "outputs": [],
   "source": [
    "# dot 함수 : 벡터의 내적 연산\n",
    "arr1 = np.arange(1, 7).reshape(2,3)\n",
    "arr2 = np.arange(1, 7).reshape(3,2)\n",
    "print(f'arr1 :\\n{arr1}')\n",
    "print(f'arr2 :\\n{arr2}')\n",
    "print(f'arr1 @ arr2 :\\n{arr1.dot(arr2)}')\n",
    "print(f'arr1 @ arr2 :\\n{np.dot(arr1, arr2)}')"
   ]
  },
  {
   "cell_type": "markdown",
   "id": "0ffa59ac",
   "metadata": {},
   "source": [
    "- **브로드캐스팅 연산(broadcasting operations)** <br>\n",
    "하나의 행렬과 스칼라 값들 간의 연산이나 행렬과 벡터 간의 연산"
   ]
  },
  {
   "cell_type": "code",
   "execution_count": null,
   "id": "a4ca9e41",
   "metadata": {},
   "outputs": [],
   "source": [
    "# 브로드캐스팅 연산\n",
    "arr = np.arange(1, 10).reshape(3,3)\n",
    "print(arr + 10)\n",
    "print(arr - 10)\n",
    "arr * 10\n",
    "arr // 10\n",
    "arr ** 2"
   ]
  },
  {
   "cell_type": "code",
   "execution_count": null,
   "id": "02b48308",
   "metadata": {},
   "outputs": [],
   "source": [
    "arr = np.arange(1, 13).reshape(4,3)\n",
    "v   = np.arange(10 , 40 , 10)\n",
    "arr + v"
   ]
  },
  {
   "cell_type": "markdown",
   "id": "b6197470",
   "metadata": {},
   "source": [
    "-----------------"
   ]
  },
  {
   "cell_type": "markdown",
   "id": "1719e385",
   "metadata": {},
   "source": [
    "## <a name=\"03.4비교연산과데이터추출\">03.4 비교 연산과 데이터 추출</a>"
   ]
  },
  {
   "cell_type": "markdown",
   "id": "b3f465c3",
   "metadata": {},
   "source": [
    "### 1. 비교 연산\n",
    "연산 결과는 항상 불린형(boolean type)을 가진 배열로 추출"
   ]
  },
  {
   "cell_type": "code",
   "execution_count": null,
   "id": "c46f8e21",
   "metadata": {},
   "outputs": [],
   "source": [
    "# 브로드캐스팅 비교 연산(하나의 스칼라 값과 벡터 간의 비교 연산은 벡터 내 전체 요소에 적용))\n",
    "arr = np.array([4, 3, 2, 6, 8, 5]) \n",
    "arr > 3"
   ]
  },
  {
   "cell_type": "code",
   "execution_count": null,
   "id": "46b781f1",
   "metadata": {},
   "outputs": [],
   "source": [
    "# 요소별 비교 연산(두 개의 배열 간 배열의 구조(shape)가 동일한 경우)\n",
    "# - 동일 위치 요소들끼리 비교 연산\n",
    "arr1 = np.array([1, 3, 0])\n",
    "arr2 = np.array([2, 1, 7])\n",
    "arr1 > arr2"
   ]
  },
  {
   "cell_type": "markdown",
   "id": "7a09765e",
   "metadata": {},
   "source": [
    "### 2. 비교 연산 함수"
   ]
  },
  {
   "cell_type": "code",
   "execution_count": null,
   "id": "668d3cf7",
   "metadata": {},
   "outputs": [],
   "source": [
    "# all, any\n",
    "arr = np.array([4, 3, 2, 6, 8, 5]) \n",
    "(arr > 3).all()      # 조건이 모두 참이어야 참\n",
    "(arr > 3).any()      # 참이 되는 조건이 하나라도 있으면 참"
   ]
  },
  {
   "cell_type": "code",
   "execution_count": null,
   "id": "8685af60",
   "metadata": {},
   "outputs": [],
   "source": [
    "# 인덱스 반환 함수\n",
    "arr = np.array([4, 3, 2, 6, 8, 5])\n",
    "np.where(arr > 5)           # 참이 되는 요소의 인덱스 반환\n",
    "np.where(arr > 5, 10, 20)   # 참이면 요소를 10, 거짓이면 20으로 변환하여 반환"
   ]
  },
  {
   "cell_type": "code",
   "execution_count": null,
   "id": "d565f37a",
   "metadata": {},
   "outputs": [],
   "source": [
    "# 정렬된 값의 인덱스를 반환해주는 함수\n",
    "# argsort, argmax, argmin\n",
    "arr = np.array([4, 3, 2, 6, 8, 5])\n",
    "np.argsort(arr)            # 배열 내 값들을 작은 순서대로 인덱스를 반환\n",
    "np.argmax(arr)             # 배열 내 값들 중 가장 큰 값의 인덱스를 반환\n",
    "np.argmin(arr)             # 배열 내 값들 중 가장 작은 값의 인덱스를 반환"
   ]
  },
  {
   "cell_type": "markdown",
   "id": "7fbc474c",
   "metadata": {},
   "source": [
    "### 3. 인덱스를 활용한 데이터 추출\n",
    "- 불린 인덱스(boolean index) : 배열에 있는 값들을 반환할 특정 조건을 불린형의 배열에 넣어서 추출\n",
    "- 팬시 인덱스(fancy index) : 정수형 배열의 값을 사용하여 해당 정수의 인덱스에 위치한 값을 반환"
   ]
  },
  {
   "cell_type": "code",
   "execution_count": null,
   "id": "014c25db",
   "metadata": {},
   "outputs": [],
   "source": [
    "# 불린 인덱스(boolean index)\n",
    "arr = np.array([4, 3, 2, 6, 8, 5])\n",
    "print(f'arr > 3      : {arr > 3}')\n",
    "print(f'arr[arr > 3] : {arr[arr > 3]}')"
   ]
  },
  {
   "cell_type": "code",
   "execution_count": null,
   "id": "3a950261",
   "metadata": {},
   "outputs": [],
   "source": [
    "# 팬시 인덱스(fancy index) \n",
    "arr = np.array([4, 3, 2, 6, 8, 5])\n",
    "cond = np.array([1, 2, 0, 2, 2, 2])   # 값이 인덱스로 사용된다.\n",
    "arr[cond]                              # arr배열에서 cond 배열값을 인덱스로 갖는 요소 추출하기\n",
    "# arr.take(cond)"
   ]
  },
  {
   "cell_type": "markdown",
   "id": "70d0ed11",
   "metadata": {},
   "source": [
    "--------------"
   ]
  },
  {
   "cell_type": "markdown",
   "id": "56d22a62",
   "metadata": {},
   "source": [
    "THE END"
   ]
  }
 ],
 "metadata": {
  "kernelspec": {
   "display_name": "Python 3 (ipykernel)",
   "language": "python",
   "name": "python3"
  },
  "language_info": {
   "codemirror_mode": {
    "name": "ipython",
    "version": 3
   },
   "file_extension": ".py",
   "mimetype": "text/x-python",
   "name": "python",
   "nbconvert_exporter": "python",
   "pygments_lexer": "ipython3",
   "version": "3.12.1"
  }
 },
 "nbformat": 4,
 "nbformat_minor": 5
}
